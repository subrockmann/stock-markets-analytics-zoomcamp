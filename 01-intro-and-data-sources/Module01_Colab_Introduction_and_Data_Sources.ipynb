{
  "cells": [
    {
      "cell_type": "code",
      "execution_count": null,
      "metadata": {
        "colab": {
          "base_uri": "https://localhost:8080/"
        },
        "id": "7_BfcEi2ZQwz",
        "outputId": "b9f970e5-f339-488f-dff7-a58897d4c18b"
      },
      "outputs": [],
      "source": [
        "# install main library YFinance\n",
        "#!pip install yfinance"
      ]
    },
    {
      "cell_type": "code",
      "execution_count": 1,
      "metadata": {
        "id": "upIkgS85ZLbF"
      },
      "outputs": [],
      "source": [
        "# IMPORTS\n",
        "import numpy as np\n",
        "import pandas as pd\n",
        "\n",
        "#Fin Data Sources\n",
        "import yfinance as yf\n",
        "import pandas_datareader as pdr\n",
        "\n",
        "#Data viz\n",
        "import plotly.graph_objs as go\n",
        "import plotly.express as px\n",
        "\n",
        "import time\n",
        "from datetime import date\n"
      ]
    },
    {
      "cell_type": "markdown",
      "metadata": {
        "id": "_sMONMJHjXkM"
      },
      "source": [
        "# 1) Understanding Data-Driven Decisions data pulls"
      ]
    },
    {
      "cell_type": "code",
      "execution_count": 2,
      "metadata": {
        "colab": {
          "base_uri": "https://localhost:8080/"
        },
        "id": "YneZ9fqHsjU9",
        "outputId": "251d9513-240a-4e6e-f694-0ed1a5fbcf90"
      },
      "outputs": [
        {
          "name": "stdout",
          "output_type": "stream",
          "text": [
            "Year = 2024; month= 4; day=15\n",
            "Period for indexes: 1954-04-15 to 2024-04-15 \n"
          ]
        }
      ],
      "source": [
        "end = date.today()\n",
        "print(f'Year = {end.year}; month= {end.month}; day={end.day}')\n",
        "\n",
        "start = date(year=end.year-70, month=end.month, day=end.day)\n",
        "print(f'Period for indexes: {start} to {end} ')"
      ]
    },
    {
      "cell_type": "markdown",
      "metadata": {
        "id": "ZR5V_n3EsXTu"
      },
      "source": [
        "## 1.1) GDP"
      ]
    },
    {
      "cell_type": "code",
      "execution_count": 3,
      "metadata": {
        "id": "Ij7FDH9usZ0E"
      },
      "outputs": [],
      "source": [
        "# Real Potential Gross Domestic Product (GDPPOT), Billions of Chained 2012 Dollars, QUARTERLY\n",
        "# https://fred.stlouisfed.org/series/GDPPOT\n",
        "gdppot = pdr.DataReader(\"GDPPOT\", \"fred\", start=start)"
      ]
    },
    {
      "cell_type": "code",
      "execution_count": 4,
      "metadata": {
        "colab": {
          "base_uri": "https://localhost:8080/",
          "height": 238
        },
        "id": "LwETzXP9shm2",
        "outputId": "75975165-59ff-4a23-acd4-abdc5d018f44"
      },
      "outputs": [
        {
          "data": {
            "text/html": [
              "<div>\n",
              "<style scoped>\n",
              "    .dataframe tbody tr th:only-of-type {\n",
              "        vertical-align: middle;\n",
              "    }\n",
              "\n",
              "    .dataframe tbody tr th {\n",
              "        vertical-align: top;\n",
              "    }\n",
              "\n",
              "    .dataframe thead th {\n",
              "        text-align: right;\n",
              "    }\n",
              "</style>\n",
              "<table border=\"1\" class=\"dataframe\">\n",
              "  <thead>\n",
              "    <tr style=\"text-align: right;\">\n",
              "      <th></th>\n",
              "      <th>GDPPOT</th>\n",
              "      <th>gdppot_us_yoy</th>\n",
              "      <th>gdppot_us_qoq</th>\n",
              "    </tr>\n",
              "    <tr>\n",
              "      <th>DATE</th>\n",
              "      <th></th>\n",
              "      <th></th>\n",
              "      <th></th>\n",
              "    </tr>\n",
              "  </thead>\n",
              "  <tbody>\n",
              "    <tr>\n",
              "      <th>2023-04-01</th>\n",
              "      <td>22246.23</td>\n",
              "      <td>0.021312</td>\n",
              "      <td>0.021312</td>\n",
              "    </tr>\n",
              "    <tr>\n",
              "      <th>2023-07-01</th>\n",
              "      <td>22369.71</td>\n",
              "      <td>0.021719</td>\n",
              "      <td>0.021719</td>\n",
              "    </tr>\n",
              "    <tr>\n",
              "      <th>2023-10-01</th>\n",
              "      <td>22495.19</td>\n",
              "      <td>0.022190</td>\n",
              "      <td>0.022190</td>\n",
              "    </tr>\n",
              "    <tr>\n",
              "      <th>2024-01-01</th>\n",
              "      <td>22618.15</td>\n",
              "      <td>0.022251</td>\n",
              "      <td>0.022251</td>\n",
              "    </tr>\n",
              "    <tr>\n",
              "      <th>2024-04-01</th>\n",
              "      <td>22739.00</td>\n",
              "      <td>0.022151</td>\n",
              "      <td>0.022151</td>\n",
              "    </tr>\n",
              "  </tbody>\n",
              "</table>\n",
              "</div>"
            ],
            "text/plain": [
              "              GDPPOT  gdppot_us_yoy  gdppot_us_qoq\n",
              "DATE                                              \n",
              "2023-04-01  22246.23       0.021312       0.021312\n",
              "2023-07-01  22369.71       0.021719       0.021719\n",
              "2023-10-01  22495.19       0.022190       0.022190\n",
              "2024-01-01  22618.15       0.022251       0.022251\n",
              "2024-04-01  22739.00       0.022151       0.022151"
            ]
          },
          "execution_count": 4,
          "metadata": {},
          "output_type": "execute_result"
        }
      ],
      "source": [
        "gdppot['gdppot_us_yoy'] = gdppot.GDPPOT/gdppot.GDPPOT.shift(4)-1\n",
        "gdppot['gdppot_us_qoq'] = gdppot.GDPPOT/gdppot.GDPPOT.shift(4)-1\n",
        "gdppot.tail()"
      ]
    },
    {
      "cell_type": "code",
      "execution_count": 5,
      "metadata": {
        "colab": {
          "base_uri": "https://localhost:8080/",
          "height": 341
        },
        "id": "PqGxEu6itcJj",
        "outputId": "a180d399-eaef-4d73-f281-96a2c06fc6d5"
      },
      "outputs": [
        {
          "data": {
            "image/png": "[encoded data removed]",
            "text/plain": [
              "<Figure size 1440x432 with 2 Axes>"
            ]
          },
          "metadata": {
            "needs_background": "light"
          },
          "output_type": "display_data"
        }
      ],
      "source": [
        "# Visuals GDPPOT\n",
        "# https://cmdlinetips.com/2019/10/how-to-make-a-plot-with-two-different-y-axis-in-python-with-matplotlib/\n",
        "\n",
        "import matplotlib.pyplot as plt\n",
        "import matplotlib.ticker as mtick\n",
        "\n",
        "fig, ax = plt.subplots(figsize=(20, 6))\n",
        "plt.grid(True)\n",
        "\n",
        "# Plotting area under US potential GDP curve\n",
        "ax.fill_between(gdppot.index, gdppot.GDPPOT, color=\"red\", alpha=0.3, label=\"US Potential GDP\")\n",
        "\n",
        "# Creating a secondary y-axis for GDP growth percentage\n",
        "ax2 = ax.twinx()\n",
        "ax2.yaxis.set_major_formatter(mtick.PercentFormatter(1.0))\n",
        "ax2.plot(gdppot.gdppot_us_yoy, color=\"blue\", marker=\"o\", label=\"US Potential GDP Growth, % Y/Y\")\n",
        "\n",
        "# Setting labels and title\n",
        "ax.set_xlabel(\"Date\", fontsize=14)\n",
        "ax.set_ylabel(\"US Potential GDP, $b\", color=\"red\", fontsize=14)\n",
        "ax2.set_ylabel(\"US Potential GDP Growth, % Y/Y\", color=\"blue\", fontsize=14)\n",
        "\n",
        "# Adding legend\n",
        "lines, labels = ax.get_legend_handles_labels()\n",
        "lines2, labels2 = ax2.get_legend_handles_labels()\n",
        "ax2.legend(lines + lines2, labels + labels2, loc='upper left')\n",
        "\n",
        "plt.show()"
      ]
    },
    {
      "cell_type": "markdown",
      "metadata": {
        "id": "2gJUcCFVQ5tU"
      },
      "source": [
        "## 1.2) Inflation - CPI Core"
      ]
    },
    {
      "cell_type": "code",
      "execution_count": 6,
      "metadata": {
        "id": "6OnATVQdQ5S0"
      },
      "outputs": [],
      "source": [
        "# # \"Core CPI index\", MONTHLY\n",
        "# https://fred.stlouisfed.org/series/CPILFESL\n",
        "# The \"Consumer Price Index for All Urban Consumers: All Items Less Food & Energy\"\n",
        "# is an aggregate of prices paid by urban consumers for a typical basket of goods, excluding food and energy.\n",
        "# This measurement, known as \"Core CPI,\" is widely used by economists because food and energy have very volatile prices.\n",
        "cpilfesl = pdr.DataReader(\"CPILFESL\", \"fred\", start=start)"
      ]
    },
    {
      "cell_type": "code",
      "execution_count": 7,
      "metadata": {
        "colab": {
          "base_uri": "https://localhost:8080/",
          "height": 488
        },
        "id": "lFuqDO5PR3cm",
        "outputId": "51f903ec-d437-43a0-c37e-b9235f997059"
      },
      "outputs": [
        {
          "data": {
            "text/html": [
              "<div>\n",
              "<style scoped>\n",
              "    .dataframe tbody tr th:only-of-type {\n",
              "        vertical-align: middle;\n",
              "    }\n",
              "\n",
              "    .dataframe tbody tr th {\n",
              "        vertical-align: top;\n",
              "    }\n",
              "\n",
              "    .dataframe thead th {\n",
              "        text-align: right;\n",
              "    }\n",
              "</style>\n",
              "<table border=\"1\" class=\"dataframe\">\n",
              "  <thead>\n",
              "    <tr style=\"text-align: right;\">\n",
              "      <th></th>\n",
              "      <th>CPILFESL</th>\n",
              "      <th>cpi_core_yoy</th>\n",
              "      <th>cpi_core_mom</th>\n",
              "    </tr>\n",
              "    <tr>\n",
              "      <th>DATE</th>\n",
              "      <th></th>\n",
              "      <th></th>\n",
              "      <th></th>\n",
              "    </tr>\n",
              "  </thead>\n",
              "  <tbody>\n",
              "    <tr>\n",
              "      <th>2023-03-01</th>\n",
              "      <td>305.112</td>\n",
              "      <td>0.055601</td>\n",
              "      <td>0.003249</td>\n",
              "    </tr>\n",
              "    <tr>\n",
              "      <th>2023-04-01</th>\n",
              "      <td>306.539</td>\n",
              "      <td>0.055157</td>\n",
              "      <td>0.004677</td>\n",
              "    </tr>\n",
              "    <tr>\n",
              "      <th>2023-05-01</th>\n",
              "      <td>307.646</td>\n",
              "      <td>0.053322</td>\n",
              "      <td>0.003611</td>\n",
              "    </tr>\n",
              "    <tr>\n",
              "      <th>2023-06-01</th>\n",
              "      <td>308.245</td>\n",
              "      <td>0.048552</td>\n",
              "      <td>0.001947</td>\n",
              "    </tr>\n",
              "    <tr>\n",
              "      <th>2023-07-01</th>\n",
              "      <td>308.945</td>\n",
              "      <td>0.047076</td>\n",
              "      <td>0.002271</td>\n",
              "    </tr>\n",
              "    <tr>\n",
              "      <th>2023-08-01</th>\n",
              "      <td>309.656</td>\n",
              "      <td>0.044128</td>\n",
              "      <td>0.002301</td>\n",
              "    </tr>\n",
              "    <tr>\n",
              "      <th>2023-09-01</th>\n",
              "      <td>310.644</td>\n",
              "      <td>0.041437</td>\n",
              "      <td>0.003191</td>\n",
              "    </tr>\n",
              "    <tr>\n",
              "      <th>2023-10-01</th>\n",
              "      <td>311.390</td>\n",
              "      <td>0.040217</td>\n",
              "      <td>0.002401</td>\n",
              "    </tr>\n",
              "    <tr>\n",
              "      <th>2023-11-01</th>\n",
              "      <td>312.349</td>\n",
              "      <td>0.040151</td>\n",
              "      <td>0.003080</td>\n",
              "    </tr>\n",
              "    <tr>\n",
              "      <th>2023-12-01</th>\n",
              "      <td>313.209</td>\n",
              "      <td>0.039101</td>\n",
              "      <td>0.002753</td>\n",
              "    </tr>\n",
              "    <tr>\n",
              "      <th>2024-01-01</th>\n",
              "      <td>314.438</td>\n",
              "      <td>0.038747</td>\n",
              "      <td>0.003924</td>\n",
              "    </tr>\n",
              "    <tr>\n",
              "      <th>2024-02-01</th>\n",
              "      <td>315.565</td>\n",
              "      <td>0.037620</td>\n",
              "      <td>0.003584</td>\n",
              "    </tr>\n",
              "    <tr>\n",
              "      <th>2024-03-01</th>\n",
              "      <td>316.698</td>\n",
              "      <td>0.037973</td>\n",
              "      <td>0.003590</td>\n",
              "    </tr>\n",
              "  </tbody>\n",
              "</table>\n",
              "</div>"
            ],
            "text/plain": [
              "            CPILFESL  cpi_core_yoy  cpi_core_mom\n",
              "DATE                                            \n",
              "2023-03-01   305.112      0.055601      0.003249\n",
              "2023-04-01   306.539      0.055157      0.004677\n",
              "2023-05-01   307.646      0.053322      0.003611\n",
              "2023-06-01   308.245      0.048552      0.001947\n",
              "2023-07-01   308.945      0.047076      0.002271\n",
              "2023-08-01   309.656      0.044128      0.002301\n",
              "2023-09-01   310.644      0.041437      0.003191\n",
              "2023-10-01   311.390      0.040217      0.002401\n",
              "2023-11-01   312.349      0.040151      0.003080\n",
              "2023-12-01   313.209      0.039101      0.002753\n",
              "2024-01-01   314.438      0.038747      0.003924\n",
              "2024-02-01   315.565      0.037620      0.003584\n",
              "2024-03-01   316.698      0.037973      0.003590"
            ]
          },
          "execution_count": 7,
          "metadata": {},
          "output_type": "execute_result"
        }
      ],
      "source": [
        "cpilfesl['cpi_core_yoy'] = cpilfesl.CPILFESL/cpilfesl.CPILFESL.shift(12)-1\n",
        "cpilfesl['cpi_core_mom'] = cpilfesl.CPILFESL/cpilfesl.CPILFESL.shift(1)-1\n",
        "\n",
        "cpilfesl.tail(13)"
      ]
    },
    {
      "cell_type": "code",
      "execution_count": 8,
      "metadata": {
        "colab": {
          "base_uri": "https://localhost:8080/",
          "height": 345
        },
        "id": "MlbSGHZtSAwX",
        "outputId": "08b2ed87-630a-4632-916a-f4bb9d9f5349"
      },
      "outputs": [
        {
          "data": {
            "image/png": "[encoded data removed]",
            "text/plain": [
              "<Figure size 1440x432 with 2 Axes>"
            ]
          },
          "metadata": {
            "needs_background": "light"
          },
          "output_type": "display_data"
        }
      ],
      "source": [
        "fig, ax = plt.subplots(figsize=(20, 6))\n",
        "plt.grid(True)\n",
        "\n",
        "# Plotting area under CPI\n",
        "ax.fill_between(cpilfesl.index, cpilfesl.CPILFESL, color=\"red\", alpha=0.3, label=\"Core CPI index (monthly)\")\n",
        "\n",
        "# Creating a secondary y-axis for CPI growth percentage\n",
        "ax2 = ax.twinx()\n",
        "ax2.yaxis.set_major_formatter(mtick.PercentFormatter(1.0))\n",
        "ax2.plot(cpilfesl.cpi_core_yoy, color=\"blue\", marker=\"o\", label=\"Core CPI index (monthly) Growth, % Y/Y\")\n",
        "\n",
        "# Setting labels and title\n",
        "ax.set_xlabel(\"Date\", fontsize=14)\n",
        "ax.set_ylabel(\"Core CPI index (monthly)\", color=\"red\", fontsize=14)\n",
        "ax2.set_ylabel(\"Core CPI index Growth, % Y/Y\", color=\"blue\", fontsize=14)\n",
        "\n",
        "# Adding legend\n",
        "lines, labels = ax.get_legend_handles_labels()\n",
        "lines2, labels2 = ax2.get_legend_handles_labels()\n",
        "ax2.legend(lines + lines2, labels + labels2, loc='upper left')\n",
        "\n",
        "plt.show()"
      ]
    },
    {
      "cell_type": "markdown",
      "metadata": {
        "id": "S4ohYDNbYg7I"
      },
      "source": [
        "## 1.3 Interest rates"
      ]
    },
    {
      "cell_type": "code",
      "execution_count": 9,
      "metadata": {
        "colab": {
          "base_uri": "https://localhost:8080/",
          "height": 238
        },
        "id": "NIJs1_v2YmTx",
        "outputId": "b8138b9a-8c7c-4a78-c915-a8716d20f68f"
      },
      "outputs": [
        {
          "data": {
            "text/html": [
              "<div>\n",
              "<style scoped>\n",
              "    .dataframe tbody tr th:only-of-type {\n",
              "        vertical-align: middle;\n",
              "    }\n",
              "\n",
              "    .dataframe tbody tr th {\n",
              "        vertical-align: top;\n",
              "    }\n",
              "\n",
              "    .dataframe thead th {\n",
              "        text-align: right;\n",
              "    }\n",
              "</style>\n",
              "<table border=\"1\" class=\"dataframe\">\n",
              "  <thead>\n",
              "    <tr style=\"text-align: right;\">\n",
              "      <th></th>\n",
              "      <th>FEDFUNDS</th>\n",
              "    </tr>\n",
              "    <tr>\n",
              "      <th>DATE</th>\n",
              "      <th></th>\n",
              "    </tr>\n",
              "  </thead>\n",
              "  <tbody>\n",
              "    <tr>\n",
              "      <th>2023-11-01</th>\n",
              "      <td>5.33</td>\n",
              "    </tr>\n",
              "    <tr>\n",
              "      <th>2023-12-01</th>\n",
              "      <td>5.33</td>\n",
              "    </tr>\n",
              "    <tr>\n",
              "      <th>2024-01-01</th>\n",
              "      <td>5.33</td>\n",
              "    </tr>\n",
              "    <tr>\n",
              "      <th>2024-02-01</th>\n",
              "      <td>5.33</td>\n",
              "    </tr>\n",
              "    <tr>\n",
              "      <th>2024-03-01</th>\n",
              "      <td>5.33</td>\n",
              "    </tr>\n",
              "  </tbody>\n",
              "</table>\n",
              "</div>"
            ],
            "text/plain": [
              "            FEDFUNDS\n",
              "DATE                \n",
              "2023-11-01      5.33\n",
              "2023-12-01      5.33\n",
              "2024-01-01      5.33\n",
              "2024-02-01      5.33\n",
              "2024-03-01      5.33"
            ]
          },
          "execution_count": 9,
          "metadata": {},
          "output_type": "execute_result"
        }
      ],
      "source": [
        "# Fed rate https://fred.stlouisfed.org/series/FEDFUNDS\n",
        "fedfunds = pdr.DataReader(\"FEDFUNDS\", \"fred\", start=start)\n",
        "fedfunds.tail()"
      ]
    },
    {
      "cell_type": "code",
      "execution_count": 10,
      "metadata": {
        "colab": {
          "base_uri": "https://localhost:8080/",
          "height": 359
        },
        "id": "eEVFUqQOagx8",
        "outputId": "e134d6f8-12ea-43d1-d2d9-c47348fd7566"
      },
      "outputs": [
        {
          "data": {
            "image/png": "[encoded data removed]",
            "text/plain": [
              "<Figure size 1440x432 with 1 Axes>"
            ]
          },
          "metadata": {
            "needs_background": "light"
          },
          "output_type": "display_data"
        }
      ],
      "source": [
        "# Fed Funds\n",
        "fig, ax = plt.subplots(figsize=(20, 6))\n",
        "plt.grid(True)\n",
        "\n",
        "# Plotting area under US potential GDP curve\n",
        "# ax.fill_between(fedfunds.index, fedfunds.FEDFUNDS, color=\"red\", alpha=0.3, label=\"Core CPI index (monthly)\")\n",
        "\n",
        "# # Creating a secondary y-axis for GDP growth percentage\n",
        "# ax2 = ax.twinx()\n",
        "ax.yaxis.set_major_formatter(mtick.PercentFormatter(1.0))\n",
        "ax.plot(fedfunds.index, fedfunds.FEDFUNDS/100, marker=\"o\", label=\"Fed Funds Rate\")\n",
        "\n",
        "# Setting labels and title\n",
        "ax.set_xlabel(\"Date\", fontsize=14)\n",
        "ax.set_ylabel(\"Fed Funds Rate\", color=\"blue\", fontsize=14)\n",
        "\n",
        "# Adding legend\n",
        "lines, labels = ax.get_legend_handles_labels()\n",
        "ax.legend(lines, labels, loc='upper left')\n",
        "\n",
        "plt.show()"
      ]
    },
    {
      "cell_type": "code",
      "execution_count": 11,
      "metadata": {
        "colab": {
          "base_uri": "https://localhost:8080/",
          "height": 238
        },
        "id": "TguI_TLsd5uk",
        "outputId": "eea73278-8ad2-4bc4-bb01-647ebd2a0630"
      },
      "outputs": [
        {
          "data": {
            "text/html": [
              "<div>\n",
              "<style scoped>\n",
              "    .dataframe tbody tr th:only-of-type {\n",
              "        vertical-align: middle;\n",
              "    }\n",
              "\n",
              "    .dataframe tbody tr th {\n",
              "        vertical-align: top;\n",
              "    }\n",
              "\n",
              "    .dataframe thead th {\n",
              "        text-align: right;\n",
              "    }\n",
              "</style>\n",
              "<table border=\"1\" class=\"dataframe\">\n",
              "  <thead>\n",
              "    <tr style=\"text-align: right;\">\n",
              "      <th></th>\n",
              "      <th>DGS1</th>\n",
              "    </tr>\n",
              "    <tr>\n",
              "      <th>DATE</th>\n",
              "      <th></th>\n",
              "    </tr>\n",
              "  </thead>\n",
              "  <tbody>\n",
              "    <tr>\n",
              "      <th>2024-04-05</th>\n",
              "      <td>5.05</td>\n",
              "    </tr>\n",
              "    <tr>\n",
              "      <th>2024-04-08</th>\n",
              "      <td>5.07</td>\n",
              "    </tr>\n",
              "    <tr>\n",
              "      <th>2024-04-09</th>\n",
              "      <td>5.03</td>\n",
              "    </tr>\n",
              "    <tr>\n",
              "      <th>2024-04-10</th>\n",
              "      <td>5.19</td>\n",
              "    </tr>\n",
              "    <tr>\n",
              "      <th>2024-04-11</th>\n",
              "      <td>5.17</td>\n",
              "    </tr>\n",
              "  </tbody>\n",
              "</table>\n",
              "</div>"
            ],
            "text/plain": [
              "            DGS1\n",
              "DATE            \n",
              "2024-04-05  5.05\n",
              "2024-04-08  5.07\n",
              "2024-04-09  5.03\n",
              "2024-04-10  5.19\n",
              "2024-04-11  5.17"
            ]
          },
          "execution_count": 11,
          "metadata": {},
          "output_type": "execute_result"
        }
      ],
      "source": [
        "# https://fred.stlouisfed.org/series/DGS1\n",
        "dgs1 = pdr.DataReader(\"DGS1\", \"fred\", start=start)\n",
        "dgs1.tail()"
      ]
    },
    {
      "cell_type": "markdown",
      "metadata": {
        "id": "kDwfZXKzeTtn"
      },
      "source": [
        "Other rates for US Treasury: https://fred.stlouisfed.org/categories/115  \n",
        "* https://fred.stlouisfed.org/series/DGS2\n",
        "* https://fred.stlouisfed.org/series/DGS3\n",
        "* https://fred.stlouisfed.org/series/DGS5\n",
        "* https://fred.stlouisfed.org/series/DGS10\n",
        "..."
      ]
    },
    {
      "cell_type": "code",
      "execution_count": 12,
      "metadata": {
        "colab": {
          "base_uri": "https://localhost:8080/",
          "height": 238
        },
        "id": "MeZn8feveKzd",
        "outputId": "387b53e9-00de-4e1e-ea52-7d93fbeee1f7"
      },
      "outputs": [
        {
          "data": {
            "text/html": [
              "<div>\n",
              "<style scoped>\n",
              "    .dataframe tbody tr th:only-of-type {\n",
              "        vertical-align: middle;\n",
              "    }\n",
              "\n",
              "    .dataframe tbody tr th {\n",
              "        vertical-align: top;\n",
              "    }\n",
              "\n",
              "    .dataframe thead th {\n",
              "        text-align: right;\n",
              "    }\n",
              "</style>\n",
              "<table border=\"1\" class=\"dataframe\">\n",
              "  <thead>\n",
              "    <tr style=\"text-align: right;\">\n",
              "      <th></th>\n",
              "      <th>DGS5</th>\n",
              "    </tr>\n",
              "    <tr>\n",
              "      <th>DATE</th>\n",
              "      <th></th>\n",
              "    </tr>\n",
              "  </thead>\n",
              "  <tbody>\n",
              "    <tr>\n",
              "      <th>2024-04-05</th>\n",
              "      <td>4.38</td>\n",
              "    </tr>\n",
              "    <tr>\n",
              "      <th>2024-04-08</th>\n",
              "      <td>4.43</td>\n",
              "    </tr>\n",
              "    <tr>\n",
              "      <th>2024-04-09</th>\n",
              "      <td>4.37</td>\n",
              "    </tr>\n",
              "    <tr>\n",
              "      <th>2024-04-10</th>\n",
              "      <td>4.61</td>\n",
              "    </tr>\n",
              "    <tr>\n",
              "      <th>2024-04-11</th>\n",
              "      <td>4.61</td>\n",
              "    </tr>\n",
              "  </tbody>\n",
              "</table>\n",
              "</div>"
            ],
            "text/plain": [
              "            DGS5\n",
              "DATE            \n",
              "2024-04-05  4.38\n",
              "2024-04-08  4.43\n",
              "2024-04-09  4.37\n",
              "2024-04-10  4.61\n",
              "2024-04-11  4.61"
            ]
          },
          "execution_count": 12,
          "metadata": {},
          "output_type": "execute_result"
        }
      ],
      "source": [
        "# https://fred.stlouisfed.org/series/DGS5\n",
        "dgs5 = pdr.DataReader(\"DGS5\", \"fred\", start=start)\n",
        "dgs5.tail()"
      ]
    },
    {
      "cell_type": "markdown",
      "metadata": {
        "id": "Ur9Cllsdsb2Y"
      },
      "source": [
        "## 1.4 SNP500"
      ]
    },
    {
      "cell_type": "code",
      "execution_count": 13,
      "metadata": {
        "colab": {
          "base_uri": "https://localhost:8080/",
          "height": 238
        },
        "id": "IIK-6smEjeer",
        "outputId": "3371e2b1-cf2a-440a-ea21-161b2a9d3209"
      },
      "outputs": [
        {
          "data": {
            "text/html": [
              "<div>\n",
              "<style scoped>\n",
              "    .dataframe tbody tr th:only-of-type {\n",
              "        vertical-align: middle;\n",
              "    }\n",
              "\n",
              "    .dataframe tbody tr th {\n",
              "        vertical-align: top;\n",
              "    }\n",
              "\n",
              "    .dataframe thead th {\n",
              "        text-align: right;\n",
              "    }\n",
              "</style>\n",
              "<table border=\"1\" class=\"dataframe\">\n",
              "  <thead>\n",
              "    <tr style=\"text-align: right;\">\n",
              "      <th></th>\n",
              "      <th>Open</th>\n",
              "      <th>High</th>\n",
              "      <th>Low</th>\n",
              "      <th>Close</th>\n",
              "      <th>Volume</th>\n",
              "    </tr>\n",
              "    <tr>\n",
              "      <th>Date</th>\n",
              "      <th></th>\n",
              "      <th></th>\n",
              "      <th></th>\n",
              "      <th></th>\n",
              "      <th></th>\n",
              "    </tr>\n",
              "  </thead>\n",
              "  <tbody>\n",
              "    <tr>\n",
              "      <th>2024-04-12</th>\n",
              "      <td>5171.51</td>\n",
              "      <td>5175.03</td>\n",
              "      <td>5107.94</td>\n",
              "      <td>5123.41</td>\n",
              "      <td>2.433479e+09</td>\n",
              "    </tr>\n",
              "    <tr>\n",
              "      <th>2024-04-11</th>\n",
              "      <td>5172.95</td>\n",
              "      <td>5211.78</td>\n",
              "      <td>5138.77</td>\n",
              "      <td>5199.06</td>\n",
              "      <td>2.225501e+09</td>\n",
              "    </tr>\n",
              "    <tr>\n",
              "      <th>2024-04-10</th>\n",
              "      <td>5167.88</td>\n",
              "      <td>5178.43</td>\n",
              "      <td>5138.70</td>\n",
              "      <td>5160.64</td>\n",
              "      <td>2.297703e+09</td>\n",
              "    </tr>\n",
              "    <tr>\n",
              "      <th>2024-04-09</th>\n",
              "      <td>5217.03</td>\n",
              "      <td>5224.81</td>\n",
              "      <td>5160.78</td>\n",
              "      <td>5209.91</td>\n",
              "      <td>2.035069e+09</td>\n",
              "    </tr>\n",
              "    <tr>\n",
              "      <th>2024-04-08</th>\n",
              "      <td>5211.37</td>\n",
              "      <td>5219.57</td>\n",
              "      <td>5197.35</td>\n",
              "      <td>5202.39</td>\n",
              "      <td>2.000910e+09</td>\n",
              "    </tr>\n",
              "  </tbody>\n",
              "</table>\n",
              "</div>"
            ],
            "text/plain": [
              "               Open     High      Low    Close        Volume\n",
              "Date                                                        \n",
              "2024-04-12  5171.51  5175.03  5107.94  5123.41  2.433479e+09\n",
              "2024-04-11  5172.95  5211.78  5138.77  5199.06  2.225501e+09\n",
              "2024-04-10  5167.88  5178.43  5138.70  5160.64  2.297703e+09\n",
              "2024-04-09  5217.03  5224.81  5160.78  5209.91  2.035069e+09\n",
              "2024-04-08  5211.37  5219.57  5197.35  5202.39  2.000910e+09"
            ]
          },
          "execution_count": 13,
          "metadata": {},
          "output_type": "execute_result"
        }
      ],
      "source": [
        "# Other indexes: https://stooq.com/t/\n",
        "\n",
        "# SPX= S&P500\n",
        "spx_index = pdr.get_data_stooq('^SPX', start, end)\n",
        "spx_index.head()"
      ]
    },
    {
      "cell_type": "code",
      "execution_count": 14,
      "metadata": {
        "id": "Bs_I6zCbpezr"
      },
      "outputs": [],
      "source": [
        "# 252 trading days a year\n",
        "  # REVERSE ORDER OF THE DATA!!!\n",
        "spx_index['spx_dod'] = (spx_index.Close/spx_index.Close.shift(-1)-1)\n",
        "spx_index['spx_qoq'] = (spx_index.Close/spx_index.Close.shift(-63)-1)\n",
        "spx_index['spx_yoy'] = (spx_index.Close/spx_index.Close.shift(-252)-1)"
      ]
    },
    {
      "cell_type": "code",
      "execution_count": 15,
      "metadata": {
        "colab": {
          "base_uri": "https://localhost:8080/",
          "height": 238
        },
        "id": "HHczkufwpgMZ",
        "outputId": "1496f480-70e3-4d84-9a12-15c8a35e9f0c"
      },
      "outputs": [
        {
          "data": {
            "text/html": [
              "<div>\n",
              "<style scoped>\n",
              "    .dataframe tbody tr th:only-of-type {\n",
              "        vertical-align: middle;\n",
              "    }\n",
              "\n",
              "    .dataframe tbody tr th {\n",
              "        vertical-align: top;\n",
              "    }\n",
              "\n",
              "    .dataframe thead th {\n",
              "        text-align: right;\n",
              "    }\n",
              "</style>\n",
              "<table border=\"1\" class=\"dataframe\">\n",
              "  <thead>\n",
              "    <tr style=\"text-align: right;\">\n",
              "      <th></th>\n",
              "      <th>Open</th>\n",
              "      <th>High</th>\n",
              "      <th>Low</th>\n",
              "      <th>Close</th>\n",
              "      <th>Volume</th>\n",
              "      <th>spx_dod</th>\n",
              "      <th>spx_qoq</th>\n",
              "      <th>spx_yoy</th>\n",
              "    </tr>\n",
              "    <tr>\n",
              "      <th>Date</th>\n",
              "      <th></th>\n",
              "      <th></th>\n",
              "      <th></th>\n",
              "      <th></th>\n",
              "      <th></th>\n",
              "      <th></th>\n",
              "      <th></th>\n",
              "      <th></th>\n",
              "    </tr>\n",
              "  </thead>\n",
              "  <tbody>\n",
              "    <tr>\n",
              "      <th>2024-04-12</th>\n",
              "      <td>5171.51</td>\n",
              "      <td>5175.03</td>\n",
              "      <td>5107.94</td>\n",
              "      <td>5123.41</td>\n",
              "      <td>2.433479e+09</td>\n",
              "      <td>-0.014551</td>\n",
              "      <td>0.071789</td>\n",
              "      <td>0.252071</td>\n",
              "    </tr>\n",
              "    <tr>\n",
              "      <th>2024-04-11</th>\n",
              "      <td>5172.95</td>\n",
              "      <td>5211.78</td>\n",
              "      <td>5138.77</td>\n",
              "      <td>5199.06</td>\n",
              "      <td>2.225501e+09</td>\n",
              "      <td>0.007445</td>\n",
              "      <td>0.086885</td>\n",
              "      <td>0.265304</td>\n",
              "    </tr>\n",
              "    <tr>\n",
              "      <th>2024-04-10</th>\n",
              "      <td>5167.88</td>\n",
              "      <td>5178.43</td>\n",
              "      <td>5138.70</td>\n",
              "      <td>5160.64</td>\n",
              "      <td>2.297703e+09</td>\n",
              "      <td>-0.009457</td>\n",
              "      <td>0.084966</td>\n",
              "      <td>0.255902</td>\n",
              "    </tr>\n",
              "    <tr>\n",
              "      <th>2024-04-09</th>\n",
              "      <td>5217.03</td>\n",
              "      <td>5224.81</td>\n",
              "      <td>5160.78</td>\n",
              "      <td>5209.91</td>\n",
              "      <td>2.035069e+09</td>\n",
              "      <td>0.001445</td>\n",
              "      <td>0.093706</td>\n",
              "      <td>0.269156</td>\n",
              "    </tr>\n",
              "    <tr>\n",
              "      <th>2024-04-08</th>\n",
              "      <td>5211.37</td>\n",
              "      <td>5219.57</td>\n",
              "      <td>5197.35</td>\n",
              "      <td>5202.39</td>\n",
              "      <td>2.000910e+09</td>\n",
              "      <td>-0.000375</td>\n",
              "      <td>0.107542</td>\n",
              "      <td>0.271860</td>\n",
              "    </tr>\n",
              "  </tbody>\n",
              "</table>\n",
              "</div>"
            ],
            "text/plain": [
              "               Open     High      Low    Close        Volume   spx_dod  \\\n",
              "Date                                                                     \n",
              "2024-04-12  5171.51  5175.03  5107.94  5123.41  2.433479e+09 -0.014551   \n",
              "2024-04-11  5172.95  5211.78  5138.77  5199.06  2.225501e+09  0.007445   \n",
              "2024-04-10  5167.88  5178.43  5138.70  5160.64  2.297703e+09 -0.009457   \n",
              "2024-04-09  5217.03  5224.81  5160.78  5209.91  2.035069e+09  0.001445   \n",
              "2024-04-08  5211.37  5219.57  5197.35  5202.39  2.000910e+09 -0.000375   \n",
              "\n",
              "             spx_qoq   spx_yoy  \n",
              "Date                            \n",
              "2024-04-12  0.071789  0.252071  \n",
              "2024-04-11  0.086885  0.265304  \n",
              "2024-04-10  0.084966  0.255902  \n",
              "2024-04-09  0.093706  0.269156  \n",
              "2024-04-08  0.107542  0.271860  "
            ]
          },
          "execution_count": 15,
          "metadata": {},
          "output_type": "execute_result"
        }
      ],
      "source": [
        "spx_index.head()"
      ]
    },
    {
      "cell_type": "code",
      "execution_count": 16,
      "metadata": {
        "id": "u5ZsJX5-AFoa"
      },
      "outputs": [],
      "source": [
        "spx_truncated = spx_index[spx_index.index>='1990-01-01']"
      ]
    },
    {
      "cell_type": "code",
      "execution_count": 17,
      "metadata": {
        "colab": {
          "base_uri": "https://localhost:8080/",
          "height": 345
        },
        "id": "O5S85YSOIfum",
        "outputId": "c74c22f3-6807-4a8c-8b1a-1d55f2fe4a86"
      },
      "outputs": [
        {
          "data": {
            "image/png": "[encoded data removed]",
            "text/plain": [
              "<Figure size 1440x432 with 2 Axes>"
            ]
          },
          "metadata": {
            "needs_background": "light"
          },
          "output_type": "display_data"
        }
      ],
      "source": [
        "# S&P500 abs. vs. relative growth\n",
        "fig, ax = plt.subplots(figsize=(20, 6))\n",
        "plt.grid(True)\n",
        "\n",
        "# Plotting area under CPI\n",
        "ax.fill_between(spx_truncated.index, spx_truncated.Close, color=\"red\", alpha=0.3, label=\"S&P 500 Absolute Value (Close price)\")\n",
        "\n",
        "# Creating a secondary y-axis for CPI growth percentage\n",
        "ax2 = ax.twinx()\n",
        "ax2.yaxis.set_major_formatter(mtick.PercentFormatter(1.0))\n",
        "ax2.plot(spx_truncated.spx_yoy,\n",
        "         color=\"blue\",\n",
        "        #  marker=\".\",\n",
        "         label=\"Year-over-Year Growth (%)\")\n",
        "\n",
        "# Setting labels and title\n",
        "ax.set_xlabel(\"Date\", fontsize=14)\n",
        "ax.set_ylabel(\"S&P 500 Absolute Value (Close price\", color=\"red\", fontsize=14)\n",
        "ax2.set_ylabel(\"Year-over-Year Growth (%)\", color=\"blue\", fontsize=14)\n",
        "\n",
        "# Adding legend\n",
        "lines, labels = ax.get_legend_handles_labels()\n",
        "lines2, labels2 = ax2.get_legend_handles_labels()\n",
        "ax2.legend(lines + lines2, labels + labels2, loc='upper left')\n",
        "\n",
        "plt.show()"
      ]
    },
    {
      "cell_type": "markdown",
      "metadata": {
        "id": "U6xlJyCza0mt"
      },
      "source": [
        "# 2) Data Sources for Stocks"
      ]
    },
    {
      "cell_type": "markdown",
      "metadata": {
        "id": "tGBFWT0fAabM"
      },
      "source": [
        "## 2.1 OHLCV data daily - INDEXES"
      ]
    },
    {
      "cell_type": "code",
      "execution_count": 18,
      "metadata": {
        "colab": {
          "base_uri": "https://localhost:8080/"
        },
        "id": "jaKiqmzff3QZ",
        "outputId": "b244bc45-3429-4863-aefe-59b79075f991"
      },
      "outputs": [
        {
          "name": "stderr",
          "output_type": "stream",
          "text": [
            "[*********************100%%**********************]  1 of 1 completed\n"
          ]
        }
      ],
      "source": [
        "# INDEXES from Yahoo Finance\n",
        "# DAX index (XETRA - XETRA Delayed Price. Currency in EUR)\n",
        "# WEB: https://finance.yahoo.com/quote/%5EGDAXI\n",
        "dax_daily = yf.download(tickers = \"^GDAXI\",\n",
        "                     period = \"max\",\n",
        "                     interval = \"1d\")"
      ]
    },
    {
      "cell_type": "code",
      "execution_count": 19,
      "metadata": {
        "colab": {
          "base_uri": "https://localhost:8080/",
          "height": 238
        },
        "id": "BXuiJ9GtgJnr",
        "outputId": "8e297f75-c68a-408f-b690-aa911aa418f4"
      },
      "outputs": [
        {
          "data": {
            "text/html": [
              "<div>\n",
              "<style scoped>\n",
              "    .dataframe tbody tr th:only-of-type {\n",
              "        vertical-align: middle;\n",
              "    }\n",
              "\n",
              "    .dataframe tbody tr th {\n",
              "        vertical-align: top;\n",
              "    }\n",
              "\n",
              "    .dataframe thead th {\n",
              "        text-align: right;\n",
              "    }\n",
              "</style>\n",
              "<table border=\"1\" class=\"dataframe\">\n",
              "  <thead>\n",
              "    <tr style=\"text-align: right;\">\n",
              "      <th></th>\n",
              "      <th>Open</th>\n",
              "      <th>High</th>\n",
              "      <th>Low</th>\n",
              "      <th>Close</th>\n",
              "      <th>Adj Close</th>\n",
              "      <th>Volume</th>\n",
              "    </tr>\n",
              "    <tr>\n",
              "      <th>Date</th>\n",
              "      <th></th>\n",
              "      <th></th>\n",
              "      <th></th>\n",
              "      <th></th>\n",
              "      <th></th>\n",
              "      <th></th>\n",
              "    </tr>\n",
              "  </thead>\n",
              "  <tbody>\n",
              "    <tr>\n",
              "      <th>2024-04-09</th>\n",
              "      <td>18318.400391</td>\n",
              "      <td>18318.509766</td>\n",
              "      <td>18058.220703</td>\n",
              "      <td>18076.689453</td>\n",
              "      <td>18076.689453</td>\n",
              "      <td>65276400</td>\n",
              "    </tr>\n",
              "    <tr>\n",
              "      <th>2024-04-10</th>\n",
              "      <td>18078.890625</td>\n",
              "      <td>18239.500000</td>\n",
              "      <td>17975.839844</td>\n",
              "      <td>18097.300781</td>\n",
              "      <td>18097.300781</td>\n",
              "      <td>83348200</td>\n",
              "    </tr>\n",
              "    <tr>\n",
              "      <th>2024-04-11</th>\n",
              "      <td>18096.509766</td>\n",
              "      <td>18101.310547</td>\n",
              "      <td>17864.689453</td>\n",
              "      <td>17954.480469</td>\n",
              "      <td>17954.480469</td>\n",
              "      <td>84365100</td>\n",
              "    </tr>\n",
              "    <tr>\n",
              "      <th>2024-04-12</th>\n",
              "      <td>17965.949219</td>\n",
              "      <td>18162.560547</td>\n",
              "      <td>17860.730469</td>\n",
              "      <td>17930.320312</td>\n",
              "      <td>17930.320312</td>\n",
              "      <td>78993900</td>\n",
              "    </tr>\n",
              "    <tr>\n",
              "      <th>2024-04-15</th>\n",
              "      <td>17937.619141</td>\n",
              "      <td>18191.949219</td>\n",
              "      <td>17937.619141</td>\n",
              "      <td>18026.580078</td>\n",
              "      <td>18026.580078</td>\n",
              "      <td>0</td>\n",
              "    </tr>\n",
              "  </tbody>\n",
              "</table>\n",
              "</div>"
            ],
            "text/plain": [
              "                    Open          High           Low         Close  \\\n",
              "Date                                                                 \n",
              "2024-04-09  18318.400391  18318.509766  18058.220703  18076.689453   \n",
              "2024-04-10  18078.890625  18239.500000  17975.839844  18097.300781   \n",
              "2024-04-11  18096.509766  18101.310547  17864.689453  17954.480469   \n",
              "2024-04-12  17965.949219  18162.560547  17860.730469  17930.320312   \n",
              "2024-04-15  17937.619141  18191.949219  17937.619141  18026.580078   \n",
              "\n",
              "               Adj Close    Volume  \n",
              "Date                                \n",
              "2024-04-09  18076.689453  65276400  \n",
              "2024-04-10  18097.300781  83348200  \n",
              "2024-04-11  17954.480469  84365100  \n",
              "2024-04-12  17930.320312  78993900  \n",
              "2024-04-15  18026.580078         0  "
            ]
          },
          "execution_count": 19,
          "metadata": {},
          "output_type": "execute_result"
        }
      ],
      "source": [
        "dax_daily.tail()"
      ]
    },
    {
      "cell_type": "code",
      "execution_count": 20,
      "metadata": {
        "id": "mw7V64HWgXp9"
      },
      "outputs": [],
      "source": [
        "# normally 252 trading days\n",
        "dax_daily['adj_close_last_year'] = dax_daily['Adj Close'].shift(252)\n",
        "dax_daily['yoy_growth'] = dax_daily['Adj Close'] / dax_daily['adj_close_last_year'] -1"
      ]
    },
    {
      "cell_type": "code",
      "execution_count": 21,
      "metadata": {
        "colab": {
          "base_uri": "https://localhost:8080/",
          "height": 455
        },
        "id": "Z7YHkIRugvQV",
        "outputId": "40b02cf1-a87f-4e1a-b147-cc23f9460b52"
      },
      "outputs": [
        {
          "data": {
            "text/html": [
              "<div>\n",
              "<style scoped>\n",
              "    .dataframe tbody tr th:only-of-type {\n",
              "        vertical-align: middle;\n",
              "    }\n",
              "\n",
              "    .dataframe tbody tr th {\n",
              "        vertical-align: top;\n",
              "    }\n",
              "\n",
              "    .dataframe thead th {\n",
              "        text-align: right;\n",
              "    }\n",
              "</style>\n",
              "<table border=\"1\" class=\"dataframe\">\n",
              "  <thead>\n",
              "    <tr style=\"text-align: right;\">\n",
              "      <th></th>\n",
              "      <th>Open</th>\n",
              "      <th>High</th>\n",
              "      <th>Low</th>\n",
              "      <th>Close</th>\n",
              "      <th>Adj Close</th>\n",
              "      <th>Volume</th>\n",
              "      <th>adj_close_last_year</th>\n",
              "      <th>yoy_growth</th>\n",
              "    </tr>\n",
              "    <tr>\n",
              "      <th>Date</th>\n",
              "      <th></th>\n",
              "      <th></th>\n",
              "      <th></th>\n",
              "      <th></th>\n",
              "      <th></th>\n",
              "      <th></th>\n",
              "      <th></th>\n",
              "      <th></th>\n",
              "    </tr>\n",
              "  </thead>\n",
              "  <tbody>\n",
              "    <tr>\n",
              "      <th>1987-12-30</th>\n",
              "      <td>1005.190002</td>\n",
              "      <td>1005.190002</td>\n",
              "      <td>1005.190002</td>\n",
              "      <td>1005.190002</td>\n",
              "      <td>1005.190002</td>\n",
              "      <td>0</td>\n",
              "      <td>NaN</td>\n",
              "      <td>NaN</td>\n",
              "    </tr>\n",
              "    <tr>\n",
              "      <th>1988-01-04</th>\n",
              "      <td>956.489990</td>\n",
              "      <td>956.489990</td>\n",
              "      <td>956.489990</td>\n",
              "      <td>956.489990</td>\n",
              "      <td>956.489990</td>\n",
              "      <td>0</td>\n",
              "      <td>NaN</td>\n",
              "      <td>NaN</td>\n",
              "    </tr>\n",
              "    <tr>\n",
              "      <th>1988-01-05</th>\n",
              "      <td>996.099976</td>\n",
              "      <td>996.099976</td>\n",
              "      <td>996.099976</td>\n",
              "      <td>996.099976</td>\n",
              "      <td>996.099976</td>\n",
              "      <td>0</td>\n",
              "      <td>NaN</td>\n",
              "      <td>NaN</td>\n",
              "    </tr>\n",
              "    <tr>\n",
              "      <th>1988-01-06</th>\n",
              "      <td>1006.010010</td>\n",
              "      <td>1006.010010</td>\n",
              "      <td>1006.010010</td>\n",
              "      <td>1006.010010</td>\n",
              "      <td>1006.010010</td>\n",
              "      <td>0</td>\n",
              "      <td>NaN</td>\n",
              "      <td>NaN</td>\n",
              "    </tr>\n",
              "    <tr>\n",
              "      <th>1988-01-07</th>\n",
              "      <td>1014.469971</td>\n",
              "      <td>1014.469971</td>\n",
              "      <td>1014.469971</td>\n",
              "      <td>1014.469971</td>\n",
              "      <td>1014.469971</td>\n",
              "      <td>0</td>\n",
              "      <td>NaN</td>\n",
              "      <td>NaN</td>\n",
              "    </tr>\n",
              "    <tr>\n",
              "      <th>...</th>\n",
              "      <td>...</td>\n",
              "      <td>...</td>\n",
              "      <td>...</td>\n",
              "      <td>...</td>\n",
              "      <td>...</td>\n",
              "      <td>...</td>\n",
              "      <td>...</td>\n",
              "      <td>...</td>\n",
              "    </tr>\n",
              "    <tr>\n",
              "      <th>2024-04-09</th>\n",
              "      <td>18318.400391</td>\n",
              "      <td>18318.509766</td>\n",
              "      <td>18058.220703</td>\n",
              "      <td>18076.689453</td>\n",
              "      <td>18076.689453</td>\n",
              "      <td>65276400</td>\n",
              "      <td>15729.459961</td>\n",
              "      <td>0.149225</td>\n",
              "    </tr>\n",
              "    <tr>\n",
              "      <th>2024-04-10</th>\n",
              "      <td>18078.890625</td>\n",
              "      <td>18239.500000</td>\n",
              "      <td>17975.839844</td>\n",
              "      <td>18097.300781</td>\n",
              "      <td>18097.300781</td>\n",
              "      <td>83348200</td>\n",
              "      <td>15807.500000</td>\n",
              "      <td>0.144855</td>\n",
              "    </tr>\n",
              "    <tr>\n",
              "      <th>2024-04-11</th>\n",
              "      <td>18096.509766</td>\n",
              "      <td>18101.310547</td>\n",
              "      <td>17864.689453</td>\n",
              "      <td>17954.480469</td>\n",
              "      <td>17954.480469</td>\n",
              "      <td>84365100</td>\n",
              "      <td>15789.530273</td>\n",
              "      <td>0.137113</td>\n",
              "    </tr>\n",
              "    <tr>\n",
              "      <th>2024-04-12</th>\n",
              "      <td>17965.949219</td>\n",
              "      <td>18162.560547</td>\n",
              "      <td>17860.730469</td>\n",
              "      <td>17930.320312</td>\n",
              "      <td>17930.320312</td>\n",
              "      <td>78993900</td>\n",
              "      <td>15882.669922</td>\n",
              "      <td>0.128924</td>\n",
              "    </tr>\n",
              "    <tr>\n",
              "      <th>2024-04-15</th>\n",
              "      <td>17937.619141</td>\n",
              "      <td>18191.949219</td>\n",
              "      <td>17937.619141</td>\n",
              "      <td>18026.580078</td>\n",
              "      <td>18026.580078</td>\n",
              "      <td>0</td>\n",
              "      <td>15895.200195</td>\n",
              "      <td>0.134090</td>\n",
              "    </tr>\n",
              "  </tbody>\n",
              "</table>\n",
              "<p>9175 rows × 8 columns</p>\n",
              "</div>"
            ],
            "text/plain": [
              "                    Open          High           Low         Close  \\\n",
              "Date                                                                 \n",
              "1987-12-30   1005.190002   1005.190002   1005.190002   1005.190002   \n",
              "1988-01-04    956.489990    956.489990    956.489990    956.489990   \n",
              "1988-01-05    996.099976    996.099976    996.099976    996.099976   \n",
              "1988-01-06   1006.010010   1006.010010   1006.010010   1006.010010   \n",
              "1988-01-07   1014.469971   1014.469971   1014.469971   1014.469971   \n",
              "...                  ...           ...           ...           ...   \n",
              "2024-04-09  18318.400391  18318.509766  18058.220703  18076.689453   \n",
              "2024-04-10  18078.890625  18239.500000  17975.839844  18097.300781   \n",
              "2024-04-11  18096.509766  18101.310547  17864.689453  17954.480469   \n",
              "2024-04-12  17965.949219  18162.560547  17860.730469  17930.320312   \n",
              "2024-04-15  17937.619141  18191.949219  17937.619141  18026.580078   \n",
              "\n",
              "               Adj Close    Volume  adj_close_last_year  yoy_growth  \n",
              "Date                                                                 \n",
              "1987-12-30   1005.190002         0                  NaN         NaN  \n",
              "1988-01-04    956.489990         0                  NaN         NaN  \n",
              "1988-01-05    996.099976         0                  NaN         NaN  \n",
              "1988-01-06   1006.010010         0                  NaN         NaN  \n",
              "1988-01-07   1014.469971         0                  NaN         NaN  \n",
              "...                  ...       ...                  ...         ...  \n",
              "2024-04-09  18076.689453  65276400         15729.459961    0.149225  \n",
              "2024-04-10  18097.300781  83348200         15807.500000    0.144855  \n",
              "2024-04-11  17954.480469  84365100         15789.530273    0.137113  \n",
              "2024-04-12  17930.320312  78993900         15882.669922    0.128924  \n",
              "2024-04-15  18026.580078         0         15895.200195    0.134090  \n",
              "\n",
              "[9175 rows x 8 columns]"
            ]
          },
          "execution_count": 21,
          "metadata": {},
          "output_type": "execute_result"
        }
      ],
      "source": [
        "dax_daily"
      ]
    },
    {
      "cell_type": "code",
      "execution_count": 22,
      "metadata": {
        "colab": {
          "base_uri": "https://localhost:8080/",
          "height": 439
        },
        "id": "E0BHsNvGgFef",
        "outputId": "507157a5-0dcf-49aa-b8db-aeda230c6be6"
      },
      "outputs": [
        {
          "data": {
            "text/plain": [
              "<Axes: xlabel='Date'>"
            ]
          },
          "execution_count": 22,
          "metadata": {},
          "output_type": "execute_result"
        },
        {
          "data": {
            "image/png": "[encoded data removed]",
            "text/plain": [
              "<Figure size 432x288 with 1 Axes>"
            ]
          },
          "metadata": {
            "needs_background": "light"
          },
          "output_type": "display_data"
        }
      ],
      "source": [
        "dax_daily['Adj Close'].plot.line()"
      ]
    },
    {
      "cell_type": "code",
      "execution_count": 23,
      "metadata": {
        "colab": {
          "base_uri": "https://localhost:8080/"
        },
        "id": "czj2XsU7Ezk0",
        "outputId": "fa80563c-26ba-4996-e819-140a3c1c7b82"
      },
      "outputs": [
        {
          "name": "stderr",
          "output_type": "stream",
          "text": [
            "[*********************100%%**********************]  1 of 1 completed\n"
          ]
        }
      ],
      "source": [
        "# delayed 15 min : https://finance.yahoo.com/quote/%5ESPX/\n",
        "# S&P 500 INDEX : Chicago Options - Chicago Options Delayed Price. Currency in USD\n",
        "snp500_daily = yf.download(tickers = \"^SPX\",\n",
        "                     period = \"max\",\n",
        "                     interval = \"1d\")"
      ]
    },
    {
      "cell_type": "code",
      "execution_count": 24,
      "metadata": {
        "colab": {
          "base_uri": "https://localhost:8080/",
          "height": 238
        },
        "id": "1U0I2WzmE4DD",
        "outputId": "903335f2-a33d-4455-8a92-3d3d45119672"
      },
      "outputs": [
        {
          "data": {
            "text/html": [
              "<div>\n",
              "<style scoped>\n",
              "    .dataframe tbody tr th:only-of-type {\n",
              "        vertical-align: middle;\n",
              "    }\n",
              "\n",
              "    .dataframe tbody tr th {\n",
              "        vertical-align: top;\n",
              "    }\n",
              "\n",
              "    .dataframe thead th {\n",
              "        text-align: right;\n",
              "    }\n",
              "</style>\n",
              "<table border=\"1\" class=\"dataframe\">\n",
              "  <thead>\n",
              "    <tr style=\"text-align: right;\">\n",
              "      <th></th>\n",
              "      <th>Open</th>\n",
              "      <th>High</th>\n",
              "      <th>Low</th>\n",
              "      <th>Close</th>\n",
              "      <th>Adj Close</th>\n",
              "      <th>Volume</th>\n",
              "    </tr>\n",
              "    <tr>\n",
              "      <th>Date</th>\n",
              "      <th></th>\n",
              "      <th></th>\n",
              "      <th></th>\n",
              "      <th></th>\n",
              "      <th></th>\n",
              "      <th></th>\n",
              "    </tr>\n",
              "  </thead>\n",
              "  <tbody>\n",
              "    <tr>\n",
              "      <th>2024-04-09</th>\n",
              "      <td>5217.029785</td>\n",
              "      <td>5224.810059</td>\n",
              "      <td>5160.779785</td>\n",
              "      <td>5209.910156</td>\n",
              "      <td>5209.910156</td>\n",
              "      <td>3400680000</td>\n",
              "    </tr>\n",
              "    <tr>\n",
              "      <th>2024-04-10</th>\n",
              "      <td>5167.879883</td>\n",
              "      <td>5178.430176</td>\n",
              "      <td>5138.700195</td>\n",
              "      <td>5160.640137</td>\n",
              "      <td>5160.640137</td>\n",
              "      <td>3845930000</td>\n",
              "    </tr>\n",
              "    <tr>\n",
              "      <th>2024-04-11</th>\n",
              "      <td>5172.950195</td>\n",
              "      <td>5211.779785</td>\n",
              "      <td>5138.770020</td>\n",
              "      <td>5199.060059</td>\n",
              "      <td>5199.060059</td>\n",
              "      <td>3509380000</td>\n",
              "    </tr>\n",
              "    <tr>\n",
              "      <th>2024-04-12</th>\n",
              "      <td>5171.509766</td>\n",
              "      <td>5175.029785</td>\n",
              "      <td>5107.939941</td>\n",
              "      <td>5123.410156</td>\n",
              "      <td>5123.410156</td>\n",
              "      <td>3963220000</td>\n",
              "    </tr>\n",
              "    <tr>\n",
              "      <th>2024-04-15</th>\n",
              "      <td>5149.669922</td>\n",
              "      <td>5168.430176</td>\n",
              "      <td>5116.589844</td>\n",
              "      <td>5116.790039</td>\n",
              "      <td>5116.790039</td>\n",
              "      <td>846397354</td>\n",
              "    </tr>\n",
              "  </tbody>\n",
              "</table>\n",
              "</div>"
            ],
            "text/plain": [
              "                   Open         High          Low        Close    Adj Close  \\\n",
              "Date                                                                          \n",
              "2024-04-09  5217.029785  5224.810059  5160.779785  5209.910156  5209.910156   \n",
              "2024-04-10  5167.879883  5178.430176  5138.700195  5160.640137  5160.640137   \n",
              "2024-04-11  5172.950195  5211.779785  5138.770020  5199.060059  5199.060059   \n",
              "2024-04-12  5171.509766  5175.029785  5107.939941  5123.410156  5123.410156   \n",
              "2024-04-15  5149.669922  5168.430176  5116.589844  5116.790039  5116.790039   \n",
              "\n",
              "                Volume  \n",
              "Date                    \n",
              "2024-04-09  3400680000  \n",
              "2024-04-10  3845930000  \n",
              "2024-04-11  3509380000  \n",
              "2024-04-12  3963220000  \n",
              "2024-04-15   846397354  "
            ]
          },
          "execution_count": 24,
          "metadata": {},
          "output_type": "execute_result"
        }
      ],
      "source": [
        "snp500_daily.tail()"
      ]
    },
    {
      "cell_type": "code",
      "execution_count": 25,
      "metadata": {
        "colab": {
          "base_uri": "https://localhost:8080/"
        },
        "id": "dfvyq769FRIc",
        "outputId": "8b48442f-7b72-49bf-f845-dd4dd6e4d25b"
      },
      "outputs": [
        {
          "name": "stderr",
          "output_type": "stream",
          "text": [
            "[*********************100%%**********************]  1 of 1 completed\n"
          ]
        }
      ],
      "source": [
        "# https://finance.yahoo.com/quote/%5EGSPC/\n",
        "# SNP - SNP Real Time Price. Currency in USD\n",
        "snp500_daily_non_delayed = yf.download(tickers = \"^GSPC\",\n",
        "                     period = \"max\",\n",
        "                     interval = \"1d\")"
      ]
    },
    {
      "cell_type": "code",
      "execution_count": 26,
      "metadata": {
        "colab": {
          "base_uri": "https://localhost:8080/",
          "height": 238
        },
        "id": "U7YkZraDFY46",
        "outputId": "0b0edb0b-5293-4538-aeb6-081b1c9e5f8d"
      },
      "outputs": [
        {
          "data": {
            "text/html": [
              "<div>\n",
              "<style scoped>\n",
              "    .dataframe tbody tr th:only-of-type {\n",
              "        vertical-align: middle;\n",
              "    }\n",
              "\n",
              "    .dataframe tbody tr th {\n",
              "        vertical-align: top;\n",
              "    }\n",
              "\n",
              "    .dataframe thead th {\n",
              "        text-align: right;\n",
              "    }\n",
              "</style>\n",
              "<table border=\"1\" class=\"dataframe\">\n",
              "  <thead>\n",
              "    <tr style=\"text-align: right;\">\n",
              "      <th></th>\n",
              "      <th>Open</th>\n",
              "      <th>High</th>\n",
              "      <th>Low</th>\n",
              "      <th>Close</th>\n",
              "      <th>Adj Close</th>\n",
              "      <th>Volume</th>\n",
              "    </tr>\n",
              "    <tr>\n",
              "      <th>Date</th>\n",
              "      <th></th>\n",
              "      <th></th>\n",
              "      <th></th>\n",
              "      <th></th>\n",
              "      <th></th>\n",
              "      <th></th>\n",
              "    </tr>\n",
              "  </thead>\n",
              "  <tbody>\n",
              "    <tr>\n",
              "      <th>2024-04-08</th>\n",
              "      <td>5211.370117</td>\n",
              "      <td>5219.569824</td>\n",
              "      <td>5197.350098</td>\n",
              "      <td>5202.390137</td>\n",
              "      <td>5202.390137</td>\n",
              "      <td>3278180000</td>\n",
              "    </tr>\n",
              "    <tr>\n",
              "      <th>2024-04-09</th>\n",
              "      <td>5217.029785</td>\n",
              "      <td>5224.810059</td>\n",
              "      <td>5160.779785</td>\n",
              "      <td>5209.910156</td>\n",
              "      <td>5209.910156</td>\n",
              "      <td>3400680000</td>\n",
              "    </tr>\n",
              "    <tr>\n",
              "      <th>2024-04-10</th>\n",
              "      <td>5167.879883</td>\n",
              "      <td>5178.430176</td>\n",
              "      <td>5138.700195</td>\n",
              "      <td>5160.640137</td>\n",
              "      <td>5160.640137</td>\n",
              "      <td>3845930000</td>\n",
              "    </tr>\n",
              "    <tr>\n",
              "      <th>2024-04-11</th>\n",
              "      <td>5172.950195</td>\n",
              "      <td>5211.779785</td>\n",
              "      <td>5138.770020</td>\n",
              "      <td>5199.060059</td>\n",
              "      <td>5199.060059</td>\n",
              "      <td>3509380000</td>\n",
              "    </tr>\n",
              "    <tr>\n",
              "      <th>2024-04-12</th>\n",
              "      <td>5171.509766</td>\n",
              "      <td>5175.029785</td>\n",
              "      <td>5107.939941</td>\n",
              "      <td>5123.410156</td>\n",
              "      <td>5123.410156</td>\n",
              "      <td>3963220000</td>\n",
              "    </tr>\n",
              "  </tbody>\n",
              "</table>\n",
              "</div>"
            ],
            "text/plain": [
              "                   Open         High          Low        Close    Adj Close  \\\n",
              "Date                                                                          \n",
              "2024-04-08  5211.370117  5219.569824  5197.350098  5202.390137  5202.390137   \n",
              "2024-04-09  5217.029785  5224.810059  5160.779785  5209.910156  5209.910156   \n",
              "2024-04-10  5167.879883  5178.430176  5138.700195  5160.640137  5160.640137   \n",
              "2024-04-11  5172.950195  5211.779785  5138.770020  5199.060059  5199.060059   \n",
              "2024-04-12  5171.509766  5175.029785  5107.939941  5123.410156  5123.410156   \n",
              "\n",
              "                Volume  \n",
              "Date                    \n",
              "2024-04-08  3278180000  \n",
              "2024-04-09  3400680000  \n",
              "2024-04-10  3845930000  \n",
              "2024-04-11  3509380000  \n",
              "2024-04-12  3963220000  "
            ]
          },
          "execution_count": 26,
          "metadata": {},
          "output_type": "execute_result"
        }
      ],
      "source": [
        "snp500_daily_non_delayed.tail()"
      ]
    },
    {
      "cell_type": "code",
      "execution_count": 27,
      "metadata": {
        "colab": {
          "base_uri": "https://localhost:8080/"
        },
        "id": "tGaqJw4QFhev",
        "outputId": "d68f3d4d-0fa5-4323-e7d4-5ba3d4b9f5da"
      },
      "outputs": [
        {
          "name": "stderr",
          "output_type": "stream",
          "text": [
            "[*********************100%%**********************]  1 of 1 completed\n"
          ]
        }
      ],
      "source": [
        "# Dow Jones Industrial Average: https://finance.yahoo.com/quote/%5EDJI?.tsrc=fin-srch\n",
        "dji_daily = yf.download(tickers = \"^DJI\",\n",
        "                     period = \"max\",\n",
        "                     interval = \"1d\")"
      ]
    },
    {
      "cell_type": "markdown",
      "metadata": {
        "id": "kLXxhy_7F7C5"
      },
      "source": [
        "## 2.2 OHLCV data daily - ETFs"
      ]
    },
    {
      "cell_type": "code",
      "execution_count": 28,
      "metadata": {
        "colab": {
          "base_uri": "https://localhost:8080/"
        },
        "id": "Q5Td0K__Ft80",
        "outputId": "62fc7792-6a62-436e-9e9c-c47a6a583e44"
      },
      "outputs": [
        {
          "name": "stderr",
          "output_type": "stream",
          "text": [
            "[*********************100%%**********************]  1 of 1 completed\n"
          ]
        }
      ],
      "source": [
        "# https://finance.yahoo.com/quote/VOO?.tsrc=fin-srch\n",
        "voo_etf = yf.download(tickers = \"VOO\",\n",
        "                     period = \"max\",\n",
        "                     interval = \"1d\")\n"
      ]
    },
    {
      "cell_type": "code",
      "execution_count": 29,
      "metadata": {
        "colab": {
          "base_uri": "https://localhost:8080/",
          "height": 238
        },
        "id": "ej-cMzvtGEz8",
        "outputId": "7c815655-38e8-4d1d-86af-93baa49391d4"
      },
      "outputs": [
        {
          "data": {
            "text/html": [
              "<div>\n",
              "<style scoped>\n",
              "    .dataframe tbody tr th:only-of-type {\n",
              "        vertical-align: middle;\n",
              "    }\n",
              "\n",
              "    .dataframe tbody tr th {\n",
              "        vertical-align: top;\n",
              "    }\n",
              "\n",
              "    .dataframe thead th {\n",
              "        text-align: right;\n",
              "    }\n",
              "</style>\n",
              "<table border=\"1\" class=\"dataframe\">\n",
              "  <thead>\n",
              "    <tr style=\"text-align: right;\">\n",
              "      <th></th>\n",
              "      <th>Open</th>\n",
              "      <th>High</th>\n",
              "      <th>Low</th>\n",
              "      <th>Close</th>\n",
              "      <th>Adj Close</th>\n",
              "      <th>Volume</th>\n",
              "    </tr>\n",
              "    <tr>\n",
              "      <th>Date</th>\n",
              "      <th></th>\n",
              "      <th></th>\n",
              "      <th></th>\n",
              "      <th></th>\n",
              "      <th></th>\n",
              "      <th></th>\n",
              "    </tr>\n",
              "  </thead>\n",
              "  <tbody>\n",
              "    <tr>\n",
              "      <th>2024-04-08</th>\n",
              "      <td>477.149994</td>\n",
              "      <td>478.070007</td>\n",
              "      <td>475.970001</td>\n",
              "      <td>476.679993</td>\n",
              "      <td>476.679993</td>\n",
              "      <td>4736800</td>\n",
              "    </tr>\n",
              "    <tr>\n",
              "      <th>2024-04-09</th>\n",
              "      <td>478.380005</td>\n",
              "      <td>478.600006</td>\n",
              "      <td>472.739990</td>\n",
              "      <td>477.269989</td>\n",
              "      <td>477.269989</td>\n",
              "      <td>5254200</td>\n",
              "    </tr>\n",
              "    <tr>\n",
              "      <th>2024-04-10</th>\n",
              "      <td>471.910004</td>\n",
              "      <td>474.390015</td>\n",
              "      <td>470.670013</td>\n",
              "      <td>472.649994</td>\n",
              "      <td>472.649994</td>\n",
              "      <td>6933400</td>\n",
              "    </tr>\n",
              "    <tr>\n",
              "      <th>2024-04-11</th>\n",
              "      <td>473.980011</td>\n",
              "      <td>477.429993</td>\n",
              "      <td>470.670013</td>\n",
              "      <td>476.059998</td>\n",
              "      <td>476.059998</td>\n",
              "      <td>5109900</td>\n",
              "    </tr>\n",
              "    <tr>\n",
              "      <th>2024-04-12</th>\n",
              "      <td>472.769989</td>\n",
              "      <td>474.049988</td>\n",
              "      <td>467.910004</td>\n",
              "      <td>469.570007</td>\n",
              "      <td>469.570007</td>\n",
              "      <td>6954300</td>\n",
              "    </tr>\n",
              "  </tbody>\n",
              "</table>\n",
              "</div>"
            ],
            "text/plain": [
              "                  Open        High         Low       Close   Adj Close  \\\n",
              "Date                                                                     \n",
              "2024-04-08  477.149994  478.070007  475.970001  476.679993  476.679993   \n",
              "2024-04-09  478.380005  478.600006  472.739990  477.269989  477.269989   \n",
              "2024-04-10  471.910004  474.390015  470.670013  472.649994  472.649994   \n",
              "2024-04-11  473.980011  477.429993  470.670013  476.059998  476.059998   \n",
              "2024-04-12  472.769989  474.049988  467.910004  469.570007  469.570007   \n",
              "\n",
              "             Volume  \n",
              "Date                 \n",
              "2024-04-08  4736800  \n",
              "2024-04-09  5254200  \n",
              "2024-04-10  6933400  \n",
              "2024-04-11  5109900  \n",
              "2024-04-12  6954300  "
            ]
          },
          "execution_count": 29,
          "metadata": {},
          "output_type": "execute_result"
        }
      ],
      "source": [
        "voo_etf.tail()"
      ]
    },
    {
      "cell_type": "code",
      "execution_count": 30,
      "metadata": {
        "colab": {
          "base_uri": "https://localhost:8080/"
        },
        "id": "KIWSSee4O-zh",
        "outputId": "6e986b59-515b-4568-d73c-0e620288791f"
      },
      "outputs": [
        {
          "name": "stderr",
          "output_type": "stream",
          "text": [
            "[*********************100%%**********************]  1 of 1 completed\n"
          ]
        }
      ],
      "source": [
        "# ETFs\n",
        "# WisdomTree India Earnings Fund (EPI)\n",
        "# NYSEArca - Nasdaq Real Time Price. Currency in USD\n",
        "# WEB: https://finance.yahoo.com/quote/EPI/history?p=EPI\n",
        "epi_etf_daily = yf.download(tickers = \"EPI\",\n",
        "                     period = \"max\",\n",
        "                     interval = \"1d\")"
      ]
    },
    {
      "cell_type": "code",
      "execution_count": 31,
      "metadata": {
        "colab": {
          "base_uri": "https://localhost:8080/"
        },
        "id": "M7EahlaPZU8B",
        "outputId": "30759f64-cf1f-498d-bd12-6fd6ae666eb7"
      },
      "outputs": [
        {
          "name": "stdout",
          "output_type": "stream",
          "text": [
            "(4062, 6)\n"
          ]
        }
      ],
      "source": [
        "epi_etf_daily.head()\n",
        "print(epi_etf_daily.shape)"
      ]
    },
    {
      "cell_type": "code",
      "execution_count": 32,
      "metadata": {
        "colab": {
          "base_uri": "https://localhost:8080/",
          "height": 206
        },
        "id": "45ooKl8oZVHZ",
        "outputId": "2e8b74da-1c5a-422f-a4b5-9cf975ec1e70"
      },
      "outputs": [
        {
          "data": {
            "text/html": [
              "<div>\n",
              "<style scoped>\n",
              "    .dataframe tbody tr th:only-of-type {\n",
              "        vertical-align: middle;\n",
              "    }\n",
              "\n",
              "    .dataframe tbody tr th {\n",
              "        vertical-align: top;\n",
              "    }\n",
              "\n",
              "    .dataframe thead th {\n",
              "        text-align: right;\n",
              "    }\n",
              "</style>\n",
              "<table border=\"1\" class=\"dataframe\">\n",
              "  <thead>\n",
              "    <tr style=\"text-align: right;\">\n",
              "      <th></th>\n",
              "      <th>Open</th>\n",
              "      <th>High</th>\n",
              "      <th>Low</th>\n",
              "      <th>Close</th>\n",
              "      <th>Adj Close</th>\n",
              "      <th>Volume</th>\n",
              "    </tr>\n",
              "    <tr>\n",
              "      <th>Date</th>\n",
              "      <th></th>\n",
              "      <th></th>\n",
              "      <th></th>\n",
              "      <th></th>\n",
              "      <th></th>\n",
              "      <th></th>\n",
              "    </tr>\n",
              "  </thead>\n",
              "  <tbody>\n",
              "    <tr>\n",
              "      <th>2023-06-23</th>\n",
              "      <td>34.029999</td>\n",
              "      <td>34.150002</td>\n",
              "      <td>33.930000</td>\n",
              "      <td>34.020000</td>\n",
              "      <td>33.960003</td>\n",
              "      <td>344100</td>\n",
              "    </tr>\n",
              "    <tr>\n",
              "      <th>2023-06-26</th>\n",
              "      <td>34.110001</td>\n",
              "      <td>34.160000</td>\n",
              "      <td>34.049999</td>\n",
              "      <td>34.080002</td>\n",
              "      <td>34.080002</td>\n",
              "      <td>634600</td>\n",
              "    </tr>\n",
              "    <tr>\n",
              "      <th>2023-06-27</th>\n",
              "      <td>34.279999</td>\n",
              "      <td>34.310001</td>\n",
              "      <td>34.230000</td>\n",
              "      <td>34.310001</td>\n",
              "      <td>34.310001</td>\n",
              "      <td>417100</td>\n",
              "    </tr>\n",
              "    <tr>\n",
              "      <th>2023-06-28</th>\n",
              "      <td>34.410000</td>\n",
              "      <td>34.529999</td>\n",
              "      <td>34.389999</td>\n",
              "      <td>34.529999</td>\n",
              "      <td>34.529999</td>\n",
              "      <td>454400</td>\n",
              "    </tr>\n",
              "  </tbody>\n",
              "</table>\n",
              "</div>"
            ],
            "text/plain": [
              "                 Open       High        Low      Close  Adj Close  Volume\n",
              "Date                                                                     \n",
              "2023-06-23  34.029999  34.150002  33.930000  34.020000  33.960003  344100\n",
              "2023-06-26  34.110001  34.160000  34.049999  34.080002  34.080002  634600\n",
              "2023-06-27  34.279999  34.310001  34.230000  34.310001  34.310001  417100\n",
              "2023-06-28  34.410000  34.529999  34.389999  34.529999  34.529999  454400"
            ]
          },
          "execution_count": 32,
          "metadata": {},
          "output_type": "execute_result"
        }
      ],
      "source": [
        "# find dividends impact on Close vs. Adj.Close\n",
        "epi_etf_daily[(epi_etf_daily.index >='2023-06-23') & (epi_etf_daily.index <='2023-06-28')]"
      ]
    },
    {
      "cell_type": "code",
      "execution_count": 33,
      "metadata": {
        "colab": {
          "base_uri": "https://localhost:8080/",
          "height": 206
        },
        "id": "BiLy3Cf7Zdq5",
        "outputId": "5300e272-7aa1-4c91-feab-16e6e8791d5f"
      },
      "outputs": [
        {
          "data": {
            "text/html": [
              "<div>\n",
              "<style scoped>\n",
              "    .dataframe tbody tr th:only-of-type {\n",
              "        vertical-align: middle;\n",
              "    }\n",
              "\n",
              "    .dataframe tbody tr th {\n",
              "        vertical-align: top;\n",
              "    }\n",
              "\n",
              "    .dataframe thead th {\n",
              "        text-align: right;\n",
              "    }\n",
              "</style>\n",
              "<table border=\"1\" class=\"dataframe\">\n",
              "  <thead>\n",
              "    <tr style=\"text-align: right;\">\n",
              "      <th></th>\n",
              "      <th>Open</th>\n",
              "      <th>High</th>\n",
              "      <th>Low</th>\n",
              "      <th>Close</th>\n",
              "      <th>Adj Close</th>\n",
              "      <th>Volume</th>\n",
              "    </tr>\n",
              "    <tr>\n",
              "      <th>Date</th>\n",
              "      <th></th>\n",
              "      <th></th>\n",
              "      <th></th>\n",
              "      <th></th>\n",
              "      <th></th>\n",
              "      <th></th>\n",
              "    </tr>\n",
              "  </thead>\n",
              "  <tbody>\n",
              "    <tr>\n",
              "      <th>2022-06-23</th>\n",
              "      <td>31.129999</td>\n",
              "      <td>31.26</td>\n",
              "      <td>31.000000</td>\n",
              "      <td>31.200001</td>\n",
              "      <td>29.303230</td>\n",
              "      <td>607700</td>\n",
              "    </tr>\n",
              "    <tr>\n",
              "      <th>2022-06-24</th>\n",
              "      <td>29.549999</td>\n",
              "      <td>29.91</td>\n",
              "      <td>29.500000</td>\n",
              "      <td>29.900000</td>\n",
              "      <td>29.847267</td>\n",
              "      <td>387900</td>\n",
              "    </tr>\n",
              "    <tr>\n",
              "      <th>2022-06-27</th>\n",
              "      <td>29.799999</td>\n",
              "      <td>29.82</td>\n",
              "      <td>29.660000</td>\n",
              "      <td>29.709999</td>\n",
              "      <td>29.657600</td>\n",
              "      <td>225400</td>\n",
              "    </tr>\n",
              "    <tr>\n",
              "      <th>2022-06-28</th>\n",
              "      <td>29.709999</td>\n",
              "      <td>29.76</td>\n",
              "      <td>29.389999</td>\n",
              "      <td>29.420000</td>\n",
              "      <td>29.368114</td>\n",
              "      <td>466600</td>\n",
              "    </tr>\n",
              "  </tbody>\n",
              "</table>\n",
              "</div>"
            ],
            "text/plain": [
              "                 Open   High        Low      Close  Adj Close  Volume\n",
              "Date                                                                 \n",
              "2022-06-23  31.129999  31.26  31.000000  31.200001  29.303230  607700\n",
              "2022-06-24  29.549999  29.91  29.500000  29.900000  29.847267  387900\n",
              "2022-06-27  29.799999  29.82  29.660000  29.709999  29.657600  225400\n",
              "2022-06-28  29.709999  29.76  29.389999  29.420000  29.368114  466600"
            ]
          },
          "execution_count": 33,
          "metadata": {},
          "output_type": "execute_result"
        }
      ],
      "source": [
        "# find dividends - diff for Close vs. Adj Close\n",
        "# Open/Close for 06-25 diff is close to divs = 1.845 (~1.58 for Open and 1.3 for Close)\n",
        "# HELP: https://help.yahoo.com/kb/SLN28256.html#:~:text=Adjusted%20close%20is%20the%20closing,Security%20Prices%20(CRSP)%20standards.\n",
        "epi_etf_daily[(epi_etf_daily.index >='2022-06-23') & (epi_etf_daily.index <='2022-06-28')]"
      ]
    },
    {
      "cell_type": "code",
      "execution_count": 34,
      "metadata": {
        "colab": {
          "base_uri": "https://localhost:8080/",
          "height": 461
        },
        "id": "yA1UjjrGZfUZ",
        "outputId": "478fac89-0133-4c67-db05-677545336a1c"
      },
      "outputs": [
        {
          "data": {
            "text/plain": [
              "<Axes: title={'center': \"EPI's etf stock price\"}, xlabel='Date'>"
            ]
          },
          "execution_count": 34,
          "metadata": {},
          "output_type": "execute_result"
        },
        {
          "data": {
            "image/png": "[encoded data removed]",
            "text/plain": [
              "<Figure size 432x288 with 1 Axes>"
            ]
          },
          "metadata": {
            "needs_background": "light"
          },
          "output_type": "display_data"
        }
      ],
      "source": [
        "# About yFinance: https://zoo.cs.yale.edu/classes/cs458/lectures/yfinance.html\n",
        "\n",
        "epi_etf_daily['Close'].plot(title=\"EPI's etf stock price\")"
      ]
    },
    {
      "cell_type": "code",
      "execution_count": 35,
      "metadata": {
        "colab": {
          "base_uri": "https://localhost:8080/",
          "height": 1000
        },
        "id": "snrIj6WCZkkZ",
        "outputId": "f6e64430-b3a8-41b8-855e-477e3f1cb81a"
      },
      "outputs": [
        {
          "data": {
            "text/html": [
              "<div>\n",
              "<style scoped>\n",
              "    .dataframe tbody tr th:only-of-type {\n",
              "        vertical-align: middle;\n",
              "    }\n",
              "\n",
              "    .dataframe tbody tr th {\n",
              "        vertical-align: top;\n",
              "    }\n",
              "\n",
              "    .dataframe thead th {\n",
              "        text-align: right;\n",
              "    }\n",
              "</style>\n",
              "<table border=\"1\" class=\"dataframe\">\n",
              "  <thead>\n",
              "    <tr style=\"text-align: right;\">\n",
              "      <th></th>\n",
              "      <th>Dividends</th>\n",
              "      <th>Stock Splits</th>\n",
              "      <th>Capital Gains</th>\n",
              "    </tr>\n",
              "    <tr>\n",
              "      <th>Date</th>\n",
              "      <th></th>\n",
              "      <th></th>\n",
              "      <th></th>\n",
              "    </tr>\n",
              "  </thead>\n",
              "  <tbody>\n",
              "    <tr>\n",
              "      <th>2008-12-22 00:00:00-05:00</th>\n",
              "      <td>0.091</td>\n",
              "      <td>0.0</td>\n",
              "      <td>0.0</td>\n",
              "    </tr>\n",
              "    <tr>\n",
              "      <th>2009-03-23 00:00:00-04:00</th>\n",
              "      <td>0.007</td>\n",
              "      <td>0.0</td>\n",
              "      <td>0.0</td>\n",
              "    </tr>\n",
              "    <tr>\n",
              "      <th>2009-06-22 00:00:00-04:00</th>\n",
              "      <td>0.002</td>\n",
              "      <td>0.0</td>\n",
              "      <td>0.0</td>\n",
              "    </tr>\n",
              "    <tr>\n",
              "      <th>2009-09-21 00:00:00-04:00</th>\n",
              "      <td>0.045</td>\n",
              "      <td>0.0</td>\n",
              "      <td>0.0</td>\n",
              "    </tr>\n",
              "    <tr>\n",
              "      <th>2009-12-21 00:00:00-05:00</th>\n",
              "      <td>0.006</td>\n",
              "      <td>0.0</td>\n",
              "      <td>0.0</td>\n",
              "    </tr>\n",
              "    <tr>\n",
              "      <th>2010-06-28 00:00:00-04:00</th>\n",
              "      <td>0.065</td>\n",
              "      <td>0.0</td>\n",
              "      <td>0.0</td>\n",
              "    </tr>\n",
              "    <tr>\n",
              "      <th>2010-09-20 00:00:00-04:00</th>\n",
              "      <td>0.065</td>\n",
              "      <td>0.0</td>\n",
              "      <td>0.0</td>\n",
              "    </tr>\n",
              "    <tr>\n",
              "      <th>2010-12-22 00:00:00-05:00</th>\n",
              "      <td>0.013</td>\n",
              "      <td>0.0</td>\n",
              "      <td>0.0</td>\n",
              "    </tr>\n",
              "    <tr>\n",
              "      <th>2011-06-22 00:00:00-04:00</th>\n",
              "      <td>0.062</td>\n",
              "      <td>0.0</td>\n",
              "      <td>0.0</td>\n",
              "    </tr>\n",
              "    <tr>\n",
              "      <th>2011-09-26 00:00:00-04:00</th>\n",
              "      <td>0.098</td>\n",
              "      <td>0.0</td>\n",
              "      <td>0.0</td>\n",
              "    </tr>\n",
              "    <tr>\n",
              "      <th>2012-03-26 00:00:00-04:00</th>\n",
              "      <td>0.010</td>\n",
              "      <td>0.0</td>\n",
              "      <td>0.0</td>\n",
              "    </tr>\n",
              "    <tr>\n",
              "      <th>2012-06-25 00:00:00-04:00</th>\n",
              "      <td>0.045</td>\n",
              "      <td>0.0</td>\n",
              "      <td>0.0</td>\n",
              "    </tr>\n",
              "    <tr>\n",
              "      <th>2012-09-24 00:00:00-04:00</th>\n",
              "      <td>0.083</td>\n",
              "      <td>0.0</td>\n",
              "      <td>0.0</td>\n",
              "    </tr>\n",
              "    <tr>\n",
              "      <th>2012-12-24 00:00:00-05:00</th>\n",
              "      <td>0.024</td>\n",
              "      <td>0.0</td>\n",
              "      <td>0.0</td>\n",
              "    </tr>\n",
              "    <tr>\n",
              "      <th>2013-06-24 00:00:00-04:00</th>\n",
              "      <td>0.068</td>\n",
              "      <td>0.0</td>\n",
              "      <td>0.0</td>\n",
              "    </tr>\n",
              "    <tr>\n",
              "      <th>2013-09-23 00:00:00-04:00</th>\n",
              "      <td>0.063</td>\n",
              "      <td>0.0</td>\n",
              "      <td>0.0</td>\n",
              "    </tr>\n",
              "    <tr>\n",
              "      <th>2014-03-24 00:00:00-04:00</th>\n",
              "      <td>0.099</td>\n",
              "      <td>0.0</td>\n",
              "      <td>0.0</td>\n",
              "    </tr>\n",
              "    <tr>\n",
              "      <th>2014-06-23 00:00:00-04:00</th>\n",
              "      <td>0.059</td>\n",
              "      <td>0.0</td>\n",
              "      <td>0.0</td>\n",
              "    </tr>\n",
              "    <tr>\n",
              "      <th>2014-09-22 00:00:00-04:00</th>\n",
              "      <td>0.068</td>\n",
              "      <td>0.0</td>\n",
              "      <td>0.0</td>\n",
              "    </tr>\n",
              "    <tr>\n",
              "      <th>2015-03-23 00:00:00-04:00</th>\n",
              "      <td>0.031</td>\n",
              "      <td>0.0</td>\n",
              "      <td>0.0</td>\n",
              "    </tr>\n",
              "    <tr>\n",
              "      <th>2015-06-22 00:00:00-04:00</th>\n",
              "      <td>0.067</td>\n",
              "      <td>0.0</td>\n",
              "      <td>0.0</td>\n",
              "    </tr>\n",
              "    <tr>\n",
              "      <th>2015-09-21 00:00:00-04:00</th>\n",
              "      <td>0.116</td>\n",
              "      <td>0.0</td>\n",
              "      <td>0.0</td>\n",
              "    </tr>\n",
              "    <tr>\n",
              "      <th>2015-12-21 00:00:00-05:00</th>\n",
              "      <td>0.024</td>\n",
              "      <td>0.0</td>\n",
              "      <td>0.0</td>\n",
              "    </tr>\n",
              "    <tr>\n",
              "      <th>2016-03-21 00:00:00-04:00</th>\n",
              "      <td>0.010</td>\n",
              "      <td>0.0</td>\n",
              "      <td>0.0</td>\n",
              "    </tr>\n",
              "    <tr>\n",
              "      <th>2016-06-20 00:00:00-04:00</th>\n",
              "      <td>0.125</td>\n",
              "      <td>0.0</td>\n",
              "      <td>0.0</td>\n",
              "    </tr>\n",
              "    <tr>\n",
              "      <th>2016-09-26 00:00:00-04:00</th>\n",
              "      <td>0.070</td>\n",
              "      <td>0.0</td>\n",
              "      <td>0.0</td>\n",
              "    </tr>\n",
              "    <tr>\n",
              "      <th>2016-12-23 00:00:00-05:00</th>\n",
              "      <td>0.006</td>\n",
              "      <td>0.0</td>\n",
              "      <td>0.0</td>\n",
              "    </tr>\n",
              "    <tr>\n",
              "      <th>2017-03-27 00:00:00-04:00</th>\n",
              "      <td>0.075</td>\n",
              "      <td>0.0</td>\n",
              "      <td>0.0</td>\n",
              "    </tr>\n",
              "    <tr>\n",
              "      <th>2017-06-26 00:00:00-04:00</th>\n",
              "      <td>0.055</td>\n",
              "      <td>0.0</td>\n",
              "      <td>0.0</td>\n",
              "    </tr>\n",
              "    <tr>\n",
              "      <th>2017-09-26 00:00:00-04:00</th>\n",
              "      <td>0.080</td>\n",
              "      <td>0.0</td>\n",
              "      <td>0.0</td>\n",
              "    </tr>\n",
              "    <tr>\n",
              "      <th>2017-12-26 00:00:00-05:00</th>\n",
              "      <td>0.026</td>\n",
              "      <td>0.0</td>\n",
              "      <td>0.0</td>\n",
              "    </tr>\n",
              "    <tr>\n",
              "      <th>2018-03-20 00:00:00-04:00</th>\n",
              "      <td>0.061</td>\n",
              "      <td>0.0</td>\n",
              "      <td>0.0</td>\n",
              "    </tr>\n",
              "    <tr>\n",
              "      <th>2018-06-25 00:00:00-04:00</th>\n",
              "      <td>0.085</td>\n",
              "      <td>0.0</td>\n",
              "      <td>0.0</td>\n",
              "    </tr>\n",
              "    <tr>\n",
              "      <th>2018-09-25 00:00:00-04:00</th>\n",
              "      <td>0.111</td>\n",
              "      <td>0.0</td>\n",
              "      <td>0.0</td>\n",
              "    </tr>\n",
              "    <tr>\n",
              "      <th>2018-12-24 00:00:00-05:00</th>\n",
              "      <td>0.008</td>\n",
              "      <td>0.0</td>\n",
              "      <td>0.0</td>\n",
              "    </tr>\n",
              "    <tr>\n",
              "      <th>2018-12-28 00:00:00-05:00</th>\n",
              "      <td>0.028</td>\n",
              "      <td>0.0</td>\n",
              "      <td>0.0</td>\n",
              "    </tr>\n",
              "    <tr>\n",
              "      <th>2019-03-26 00:00:00-04:00</th>\n",
              "      <td>0.120</td>\n",
              "      <td>0.0</td>\n",
              "      <td>0.0</td>\n",
              "    </tr>\n",
              "    <tr>\n",
              "      <th>2019-09-24 00:00:00-04:00</th>\n",
              "      <td>0.130</td>\n",
              "      <td>0.0</td>\n",
              "      <td>0.0</td>\n",
              "    </tr>\n",
              "    <tr>\n",
              "      <th>2019-12-23 00:00:00-05:00</th>\n",
              "      <td>0.041</td>\n",
              "      <td>0.0</td>\n",
              "      <td>0.0</td>\n",
              "    </tr>\n",
              "    <tr>\n",
              "      <th>2020-03-24 00:00:00-04:00</th>\n",
              "      <td>0.017</td>\n",
              "      <td>0.0</td>\n",
              "      <td>0.0</td>\n",
              "    </tr>\n",
              "    <tr>\n",
              "      <th>2020-06-23 00:00:00-04:00</th>\n",
              "      <td>0.094</td>\n",
              "      <td>0.0</td>\n",
              "      <td>0.0</td>\n",
              "    </tr>\n",
              "    <tr>\n",
              "      <th>2020-09-22 00:00:00-04:00</th>\n",
              "      <td>0.035</td>\n",
              "      <td>0.0</td>\n",
              "      <td>0.0</td>\n",
              "    </tr>\n",
              "    <tr>\n",
              "      <th>2020-12-21 00:00:00-05:00</th>\n",
              "      <td>0.081</td>\n",
              "      <td>0.0</td>\n",
              "      <td>0.0</td>\n",
              "    </tr>\n",
              "    <tr>\n",
              "      <th>2021-03-25 00:00:00-04:00</th>\n",
              "      <td>0.043</td>\n",
              "      <td>0.0</td>\n",
              "      <td>0.0</td>\n",
              "    </tr>\n",
              "    <tr>\n",
              "      <th>2021-06-24 00:00:00-04:00</th>\n",
              "      <td>0.085</td>\n",
              "      <td>0.0</td>\n",
              "      <td>0.0</td>\n",
              "    </tr>\n",
              "    <tr>\n",
              "      <th>2021-09-24 00:00:00-04:00</th>\n",
              "      <td>0.110</td>\n",
              "      <td>0.0</td>\n",
              "      <td>0.0</td>\n",
              "    </tr>\n",
              "    <tr>\n",
              "      <th>2021-12-27 00:00:00-05:00</th>\n",
              "      <td>0.192</td>\n",
              "      <td>0.0</td>\n",
              "      <td>0.0</td>\n",
              "    </tr>\n",
              "    <tr>\n",
              "      <th>2022-03-25 00:00:00-04:00</th>\n",
              "      <td>0.115</td>\n",
              "      <td>0.0</td>\n",
              "      <td>0.0</td>\n",
              "    </tr>\n",
              "    <tr>\n",
              "      <th>2022-06-24 00:00:00-04:00</th>\n",
              "      <td>1.845</td>\n",
              "      <td>0.0</td>\n",
              "      <td>0.0</td>\n",
              "    </tr>\n",
              "    <tr>\n",
              "      <th>2023-06-26 00:00:00-04:00</th>\n",
              "      <td>0.060</td>\n",
              "      <td>0.0</td>\n",
              "      <td>0.0</td>\n",
              "    </tr>\n",
              "  </tbody>\n",
              "</table>\n",
              "</div>"
            ],
            "text/plain": [
              "                           Dividends  Stock Splits  Capital Gains\n",
              "Date                                                             \n",
              "2008-12-22 00:00:00-05:00      0.091           0.0            0.0\n",
              "2009-03-23 00:00:00-04:00      0.007           0.0            0.0\n",
              "2009-06-22 00:00:00-04:00      0.002           0.0            0.0\n",
              "2009-09-21 00:00:00-04:00      0.045           0.0            0.0\n",
              "2009-12-21 00:00:00-05:00      0.006           0.0            0.0\n",
              "2010-06-28 00:00:00-04:00      0.065           0.0            0.0\n",
              "2010-09-20 00:00:00-04:00      0.065           0.0            0.0\n",
              "2010-12-22 00:00:00-05:00      0.013           0.0            0.0\n",
              "2011-06-22 00:00:00-04:00      0.062           0.0            0.0\n",
              "2011-09-26 00:00:00-04:00      0.098           0.0            0.0\n",
              "2012-03-26 00:00:00-04:00      0.010           0.0            0.0\n",
              "2012-06-25 00:00:00-04:00      0.045           0.0            0.0\n",
              "2012-09-24 00:00:00-04:00      0.083           0.0            0.0\n",
              "2012-12-24 00:00:00-05:00      0.024           0.0            0.0\n",
              "2013-06-24 00:00:00-04:00      0.068           0.0            0.0\n",
              "2013-09-23 00:00:00-04:00      0.063           0.0            0.0\n",
              "2014-03-24 00:00:00-04:00      0.099           0.0            0.0\n",
              "2014-06-23 00:00:00-04:00      0.059           0.0            0.0\n",
              "2014-09-22 00:00:00-04:00      0.068           0.0            0.0\n",
              "2015-03-23 00:00:00-04:00      0.031           0.0            0.0\n",
              "2015-06-22 00:00:00-04:00      0.067           0.0            0.0\n",
              "2015-09-21 00:00:00-04:00      0.116           0.0            0.0\n",
              "2015-12-21 00:00:00-05:00      0.024           0.0            0.0\n",
              "2016-03-21 00:00:00-04:00      0.010           0.0            0.0\n",
              "2016-06-20 00:00:00-04:00      0.125           0.0            0.0\n",
              "2016-09-26 00:00:00-04:00      0.070           0.0            0.0\n",
              "2016-12-23 00:00:00-05:00      0.006           0.0            0.0\n",
              "2017-03-27 00:00:00-04:00      0.075           0.0            0.0\n",
              "2017-06-26 00:00:00-04:00      0.055           0.0            0.0\n",
              "2017-09-26 00:00:00-04:00      0.080           0.0            0.0\n",
              "2017-12-26 00:00:00-05:00      0.026           0.0            0.0\n",
              "2018-03-20 00:00:00-04:00      0.061           0.0            0.0\n",
              "2018-06-25 00:00:00-04:00      0.085           0.0            0.0\n",
              "2018-09-25 00:00:00-04:00      0.111           0.0            0.0\n",
              "2018-12-24 00:00:00-05:00      0.008           0.0            0.0\n",
              "2018-12-28 00:00:00-05:00      0.028           0.0            0.0\n",
              "2019-03-26 00:00:00-04:00      0.120           0.0            0.0\n",
              "2019-09-24 00:00:00-04:00      0.130           0.0            0.0\n",
              "2019-12-23 00:00:00-05:00      0.041           0.0            0.0\n",
              "2020-03-24 00:00:00-04:00      0.017           0.0            0.0\n",
              "2020-06-23 00:00:00-04:00      0.094           0.0            0.0\n",
              "2020-09-22 00:00:00-04:00      0.035           0.0            0.0\n",
              "2020-12-21 00:00:00-05:00      0.081           0.0            0.0\n",
              "2021-03-25 00:00:00-04:00      0.043           0.0            0.0\n",
              "2021-06-24 00:00:00-04:00      0.085           0.0            0.0\n",
              "2021-09-24 00:00:00-04:00      0.110           0.0            0.0\n",
              "2021-12-27 00:00:00-05:00      0.192           0.0            0.0\n",
              "2022-03-25 00:00:00-04:00      0.115           0.0            0.0\n",
              "2022-06-24 00:00:00-04:00      1.845           0.0            0.0\n",
              "2023-06-26 00:00:00-04:00      0.060           0.0            0.0"
            ]
          },
          "execution_count": 35,
          "metadata": {},
          "output_type": "execute_result"
        }
      ],
      "source": [
        "# get actions, incl. dividends - as a dataFrame\n",
        "epi = yf.Ticker('EPI')\n",
        "epi.get_actions()"
      ]
    },
    {
      "cell_type": "code",
      "execution_count": 36,
      "metadata": {
        "colab": {
          "base_uri": "https://localhost:8080/"
        },
        "id": "KAMZngngZnUX",
        "outputId": "c402b36e-f854-466b-beeb-6adb846510bf"
      },
      "outputs": [
        {
          "data": {
            "text/plain": [
              "Date\n",
              "2008-12-22 00:00:00-05:00    0.091\n",
              "2009-03-23 00:00:00-04:00    0.007\n",
              "2009-06-22 00:00:00-04:00    0.002\n",
              "2009-09-21 00:00:00-04:00    0.045\n",
              "2009-12-21 00:00:00-05:00    0.006\n",
              "2010-06-28 00:00:00-04:00    0.065\n",
              "2010-09-20 00:00:00-04:00    0.065\n",
              "2010-12-22 00:00:00-05:00    0.013\n",
              "2011-06-22 00:00:00-04:00    0.062\n",
              "2011-09-26 00:00:00-04:00    0.098\n",
              "2012-03-26 00:00:00-04:00    0.010\n",
              "2012-06-25 00:00:00-04:00    0.045\n",
              "2012-09-24 00:00:00-04:00    0.083\n",
              "2012-12-24 00:00:00-05:00    0.024\n",
              "2013-06-24 00:00:00-04:00    0.068\n",
              "2013-09-23 00:00:00-04:00    0.063\n",
              "2014-03-24 00:00:00-04:00    0.099\n",
              "2014-06-23 00:00:00-04:00    0.059\n",
              "2014-09-22 00:00:00-04:00    0.068\n",
              "2015-03-23 00:00:00-04:00    0.031\n",
              "2015-06-22 00:00:00-04:00    0.067\n",
              "2015-09-21 00:00:00-04:00    0.116\n",
              "2015-12-21 00:00:00-05:00    0.024\n",
              "2016-03-21 00:00:00-04:00    0.010\n",
              "2016-06-20 00:00:00-04:00    0.125\n",
              "2016-09-26 00:00:00-04:00    0.070\n",
              "2016-12-23 00:00:00-05:00    0.006\n",
              "2017-03-27 00:00:00-04:00    0.075\n",
              "2017-06-26 00:00:00-04:00    0.055\n",
              "2017-09-26 00:00:00-04:00    0.080\n",
              "2017-12-26 00:00:00-05:00    0.026\n",
              "2018-03-20 00:00:00-04:00    0.061\n",
              "2018-06-25 00:00:00-04:00    0.085\n",
              "2018-09-25 00:00:00-04:00    0.111\n",
              "2018-12-24 00:00:00-05:00    0.008\n",
              "2018-12-28 00:00:00-05:00    0.028\n",
              "2019-03-26 00:00:00-04:00    0.120\n",
              "2019-09-24 00:00:00-04:00    0.130\n",
              "2019-12-23 00:00:00-05:00    0.041\n",
              "2020-03-24 00:00:00-04:00    0.017\n",
              "2020-06-23 00:00:00-04:00    0.094\n",
              "2020-09-22 00:00:00-04:00    0.035\n",
              "2020-12-21 00:00:00-05:00    0.081\n",
              "2021-03-25 00:00:00-04:00    0.043\n",
              "2021-06-24 00:00:00-04:00    0.085\n",
              "2021-09-24 00:00:00-04:00    0.110\n",
              "2021-12-27 00:00:00-05:00    0.192\n",
              "2022-03-25 00:00:00-04:00    0.115\n",
              "2022-06-24 00:00:00-04:00    1.845\n",
              "2023-06-26 00:00:00-04:00    0.060\n",
              "Name: Dividends, dtype: float64"
            ]
          },
          "execution_count": 36,
          "metadata": {},
          "output_type": "execute_result"
        }
      ],
      "source": [
        "# get dividends as Series\n",
        "epi.get_dividends()"
      ]
    },
    {
      "cell_type": "markdown",
      "metadata": {
        "id": "69xWHOhsCKZS"
      },
      "source": [
        "## 2.3 Paid data - Poligon.io (news endpoint)"
      ]
    },
    {
      "cell_type": "code",
      "execution_count": 37,
      "metadata": {
        "id": "Vq6Bhb7rCRuv"
      },
      "outputs": [],
      "source": [
        "# Please read the article (section \"Polygon.io News API\"): https://pythoninvest.com/long-read/chatgpt-api-for-financial-news-summarization"
      ]
    },
    {
      "cell_type": "code",
      "execution_count": 38,
      "metadata": {
        "id": "-6SIvXLYCjZI"
      },
      "outputs": [],
      "source": [
        "# Endpoint: https://polygon.io/docs/stocks/get_v2_reference_news"
      ]
    },
    {
      "cell_type": "markdown",
      "metadata": {
        "id": "s1itZwq5C1Dr"
      },
      "source": [
        "## 2.4 Macroeconomics\n",
        "\n",
        "* add some indicator examples"
      ]
    },
    {
      "cell_type": "code",
      "execution_count": null,
      "metadata": {
        "id": "KUDc9jVSC0qI"
      },
      "outputs": [],
      "source": [
        "# Gold reserves excl. gold for China\n",
        "# https://fred.stlouisfed.org/series/TRESEGCNM052N"
      ]
    },
    {
      "cell_type": "code",
      "execution_count": 39,
      "metadata": {
        "id": "-ir4FpbWDSqZ"
      },
      "outputs": [],
      "source": [
        "gold_reserves = pdr.DataReader(\"TRESEGCNM052N\", \"fred\", start=start)"
      ]
    },
    {
      "cell_type": "code",
      "execution_count": 40,
      "metadata": {
        "colab": {
          "base_uri": "https://localhost:8080/",
          "height": 482
        },
        "id": "q11LC1b4DUKm",
        "outputId": "9379a9f9-bf60-490e-eaa1-9fe69e874494"
      },
      "outputs": [
        {
          "data": {
            "text/plain": [
              "<Axes: xlabel='DATE'>"
            ]
          },
          "execution_count": 40,
          "metadata": {},
          "output_type": "execute_result"
        },
        {
          "data": {
            "image/png": "[encoded data removed]",
            "text/plain": [
              "<Figure size 432x288 with 1 Axes>"
            ]
          },
          "metadata": {
            "needs_background": "light"
          },
          "output_type": "display_data"
        }
      ],
      "source": [
        "gold_reserves.TRESEGCNM052N.plot.line()"
      ]
    },
    {
      "cell_type": "code",
      "execution_count": 41,
      "metadata": {
        "id": "2PvNs3y2DXPF"
      },
      "outputs": [],
      "source": [
        "#  CBOE Gold ETF Volatility Index (GVZCLS)\n",
        "# https://fred.stlouisfed.org/series/GVZCLS\n",
        "gold_volatility = pdr.DataReader(\"GVZCLS\", \"fred\", start=start)"
      ]
    },
    {
      "cell_type": "code",
      "execution_count": 42,
      "metadata": {
        "colab": {
          "base_uri": "https://localhost:8080/",
          "height": 466
        },
        "id": "ZFUHgqNcDv7m",
        "outputId": "f117dee6-5c59-40f0-bb3e-f2dfe5f0e84a"
      },
      "outputs": [
        {
          "data": {
            "text/plain": [
              "<Axes: xlabel='DATE'>"
            ]
          },
          "execution_count": 42,
          "metadata": {},
          "output_type": "execute_result"
        },
        {
          "data": {
            "image/png": "[encoded data removed]",
            "text/plain": [
              "<Figure size 432x288 with 1 Axes>"
            ]
          },
          "metadata": {
            "needs_background": "light"
          },
          "output_type": "display_data"
        }
      ],
      "source": [
        "gold_volatility.GVZCLS.plot.line()"
      ]
    },
    {
      "cell_type": "code",
      "execution_count": 43,
      "metadata": {
        "id": "rKxyeitXD021"
      },
      "outputs": [],
      "source": [
        "#  Crude Oil Prices: West Texas Intermediate (WTI) - Cushing, Oklahoma (DCOILWTICO)\n",
        "# https://fred.stlouisfed.org/series/DCOILWTICO\n",
        "oil_wti = pdr.DataReader(\"DCOILWTICO\", \"fred\", start=start)"
      ]
    },
    {
      "cell_type": "code",
      "execution_count": 44,
      "metadata": {
        "colab": {
          "base_uri": "https://localhost:8080/",
          "height": 466
        },
        "id": "e7Z5bldLESZW",
        "outputId": "57623c39-2bd9-4127-8fab-532137a2137e"
      },
      "outputs": [
        {
          "data": {
            "text/plain": [
              "<Axes: xlabel='DATE'>"
            ]
          },
          "execution_count": 44,
          "metadata": {},
          "output_type": "execute_result"
        },
        {
          "data": {
            "image/png": "[encoded data removed]",
            "text/plain": [
              "<Figure size 432x288 with 1 Axes>"
            ]
          },
          "metadata": {
            "needs_background": "light"
          },
          "output_type": "display_data"
        }
      ],
      "source": [
        "# there is a bug in the data? negative price?\n",
        "oil_wti.DCOILWTICO.plot.line()"
      ]
    },
    {
      "cell_type": "code",
      "execution_count": 45,
      "metadata": {
        "id": "F9YCCGWVEV8l"
      },
      "outputs": [],
      "source": [
        "# Crude Oil Prices: Brent - Europe (DCOILBRENTEU)\n",
        "# https://fred.stlouisfed.org/series/DCOILBRENTEU\n",
        "oil_brent = pdr.DataReader(\"DCOILBRENTEU\", \"fred\", start=start)"
      ]
    },
    {
      "cell_type": "code",
      "execution_count": 46,
      "metadata": {
        "colab": {
          "base_uri": "https://localhost:8080/",
          "height": 466
        },
        "id": "kZCN-teVEnhl",
        "outputId": "66e878ea-abbd-49ea-ce2f-0cc5d70254de"
      },
      "outputs": [
        {
          "data": {
            "text/plain": [
              "<Axes: xlabel='DATE'>"
            ]
          },
          "execution_count": 46,
          "metadata": {},
          "output_type": "execute_result"
        },
        {
          "data": {
            "image/png": "[encoded data removed]",
            "text/plain": [
              "<Figure size 432x288 with 1 Axes>"
            ]
          },
          "metadata": {
            "needs_background": "light"
          },
          "output_type": "display_data"
        }
      ],
      "source": [
        "oil_brent.DCOILBRENTEU.plot.line()"
      ]
    },
    {
      "cell_type": "code",
      "execution_count": 47,
      "metadata": {
        "id": "DZxIqgAIFJIU"
      },
      "outputs": [],
      "source": [
        "# Web Scraping for Macro\n",
        "# can't call directly via pd.read_html() as it returns 403 (forbidden) --> need to do a bit of work, but still no Selenium\n",
        "# https://tradingeconomics.com/united-states/indicators\n",
        "import requests\n",
        "from bs4 import BeautifulSoup\n",
        "\n",
        "\n",
        "url = \"https://tradingeconomics.com/united-states/indicators\"\n",
        "headers = {\n",
        "    \"User-Agent\": \"Mozilla/5.0 (Windows NT 10.0; Win64; x64) AppleWebKit/537.36 (KHTML, like Gecko) Chrome/58.0.3029.110 Safari/537.3\"\n",
        "}\n",
        "\n",
        "response = requests.get(url, headers=headers)"
      ]
    },
    {
      "cell_type": "code",
      "execution_count": 48,
      "metadata": {
        "colab": {
          "base_uri": "https://localhost:8080/"
        },
        "id": "OsCyKWcoGUHQ",
        "outputId": "d4bd9426-71ee-4085-a1e5-2425e70953a1"
      },
      "outputs": [
        {
          "name": "stdout",
          "output_type": "stream",
          "text": [
            "                  Unnamed: 0    Last  Previous  Highest    Lowest  \\\n",
            "0                   Currency   106.0     106.0   165.00     70.70   \n",
            "1               Stock Market  5112.0    5123.0  5268.00      4.40   \n",
            "2            GDP Growth Rate     3.4       4.9    34.80    -28.00   \n",
            "3     GDP Annual Growth Rate     3.1       2.9    13.40     -7.50   \n",
            "4          Unemployment Rate     3.8       3.9    14.90      2.50   \n",
            "5          Non Farm Payrolls   303.0     270.0  4615.00 -20477.00   \n",
            "6             Inflation Rate     3.5       3.2    23.70    -15.80   \n",
            "7         Inflation Rate MoM     0.4       0.4     2.00     -1.80   \n",
            "8              Interest Rate     5.5       5.5    20.00      0.25   \n",
            "9           Balance of Trade   -68.9     -67.6     1.95   -103.00   \n",
            "10           Current Account  -195.0    -196.0     9.96   -284.00   \n",
            "11    Current Account to GDP    -3.0      -3.8     0.20     -6.00   \n",
            "12    Government Debt to GDP   129.0     127.0   129.00     31.80   \n",
            "13         Government Budget    -5.8     -12.4     4.50    -15.00   \n",
            "14       Business Confidence    50.3      47.8    77.50     29.40   \n",
            "15         Manufacturing PMI    51.9      52.2    63.40     36.10   \n",
            "16     Non Manufacturing PMI    51.4      52.6    67.60     37.80   \n",
            "17              Services PMI    51.7      52.3    70.40     26.70   \n",
            "18       Consumer Confidence    77.9      79.4   111.00     50.00   \n",
            "19          Retail Sales MoM     0.7       0.9    19.00    -14.60   \n",
            "20          Building Permits  1524.0    1489.0  2419.00    513.00   \n",
            "21        Corporate Tax Rate    21.0      21.0    52.80      1.00   \n",
            "22  Personal Income Tax Rate    37.0      37.0    39.60     35.00   \n",
            "\n",
            "        Unnamed: 5 Unnamed: 6  \n",
            "0              NaN     Apr/24  \n",
            "1           points     Apr/24  \n",
            "2          percent     Dec/23  \n",
            "3          percent     Dec/23  \n",
            "4          percent     Mar/24  \n",
            "5         Thousand     Mar/24  \n",
            "6          percent     Mar/24  \n",
            "7          percent     Mar/24  \n",
            "8          percent     Mar/24  \n",
            "9      USD Billion     Feb/24  \n",
            "10     USD Billion     Dec/23  \n",
            "11  percent of GDP     Dec/23  \n",
            "12  percent of GDP     Dec/22  \n",
            "13  percent of GDP     Dec/22  \n",
            "14          points     Mar/24  \n",
            "15          points     Mar/24  \n",
            "16          points     Mar/24  \n",
            "17          points     Mar/24  \n",
            "18          points     Apr/24  \n",
            "19         percent     Mar/24  \n",
            "20        Thousand     Feb/24  \n",
            "21         percent     Dec/24  \n",
            "22         percent     Dec/23  \n"
          ]
        }
      ],
      "source": [
        "\n",
        "# Check if the request was successful (status code 200)\n",
        "if response.status_code == 200:\n",
        "    # Parse the HTML content of the webpage\n",
        "    soup = BeautifulSoup(response.content, \"html.parser\")\n",
        "\n",
        "    # You need to be able to find this table tag and read all behind it\n",
        "    # Find the div with class \"table-responsive\"\n",
        "    table_div = soup.find(\"div\", class_=\"table-responsive\")\n",
        "\n",
        "    # Extract the table within the div\n",
        "    table = table_div.find(\"table\")\n",
        "\n",
        "    # Use pandas to read the table into a DataFrame\n",
        "    df = pd.read_html(str(table))[0]  # Assuming there's only one table, otherwise, loop through the list\n",
        "\n",
        "    # Display the DataFrame\n",
        "    print(df)\n",
        "else:\n",
        "    print(\"Failed to retrieve data from the webpage.\")"
      ]
    },
    {
      "cell_type": "code",
      "execution_count": 49,
      "metadata": {
        "colab": {
          "base_uri": "https://localhost:8080/",
          "height": 739
        },
        "id": "pINCyA8lFzpp",
        "outputId": "45df9d41-41a6-4049-f15b-26bb6ef222de"
      },
      "outputs": [
        {
          "data": {
            "text/html": [
              "<div>\n",
              "<style scoped>\n",
              "    .dataframe tbody tr th:only-of-type {\n",
              "        vertical-align: middle;\n",
              "    }\n",
              "\n",
              "    .dataframe tbody tr th {\n",
              "        vertical-align: top;\n",
              "    }\n",
              "\n",
              "    .dataframe thead th {\n",
              "        text-align: right;\n",
              "    }\n",
              "</style>\n",
              "<table border=\"1\" class=\"dataframe\">\n",
              "  <thead>\n",
              "    <tr style=\"text-align: right;\">\n",
              "      <th></th>\n",
              "      <th>Unnamed: 0</th>\n",
              "      <th>Last</th>\n",
              "      <th>Previous</th>\n",
              "      <th>Highest</th>\n",
              "      <th>Lowest</th>\n",
              "      <th>Unnamed: 5</th>\n",
              "      <th>Unnamed: 6</th>\n",
              "    </tr>\n",
              "  </thead>\n",
              "  <tbody>\n",
              "    <tr>\n",
              "      <th>0</th>\n",
              "      <td>Currency</td>\n",
              "      <td>106.0</td>\n",
              "      <td>106.0</td>\n",
              "      <td>165.00</td>\n",
              "      <td>70.70</td>\n",
              "      <td>NaN</td>\n",
              "      <td>Apr/24</td>\n",
              "    </tr>\n",
              "    <tr>\n",
              "      <th>1</th>\n",
              "      <td>Stock Market</td>\n",
              "      <td>5112.0</td>\n",
              "      <td>5123.0</td>\n",
              "      <td>5268.00</td>\n",
              "      <td>4.40</td>\n",
              "      <td>points</td>\n",
              "      <td>Apr/24</td>\n",
              "    </tr>\n",
              "    <tr>\n",
              "      <th>2</th>\n",
              "      <td>GDP Growth Rate</td>\n",
              "      <td>3.4</td>\n",
              "      <td>4.9</td>\n",
              "      <td>34.80</td>\n",
              "      <td>-28.00</td>\n",
              "      <td>percent</td>\n",
              "      <td>Dec/23</td>\n",
              "    </tr>\n",
              "    <tr>\n",
              "      <th>3</th>\n",
              "      <td>GDP Annual Growth Rate</td>\n",
              "      <td>3.1</td>\n",
              "      <td>2.9</td>\n",
              "      <td>13.40</td>\n",
              "      <td>-7.50</td>\n",
              "      <td>percent</td>\n",
              "      <td>Dec/23</td>\n",
              "    </tr>\n",
              "    <tr>\n",
              "      <th>4</th>\n",
              "      <td>Unemployment Rate</td>\n",
              "      <td>3.8</td>\n",
              "      <td>3.9</td>\n",
              "      <td>14.90</td>\n",
              "      <td>2.50</td>\n",
              "      <td>percent</td>\n",
              "      <td>Mar/24</td>\n",
              "    </tr>\n",
              "    <tr>\n",
              "      <th>5</th>\n",
              "      <td>Non Farm Payrolls</td>\n",
              "      <td>303.0</td>\n",
              "      <td>270.0</td>\n",
              "      <td>4615.00</td>\n",
              "      <td>-20477.00</td>\n",
              "      <td>Thousand</td>\n",
              "      <td>Mar/24</td>\n",
              "    </tr>\n",
              "    <tr>\n",
              "      <th>6</th>\n",
              "      <td>Inflation Rate</td>\n",
              "      <td>3.5</td>\n",
              "      <td>3.2</td>\n",
              "      <td>23.70</td>\n",
              "      <td>-15.80</td>\n",
              "      <td>percent</td>\n",
              "      <td>Mar/24</td>\n",
              "    </tr>\n",
              "    <tr>\n",
              "      <th>7</th>\n",
              "      <td>Inflation Rate MoM</td>\n",
              "      <td>0.4</td>\n",
              "      <td>0.4</td>\n",
              "      <td>2.00</td>\n",
              "      <td>-1.80</td>\n",
              "      <td>percent</td>\n",
              "      <td>Mar/24</td>\n",
              "    </tr>\n",
              "    <tr>\n",
              "      <th>8</th>\n",
              "      <td>Interest Rate</td>\n",
              "      <td>5.5</td>\n",
              "      <td>5.5</td>\n",
              "      <td>20.00</td>\n",
              "      <td>0.25</td>\n",
              "      <td>percent</td>\n",
              "      <td>Mar/24</td>\n",
              "    </tr>\n",
              "    <tr>\n",
              "      <th>9</th>\n",
              "      <td>Balance of Trade</td>\n",
              "      <td>-68.9</td>\n",
              "      <td>-67.6</td>\n",
              "      <td>1.95</td>\n",
              "      <td>-103.00</td>\n",
              "      <td>USD Billion</td>\n",
              "      <td>Feb/24</td>\n",
              "    </tr>\n",
              "    <tr>\n",
              "      <th>10</th>\n",
              "      <td>Current Account</td>\n",
              "      <td>-195.0</td>\n",
              "      <td>-196.0</td>\n",
              "      <td>9.96</td>\n",
              "      <td>-284.00</td>\n",
              "      <td>USD Billion</td>\n",
              "      <td>Dec/23</td>\n",
              "    </tr>\n",
              "    <tr>\n",
              "      <th>11</th>\n",
              "      <td>Current Account to GDP</td>\n",
              "      <td>-3.0</td>\n",
              "      <td>-3.8</td>\n",
              "      <td>0.20</td>\n",
              "      <td>-6.00</td>\n",
              "      <td>percent of GDP</td>\n",
              "      <td>Dec/23</td>\n",
              "    </tr>\n",
              "    <tr>\n",
              "      <th>12</th>\n",
              "      <td>Government Debt to GDP</td>\n",
              "      <td>129.0</td>\n",
              "      <td>127.0</td>\n",
              "      <td>129.00</td>\n",
              "      <td>31.80</td>\n",
              "      <td>percent of GDP</td>\n",
              "      <td>Dec/22</td>\n",
              "    </tr>\n",
              "    <tr>\n",
              "      <th>13</th>\n",
              "      <td>Government Budget</td>\n",
              "      <td>-5.8</td>\n",
              "      <td>-12.4</td>\n",
              "      <td>4.50</td>\n",
              "      <td>-15.00</td>\n",
              "      <td>percent of GDP</td>\n",
              "      <td>Dec/22</td>\n",
              "    </tr>\n",
              "    <tr>\n",
              "      <th>14</th>\n",
              "      <td>Business Confidence</td>\n",
              "      <td>50.3</td>\n",
              "      <td>47.8</td>\n",
              "      <td>77.50</td>\n",
              "      <td>29.40</td>\n",
              "      <td>points</td>\n",
              "      <td>Mar/24</td>\n",
              "    </tr>\n",
              "    <tr>\n",
              "      <th>15</th>\n",
              "      <td>Manufacturing PMI</td>\n",
              "      <td>51.9</td>\n",
              "      <td>52.2</td>\n",
              "      <td>63.40</td>\n",
              "      <td>36.10</td>\n",
              "      <td>points</td>\n",
              "      <td>Mar/24</td>\n",
              "    </tr>\n",
              "    <tr>\n",
              "      <th>16</th>\n",
              "      <td>Non Manufacturing PMI</td>\n",
              "      <td>51.4</td>\n",
              "      <td>52.6</td>\n",
              "      <td>67.60</td>\n",
              "      <td>37.80</td>\n",
              "      <td>points</td>\n",
              "      <td>Mar/24</td>\n",
              "    </tr>\n",
              "    <tr>\n",
              "      <th>17</th>\n",
              "      <td>Services PMI</td>\n",
              "      <td>51.7</td>\n",
              "      <td>52.3</td>\n",
              "      <td>70.40</td>\n",
              "      <td>26.70</td>\n",
              "      <td>points</td>\n",
              "      <td>Mar/24</td>\n",
              "    </tr>\n",
              "    <tr>\n",
              "      <th>18</th>\n",
              "      <td>Consumer Confidence</td>\n",
              "      <td>77.9</td>\n",
              "      <td>79.4</td>\n",
              "      <td>111.00</td>\n",
              "      <td>50.00</td>\n",
              "      <td>points</td>\n",
              "      <td>Apr/24</td>\n",
              "    </tr>\n",
              "    <tr>\n",
              "      <th>19</th>\n",
              "      <td>Retail Sales MoM</td>\n",
              "      <td>0.7</td>\n",
              "      <td>0.9</td>\n",
              "      <td>19.00</td>\n",
              "      <td>-14.60</td>\n",
              "      <td>percent</td>\n",
              "      <td>Mar/24</td>\n",
              "    </tr>\n",
              "    <tr>\n",
              "      <th>20</th>\n",
              "      <td>Building Permits</td>\n",
              "      <td>1524.0</td>\n",
              "      <td>1489.0</td>\n",
              "      <td>2419.00</td>\n",
              "      <td>513.00</td>\n",
              "      <td>Thousand</td>\n",
              "      <td>Feb/24</td>\n",
              "    </tr>\n",
              "    <tr>\n",
              "      <th>21</th>\n",
              "      <td>Corporate Tax Rate</td>\n",
              "      <td>21.0</td>\n",
              "      <td>21.0</td>\n",
              "      <td>52.80</td>\n",
              "      <td>1.00</td>\n",
              "      <td>percent</td>\n",
              "      <td>Dec/24</td>\n",
              "    </tr>\n",
              "    <tr>\n",
              "      <th>22</th>\n",
              "      <td>Personal Income Tax Rate</td>\n",
              "      <td>37.0</td>\n",
              "      <td>37.0</td>\n",
              "      <td>39.60</td>\n",
              "      <td>35.00</td>\n",
              "      <td>percent</td>\n",
              "      <td>Dec/23</td>\n",
              "    </tr>\n",
              "  </tbody>\n",
              "</table>\n",
              "</div>"
            ],
            "text/plain": [
              "                  Unnamed: 0    Last  Previous  Highest    Lowest  \\\n",
              "0                   Currency   106.0     106.0   165.00     70.70   \n",
              "1               Stock Market  5112.0    5123.0  5268.00      4.40   \n",
              "2            GDP Growth Rate     3.4       4.9    34.80    -28.00   \n",
              "3     GDP Annual Growth Rate     3.1       2.9    13.40     -7.50   \n",
              "4          Unemployment Rate     3.8       3.9    14.90      2.50   \n",
              "5          Non Farm Payrolls   303.0     270.0  4615.00 -20477.00   \n",
              "6             Inflation Rate     3.5       3.2    23.70    -15.80   \n",
              "7         Inflation Rate MoM     0.4       0.4     2.00     -1.80   \n",
              "8              Interest Rate     5.5       5.5    20.00      0.25   \n",
              "9           Balance of Trade   -68.9     -67.6     1.95   -103.00   \n",
              "10           Current Account  -195.0    -196.0     9.96   -284.00   \n",
              "11    Current Account to GDP    -3.0      -3.8     0.20     -6.00   \n",
              "12    Government Debt to GDP   129.0     127.0   129.00     31.80   \n",
              "13         Government Budget    -5.8     -12.4     4.50    -15.00   \n",
              "14       Business Confidence    50.3      47.8    77.50     29.40   \n",
              "15         Manufacturing PMI    51.9      52.2    63.40     36.10   \n",
              "16     Non Manufacturing PMI    51.4      52.6    67.60     37.80   \n",
              "17              Services PMI    51.7      52.3    70.40     26.70   \n",
              "18       Consumer Confidence    77.9      79.4   111.00     50.00   \n",
              "19          Retail Sales MoM     0.7       0.9    19.00    -14.60   \n",
              "20          Building Permits  1524.0    1489.0  2419.00    513.00   \n",
              "21        Corporate Tax Rate    21.0      21.0    52.80      1.00   \n",
              "22  Personal Income Tax Rate    37.0      37.0    39.60     35.00   \n",
              "\n",
              "        Unnamed: 5 Unnamed: 6  \n",
              "0              NaN     Apr/24  \n",
              "1           points     Apr/24  \n",
              "2          percent     Dec/23  \n",
              "3          percent     Dec/23  \n",
              "4          percent     Mar/24  \n",
              "5         Thousand     Mar/24  \n",
              "6          percent     Mar/24  \n",
              "7          percent     Mar/24  \n",
              "8          percent     Mar/24  \n",
              "9      USD Billion     Feb/24  \n",
              "10     USD Billion     Dec/23  \n",
              "11  percent of GDP     Dec/23  \n",
              "12  percent of GDP     Dec/22  \n",
              "13  percent of GDP     Dec/22  \n",
              "14          points     Mar/24  \n",
              "15          points     Mar/24  \n",
              "16          points     Mar/24  \n",
              "17          points     Mar/24  \n",
              "18          points     Apr/24  \n",
              "19         percent     Mar/24  \n",
              "20        Thousand     Feb/24  \n",
              "21         percent     Dec/24  \n",
              "22         percent     Dec/23  "
            ]
          },
          "execution_count": 49,
          "metadata": {},
          "output_type": "execute_result"
        }
      ],
      "source": [
        "df"
      ]
    },
    {
      "cell_type": "markdown",
      "metadata": {
        "id": "MzhsARjfEwR0"
      },
      "source": [
        "## 2.5) Financial reporting - EDGAR (in Yahoo)"
      ]
    },
    {
      "cell_type": "code",
      "execution_count": 50,
      "metadata": {
        "id": "XSTFhgHyEqRF"
      },
      "outputs": [],
      "source": [
        "# let's check for NVDA\n",
        "nvda =  yf.Ticker('NVDA')"
      ]
    },
    {
      "cell_type": "code",
      "execution_count": 51,
      "metadata": {
        "colab": {
          "base_uri": "https://localhost:8080/",
          "height": 1000
        },
        "id": "W9jYAlTAG-7-",
        "outputId": "352cd1e4-50c5-4a1e-d471-3b7043cdd0e5"
      },
      "outputs": [
        {
          "data": {
            "text/html": [
              "<div>\n",
              "<style scoped>\n",
              "    .dataframe tbody tr th:only-of-type {\n",
              "        vertical-align: middle;\n",
              "    }\n",
              "\n",
              "    .dataframe tbody tr th {\n",
              "        vertical-align: top;\n",
              "    }\n",
              "\n",
              "    .dataframe thead th {\n",
              "        text-align: right;\n",
              "    }\n",
              "</style>\n",
              "<table border=\"1\" class=\"dataframe\">\n",
              "  <thead>\n",
              "    <tr style=\"text-align: right;\">\n",
              "      <th></th>\n",
              "      <th>2024-01-31</th>\n",
              "      <th>2023-01-31</th>\n",
              "      <th>2022-01-31</th>\n",
              "      <th>2021-01-31</th>\n",
              "    </tr>\n",
              "  </thead>\n",
              "  <tbody>\n",
              "    <tr>\n",
              "      <th>Tax Effect Of Unusual Items</th>\n",
              "      <td>0.0</td>\n",
              "      <td>-284130000.0</td>\n",
              "      <td>0.0</td>\n",
              "      <td>0.0</td>\n",
              "    </tr>\n",
              "    <tr>\n",
              "      <th>Tax Rate For Calcs</th>\n",
              "      <td>0.12</td>\n",
              "      <td>0.21</td>\n",
              "      <td>0.019</td>\n",
              "      <td>0.017</td>\n",
              "    </tr>\n",
              "    <tr>\n",
              "      <th>Normalized EBITDA</th>\n",
              "      <td>35583000000.0</td>\n",
              "      <td>7340000000.0</td>\n",
              "      <td>11351000000.0</td>\n",
              "      <td>5691000000.0</td>\n",
              "    </tr>\n",
              "    <tr>\n",
              "      <th>Total Unusual Items</th>\n",
              "      <td>0.0</td>\n",
              "      <td>-1353000000.0</td>\n",
              "      <td>0.0</td>\n",
              "      <td>0.0</td>\n",
              "    </tr>\n",
              "    <tr>\n",
              "      <th>Total Unusual Items Excluding Goodwill</th>\n",
              "      <td>0.0</td>\n",
              "      <td>-1353000000.0</td>\n",
              "      <td>0.0</td>\n",
              "      <td>0.0</td>\n",
              "    </tr>\n",
              "    <tr>\n",
              "      <th>Net Income From Continuing Operation Net Minority Interest</th>\n",
              "      <td>29760000000.0</td>\n",
              "      <td>4368000000.0</td>\n",
              "      <td>9752000000.0</td>\n",
              "      <td>4332000000.0</td>\n",
              "    </tr>\n",
              "    <tr>\n",
              "      <th>Reconciled Depreciation</th>\n",
              "      <td>1508000000.0</td>\n",
              "      <td>1544000000.0</td>\n",
              "      <td>1174000000.0</td>\n",
              "      <td>1098000000.0</td>\n",
              "    </tr>\n",
              "    <tr>\n",
              "      <th>Reconciled Cost Of Revenue</th>\n",
              "      <td>16621000000.0</td>\n",
              "      <td>11618000000.0</td>\n",
              "      <td>9439000000.0</td>\n",
              "      <td>6279000000.0</td>\n",
              "    </tr>\n",
              "    <tr>\n",
              "      <th>EBITDA</th>\n",
              "      <td>35583000000.0</td>\n",
              "      <td>5987000000.0</td>\n",
              "      <td>11351000000.0</td>\n",
              "      <td>5691000000.0</td>\n",
              "    </tr>\n",
              "    <tr>\n",
              "      <th>EBIT</th>\n",
              "      <td>34075000000.0</td>\n",
              "      <td>4443000000.0</td>\n",
              "      <td>10177000000.0</td>\n",
              "      <td>4593000000.0</td>\n",
              "    </tr>\n",
              "    <tr>\n",
              "      <th>Net Interest Income</th>\n",
              "      <td>609000000.0</td>\n",
              "      <td>5000000.0</td>\n",
              "      <td>-207000000.0</td>\n",
              "      <td>-127000000.0</td>\n",
              "    </tr>\n",
              "    <tr>\n",
              "      <th>Interest Expense</th>\n",
              "      <td>257000000.0</td>\n",
              "      <td>262000000.0</td>\n",
              "      <td>236000000.0</td>\n",
              "      <td>184000000.0</td>\n",
              "    </tr>\n",
              "    <tr>\n",
              "      <th>Interest Income</th>\n",
              "      <td>866000000.0</td>\n",
              "      <td>267000000.0</td>\n",
              "      <td>29000000.0</td>\n",
              "      <td>57000000.0</td>\n",
              "    </tr>\n",
              "    <tr>\n",
              "      <th>Normalized Income</th>\n",
              "      <td>29760000000.0</td>\n",
              "      <td>5436870000.0</td>\n",
              "      <td>9752000000.0</td>\n",
              "      <td>4332000000.0</td>\n",
              "    </tr>\n",
              "    <tr>\n",
              "      <th>Net Income From Continuing And Discontinued Operation</th>\n",
              "      <td>29760000000.0</td>\n",
              "      <td>4368000000.0</td>\n",
              "      <td>9752000000.0</td>\n",
              "      <td>4332000000.0</td>\n",
              "    </tr>\n",
              "    <tr>\n",
              "      <th>Total Expenses</th>\n",
              "      <td>27950000000.0</td>\n",
              "      <td>21397000000.0</td>\n",
              "      <td>16873000000.0</td>\n",
              "      <td>12143000000.0</td>\n",
              "    </tr>\n",
              "    <tr>\n",
              "      <th>Total Operating Income As Reported</th>\n",
              "      <td>32972000000.0</td>\n",
              "      <td>4224000000.0</td>\n",
              "      <td>10041000000.0</td>\n",
              "      <td>4532000000.0</td>\n",
              "    </tr>\n",
              "    <tr>\n",
              "      <th>Diluted Average Shares</th>\n",
              "      <td>2494000000.0</td>\n",
              "      <td>2507000000.0</td>\n",
              "      <td>2535000000.0</td>\n",
              "      <td>2512000000.0</td>\n",
              "    </tr>\n",
              "    <tr>\n",
              "      <th>Basic Average Shares</th>\n",
              "      <td>2469000000.0</td>\n",
              "      <td>2487000000.0</td>\n",
              "      <td>2496000000.0</td>\n",
              "      <td>2468000000.0</td>\n",
              "    </tr>\n",
              "    <tr>\n",
              "      <th>Diluted EPS</th>\n",
              "      <td>11.93</td>\n",
              "      <td>1.74</td>\n",
              "      <td>3.85</td>\n",
              "      <td>1.725</td>\n",
              "    </tr>\n",
              "    <tr>\n",
              "      <th>Basic EPS</th>\n",
              "      <td>12.05</td>\n",
              "      <td>1.76</td>\n",
              "      <td>3.91</td>\n",
              "      <td>1.755</td>\n",
              "    </tr>\n",
              "    <tr>\n",
              "      <th>Diluted NI Availto Com Stockholders</th>\n",
              "      <td>29760000000.0</td>\n",
              "      <td>4368000000.0</td>\n",
              "      <td>9752000000.0</td>\n",
              "      <td>4332000000.0</td>\n",
              "    </tr>\n",
              "    <tr>\n",
              "      <th>Net Income Common Stockholders</th>\n",
              "      <td>29760000000.0</td>\n",
              "      <td>4368000000.0</td>\n",
              "      <td>9752000000.0</td>\n",
              "      <td>4332000000.0</td>\n",
              "    </tr>\n",
              "    <tr>\n",
              "      <th>Net Income</th>\n",
              "      <td>29760000000.0</td>\n",
              "      <td>4368000000.0</td>\n",
              "      <td>9752000000.0</td>\n",
              "      <td>4332000000.0</td>\n",
              "    </tr>\n",
              "    <tr>\n",
              "      <th>Net Income Including Noncontrolling Interests</th>\n",
              "      <td>29760000000.0</td>\n",
              "      <td>4368000000.0</td>\n",
              "      <td>9752000000.0</td>\n",
              "      <td>4332000000.0</td>\n",
              "    </tr>\n",
              "    <tr>\n",
              "      <th>Net Income Continuous Operations</th>\n",
              "      <td>29760000000.0</td>\n",
              "      <td>4368000000.0</td>\n",
              "      <td>9752000000.0</td>\n",
              "      <td>4332000000.0</td>\n",
              "    </tr>\n",
              "    <tr>\n",
              "      <th>Tax Provision</th>\n",
              "      <td>4058000000.0</td>\n",
              "      <td>-187000000.0</td>\n",
              "      <td>189000000.0</td>\n",
              "      <td>77000000.0</td>\n",
              "    </tr>\n",
              "    <tr>\n",
              "      <th>Pretax Income</th>\n",
              "      <td>33818000000.0</td>\n",
              "      <td>4181000000.0</td>\n",
              "      <td>9941000000.0</td>\n",
              "      <td>4409000000.0</td>\n",
              "    </tr>\n",
              "    <tr>\n",
              "      <th>Other Income Expense</th>\n",
              "      <td>237000000.0</td>\n",
              "      <td>-1401000000.0</td>\n",
              "      <td>107000000.0</td>\n",
              "      <td>4000000.0</td>\n",
              "    </tr>\n",
              "    <tr>\n",
              "      <th>Other Non Operating Income Expenses</th>\n",
              "      <td>237000000.0</td>\n",
              "      <td>-48000000.0</td>\n",
              "      <td>107000000.0</td>\n",
              "      <td>4000000.0</td>\n",
              "    </tr>\n",
              "    <tr>\n",
              "      <th>Special Income Charges</th>\n",
              "      <td>0.0</td>\n",
              "      <td>-1353000000.0</td>\n",
              "      <td>0.0</td>\n",
              "      <td>0.0</td>\n",
              "    </tr>\n",
              "    <tr>\n",
              "      <th>Restructuring And Mergern Acquisition</th>\n",
              "      <td>0.0</td>\n",
              "      <td>1353000000.0</td>\n",
              "      <td>0.0</td>\n",
              "      <td>0.0</td>\n",
              "    </tr>\n",
              "    <tr>\n",
              "      <th>Net Non Operating Interest Income Expense</th>\n",
              "      <td>609000000.0</td>\n",
              "      <td>5000000.0</td>\n",
              "      <td>-207000000.0</td>\n",
              "      <td>-127000000.0</td>\n",
              "    </tr>\n",
              "    <tr>\n",
              "      <th>Interest Expense Non Operating</th>\n",
              "      <td>257000000.0</td>\n",
              "      <td>262000000.0</td>\n",
              "      <td>236000000.0</td>\n",
              "      <td>184000000.0</td>\n",
              "    </tr>\n",
              "    <tr>\n",
              "      <th>Interest Income Non Operating</th>\n",
              "      <td>866000000.0</td>\n",
              "      <td>267000000.0</td>\n",
              "      <td>29000000.0</td>\n",
              "      <td>57000000.0</td>\n",
              "    </tr>\n",
              "    <tr>\n",
              "      <th>Operating Income</th>\n",
              "      <td>32972000000.0</td>\n",
              "      <td>5577000000.0</td>\n",
              "      <td>10041000000.0</td>\n",
              "      <td>4532000000.0</td>\n",
              "    </tr>\n",
              "    <tr>\n",
              "      <th>Operating Expense</th>\n",
              "      <td>11329000000.0</td>\n",
              "      <td>9779000000.0</td>\n",
              "      <td>7434000000.0</td>\n",
              "      <td>5864000000.0</td>\n",
              "    </tr>\n",
              "    <tr>\n",
              "      <th>Research And Development</th>\n",
              "      <td>8675000000.0</td>\n",
              "      <td>7339000000.0</td>\n",
              "      <td>5268000000.0</td>\n",
              "      <td>3924000000.0</td>\n",
              "    </tr>\n",
              "    <tr>\n",
              "      <th>Selling General And Administration</th>\n",
              "      <td>2654000000.0</td>\n",
              "      <td>2440000000.0</td>\n",
              "      <td>2166000000.0</td>\n",
              "      <td>1940000000.0</td>\n",
              "    </tr>\n",
              "    <tr>\n",
              "      <th>Gross Profit</th>\n",
              "      <td>44301000000.0</td>\n",
              "      <td>15356000000.0</td>\n",
              "      <td>17475000000.0</td>\n",
              "      <td>10396000000.0</td>\n",
              "    </tr>\n",
              "    <tr>\n",
              "      <th>Cost Of Revenue</th>\n",
              "      <td>16621000000.0</td>\n",
              "      <td>11618000000.0</td>\n",
              "      <td>9439000000.0</td>\n",
              "      <td>6279000000.0</td>\n",
              "    </tr>\n",
              "    <tr>\n",
              "      <th>Total Revenue</th>\n",
              "      <td>60922000000.0</td>\n",
              "      <td>26974000000.0</td>\n",
              "      <td>26914000000.0</td>\n",
              "      <td>16675000000.0</td>\n",
              "    </tr>\n",
              "    <tr>\n",
              "      <th>Operating Revenue</th>\n",
              "      <td>60922000000.0</td>\n",
              "      <td>26974000000.0</td>\n",
              "      <td>26914000000.0</td>\n",
              "      <td>16675000000.0</td>\n",
              "    </tr>\n",
              "  </tbody>\n",
              "</table>\n",
              "</div>"
            ],
            "text/plain": [
              "                                                       2024-01-31  \\\n",
              "Tax Effect Of Unusual Items                                   0.0   \n",
              "Tax Rate For Calcs                                           0.12   \n",
              "Normalized EBITDA                                   35583000000.0   \n",
              "Total Unusual Items                                           0.0   \n",
              "Total Unusual Items Excluding Goodwill                        0.0   \n",
              "Net Income From Continuing Operation Net Minori...  29760000000.0   \n",
              "Reconciled Depreciation                              1508000000.0   \n",
              "Reconciled Cost Of Revenue                          16621000000.0   \n",
              "EBITDA                                              35583000000.0   \n",
              "EBIT                                                34075000000.0   \n",
              "Net Interest Income                                   609000000.0   \n",
              "Interest Expense                                      257000000.0   \n",
              "Interest Income                                       866000000.0   \n",
              "Normalized Income                                   29760000000.0   \n",
              "Net Income From Continuing And Discontinued Ope...  29760000000.0   \n",
              "Total Expenses                                      27950000000.0   \n",
              "Total Operating Income As Reported                  32972000000.0   \n",
              "Diluted Average Shares                               2494000000.0   \n",
              "Basic Average Shares                                 2469000000.0   \n",
              "Diluted EPS                                                 11.93   \n",
              "Basic EPS                                                   12.05   \n",
              "Diluted NI Availto Com Stockholders                 29760000000.0   \n",
              "Net Income Common Stockholders                      29760000000.0   \n",
              "Net Income                                          29760000000.0   \n",
              "Net Income Including Noncontrolling Interests       29760000000.0   \n",
              "Net Income Continuous Operations                    29760000000.0   \n",
              "Tax Provision                                        4058000000.0   \n",
              "Pretax Income                                       33818000000.0   \n",
              "Other Income Expense                                  237000000.0   \n",
              "Other Non Operating Income Expenses                   237000000.0   \n",
              "Special Income Charges                                        0.0   \n",
              "Restructuring And Mergern Acquisition                         0.0   \n",
              "Net Non Operating Interest Income Expense             609000000.0   \n",
              "Interest Expense Non Operating                        257000000.0   \n",
              "Interest Income Non Operating                         866000000.0   \n",
              "Operating Income                                    32972000000.0   \n",
              "Operating Expense                                   11329000000.0   \n",
              "Research And Development                             8675000000.0   \n",
              "Selling General And Administration                   2654000000.0   \n",
              "Gross Profit                                        44301000000.0   \n",
              "Cost Of Revenue                                     16621000000.0   \n",
              "Total Revenue                                       60922000000.0   \n",
              "Operating Revenue                                   60922000000.0   \n",
              "\n",
              "                                                       2023-01-31  \\\n",
              "Tax Effect Of Unusual Items                          -284130000.0   \n",
              "Tax Rate For Calcs                                           0.21   \n",
              "Normalized EBITDA                                    7340000000.0   \n",
              "Total Unusual Items                                 -1353000000.0   \n",
              "Total Unusual Items Excluding Goodwill              -1353000000.0   \n",
              "Net Income From Continuing Operation Net Minori...   4368000000.0   \n",
              "Reconciled Depreciation                              1544000000.0   \n",
              "Reconciled Cost Of Revenue                          11618000000.0   \n",
              "EBITDA                                               5987000000.0   \n",
              "EBIT                                                 4443000000.0   \n",
              "Net Interest Income                                     5000000.0   \n",
              "Interest Expense                                      262000000.0   \n",
              "Interest Income                                       267000000.0   \n",
              "Normalized Income                                    5436870000.0   \n",
              "Net Income From Continuing And Discontinued Ope...   4368000000.0   \n",
              "Total Expenses                                      21397000000.0   \n",
              "Total Operating Income As Reported                   4224000000.0   \n",
              "Diluted Average Shares                               2507000000.0   \n",
              "Basic Average Shares                                 2487000000.0   \n",
              "Diluted EPS                                                  1.74   \n",
              "Basic EPS                                                    1.76   \n",
              "Diluted NI Availto Com Stockholders                  4368000000.0   \n",
              "Net Income Common Stockholders                       4368000000.0   \n",
              "Net Income                                           4368000000.0   \n",
              "Net Income Including Noncontrolling Interests        4368000000.0   \n",
              "Net Income Continuous Operations                     4368000000.0   \n",
              "Tax Provision                                        -187000000.0   \n",
              "Pretax Income                                        4181000000.0   \n",
              "Other Income Expense                                -1401000000.0   \n",
              "Other Non Operating Income Expenses                   -48000000.0   \n",
              "Special Income Charges                              -1353000000.0   \n",
              "Restructuring And Mergern Acquisition                1353000000.0   \n",
              "Net Non Operating Interest Income Expense               5000000.0   \n",
              "Interest Expense Non Operating                        262000000.0   \n",
              "Interest Income Non Operating                         267000000.0   \n",
              "Operating Income                                     5577000000.0   \n",
              "Operating Expense                                    9779000000.0   \n",
              "Research And Development                             7339000000.0   \n",
              "Selling General And Administration                   2440000000.0   \n",
              "Gross Profit                                        15356000000.0   \n",
              "Cost Of Revenue                                     11618000000.0   \n",
              "Total Revenue                                       26974000000.0   \n",
              "Operating Revenue                                   26974000000.0   \n",
              "\n",
              "                                                       2022-01-31  \\\n",
              "Tax Effect Of Unusual Items                                   0.0   \n",
              "Tax Rate For Calcs                                          0.019   \n",
              "Normalized EBITDA                                   11351000000.0   \n",
              "Total Unusual Items                                           0.0   \n",
              "Total Unusual Items Excluding Goodwill                        0.0   \n",
              "Net Income From Continuing Operation Net Minori...   9752000000.0   \n",
              "Reconciled Depreciation                              1174000000.0   \n",
              "Reconciled Cost Of Revenue                           9439000000.0   \n",
              "EBITDA                                              11351000000.0   \n",
              "EBIT                                                10177000000.0   \n",
              "Net Interest Income                                  -207000000.0   \n",
              "Interest Expense                                      236000000.0   \n",
              "Interest Income                                        29000000.0   \n",
              "Normalized Income                                    9752000000.0   \n",
              "Net Income From Continuing And Discontinued Ope...   9752000000.0   \n",
              "Total Expenses                                      16873000000.0   \n",
              "Total Operating Income As Reported                  10041000000.0   \n",
              "Diluted Average Shares                               2535000000.0   \n",
              "Basic Average Shares                                 2496000000.0   \n",
              "Diluted EPS                                                  3.85   \n",
              "Basic EPS                                                    3.91   \n",
              "Diluted NI Availto Com Stockholders                  9752000000.0   \n",
              "Net Income Common Stockholders                       9752000000.0   \n",
              "Net Income                                           9752000000.0   \n",
              "Net Income Including Noncontrolling Interests        9752000000.0   \n",
              "Net Income Continuous Operations                     9752000000.0   \n",
              "Tax Provision                                         189000000.0   \n",
              "Pretax Income                                        9941000000.0   \n",
              "Other Income Expense                                  107000000.0   \n",
              "Other Non Operating Income Expenses                   107000000.0   \n",
              "Special Income Charges                                        0.0   \n",
              "Restructuring And Mergern Acquisition                         0.0   \n",
              "Net Non Operating Interest Income Expense            -207000000.0   \n",
              "Interest Expense Non Operating                        236000000.0   \n",
              "Interest Income Non Operating                          29000000.0   \n",
              "Operating Income                                    10041000000.0   \n",
              "Operating Expense                                    7434000000.0   \n",
              "Research And Development                             5268000000.0   \n",
              "Selling General And Administration                   2166000000.0   \n",
              "Gross Profit                                        17475000000.0   \n",
              "Cost Of Revenue                                      9439000000.0   \n",
              "Total Revenue                                       26914000000.0   \n",
              "Operating Revenue                                   26914000000.0   \n",
              "\n",
              "                                                       2021-01-31  \n",
              "Tax Effect Of Unusual Items                                   0.0  \n",
              "Tax Rate For Calcs                                          0.017  \n",
              "Normalized EBITDA                                    5691000000.0  \n",
              "Total Unusual Items                                           0.0  \n",
              "Total Unusual Items Excluding Goodwill                        0.0  \n",
              "Net Income From Continuing Operation Net Minori...   4332000000.0  \n",
              "Reconciled Depreciation                              1098000000.0  \n",
              "Reconciled Cost Of Revenue                           6279000000.0  \n",
              "EBITDA                                               5691000000.0  \n",
              "EBIT                                                 4593000000.0  \n",
              "Net Interest Income                                  -127000000.0  \n",
              "Interest Expense                                      184000000.0  \n",
              "Interest Income                                        57000000.0  \n",
              "Normalized Income                                    4332000000.0  \n",
              "Net Income From Continuing And Discontinued Ope...   4332000000.0  \n",
              "Total Expenses                                      12143000000.0  \n",
              "Total Operating Income As Reported                   4532000000.0  \n",
              "Diluted Average Shares                               2512000000.0  \n",
              "Basic Average Shares                                 2468000000.0  \n",
              "Diluted EPS                                                 1.725  \n",
              "Basic EPS                                                   1.755  \n",
              "Diluted NI Availto Com Stockholders                  4332000000.0  \n",
              "Net Income Common Stockholders                       4332000000.0  \n",
              "Net Income                                           4332000000.0  \n",
              "Net Income Including Noncontrolling Interests        4332000000.0  \n",
              "Net Income Continuous Operations                     4332000000.0  \n",
              "Tax Provision                                          77000000.0  \n",
              "Pretax Income                                        4409000000.0  \n",
              "Other Income Expense                                    4000000.0  \n",
              "Other Non Operating Income Expenses                     4000000.0  \n",
              "Special Income Charges                                        0.0  \n",
              "Restructuring And Mergern Acquisition                         0.0  \n",
              "Net Non Operating Interest Income Expense            -127000000.0  \n",
              "Interest Expense Non Operating                        184000000.0  \n",
              "Interest Income Non Operating                          57000000.0  \n",
              "Operating Income                                     4532000000.0  \n",
              "Operating Expense                                    5864000000.0  \n",
              "Research And Development                             3924000000.0  \n",
              "Selling General And Administration                   1940000000.0  \n",
              "Gross Profit                                        10396000000.0  \n",
              "Cost Of Revenue                                      6279000000.0  \n",
              "Total Revenue                                       16675000000.0  \n",
              "Operating Revenue                                   16675000000.0  "
            ]
          },
          "execution_count": 51,
          "metadata": {},
          "output_type": "execute_result"
        }
      ],
      "source": [
        "# yearly financials for the last 4 years\n",
        "nvda.financials\n"
      ]
    },
    {
      "cell_type": "code",
      "execution_count": 52,
      "metadata": {
        "colab": {
          "base_uri": "https://localhost:8080/",
          "height": 424
        },
        "id": "EPBrjZvIHUfY",
        "outputId": "df47ecb8-68b7-424c-baf5-35844a8eccd7"
      },
      "outputs": [
        {
          "data": {
            "text/html": [
              "<div>\n",
              "<style scoped>\n",
              "    .dataframe tbody tr th:only-of-type {\n",
              "        vertical-align: middle;\n",
              "    }\n",
              "\n",
              "    .dataframe tbody tr th {\n",
              "        vertical-align: top;\n",
              "    }\n",
              "\n",
              "    .dataframe thead th {\n",
              "        text-align: right;\n",
              "    }\n",
              "</style>\n",
              "<table border=\"1\" class=\"dataframe\">\n",
              "  <thead>\n",
              "    <tr style=\"text-align: right;\">\n",
              "      <th></th>\n",
              "      <th>2024-01-31</th>\n",
              "      <th>2023-01-31</th>\n",
              "      <th>2022-01-31</th>\n",
              "      <th>2021-01-31</th>\n",
              "    </tr>\n",
              "  </thead>\n",
              "  <tbody>\n",
              "    <tr>\n",
              "      <th>Treasury Shares Number</th>\n",
              "      <td>NaN</td>\n",
              "      <td>NaN</td>\n",
              "      <td>NaN</td>\n",
              "      <td>1380000000.0</td>\n",
              "    </tr>\n",
              "    <tr>\n",
              "      <th>Ordinary Shares Number</th>\n",
              "      <td>2464000000.0</td>\n",
              "      <td>2466136572.0</td>\n",
              "      <td>2506000000.0</td>\n",
              "      <td>2480000000.0</td>\n",
              "    </tr>\n",
              "    <tr>\n",
              "      <th>Share Issued</th>\n",
              "      <td>2464000000.0</td>\n",
              "      <td>2466136572.0</td>\n",
              "      <td>2506000000.0</td>\n",
              "      <td>3860000000.0</td>\n",
              "    </tr>\n",
              "    <tr>\n",
              "      <th>Net Debt</th>\n",
              "      <td>2429000000.0</td>\n",
              "      <td>7564000000.0</td>\n",
              "      <td>8956000000.0</td>\n",
              "      <td>6116000000.0</td>\n",
              "    </tr>\n",
              "    <tr>\n",
              "      <th>Total Debt</th>\n",
              "      <td>11056000000.0</td>\n",
              "      <td>12031000000.0</td>\n",
              "      <td>11831000000.0</td>\n",
              "      <td>7597000000.0</td>\n",
              "    </tr>\n",
              "    <tr>\n",
              "      <th>...</th>\n",
              "      <td>...</td>\n",
              "      <td>...</td>\n",
              "      <td>...</td>\n",
              "      <td>...</td>\n",
              "    </tr>\n",
              "    <tr>\n",
              "      <th>Allowance For Doubtful Accounts Receivable</th>\n",
              "      <td>NaN</td>\n",
              "      <td>NaN</td>\n",
              "      <td>NaN</td>\n",
              "      <td>-21000000.0</td>\n",
              "    </tr>\n",
              "    <tr>\n",
              "      <th>Gross Accounts Receivable</th>\n",
              "      <td>NaN</td>\n",
              "      <td>NaN</td>\n",
              "      <td>NaN</td>\n",
              "      <td>2450000000.0</td>\n",
              "    </tr>\n",
              "    <tr>\n",
              "      <th>Cash Cash Equivalents And Short Term Investments</th>\n",
              "      <td>25984000000.0</td>\n",
              "      <td>13296000000.0</td>\n",
              "      <td>21208000000.0</td>\n",
              "      <td>11561000000.0</td>\n",
              "    </tr>\n",
              "    <tr>\n",
              "      <th>Other Short Term Investments</th>\n",
              "      <td>18704000000.0</td>\n",
              "      <td>9907000000.0</td>\n",
              "      <td>19218000000.0</td>\n",
              "      <td>10714000000.0</td>\n",
              "    </tr>\n",
              "    <tr>\n",
              "      <th>Cash And Cash Equivalents</th>\n",
              "      <td>7280000000.0</td>\n",
              "      <td>3389000000.0</td>\n",
              "      <td>1990000000.0</td>\n",
              "      <td>847000000.0</td>\n",
              "    </tr>\n",
              "  </tbody>\n",
              "</table>\n",
              "<p>83 rows × 4 columns</p>\n",
              "</div>"
            ],
            "text/plain": [
              "                                                     2024-01-31  \\\n",
              "Treasury Shares Number                                      NaN   \n",
              "Ordinary Shares Number                             2464000000.0   \n",
              "Share Issued                                       2464000000.0   \n",
              "Net Debt                                           2429000000.0   \n",
              "Total Debt                                        11056000000.0   \n",
              "...                                                         ...   \n",
              "Allowance For Doubtful Accounts Receivable                  NaN   \n",
              "Gross Accounts Receivable                                   NaN   \n",
              "Cash Cash Equivalents And Short Term Investments  25984000000.0   \n",
              "Other Short Term Investments                      18704000000.0   \n",
              "Cash And Cash Equivalents                          7280000000.0   \n",
              "\n",
              "                                                     2023-01-31  \\\n",
              "Treasury Shares Number                                      NaN   \n",
              "Ordinary Shares Number                             2466136572.0   \n",
              "Share Issued                                       2466136572.0   \n",
              "Net Debt                                           7564000000.0   \n",
              "Total Debt                                        12031000000.0   \n",
              "...                                                         ...   \n",
              "Allowance For Doubtful Accounts Receivable                  NaN   \n",
              "Gross Accounts Receivable                                   NaN   \n",
              "Cash Cash Equivalents And Short Term Investments  13296000000.0   \n",
              "Other Short Term Investments                       9907000000.0   \n",
              "Cash And Cash Equivalents                          3389000000.0   \n",
              "\n",
              "                                                     2022-01-31     2021-01-31  \n",
              "Treasury Shares Number                                      NaN   1380000000.0  \n",
              "Ordinary Shares Number                             2506000000.0   2480000000.0  \n",
              "Share Issued                                       2506000000.0   3860000000.0  \n",
              "Net Debt                                           8956000000.0   6116000000.0  \n",
              "Total Debt                                        11831000000.0   7597000000.0  \n",
              "...                                                         ...            ...  \n",
              "Allowance For Doubtful Accounts Receivable                  NaN    -21000000.0  \n",
              "Gross Accounts Receivable                                   NaN   2450000000.0  \n",
              "Cash Cash Equivalents And Short Term Investments  21208000000.0  11561000000.0  \n",
              "Other Short Term Investments                      19218000000.0  10714000000.0  \n",
              "Cash And Cash Equivalents                          1990000000.0    847000000.0  \n",
              "\n",
              "[83 rows x 4 columns]"
            ]
          },
          "execution_count": 52,
          "metadata": {},
          "output_type": "execute_result"
        }
      ],
      "source": [
        "# balance sheet\n",
        "nvda.balance_sheet"
      ]
    },
    {
      "cell_type": "code",
      "execution_count": 53,
      "metadata": {
        "colab": {
          "base_uri": "https://localhost:8080/"
        },
        "id": "zdYy2ajCHfQQ",
        "outputId": "32b0f540-9c3b-46bc-f686-f54f781bb91a"
      },
      "outputs": [
        {
          "data": {
            "text/plain": [
              "lazy-loading dict with keys = ['currency', 'dayHigh', 'dayLow', 'exchange', 'fiftyDayAverage', 'lastPrice', 'lastVolume', 'marketCap', 'open', 'previousClose', 'quoteType', 'regularMarketPreviousClose', 'shares', 'tenDayAverageVolume', 'threeMonthAverageVolume', 'timezone', 'twoHundredDayAverage', 'yearChange', 'yearHigh', 'yearLow']"
            ]
          },
          "execution_count": 53,
          "metadata": {},
          "output_type": "execute_result"
        }
      ],
      "source": [
        "# Basic info:\n",
        "nvda.basic_info"
      ]
    },
    {
      "cell_type": "code",
      "execution_count": 54,
      "metadata": {
        "colab": {
          "base_uri": "https://localhost:8080/"
        },
        "id": "3vL9cir1IbNz",
        "outputId": "85956743-0b32-4ec9-afda-70298f70b426"
      },
      "outputs": [
        {
          "data": {
            "text/plain": [
              "2197.2125244140625"
            ]
          },
          "execution_count": 54,
          "metadata": {},
          "output_type": "execute_result"
        }
      ],
      "source": [
        "# marketCap is quite useful, but don't know when it was updated? Daily?\n",
        "nvda.basic_info['marketCap']/1e9"
      ]
    },
    {
      "cell_type": "code",
      "execution_count": null,
      "metadata": {
        "id": "WMoKubVsFCLn"
      },
      "outputs": [],
      "source": [
        "# read this article for full info: https://zoo.cs.yale.edu/classes/cs458/lectures/yfinance.html"
      ]
    },
    {
      "cell_type": "markdown",
      "metadata": {
        "id": "hjKJEvgdH6yc"
      },
      "source": [
        "## 2.6 Web Scraping - company info for clustering"
      ]
    },
    {
      "cell_type": "code",
      "execution_count": 55,
      "metadata": {
        "colab": {
          "base_uri": "https://localhost:8080/"
        },
        "id": "RqW1seQAJ1s3",
        "outputId": "b959cb7c-64f4-4ea6-c016-8f57755b9406"
      },
      "outputs": [
        {
          "name": "stdout",
          "output_type": "stream",
          "text": [
            "CSV file downloaded successfully.\n"
          ]
        }
      ],
      "source": [
        "# ask chatGPT: emulate clicking the link and downloading the content\n",
        "import requests\n",
        "from bs4 import BeautifulSoup\n",
        "\n",
        "# URL of the webpage\n",
        "url = \"https://companiesmarketcap.com/\"\n",
        "\n",
        "# Define headers with a user-agent to mimic a web browser\n",
        "headers = {\n",
        "    \"User-Agent\": \"Mozilla/5.0 (Windows NT 10.0; Win64; x64) AppleWebKit/537.36 (KHTML, like Gecko) Chrome/58.0.3029.110 Safari/537.3\"\n",
        "}\n",
        "\n",
        "# Send a GET request to the URL with headers\n",
        "response = requests.get(url, headers=headers)\n",
        "\n",
        "# Check if the request was successful (status code 200)\n",
        "if response.status_code == 200:\n",
        "    # Parse the HTML content of the webpage\n",
        "    soup = BeautifulSoup(response.content, \"html.parser\")\n",
        "\n",
        "    # Find the download link within the webpage\n",
        "    download_link = soup.find(\"a\", {\"rel\": \"nofollow\", \"href\": \"?download=csv\"})\n",
        "\n",
        "    # If the download link is found\n",
        "    if download_link:\n",
        "        # Extract the href attribute which contains the actual download link\n",
        "        download_url = 'https://companiesmarketcap.com/'+download_link[\"href\"]\n",
        "\n",
        "        # Download the CSV file using the obtained download URL\n",
        "        download_response = requests.get(download_url, headers=headers)\n",
        "\n",
        "        # Check if the download request was successful\n",
        "        if download_response.status_code == 200:\n",
        "            # Save the content of the response to a local file\n",
        "            with open(\"global_stocks.csv\", \"wb\") as f:\n",
        "                f.write(download_response.content)\n",
        "            print(\"CSV file downloaded successfully.\")\n",
        "        else:\n",
        "            print(\"Failed to download the CSV file.\")\n",
        "    else:\n",
        "        print(\"Download link not found on the webpage.\")\n",
        "else:\n",
        "    print(\"Failed to retrieve data from the webpage.\")"
      ]
    },
    {
      "cell_type": "code",
      "execution_count": 57,
      "metadata": {
        "id": "3mYAOfq1KOkp"
      },
      "outputs": [],
      "source": [
        "global_stocks = pd.read_csv(\"global_stocks.csv\")"
      ]
    },
    {
      "cell_type": "code",
      "execution_count": 58,
      "metadata": {
        "colab": {
          "base_uri": "https://localhost:8080/",
          "height": 206
        },
        "id": "xGeiBQbpKlo5",
        "outputId": "63f95f97-caf9-452c-e4cb-6d600a336399"
      },
      "outputs": [
        {
          "data": {
            "text/html": [
              "<div>\n",
              "<style scoped>\n",
              "    .dataframe tbody tr th:only-of-type {\n",
              "        vertical-align: middle;\n",
              "    }\n",
              "\n",
              "    .dataframe tbody tr th {\n",
              "        vertical-align: top;\n",
              "    }\n",
              "\n",
              "    .dataframe thead th {\n",
              "        text-align: right;\n",
              "    }\n",
              "</style>\n",
              "<table border=\"1\" class=\"dataframe\">\n",
              "  <thead>\n",
              "    <tr style=\"text-align: right;\">\n",
              "      <th></th>\n",
              "      <th>Rank</th>\n",
              "      <th>Name</th>\n",
              "      <th>Symbol</th>\n",
              "      <th>marketcap</th>\n",
              "      <th>price (USD)</th>\n",
              "      <th>country</th>\n",
              "    </tr>\n",
              "  </thead>\n",
              "  <tbody>\n",
              "    <tr>\n",
              "      <th>0</th>\n",
              "      <td>1</td>\n",
              "      <td>Mabanee Company</td>\n",
              "      <td>MABANEE.KW</td>\n",
              "      <td>3602584608603</td>\n",
              "      <td>2527.62</td>\n",
              "      <td>Kuwait</td>\n",
              "    </tr>\n",
              "    <tr>\n",
              "      <th>1</th>\n",
              "      <td>2</td>\n",
              "      <td>Gulf Bank</td>\n",
              "      <td>GBK.KW</td>\n",
              "      <td>3236747667212</td>\n",
              "      <td>847.95</td>\n",
              "      <td>Kuwait</td>\n",
              "    </tr>\n",
              "    <tr>\n",
              "      <th>2</th>\n",
              "      <td>3</td>\n",
              "      <td>Microsoft</td>\n",
              "      <td>MSFT</td>\n",
              "      <td>3120784736256</td>\n",
              "      <td>420.00</td>\n",
              "      <td>United States</td>\n",
              "    </tr>\n",
              "    <tr>\n",
              "      <th>3</th>\n",
              "      <td>4</td>\n",
              "      <td>Commercial Bank of Kuwait</td>\n",
              "      <td>CBK.KW</td>\n",
              "      <td>3023149916985</td>\n",
              "      <td>1686.16</td>\n",
              "      <td>Kuwait</td>\n",
              "    </tr>\n",
              "    <tr>\n",
              "      <th>4</th>\n",
              "      <td>5</td>\n",
              "      <td>Apple</td>\n",
              "      <td>AAPL</td>\n",
              "      <td>2704339894272</td>\n",
              "      <td>175.13</td>\n",
              "      <td>United States</td>\n",
              "    </tr>\n",
              "  </tbody>\n",
              "</table>\n",
              "</div>"
            ],
            "text/plain": [
              "   Rank                       Name      Symbol      marketcap  price (USD)  \\\n",
              "0     1            Mabanee Company  MABANEE.KW  3602584608603      2527.62   \n",
              "1     2                  Gulf Bank      GBK.KW  3236747667212       847.95   \n",
              "2     3                  Microsoft        MSFT  3120784736256       420.00   \n",
              "3     4  Commercial Bank of Kuwait      CBK.KW  3023149916985      1686.16   \n",
              "4     5                      Apple        AAPL  2704339894272       175.13   \n",
              "\n",
              "         country  \n",
              "0         Kuwait  \n",
              "1         Kuwait  \n",
              "2  United States  \n",
              "3         Kuwait  \n",
              "4  United States  "
            ]
          },
          "execution_count": 58,
          "metadata": {},
          "output_type": "execute_result"
        }
      ],
      "source": [
        "global_stocks.head()"
      ]
    },
    {
      "cell_type": "code",
      "execution_count": 59,
      "metadata": {
        "colab": {
          "base_uri": "https://localhost:8080/"
        },
        "id": "c5rJJnofKmyJ",
        "outputId": "9b1898c5-a39a-4e7b-c307-0dfa85e50fab"
      },
      "outputs": [
        {
          "name": "stdout",
          "output_type": "stream",
          "text": [
            "<class 'pandas.core.frame.DataFrame'>\n",
            "RangeIndex: 8385 entries, 0 to 8384\n",
            "Data columns (total 6 columns):\n",
            " #   Column       Non-Null Count  Dtype  \n",
            "---  ------       --------------  -----  \n",
            " 0   Rank         8385 non-null   int64  \n",
            " 1   Name         8385 non-null   object \n",
            " 2   Symbol       8384 non-null   object \n",
            " 3   marketcap    8385 non-null   int64  \n",
            " 4   price (USD)  8385 non-null   float64\n",
            " 5   country      8383 non-null   object \n",
            "dtypes: float64(1), int64(2), object(3)\n",
            "memory usage: 393.2+ KB\n"
          ]
        }
      ],
      "source": [
        "global_stocks.info()"
      ]
    },
    {
      "cell_type": "code",
      "execution_count": null,
      "metadata": {},
      "outputs": [],
      "source": []
    }
  ],
  "metadata": {
    "colab": {
      "collapsed_sections": [
        "_sMONMJHjXkM"
      ],
      "provenance": []
    },
    "kernelspec": {
      "display_name": "Python 3",
      "name": "python3"
    },
    "language_info": {
      "codemirror_mode": {
        "name": "ipython",
        "version": 3
      },
      "file_extension": ".py",
      "mimetype": "text/x-python",
      "name": "python",
      "nbconvert_exporter": "python",
      "pygments_lexer": "ipython3",
      "version": "3.11.4"
    }
  },
  "nbformat": 4,
  "nbformat_minor": 0
}
