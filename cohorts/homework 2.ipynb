{
 "cells": [
  {
   "cell_type": "markdown",
   "metadata": {},
   "source": []
  },
  {
   "cell_type": "markdown",
   "metadata": {},
   "source": [
    "# Module 2 Homework"
   ]
  },
  {
   "cell_type": "code",
   "execution_count": 1,
   "metadata": {},
   "outputs": [],
   "source": [
    "# IMPORTS\n",
    "import numpy as np\n",
    "import pandas as pd\n",
    "import requests\n",
    "import time\n",
    "\n",
    "# Fin Data Sources\n",
    "import yfinance as yf\n",
    "import pandas_datareader as pdr\n",
    "\n",
    "# Data viz\n",
    "import plotly.graph_objs as go\n",
    "import plotly.express as px\n",
    "\n",
    "import time\n",
    "import datetime as dt\n",
    "\n",
    "# for graphs\n",
    "import matplotlib.pyplot as plt\n",
    "\n",
    "# for technical indicators\n",
    "import talib"
   ]
  },
  {
   "cell_type": "markdown",
   "metadata": {},
   "source": [
    "## Question 1: IPO Filings Web Scraping and Data Processing\n",
    "\n",
    "**What's the total sum ($m) of 2023 filings that happenned of Fridays?**\n",
    "\n",
    "Re-use the [Code Snippet 1] example to get the data from web for this endpoint: https://stockanalysis.com/ipos/filings/  \n",
    "Convert the 'Filing Date' to datetime(), 'Shares Offered' to float64 (if '-' is encountered, populate with NaNs).  \n",
    "Define a new field 'Avg_price' based on the \"Price Range\", which equals to NaN if no price is specified, to the price (if only one number is provided), or to the average of 2 prices (if a range is given).  \n",
    "You may be inspired by the function `extract_numbers()` in [Code Snippet 4], or you can write your own function to \"parse\" a string.   \n",
    "Define a column \"Shares_offered_value\", which equals to \"Shares Offered\" * \"Avg_price\" (when both columns are defined; otherwise, it's NaN)  \n",
    "\n",
    "Find the total sum in $m (millions of USD, closest INTEGER number) for all fillings during 2023, which happened on Fridays (`Date.dt.dayofweek()==4`). You should see 32 records in total, 24 of it is not null.  \n",
    "\n",
    "(additional: you can read about [S-1 IPO filing](https://www.dfinsolutions.com/knowledge-hub/thought-leadership/knowledge-resources/what-s-1-ipo-filing) to understand the context)\n"
   ]
  },
  {
   "cell_type": "code",
   "execution_count": 2,
   "metadata": {},
   "outputs": [
    {
     "name": "stderr",
     "output_type": "stream",
     "text": [
      "C:\\Users\\Susanne\\AppData\\Local\\Temp\\ipykernel_20036\\1545646543.py:8: FutureWarning: Passing literal html to 'read_html' is deprecated and will be removed in a future version. To read from a literal string, wrap it in a 'StringIO' object.\n",
      "  ipo_dfs = pd.read_html(response.text)\n"
     ]
    }
   ],
   "source": [
    "headers = {\n",
    "    \"User-Agent\": \"Mozilla/5.0 (Windows NT 10.0; Win64; x64) AppleWebKit/537.36 (KHTML, like Gecko) Chrome/58.0.3029.110 Safari/537.3\",\n",
    "}\n",
    "\n",
    "url = \"https://stockanalysis.com/ipos/filings/\"\n",
    "response = requests.get(url, headers=headers)\n",
    "\n",
    "ipo_dfs = pd.read_html(response.text)\n"
   ]
  },
  {
   "cell_type": "code",
   "execution_count": 3,
   "metadata": {},
   "outputs": [],
   "source": [
    "ipos_2023_df = ipo_dfs[0].copy()"
   ]
  },
  {
   "cell_type": "code",
   "execution_count": 4,
   "metadata": {},
   "outputs": [
    {
     "name": "stdout",
     "output_type": "stream",
     "text": [
      "<class 'pandas.core.frame.DataFrame'>\n",
      "RangeIndex: 325 entries, 0 to 324\n",
      "Data columns (total 5 columns):\n",
      " #   Column          Non-Null Count  Dtype \n",
      "---  ------          --------------  ----- \n",
      " 0   Filing Date     325 non-null    object\n",
      " 1   Symbol          325 non-null    object\n",
      " 2   Company Name    325 non-null    object\n",
      " 3   Price Range     325 non-null    object\n",
      " 4   Shares Offered  325 non-null    object\n",
      "dtypes: object(5)\n",
      "memory usage: 12.8+ KB\n"
     ]
    }
   ],
   "source": [
    "ipos_2023_df.info()"
   ]
  },
  {
   "cell_type": "code",
   "execution_count": 5,
   "metadata": {},
   "outputs": [],
   "source": [
    "# convert to datetime\n",
    "ipos_2023_df[\"Filing Date\"] = pd.to_datetime(ipos_2023_df[\"Filing Date\"])\n",
    "ipos_2023_df[\"Shares Offered\"] = pd.to_numeric(ipos_2023_df[\"Shares Offered\"], errors=\"coerce\")\n"
   ]
  },
  {
   "cell_type": "code",
   "execution_count": 6,
   "metadata": {},
   "outputs": [],
   "source": [
    "\n",
    "# # Convert 'Return' to numeric format (percentage)\n",
    "# ipos_2023_df[\"Return\"] = (\n",
    "#     pd.to_numeric(ipos_2023_df[\"Return\"].str.replace(\"%\", \"\"), errors=\"coerce\") / 100\n",
    "# )"
   ]
  },
  {
   "cell_type": "code",
   "execution_count": 7,
   "metadata": {},
   "outputs": [
    {
     "data": {
      "text/html": [
       "<div>\n",
       "<style scoped>\n",
       "    .dataframe tbody tr th:only-of-type {\n",
       "        vertical-align: middle;\n",
       "    }\n",
       "\n",
       "    .dataframe tbody tr th {\n",
       "        vertical-align: top;\n",
       "    }\n",
       "\n",
       "    .dataframe thead th {\n",
       "        text-align: right;\n",
       "    }\n",
       "</style>\n",
       "<table border=\"1\" class=\"dataframe\">\n",
       "  <thead>\n",
       "    <tr style=\"text-align: right;\">\n",
       "      <th></th>\n",
       "      <th>Filing Date</th>\n",
       "      <th>Symbol</th>\n",
       "      <th>Company Name</th>\n",
       "      <th>Price Range</th>\n",
       "      <th>Shares Offered</th>\n",
       "    </tr>\n",
       "  </thead>\n",
       "  <tbody>\n",
       "    <tr>\n",
       "      <th>0</th>\n",
       "      <td>2024-04-29</td>\n",
       "      <td>HWEC</td>\n",
       "      <td>HW Electro Co., Ltd.</td>\n",
       "      <td>$3.00</td>\n",
       "      <td>3750000.0</td>\n",
       "    </tr>\n",
       "    <tr>\n",
       "      <th>1</th>\n",
       "      <td>2024-04-29</td>\n",
       "      <td>DTSQ</td>\n",
       "      <td>DT Cloud Star Acquisition Corporation</td>\n",
       "      <td>$10.00</td>\n",
       "      <td>6000000.0</td>\n",
       "    </tr>\n",
       "    <tr>\n",
       "      <th>2</th>\n",
       "      <td>2024-04-26</td>\n",
       "      <td>EURK</td>\n",
       "      <td>Eureka Acquisition Corp</td>\n",
       "      <td>$10.00</td>\n",
       "      <td>5000000.0</td>\n",
       "    </tr>\n",
       "    <tr>\n",
       "      <th>3</th>\n",
       "      <td>2024-04-26</td>\n",
       "      <td>HDL</td>\n",
       "      <td>Super Hi International Holding Ltd.</td>\n",
       "      <td>-</td>\n",
       "      <td>NaN</td>\n",
       "    </tr>\n",
       "    <tr>\n",
       "      <th>4</th>\n",
       "      <td>2024-04-22</td>\n",
       "      <td>DRJT</td>\n",
       "      <td>Derun Group Inc</td>\n",
       "      <td>$5.00</td>\n",
       "      <td>NaN</td>\n",
       "    </tr>\n",
       "    <tr>\n",
       "      <th>...</th>\n",
       "      <td>...</td>\n",
       "      <td>...</td>\n",
       "      <td>...</td>\n",
       "      <td>...</td>\n",
       "      <td>...</td>\n",
       "    </tr>\n",
       "    <tr>\n",
       "      <th>320</th>\n",
       "      <td>2020-01-21</td>\n",
       "      <td>GOXS</td>\n",
       "      <td>Goxus, Inc.</td>\n",
       "      <td>$8.00 - $10.00</td>\n",
       "      <td>1500000.0</td>\n",
       "    </tr>\n",
       "    <tr>\n",
       "      <th>321</th>\n",
       "      <td>2020-01-21</td>\n",
       "      <td>UTXO</td>\n",
       "      <td>UTXO Acquisition, Inc.</td>\n",
       "      <td>$10.00</td>\n",
       "      <td>5000000.0</td>\n",
       "    </tr>\n",
       "    <tr>\n",
       "      <th>322</th>\n",
       "      <td>2019-12-09</td>\n",
       "      <td>LOHA</td>\n",
       "      <td>Loha Co. Ltd</td>\n",
       "      <td>$8.00 - $10.00</td>\n",
       "      <td>2500000.0</td>\n",
       "    </tr>\n",
       "    <tr>\n",
       "      <th>323</th>\n",
       "      <td>2019-10-04</td>\n",
       "      <td>ZGHB</td>\n",
       "      <td>China Eco-Materials Group Co. Limited</td>\n",
       "      <td>$4.00</td>\n",
       "      <td>4300000.0</td>\n",
       "    </tr>\n",
       "    <tr>\n",
       "      <th>324</th>\n",
       "      <td>2018-12-27</td>\n",
       "      <td>FBOX</td>\n",
       "      <td>Fit Boxx Holdings Limited</td>\n",
       "      <td>$5.00 - $6.50</td>\n",
       "      <td>2000000.0</td>\n",
       "    </tr>\n",
       "  </tbody>\n",
       "</table>\n",
       "<p>325 rows × 5 columns</p>\n",
       "</div>"
      ],
      "text/plain": [
       "    Filing Date Symbol                           Company Name     Price Range  \\\n",
       "0    2024-04-29   HWEC                   HW Electro Co., Ltd.           $3.00   \n",
       "1    2024-04-29   DTSQ  DT Cloud Star Acquisition Corporation          $10.00   \n",
       "2    2024-04-26   EURK                Eureka Acquisition Corp          $10.00   \n",
       "3    2024-04-26    HDL    Super Hi International Holding Ltd.               -   \n",
       "4    2024-04-22   DRJT                        Derun Group Inc           $5.00   \n",
       "..          ...    ...                                    ...             ...   \n",
       "320  2020-01-21   GOXS                            Goxus, Inc.  $8.00 - $10.00   \n",
       "321  2020-01-21   UTXO                 UTXO Acquisition, Inc.          $10.00   \n",
       "322  2019-12-09   LOHA                           Loha Co. Ltd  $8.00 - $10.00   \n",
       "323  2019-10-04   ZGHB  China Eco-Materials Group Co. Limited           $4.00   \n",
       "324  2018-12-27   FBOX              Fit Boxx Holdings Limited   $5.00 - $6.50   \n",
       "\n",
       "     Shares Offered  \n",
       "0         3750000.0  \n",
       "1         6000000.0  \n",
       "2         5000000.0  \n",
       "3               NaN  \n",
       "4               NaN  \n",
       "..              ...  \n",
       "320       1500000.0  \n",
       "321       5000000.0  \n",
       "322       2500000.0  \n",
       "323       4300000.0  \n",
       "324       2000000.0  \n",
       "\n",
       "[325 rows x 5 columns]"
      ]
     },
     "execution_count": 7,
     "metadata": {},
     "output_type": "execute_result"
    }
   ],
   "source": [
    "ipos_2023_df"
   ]
  },
  {
   "cell_type": "code",
   "execution_count": 8,
   "metadata": {},
   "outputs": [
    {
     "data": {
      "text/plain": [
       "Filing Date        0\n",
       "Symbol             0\n",
       "Company Name       0\n",
       "Price Range        0\n",
       "Shares Offered    72\n",
       "dtype: int64"
      ]
     },
     "execution_count": 8,
     "metadata": {},
     "output_type": "execute_result"
    }
   ],
   "source": [
    "ipos_2023_df.isnull().sum()"
   ]
  },
  {
   "cell_type": "code",
   "execution_count": 9,
   "metadata": {},
   "outputs": [
    {
     "data": {
      "text/html": [
       "<div>\n",
       "<style scoped>\n",
       "    .dataframe tbody tr th:only-of-type {\n",
       "        vertical-align: middle;\n",
       "    }\n",
       "\n",
       "    .dataframe tbody tr th {\n",
       "        vertical-align: top;\n",
       "    }\n",
       "\n",
       "    .dataframe thead th {\n",
       "        text-align: right;\n",
       "    }\n",
       "</style>\n",
       "<table border=\"1\" class=\"dataframe\">\n",
       "  <thead>\n",
       "    <tr style=\"text-align: right;\">\n",
       "      <th></th>\n",
       "      <th>Filing Date</th>\n",
       "      <th>Symbol</th>\n",
       "      <th>Company Name</th>\n",
       "      <th>Price Range</th>\n",
       "      <th>Shares Offered</th>\n",
       "    </tr>\n",
       "  </thead>\n",
       "  <tbody>\n",
       "    <tr>\n",
       "      <th>3</th>\n",
       "      <td>2024-04-26</td>\n",
       "      <td>HDL</td>\n",
       "      <td>Super Hi International Holding Ltd.</td>\n",
       "      <td>-</td>\n",
       "      <td>NaN</td>\n",
       "    </tr>\n",
       "    <tr>\n",
       "      <th>7</th>\n",
       "      <td>2024-04-15</td>\n",
       "      <td>GAUZ</td>\n",
       "      <td>Gauzy Ltd.</td>\n",
       "      <td>-</td>\n",
       "      <td>NaN</td>\n",
       "    </tr>\n",
       "    <tr>\n",
       "      <th>8</th>\n",
       "      <td>2024-04-12</td>\n",
       "      <td>BOW</td>\n",
       "      <td>Bowhead Specialty Holdings Inc.</td>\n",
       "      <td>-</td>\n",
       "      <td>NaN</td>\n",
       "    </tr>\n",
       "    <tr>\n",
       "      <th>9</th>\n",
       "      <td>2024-04-05</td>\n",
       "      <td>SPHL</td>\n",
       "      <td>Springview Holdings Ltd</td>\n",
       "      <td>$4.00 - $5.00</td>\n",
       "      <td>2000000.0</td>\n",
       "    </tr>\n",
       "    <tr>\n",
       "      <th>10</th>\n",
       "      <td>2024-04-02</td>\n",
       "      <td>FFFZ</td>\n",
       "      <td>Fuxing China Group Limited</td>\n",
       "      <td>$4.00 - $4.50</td>\n",
       "      <td>2000000.0</td>\n",
       "    </tr>\n",
       "    <tr>\n",
       "      <th>...</th>\n",
       "      <td>...</td>\n",
       "      <td>...</td>\n",
       "      <td>...</td>\n",
       "      <td>...</td>\n",
       "      <td>...</td>\n",
       "    </tr>\n",
       "    <tr>\n",
       "      <th>318</th>\n",
       "      <td>2020-06-17</td>\n",
       "      <td>ALEH</td>\n",
       "      <td>ALE Group Holding Limited</td>\n",
       "      <td>$4.00 - $6.00</td>\n",
       "      <td>4200000.0</td>\n",
       "    </tr>\n",
       "    <tr>\n",
       "      <th>319</th>\n",
       "      <td>2020-02-18</td>\n",
       "      <td>CAST</td>\n",
       "      <td>FreeCast, Inc.</td>\n",
       "      <td>-</td>\n",
       "      <td>NaN</td>\n",
       "    </tr>\n",
       "    <tr>\n",
       "      <th>320</th>\n",
       "      <td>2020-01-21</td>\n",
       "      <td>GOXS</td>\n",
       "      <td>Goxus, Inc.</td>\n",
       "      <td>$8.00 - $10.00</td>\n",
       "      <td>1500000.0</td>\n",
       "    </tr>\n",
       "    <tr>\n",
       "      <th>322</th>\n",
       "      <td>2019-12-09</td>\n",
       "      <td>LOHA</td>\n",
       "      <td>Loha Co. Ltd</td>\n",
       "      <td>$8.00 - $10.00</td>\n",
       "      <td>2500000.0</td>\n",
       "    </tr>\n",
       "    <tr>\n",
       "      <th>324</th>\n",
       "      <td>2018-12-27</td>\n",
       "      <td>FBOX</td>\n",
       "      <td>Fit Boxx Holdings Limited</td>\n",
       "      <td>$5.00 - $6.50</td>\n",
       "      <td>2000000.0</td>\n",
       "    </tr>\n",
       "  </tbody>\n",
       "</table>\n",
       "<p>182 rows × 5 columns</p>\n",
       "</div>"
      ],
      "text/plain": [
       "    Filing Date Symbol                         Company Name     Price Range  \\\n",
       "3    2024-04-26    HDL  Super Hi International Holding Ltd.               -   \n",
       "7    2024-04-15   GAUZ                           Gauzy Ltd.               -   \n",
       "8    2024-04-12    BOW      Bowhead Specialty Holdings Inc.               -   \n",
       "9    2024-04-05   SPHL              Springview Holdings Ltd   $4.00 - $5.00   \n",
       "10   2024-04-02   FFFZ           Fuxing China Group Limited   $4.00 - $4.50   \n",
       "..          ...    ...                                  ...             ...   \n",
       "318  2020-06-17   ALEH            ALE Group Holding Limited   $4.00 - $6.00   \n",
       "319  2020-02-18   CAST                       FreeCast, Inc.               -   \n",
       "320  2020-01-21   GOXS                          Goxus, Inc.  $8.00 - $10.00   \n",
       "322  2019-12-09   LOHA                         Loha Co. Ltd  $8.00 - $10.00   \n",
       "324  2018-12-27   FBOX            Fit Boxx Holdings Limited   $5.00 - $6.50   \n",
       "\n",
       "     Shares Offered  \n",
       "3               NaN  \n",
       "7               NaN  \n",
       "8               NaN  \n",
       "9         2000000.0  \n",
       "10        2000000.0  \n",
       "..              ...  \n",
       "318       4200000.0  \n",
       "319             NaN  \n",
       "320       1500000.0  \n",
       "322       2500000.0  \n",
       "324       2000000.0  \n",
       "\n",
       "[182 rows x 5 columns]"
      ]
     },
     "execution_count": 9,
     "metadata": {},
     "output_type": "execute_result"
    }
   ],
   "source": [
    "missing_prices_df = ipos_2023_df[\n",
    "    ipos_2023_df[\"Price Range\"].astype(str).str.find(\"-\") >= 0\n",
    "]\n",
    "missing_prices_df"
   ]
  },
  {
   "cell_type": "code",
   "execution_count": 10,
   "metadata": {},
   "outputs": [],
   "source": [
    "def process_price(price):\n",
    "    if not price:  # Check if the price is an empty string\n",
    "        return np.nan  # Return NaN for empty strings\n",
    "\n",
    "    # Replace 0 with NaN\n",
    "    if price == \"-\":\n",
    "        return np.nan\n",
    "    \n",
    "    # Remove \"$\" sign\n",
    "    price = price.replace(\"$\", \"\")\n",
    "\n",
    "    # Split price ranges and calculate average\n",
    "    if \"-\" in price:\n",
    "        lower, upper = price.split(\"-\")\n",
    "        lower = float(lower.strip())\n",
    "        upper = float(upper.strip())\n",
    "        price = (lower + upper) / 2\n",
    "\n",
    "    return float(price)"
   ]
  },
  {
   "cell_type": "code",
   "execution_count": 11,
   "metadata": {},
   "outputs": [],
   "source": [
    "ipos_2023_df[\"Avg Price\"] = ipos_2023_df[\"Price Range\"].apply(process_price)"
   ]
  },
  {
   "cell_type": "code",
   "execution_count": 12,
   "metadata": {},
   "outputs": [],
   "source": [
    "# Define a column \"Shares_offered_value\", which equals to \"Shares Offered\" * \"Avg_price\" (when both columns are defined; otherwise, it's NaN)\n",
    "# Define a function to calculate \"Shares_offered_value\"\n",
    "def calculate_shares_offered_value(shares_offered, avg_price):\n",
    "    # shares_offered = df['Shares Offered']\n",
    "    # avg_price = df['Avg_price']\n",
    "    if pd.notna(shares_offered) and pd.notna(avg_price):\n",
    "        return shares_offered * avg_price\n",
    "    else:\n",
    "        return np.nan\n",
    "\n",
    "\n",
    "ipos_2023_df[\"Shares_offered_value\"] = ipos_2023_df.apply(\n",
    "    lambda x: calculate_shares_offered_value(x[\"Shares Offered\"], x[\"Avg Price\"]),\n",
    "    axis=1,\n",
    ")"
   ]
  },
  {
   "cell_type": "code",
   "execution_count": 13,
   "metadata": {},
   "outputs": [],
   "source": [
    "#Find the total sum in $m (millions of USD, closest INTEGER number) for all fillings during 2023, which happened on Fridays\n",
    "#(`Date.dt.dayofweek()==4`). You should see 32 records in total, 24 of it is not null.  "
   ]
  },
  {
   "cell_type": "code",
   "execution_count": 14,
   "metadata": {},
   "outputs": [
    {
     "data": {
      "text/html": [
       "<div>\n",
       "<style scoped>\n",
       "    .dataframe tbody tr th:only-of-type {\n",
       "        vertical-align: middle;\n",
       "    }\n",
       "\n",
       "    .dataframe tbody tr th {\n",
       "        vertical-align: top;\n",
       "    }\n",
       "\n",
       "    .dataframe thead th {\n",
       "        text-align: right;\n",
       "    }\n",
       "</style>\n",
       "<table border=\"1\" class=\"dataframe\">\n",
       "  <thead>\n",
       "    <tr style=\"text-align: right;\">\n",
       "      <th></th>\n",
       "      <th>Filing Date</th>\n",
       "      <th>Symbol</th>\n",
       "      <th>Company Name</th>\n",
       "      <th>Price Range</th>\n",
       "      <th>Shares Offered</th>\n",
       "      <th>Avg Price</th>\n",
       "      <th>Shares_offered_value</th>\n",
       "    </tr>\n",
       "  </thead>\n",
       "  <tbody>\n",
       "    <tr>\n",
       "      <th>49</th>\n",
       "      <td>2023-12-29</td>\n",
       "      <td>LEC</td>\n",
       "      <td>Lafayette Energy Corp</td>\n",
       "      <td>$3.50 - $4.50</td>\n",
       "      <td>1200000.0</td>\n",
       "      <td>4.00</td>\n",
       "      <td>4800000.0</td>\n",
       "    </tr>\n",
       "    <tr>\n",
       "      <th>61</th>\n",
       "      <td>2023-12-08</td>\n",
       "      <td>ENGS</td>\n",
       "      <td>Energys Group Limited</td>\n",
       "      <td>$4.00 - $6.00</td>\n",
       "      <td>2000000.0</td>\n",
       "      <td>5.00</td>\n",
       "      <td>10000000.0</td>\n",
       "    </tr>\n",
       "    <tr>\n",
       "      <th>62</th>\n",
       "      <td>2023-12-08</td>\n",
       "      <td>LNKS</td>\n",
       "      <td>Linkers Industries Limited</td>\n",
       "      <td>$4.00 - $6.00</td>\n",
       "      <td>2200000.0</td>\n",
       "      <td>5.00</td>\n",
       "      <td>11000000.0</td>\n",
       "    </tr>\n",
       "    <tr>\n",
       "      <th>81</th>\n",
       "      <td>2023-10-27</td>\n",
       "      <td>RAY</td>\n",
       "      <td>Raytech Holding Limited</td>\n",
       "      <td>$4.00 - $5.00</td>\n",
       "      <td>1500000.0</td>\n",
       "      <td>4.50</td>\n",
       "      <td>6750000.0</td>\n",
       "    </tr>\n",
       "    <tr>\n",
       "      <th>88</th>\n",
       "      <td>2023-10-13</td>\n",
       "      <td>ORIS</td>\n",
       "      <td>Oriental Rise Holdings Limited</td>\n",
       "      <td>$4.00</td>\n",
       "      <td>2000000.0</td>\n",
       "      <td>4.00</td>\n",
       "      <td>8000000.0</td>\n",
       "    </tr>\n",
       "    <tr>\n",
       "      <th>91</th>\n",
       "      <td>2023-10-06</td>\n",
       "      <td>QMMM</td>\n",
       "      <td>QMMM Holdings Limited</td>\n",
       "      <td>$4.00</td>\n",
       "      <td>2125000.0</td>\n",
       "      <td>4.00</td>\n",
       "      <td>8500000.0</td>\n",
       "    </tr>\n",
       "    <tr>\n",
       "      <th>95</th>\n",
       "      <td>2023-09-29</td>\n",
       "      <td>KAPA</td>\n",
       "      <td>Kairos Pharma, Ltd.</td>\n",
       "      <td>$4.00</td>\n",
       "      <td>1550000.0</td>\n",
       "      <td>4.00</td>\n",
       "      <td>6200000.0</td>\n",
       "    </tr>\n",
       "    <tr>\n",
       "      <th>96</th>\n",
       "      <td>2023-09-29</td>\n",
       "      <td>VAPA</td>\n",
       "      <td>Valens Pay Global Limited</td>\n",
       "      <td>$5.00 - $6.00</td>\n",
       "      <td>1000000.0</td>\n",
       "      <td>5.50</td>\n",
       "      <td>5500000.0</td>\n",
       "    </tr>\n",
       "    <tr>\n",
       "      <th>103</th>\n",
       "      <td>2023-09-15</td>\n",
       "      <td>ACSB</td>\n",
       "      <td>Acesis Holdings Corporation</td>\n",
       "      <td>$4.00 - $6.00</td>\n",
       "      <td>1300000.0</td>\n",
       "      <td>5.00</td>\n",
       "      <td>6500000.0</td>\n",
       "    </tr>\n",
       "    <tr>\n",
       "      <th>121</th>\n",
       "      <td>2023-07-07</td>\n",
       "      <td>AZI</td>\n",
       "      <td>Autozi Internet Technology (Global) Ltd.</td>\n",
       "      <td>$4.00 - $5.00</td>\n",
       "      <td>1250000.0</td>\n",
       "      <td>4.50</td>\n",
       "      <td>5625000.0</td>\n",
       "    </tr>\n",
       "    <tr>\n",
       "      <th>124</th>\n",
       "      <td>2023-06-30</td>\n",
       "      <td>SUBL</td>\n",
       "      <td>BioLingus (Cayman) Limited</td>\n",
       "      <td>$20.00</td>\n",
       "      <td>360000.0</td>\n",
       "      <td>20.00</td>\n",
       "      <td>7200000.0</td>\n",
       "    </tr>\n",
       "    <tr>\n",
       "      <th>125</th>\n",
       "      <td>2023-06-30</td>\n",
       "      <td>RLND</td>\n",
       "      <td>The RoyaLand Company Ltd.</td>\n",
       "      <td>$5.00 - $6.00</td>\n",
       "      <td>1250000.0</td>\n",
       "      <td>5.50</td>\n",
       "      <td>6875000.0</td>\n",
       "    </tr>\n",
       "    <tr>\n",
       "      <th>126</th>\n",
       "      <td>2023-06-23</td>\n",
       "      <td>MSW</td>\n",
       "      <td>Ming Shing Group Holdings Limited</td>\n",
       "      <td>$5.00 - $8.00</td>\n",
       "      <td>1500000.0</td>\n",
       "      <td>6.50</td>\n",
       "      <td>9750000.0</td>\n",
       "    </tr>\n",
       "    <tr>\n",
       "      <th>129</th>\n",
       "      <td>2023-06-09</td>\n",
       "      <td>MDRN</td>\n",
       "      <td>Modern Mining Technology Corp.</td>\n",
       "      <td>$4.50 - $5.50</td>\n",
       "      <td>2000000.0</td>\n",
       "      <td>5.00</td>\n",
       "      <td>10000000.0</td>\n",
       "    </tr>\n",
       "    <tr>\n",
       "      <th>134</th>\n",
       "      <td>2023-04-28</td>\n",
       "      <td>MJID</td>\n",
       "      <td>Majestic Ideal Holdings Ltd</td>\n",
       "      <td>$4.00 - $5.00</td>\n",
       "      <td>2500000.0</td>\n",
       "      <td>4.50</td>\n",
       "      <td>11250000.0</td>\n",
       "    </tr>\n",
       "    <tr>\n",
       "      <th>137</th>\n",
       "      <td>2023-04-21</td>\n",
       "      <td>XJET</td>\n",
       "      <td>XJet Ltd.</td>\n",
       "      <td>$4.00</td>\n",
       "      <td>1600000.0</td>\n",
       "      <td>4.00</td>\n",
       "      <td>6400000.0</td>\n",
       "    </tr>\n",
       "    <tr>\n",
       "      <th>138</th>\n",
       "      <td>2023-04-21</td>\n",
       "      <td>JPO</td>\n",
       "      <td>JP Outfitters, Inc.</td>\n",
       "      <td>$4.00</td>\n",
       "      <td>2400000.0</td>\n",
       "      <td>4.00</td>\n",
       "      <td>9600000.0</td>\n",
       "    </tr>\n",
       "    <tr>\n",
       "      <th>139</th>\n",
       "      <td>2023-03-31</td>\n",
       "      <td>SUNH</td>\n",
       "      <td>Xuhang Holdings Limited</td>\n",
       "      <td>$4.00 - $5.00</td>\n",
       "      <td>2750000.0</td>\n",
       "      <td>4.50</td>\n",
       "      <td>12375000.0</td>\n",
       "    </tr>\n",
       "    <tr>\n",
       "      <th>140</th>\n",
       "      <td>2023-03-31</td>\n",
       "      <td>OSTX</td>\n",
       "      <td>OS Therapies Incorporated</td>\n",
       "      <td>$5.00</td>\n",
       "      <td>2000000.0</td>\n",
       "      <td>5.00</td>\n",
       "      <td>10000000.0</td>\n",
       "    </tr>\n",
       "    <tr>\n",
       "      <th>141</th>\n",
       "      <td>2023-03-31</td>\n",
       "      <td>GFCX</td>\n",
       "      <td>GoodFaith Technology Inc.</td>\n",
       "      <td>$4.00 - $6.00</td>\n",
       "      <td>3000000.0</td>\n",
       "      <td>5.00</td>\n",
       "      <td>15000000.0</td>\n",
       "    </tr>\n",
       "    <tr>\n",
       "      <th>149</th>\n",
       "      <td>2023-02-24</td>\n",
       "      <td>NTV</td>\n",
       "      <td>NeoTV Group Limited</td>\n",
       "      <td>$6.00 - $6.50</td>\n",
       "      <td>6800000.0</td>\n",
       "      <td>6.25</td>\n",
       "      <td>42500000.0</td>\n",
       "    </tr>\n",
       "    <tr>\n",
       "      <th>150</th>\n",
       "      <td>2023-02-24</td>\n",
       "      <td>BSME</td>\n",
       "      <td>MED EIBY Holding Co., Limited</td>\n",
       "      <td>$4.00 - $6.00</td>\n",
       "      <td>4000000.0</td>\n",
       "      <td>5.00</td>\n",
       "      <td>20000000.0</td>\n",
       "    </tr>\n",
       "    <tr>\n",
       "      <th>156</th>\n",
       "      <td>2023-02-10</td>\n",
       "      <td>WETO</td>\n",
       "      <td>Webus International Limited</td>\n",
       "      <td>$4.00 - $6.00</td>\n",
       "      <td>4000000.0</td>\n",
       "      <td>5.00</td>\n",
       "      <td>20000000.0</td>\n",
       "    </tr>\n",
       "    <tr>\n",
       "      <th>157</th>\n",
       "      <td>2023-02-10</td>\n",
       "      <td>HXHX</td>\n",
       "      <td>Haoxin Holdings Limited</td>\n",
       "      <td>$4.00 - $6.00</td>\n",
       "      <td>3000000.0</td>\n",
       "      <td>5.00</td>\n",
       "      <td>15000000.0</td>\n",
       "    </tr>\n",
       "    <tr>\n",
       "      <th>165</th>\n",
       "      <td>2023-01-13</td>\n",
       "      <td>RVGO</td>\n",
       "      <td>RVeloCITY, Inc.</td>\n",
       "      <td>$4.00 - $5.00</td>\n",
       "      <td>3750000.0</td>\n",
       "      <td>4.50</td>\n",
       "      <td>16875000.0</td>\n",
       "    </tr>\n",
       "  </tbody>\n",
       "</table>\n",
       "</div>"
      ],
      "text/plain": [
       "    Filing Date Symbol                              Company Name  \\\n",
       "49   2023-12-29    LEC                     Lafayette Energy Corp   \n",
       "61   2023-12-08   ENGS                     Energys Group Limited   \n",
       "62   2023-12-08   LNKS                Linkers Industries Limited   \n",
       "81   2023-10-27    RAY                   Raytech Holding Limited   \n",
       "88   2023-10-13   ORIS            Oriental Rise Holdings Limited   \n",
       "91   2023-10-06   QMMM                     QMMM Holdings Limited   \n",
       "95   2023-09-29   KAPA                       Kairos Pharma, Ltd.   \n",
       "96   2023-09-29   VAPA                 Valens Pay Global Limited   \n",
       "103  2023-09-15   ACSB               Acesis Holdings Corporation   \n",
       "121  2023-07-07    AZI  Autozi Internet Technology (Global) Ltd.   \n",
       "124  2023-06-30   SUBL                BioLingus (Cayman) Limited   \n",
       "125  2023-06-30   RLND                 The RoyaLand Company Ltd.   \n",
       "126  2023-06-23    MSW         Ming Shing Group Holdings Limited   \n",
       "129  2023-06-09   MDRN            Modern Mining Technology Corp.   \n",
       "134  2023-04-28   MJID               Majestic Ideal Holdings Ltd   \n",
       "137  2023-04-21   XJET                                 XJet Ltd.   \n",
       "138  2023-04-21    JPO                       JP Outfitters, Inc.   \n",
       "139  2023-03-31   SUNH                   Xuhang Holdings Limited   \n",
       "140  2023-03-31   OSTX                 OS Therapies Incorporated   \n",
       "141  2023-03-31   GFCX                 GoodFaith Technology Inc.   \n",
       "149  2023-02-24    NTV                       NeoTV Group Limited   \n",
       "150  2023-02-24   BSME             MED EIBY Holding Co., Limited   \n",
       "156  2023-02-10   WETO               Webus International Limited   \n",
       "157  2023-02-10   HXHX                   Haoxin Holdings Limited   \n",
       "165  2023-01-13   RVGO                           RVeloCITY, Inc.   \n",
       "\n",
       "       Price Range  Shares Offered  Avg Price  Shares_offered_value  \n",
       "49   $3.50 - $4.50       1200000.0       4.00             4800000.0  \n",
       "61   $4.00 - $6.00       2000000.0       5.00            10000000.0  \n",
       "62   $4.00 - $6.00       2200000.0       5.00            11000000.0  \n",
       "81   $4.00 - $5.00       1500000.0       4.50             6750000.0  \n",
       "88           $4.00       2000000.0       4.00             8000000.0  \n",
       "91           $4.00       2125000.0       4.00             8500000.0  \n",
       "95           $4.00       1550000.0       4.00             6200000.0  \n",
       "96   $5.00 - $6.00       1000000.0       5.50             5500000.0  \n",
       "103  $4.00 - $6.00       1300000.0       5.00             6500000.0  \n",
       "121  $4.00 - $5.00       1250000.0       4.50             5625000.0  \n",
       "124         $20.00        360000.0      20.00             7200000.0  \n",
       "125  $5.00 - $6.00       1250000.0       5.50             6875000.0  \n",
       "126  $5.00 - $8.00       1500000.0       6.50             9750000.0  \n",
       "129  $4.50 - $5.50       2000000.0       5.00            10000000.0  \n",
       "134  $4.00 - $5.00       2500000.0       4.50            11250000.0  \n",
       "137          $4.00       1600000.0       4.00             6400000.0  \n",
       "138          $4.00       2400000.0       4.00             9600000.0  \n",
       "139  $4.00 - $5.00       2750000.0       4.50            12375000.0  \n",
       "140          $5.00       2000000.0       5.00            10000000.0  \n",
       "141  $4.00 - $6.00       3000000.0       5.00            15000000.0  \n",
       "149  $6.00 - $6.50       6800000.0       6.25            42500000.0  \n",
       "150  $4.00 - $6.00       4000000.0       5.00            20000000.0  \n",
       "156  $4.00 - $6.00       4000000.0       5.00            20000000.0  \n",
       "157  $4.00 - $6.00       3000000.0       5.00            15000000.0  \n",
       "165  $4.00 - $5.00       3750000.0       4.50            16875000.0  "
      ]
     },
     "execution_count": 14,
     "metadata": {},
     "output_type": "execute_result"
    }
   ],
   "source": [
    "friday_filings_2023 = ipos_2023_df[\n",
    "    (ipos_2023_df[\"Filing Date\"].dt.year == 2023)\n",
    "    & (ipos_2023_df[\"Filing Date\"].dt.dayofweek == 4)\n",
    "].dropna()\n",
    "friday_filings_2023"
   ]
  },
  {
   "cell_type": "code",
   "execution_count": 15,
   "metadata": {},
   "outputs": [
    {
     "data": {
      "text/plain": [
       "25"
      ]
     },
     "execution_count": 15,
     "metadata": {},
     "output_type": "execute_result"
    }
   ],
   "source": [
    "len(friday_filings_2023)"
   ]
  },
  {
   "cell_type": "code",
   "execution_count": 16,
   "metadata": {},
   "outputs": [
    {
     "data": {
      "text/plain": [
       "285.7"
      ]
     },
     "execution_count": 16,
     "metadata": {},
     "output_type": "execute_result"
    }
   ],
   "source": [
    "friday_filings_2023[\"Shares_offered_value\"].sum()/1_000_000"
   ]
  },
  {
   "cell_type": "markdown",
   "metadata": {},
   "source": [
    "## Question 2:  IPOs \"Fixed days hold\" strategy\n",
    "\n",
    "\n",
    "**Find the optimal number of days X (between 1 and 30), where 75% quantile growth is the highest?**\n",
    "\n",
    "\n",
    "Reuse [Code Snippet 1] to retrieve the list of IPOs from 2023 and 2024 (from URLs: https://stockanalysis.com/ipos/2023/ and https://stockanalysis.com/ipos/2024/).  \n",
    "Get all OHLCV daily prices for all stocks with an \"IPO date\" before March 1, 2024 (\"< 2024-03-01\") - 185 tickers. Sometimes you may need to adjust the symbol name (e.g., 'IBAC' on stockanalysis.com -> 'IBACU' on Yahoo Finance) to locate OHLCV prices for all stocks.\n",
    "\n",
    "Let's assume you managed to buy a new stock (listed on IPO) on the first day at the [Adj Close] price]. Your strategy is to hold for exactly X full days (where X is between 1 and 30) and sell at the \"Adj. Close\" price in X days (e.g., if X=1, you sell on the next day).\n",
    "Find X, when the 75% quantile growth (among 185 investments) is the highest. \n",
    "\n",
    "HINTs:\n",
    "* You can generate 30 additional columns: growth_future_1d ... growth_future_30d, join that with the table of min_dates (first day when each stock has data on Yahoo Finance), and perform vector operations on the resulting dataset.\n",
    "* You can use the `DataFrame.describe()` function to get mean, min, max, 25-50-75% quantiles.\n",
    "\n",
    "\n",
    "Addtional: \n",
    "* You can also ensure that the mean and 50th percentile (median) investment returns are negative for most X values, implying a wager for a \"lucky\" investor who might be in the top 25%.\n",
    "* What's your recommendation: Do you suggest pursuing this strategy for an optimal X?"
   ]
  },
  {
   "cell_type": "code",
   "execution_count": 174,
   "metadata": {},
   "outputs": [],
   "source": [
    "def get_ipos_by_year(year=\"2024\"):\n",
    "    url = f\"https://stockanalysis.com/ipos/{year}/\"\n",
    "    response = requests.get(url, headers=headers)\n",
    "    df = pd.read_html(response.text)[0]\n",
    "    # Data cleaning\n",
    "    df[\"IPO Price\"] = df[\"IPO Price\"].str.replace(\"$\", \"\")\n",
    "    df[\"IPO Date\"] = pd.to_datetime(\n",
    "        df[\"IPO Date\"], errors=\"coerce\"\n",
    "    )  # format=\"%Y-%m-%d\",\n",
    "    df[\"IPO Price\"] = pd.to_numeric(df[\"IPO Price\"].str.replace(\"$\", \"\"), errors=\"coerce\")\n",
    "    df[\"Current\"] = pd.to_numeric(df[\"Current\"].str.replace(\"$\", \"\"), errors=\"coerce\")\n",
    "    df[\"Return\"] = (pd.to_numeric(df[\"Return\"].str.replace(\"%\", \"\"), errors=\"coerce\") / 100)\n",
    "    return df"
   ]
  },
  {
   "cell_type": "code",
   "execution_count": 175,
   "metadata": {},
   "outputs": [
    {
     "name": "stderr",
     "output_type": "stream",
     "text": [
      "C:\\Users\\Susanne\\AppData\\Local\\Temp\\ipykernel_20036\\2954333646.py:4: FutureWarning: Passing literal html to 'read_html' is deprecated and will be removed in a future version. To read from a literal string, wrap it in a 'StringIO' object.\n",
      "  df = pd.read_html(response.text)[0]\n"
     ]
    }
   ],
   "source": [
    "ipo_2023_df = get_ipos_by_year(year=\"2023\")"
   ]
  },
  {
   "cell_type": "code",
   "execution_count": 176,
   "metadata": {},
   "outputs": [
    {
     "name": "stderr",
     "output_type": "stream",
     "text": [
      "C:\\Users\\Susanne\\AppData\\Local\\Temp\\ipykernel_20036\\2954333646.py:4: FutureWarning: Passing literal html to 'read_html' is deprecated and will be removed in a future version. To read from a literal string, wrap it in a 'StringIO' object.\n",
      "  df = pd.read_html(response.text)[0]\n"
     ]
    }
   ],
   "source": [
    "ipo_2024_df = get_ipos_by_year(year=\"2024\")"
   ]
  },
  {
   "cell_type": "code",
   "execution_count": 177,
   "metadata": {},
   "outputs": [],
   "source": [
    "stacked_ipo_df = pd.concat([ipo_2023_df, ipo_2024_df], axis=0)"
   ]
  },
  {
   "cell_type": "code",
   "execution_count": 178,
   "metadata": {},
   "outputs": [
    {
     "data": {
      "text/html": [
       "<div>\n",
       "<style scoped>\n",
       "    .dataframe tbody tr th:only-of-type {\n",
       "        vertical-align: middle;\n",
       "    }\n",
       "\n",
       "    .dataframe tbody tr th {\n",
       "        vertical-align: top;\n",
       "    }\n",
       "\n",
       "    .dataframe thead th {\n",
       "        text-align: right;\n",
       "    }\n",
       "</style>\n",
       "<table border=\"1\" class=\"dataframe\">\n",
       "  <thead>\n",
       "    <tr style=\"text-align: right;\">\n",
       "      <th></th>\n",
       "      <th>IPO Date</th>\n",
       "      <th>Symbol</th>\n",
       "      <th>Company Name</th>\n",
       "      <th>IPO Price</th>\n",
       "      <th>Current</th>\n",
       "      <th>Return</th>\n",
       "    </tr>\n",
       "  </thead>\n",
       "  <tbody>\n",
       "    <tr>\n",
       "      <th>0</th>\n",
       "      <td>2023-12-27</td>\n",
       "      <td>IROH</td>\n",
       "      <td>Iron Horse Acquisitions Corp.</td>\n",
       "      <td>10.0</td>\n",
       "      <td>10.05</td>\n",
       "      <td>0.0050</td>\n",
       "    </tr>\n",
       "    <tr>\n",
       "      <th>1</th>\n",
       "      <td>2023-12-19</td>\n",
       "      <td>LGCB</td>\n",
       "      <td>Linkage Global Inc</td>\n",
       "      <td>4.0</td>\n",
       "      <td>3.10</td>\n",
       "      <td>-0.2250</td>\n",
       "    </tr>\n",
       "    <tr>\n",
       "      <th>2</th>\n",
       "      <td>2023-12-15</td>\n",
       "      <td>ZKH</td>\n",
       "      <td>ZKH Group Limited</td>\n",
       "      <td>15.5</td>\n",
       "      <td>12.34</td>\n",
       "      <td>-0.2039</td>\n",
       "    </tr>\n",
       "    <tr>\n",
       "      <th>3</th>\n",
       "      <td>2023-12-15</td>\n",
       "      <td>BAYA</td>\n",
       "      <td>Bayview Acquisition Corp</td>\n",
       "      <td>10.0</td>\n",
       "      <td>10.17</td>\n",
       "      <td>0.0170</td>\n",
       "    </tr>\n",
       "    <tr>\n",
       "      <th>4</th>\n",
       "      <td>2023-12-14</td>\n",
       "      <td>INHD</td>\n",
       "      <td>Inno Holdings Inc.</td>\n",
       "      <td>4.0</td>\n",
       "      <td>0.66</td>\n",
       "      <td>-0.8340</td>\n",
       "    </tr>\n",
       "  </tbody>\n",
       "</table>\n",
       "</div>"
      ],
      "text/plain": [
       "    IPO Date Symbol                   Company Name  IPO Price  Current  Return\n",
       "0 2023-12-27   IROH  Iron Horse Acquisitions Corp.       10.0    10.05  0.0050\n",
       "1 2023-12-19   LGCB             Linkage Global Inc        4.0     3.10 -0.2250\n",
       "2 2023-12-15    ZKH              ZKH Group Limited       15.5    12.34 -0.2039\n",
       "3 2023-12-15   BAYA       Bayview Acquisition Corp       10.0    10.17  0.0170\n",
       "4 2023-12-14   INHD             Inno Holdings Inc.        4.0     0.66 -0.8340"
      ]
     },
     "execution_count": 178,
     "metadata": {},
     "output_type": "execute_result"
    }
   ],
   "source": [
    "stacked_ipo_df.head()"
   ]
  },
  {
   "cell_type": "code",
   "execution_count": 179,
   "metadata": {},
   "outputs": [
    {
     "data": {
      "text/html": [
       "<div>\n",
       "<style scoped>\n",
       "    .dataframe tbody tr th:only-of-type {\n",
       "        vertical-align: middle;\n",
       "    }\n",
       "\n",
       "    .dataframe tbody tr th {\n",
       "        vertical-align: top;\n",
       "    }\n",
       "\n",
       "    .dataframe thead th {\n",
       "        text-align: right;\n",
       "    }\n",
       "</style>\n",
       "<table border=\"1\" class=\"dataframe\">\n",
       "  <thead>\n",
       "    <tr style=\"text-align: right;\">\n",
       "      <th></th>\n",
       "      <th>IPO Date</th>\n",
       "      <th>Symbol</th>\n",
       "      <th>Company Name</th>\n",
       "      <th>IPO Price</th>\n",
       "      <th>Current</th>\n",
       "      <th>Return</th>\n",
       "    </tr>\n",
       "  </thead>\n",
       "  <tbody>\n",
       "    <tr>\n",
       "      <th>59</th>\n",
       "      <td>NaT</td>\n",
       "      <td>PSBD</td>\n",
       "      <td>Palmer Square Capital BDC Inc.</td>\n",
       "      <td>16.45</td>\n",
       "      <td>16.47</td>\n",
       "      <td>0.0012</td>\n",
       "    </tr>\n",
       "    <tr>\n",
       "      <th>60</th>\n",
       "      <td>NaT</td>\n",
       "      <td>CCTG</td>\n",
       "      <td>CCSC Technology International Holdings Limited</td>\n",
       "      <td>6.00</td>\n",
       "      <td>2.32</td>\n",
       "      <td>-0.6133</td>\n",
       "    </tr>\n",
       "    <tr>\n",
       "      <th>61</th>\n",
       "      <td>NaT</td>\n",
       "      <td>SYNX</td>\n",
       "      <td>Silynxcom Ltd.</td>\n",
       "      <td>4.00</td>\n",
       "      <td>3.20</td>\n",
       "      <td>-0.2000</td>\n",
       "    </tr>\n",
       "    <tr>\n",
       "      <th>62</th>\n",
       "      <td>NaT</td>\n",
       "      <td>SDHC</td>\n",
       "      <td>Smith Douglas Homes Corp.</td>\n",
       "      <td>21.00</td>\n",
       "      <td>30.21</td>\n",
       "      <td>0.4386</td>\n",
       "    </tr>\n",
       "    <tr>\n",
       "      <th>63</th>\n",
       "      <td>NaT</td>\n",
       "      <td>ROMA</td>\n",
       "      <td>Roma Green Finance Limited</td>\n",
       "      <td>4.00</td>\n",
       "      <td>0.72</td>\n",
       "      <td>-0.8204</td>\n",
       "    </tr>\n",
       "  </tbody>\n",
       "</table>\n",
       "</div>"
      ],
      "text/plain": [
       "   IPO Date Symbol                                    Company Name  IPO Price  \\\n",
       "59      NaT   PSBD                  Palmer Square Capital BDC Inc.      16.45   \n",
       "60      NaT   CCTG  CCSC Technology International Holdings Limited       6.00   \n",
       "61      NaT   SYNX                                  Silynxcom Ltd.       4.00   \n",
       "62      NaT   SDHC                       Smith Douglas Homes Corp.      21.00   \n",
       "63      NaT   ROMA                      Roma Green Finance Limited       4.00   \n",
       "\n",
       "    Current  Return  \n",
       "59    16.47  0.0012  \n",
       "60     2.32 -0.6133  \n",
       "61     3.20 -0.2000  \n",
       "62    30.21  0.4386  \n",
       "63     0.72 -0.8204  "
      ]
     },
     "execution_count": 179,
     "metadata": {},
     "output_type": "execute_result"
    }
   ],
   "source": [
    "stacked_ipo_df.tail()"
   ]
  },
  {
   "cell_type": "code",
   "execution_count": 180,
   "metadata": {},
   "outputs": [
    {
     "data": {
      "text/html": [
       "<div>\n",
       "<style scoped>\n",
       "    .dataframe tbody tr th:only-of-type {\n",
       "        vertical-align: middle;\n",
       "    }\n",
       "\n",
       "    .dataframe tbody tr th {\n",
       "        vertical-align: top;\n",
       "    }\n",
       "\n",
       "    .dataframe thead th {\n",
       "        text-align: right;\n",
       "    }\n",
       "</style>\n",
       "<table border=\"1\" class=\"dataframe\">\n",
       "  <thead>\n",
       "    <tr style=\"text-align: right;\">\n",
       "      <th></th>\n",
       "      <th>IPO Date</th>\n",
       "      <th>Symbol</th>\n",
       "      <th>Company Name</th>\n",
       "      <th>IPO Price</th>\n",
       "      <th>Current</th>\n",
       "      <th>Return</th>\n",
       "    </tr>\n",
       "  </thead>\n",
       "  <tbody>\n",
       "    <tr>\n",
       "      <th>0</th>\n",
       "      <td>2023-12-27</td>\n",
       "      <td>IROH</td>\n",
       "      <td>Iron Horse Acquisitions Corp.</td>\n",
       "      <td>10.0</td>\n",
       "      <td>10.05</td>\n",
       "      <td>0.0050</td>\n",
       "    </tr>\n",
       "    <tr>\n",
       "      <th>1</th>\n",
       "      <td>2023-12-19</td>\n",
       "      <td>LGCB</td>\n",
       "      <td>Linkage Global Inc</td>\n",
       "      <td>4.0</td>\n",
       "      <td>3.10</td>\n",
       "      <td>-0.2250</td>\n",
       "    </tr>\n",
       "    <tr>\n",
       "      <th>2</th>\n",
       "      <td>2023-12-15</td>\n",
       "      <td>ZKH</td>\n",
       "      <td>ZKH Group Limited</td>\n",
       "      <td>15.5</td>\n",
       "      <td>12.34</td>\n",
       "      <td>-0.2039</td>\n",
       "    </tr>\n",
       "    <tr>\n",
       "      <th>3</th>\n",
       "      <td>2023-12-15</td>\n",
       "      <td>BAYA</td>\n",
       "      <td>Bayview Acquisition Corp</td>\n",
       "      <td>10.0</td>\n",
       "      <td>10.17</td>\n",
       "      <td>0.0170</td>\n",
       "    </tr>\n",
       "    <tr>\n",
       "      <th>4</th>\n",
       "      <td>2023-12-14</td>\n",
       "      <td>INHD</td>\n",
       "      <td>Inno Holdings Inc.</td>\n",
       "      <td>4.0</td>\n",
       "      <td>0.66</td>\n",
       "      <td>-0.8340</td>\n",
       "    </tr>\n",
       "    <tr>\n",
       "      <th>...</th>\n",
       "      <td>...</td>\n",
       "      <td>...</td>\n",
       "      <td>...</td>\n",
       "      <td>...</td>\n",
       "      <td>...</td>\n",
       "      <td>...</td>\n",
       "    </tr>\n",
       "    <tr>\n",
       "      <th>149</th>\n",
       "      <td>2023-01-25</td>\n",
       "      <td>QSG</td>\n",
       "      <td>QuantaSing Group Ltd</td>\n",
       "      <td>12.5</td>\n",
       "      <td>3.15</td>\n",
       "      <td>-0.7480</td>\n",
       "    </tr>\n",
       "    <tr>\n",
       "      <th>150</th>\n",
       "      <td>2023-01-20</td>\n",
       "      <td>CVKD</td>\n",
       "      <td>Cadrenal Therapeutics, Inc.</td>\n",
       "      <td>5.0</td>\n",
       "      <td>0.47</td>\n",
       "      <td>-0.9019</td>\n",
       "    </tr>\n",
       "    <tr>\n",
       "      <th>151</th>\n",
       "      <td>2023-01-13</td>\n",
       "      <td>SKWD</td>\n",
       "      <td>Skyward Specialty Insurance Group, Inc.</td>\n",
       "      <td>15.0</td>\n",
       "      <td>37.58</td>\n",
       "      <td>1.5053</td>\n",
       "    </tr>\n",
       "    <tr>\n",
       "      <th>152</th>\n",
       "      <td>2023-01-13</td>\n",
       "      <td>ISRL</td>\n",
       "      <td>Israel Acquisitions Corp</td>\n",
       "      <td>10.0</td>\n",
       "      <td>10.91</td>\n",
       "      <td>0.0910</td>\n",
       "    </tr>\n",
       "    <tr>\n",
       "      <th>153</th>\n",
       "      <td>2023-01-13</td>\n",
       "      <td>MGOL</td>\n",
       "      <td>MGO Global Inc.</td>\n",
       "      <td>5.0</td>\n",
       "      <td>0.23</td>\n",
       "      <td>-0.9536</td>\n",
       "    </tr>\n",
       "  </tbody>\n",
       "</table>\n",
       "<p>154 rows × 6 columns</p>\n",
       "</div>"
      ],
      "text/plain": [
       "      IPO Date Symbol                             Company Name  IPO Price  \\\n",
       "0   2023-12-27   IROH            Iron Horse Acquisitions Corp.       10.0   \n",
       "1   2023-12-19   LGCB                       Linkage Global Inc        4.0   \n",
       "2   2023-12-15    ZKH                        ZKH Group Limited       15.5   \n",
       "3   2023-12-15   BAYA                 Bayview Acquisition Corp       10.0   \n",
       "4   2023-12-14   INHD                       Inno Holdings Inc.        4.0   \n",
       "..         ...    ...                                      ...        ...   \n",
       "149 2023-01-25    QSG                     QuantaSing Group Ltd       12.5   \n",
       "150 2023-01-20   CVKD              Cadrenal Therapeutics, Inc.        5.0   \n",
       "151 2023-01-13   SKWD  Skyward Specialty Insurance Group, Inc.       15.0   \n",
       "152 2023-01-13   ISRL                 Israel Acquisitions Corp       10.0   \n",
       "153 2023-01-13   MGOL                          MGO Global Inc.        5.0   \n",
       "\n",
       "     Current  Return  \n",
       "0      10.05  0.0050  \n",
       "1       3.10 -0.2250  \n",
       "2      12.34 -0.2039  \n",
       "3      10.17  0.0170  \n",
       "4       0.66 -0.8340  \n",
       "..       ...     ...  \n",
       "149     3.15 -0.7480  \n",
       "150     0.47 -0.9019  \n",
       "151    37.58  1.5053  \n",
       "152    10.91  0.0910  \n",
       "153     0.23 -0.9536  \n",
       "\n",
       "[154 rows x 6 columns]"
      ]
     },
     "execution_count": 180,
     "metadata": {},
     "output_type": "execute_result"
    }
   ],
   "source": [
    "ipo_df = stacked_ipo_df[stacked_ipo_df[\"IPO Date\"]<\"2024-03-01\"]\n",
    "ipo_df"
   ]
  },
  {
   "cell_type": "markdown",
   "metadata": {},
   "source": [
    "# Rename ticker symbols\n",
    "PHTR to PHTRU"
   ]
  },
  {
   "cell_type": "code",
   "execution_count": 181,
   "metadata": {},
   "outputs": [],
   "source": [
    "ipo_df.loc[ipo_df[\"Symbol\"] == \"PHTR\"] = \"PHTRU\""
   ]
  },
  {
   "cell_type": "code",
   "execution_count": 182,
   "metadata": {},
   "outputs": [
    {
     "data": {
      "text/plain": [
       "['IROH',\n",
       " 'LGCB',\n",
       " 'ZKH',\n",
       " 'BAYA',\n",
       " 'INHD',\n",
       " 'AFJK',\n",
       " 'GSIW',\n",
       " 'FEBO',\n",
       " 'CLBR',\n",
       " 'ELAB',\n",
       " 'RR',\n",
       " 'DDC',\n",
       " 'SHIM',\n",
       " 'GLAC',\n",
       " 'SGN',\n",
       " 'HG',\n",
       " 'CRGX',\n",
       " 'ANSC',\n",
       " 'AITR',\n",
       " 'GVH',\n",
       " 'LXEO',\n",
       " 'PAPL',\n",
       " 'ATGL',\n",
       " 'MNR',\n",
       " 'WBUY',\n",
       " 'NCL',\n",
       " 'BIRK',\n",
       " 'GMM',\n",
       " 'PMEC',\n",
       " 'LRHC',\n",
       " 'GPAK',\n",
       " 'SPKL',\n",
       " 'QETA',\n",
       " 'MSS',\n",
       " 'ANL',\n",
       " 'SYRA',\n",
       " 'VSME',\n",
       " 'LRE',\n",
       " 'TURB',\n",
       " 'MDBH',\n",
       " 'KVYO',\n",
       " 'CART',\n",
       " 'DTCK',\n",
       " 'RYZB',\n",
       " 'NMRA',\n",
       " 'ARM',\n",
       " 'SPPL',\n",
       " 'NWGL',\n",
       " 'SWIN',\n",
       " 'IVP',\n",
       " 'NNAG',\n",
       " 'SRM',\n",
       " 'SPGC',\n",
       " 'LQR',\n",
       " 'NRXS',\n",
       " 'FTEL',\n",
       " 'MIRA',\n",
       " 'PXDT',\n",
       " 'CTNT',\n",
       " 'HRYU',\n",
       " 'SRFM',\n",
       " 'PRZO',\n",
       " 'HYAC',\n",
       " 'KVAC',\n",
       " 'JNVR',\n",
       " 'ELWS',\n",
       " 'WRNT',\n",
       " 'TSBX',\n",
       " 'ODD',\n",
       " 'APGE',\n",
       " 'NETD',\n",
       " 'SGMT',\n",
       " 'BOWN',\n",
       " 'SXTP',\n",
       " 'PWM',\n",
       " 'VTMX',\n",
       " 'INTS',\n",
       " 'SVV',\n",
       " 'KGS',\n",
       " 'FIHL',\n",
       " 'GENK',\n",
       " 'BUJA',\n",
       " 'BOF',\n",
       " 'AZTR',\n",
       " 'CAVA',\n",
       " 'ESHA',\n",
       " 'ATMU',\n",
       " 'ATS',\n",
       " 'IPXX',\n",
       " 'CWD',\n",
       " 'SGE',\n",
       " 'SLRN',\n",
       " 'ALCY',\n",
       " 'KVUE',\n",
       " 'GODN',\n",
       " 'TRNR',\n",
       " 'AACT',\n",
       " 'JYD',\n",
       " 'USGO',\n",
       " 'UCAR',\n",
       " 'WLGS',\n",
       " 'TPET',\n",
       " 'TCJH',\n",
       " 'GDTC',\n",
       " 'VCIG',\n",
       " 'GDHG',\n",
       " 'ARBB',\n",
       " 'ISPR',\n",
       " 'MGIH',\n",
       " 'MWG',\n",
       " 'HSHP',\n",
       " 'SFWL',\n",
       " 'SYT',\n",
       " 'HKIT',\n",
       " 'CHSN',\n",
       " 'TBMC',\n",
       " 'HLP',\n",
       " 'ZJYL',\n",
       " 'TMTC',\n",
       " 'YGFGF',\n",
       " 'OAKU',\n",
       " 'BANL',\n",
       " 'OMH',\n",
       " 'MGRX',\n",
       " 'FORL',\n",
       " 'ICG',\n",
       " 'IZM',\n",
       " 'AESI',\n",
       " 'AIXI',\n",
       " 'SBXC',\n",
       " 'BMR',\n",
       " 'DIST',\n",
       " 'GXAI',\n",
       " 'MARX',\n",
       " 'BFRG',\n",
       " 'ENLT',\n",
       " 'MLYS',\n",
       " 'PTHR',\n",
       " 'BLAC',\n",
       " 'NXT',\n",
       " 'HSAI',\n",
       " 'LSDI',\n",
       " 'LICN',\n",
       " 'GPCR',\n",
       " 'ASST',\n",
       " 'CETU',\n",
       " 'TXO',\n",
       " 'BREA',\n",
       " 'GNLX',\n",
       " 'QSG',\n",
       " 'CVKD',\n",
       " 'SKWD',\n",
       " 'ISRL',\n",
       " 'MGOL']"
      ]
     },
     "execution_count": 182,
     "metadata": {},
     "output_type": "execute_result"
    }
   ],
   "source": [
    "ipo_tickers = ipo_df[\"Symbol\"].to_list()\n",
    "ipo_tickers"
   ]
  },
  {
   "cell_type": "code",
   "execution_count": 183,
   "metadata": {},
   "outputs": [],
   "source": [
    "ipo_dates  = ipo_df[\"IPO Date\"].to_list()"
   ]
  },
  {
   "cell_type": "code",
   "execution_count": 184,
   "metadata": {},
   "outputs": [
    {
     "name": "stdout",
     "output_type": "stream",
     "text": [
      "1 - Getting historical data for IROH\n"
     ]
    },
    {
     "name": "stderr",
     "output_type": "stream",
     "text": [
      "[*********************100%%**********************]  1 of 1 completed\n",
      "\n",
      "1 Failed download:\n",
      "['IROH']: Exception(\"%ticker%: Data doesn't exist for startDate = 1703653200, endDate = 1707973200\")\n",
      "[*********************100%%**********************]  1 of 1 completed"
     ]
    },
    {
     "name": "stdout",
     "output_type": "stream",
     "text": [
      "2 - Getting historical data for LGCB\n"
     ]
    },
    {
     "name": "stderr",
     "output_type": "stream",
     "text": [
      "\n",
      "[*********************100%%**********************]  1 of 1 completed"
     ]
    },
    {
     "name": "stdout",
     "output_type": "stream",
     "text": [
      "3 - Getting historical data for ZKH\n"
     ]
    },
    {
     "name": "stderr",
     "output_type": "stream",
     "text": [
      "\n",
      "[*********************100%%**********************]  1 of 1 completed"
     ]
    },
    {
     "name": "stdout",
     "output_type": "stream",
     "text": [
      "4 - Getting historical data for BAYA\n"
     ]
    },
    {
     "name": "stderr",
     "output_type": "stream",
     "text": [
      "\n",
      "[*********************100%%**********************]  1 of 1 completed"
     ]
    },
    {
     "name": "stdout",
     "output_type": "stream",
     "text": [
      "5 - Getting historical data for INHD\n"
     ]
    },
    {
     "name": "stderr",
     "output_type": "stream",
     "text": [
      "\n"
     ]
    },
    {
     "name": "stdout",
     "output_type": "stream",
     "text": [
      "6 - Getting historical data for AFJK\n"
     ]
    },
    {
     "name": "stderr",
     "output_type": "stream",
     "text": [
      "[*********************100%%**********************]  1 of 1 completed\n",
      "\n",
      "1 Failed download:\n",
      "['AFJK']: Exception(\"%ticker%: Data doesn't exist for startDate = 1701666000, endDate = 1705986000\")\n",
      "[*********************100%%**********************]  1 of 1 completed"
     ]
    },
    {
     "name": "stdout",
     "output_type": "stream",
     "text": [
      "7 - Getting historical data for GSIW\n"
     ]
    },
    {
     "name": "stderr",
     "output_type": "stream",
     "text": [
      "\n",
      "[*********************100%%**********************]  1 of 1 completed"
     ]
    },
    {
     "name": "stdout",
     "output_type": "stream",
     "text": [
      "8 - Getting historical data for FEBO\n"
     ]
    },
    {
     "name": "stderr",
     "output_type": "stream",
     "text": [
      "\n"
     ]
    },
    {
     "name": "stdout",
     "output_type": "stream",
     "text": [
      "9 - Getting historical data for CLBR\n"
     ]
    },
    {
     "name": "stderr",
     "output_type": "stream",
     "text": [
      "[*********************100%%**********************]  1 of 1 completed\n",
      "\n",
      "1 Failed download:\n",
      "['CLBR']: Exception(\"%ticker%: Data doesn't exist for startDate = 1700542800, endDate = 1704862800\")\n",
      "[*********************100%%**********************]  1 of 1 completed"
     ]
    },
    {
     "name": "stdout",
     "output_type": "stream",
     "text": [
      "10 - Getting historical data for ELAB\n"
     ]
    },
    {
     "name": "stderr",
     "output_type": "stream",
     "text": [
      "\n",
      "[*********************100%%**********************]  1 of 1 completed"
     ]
    },
    {
     "name": "stdout",
     "output_type": "stream",
     "text": [
      "11 - Getting historical data for RR\n"
     ]
    },
    {
     "name": "stderr",
     "output_type": "stream",
     "text": [
      "\n",
      "[*********************100%%**********************]  1 of 1 completed"
     ]
    },
    {
     "name": "stdout",
     "output_type": "stream",
     "text": [
      "12 - Getting historical data for DDC\n"
     ]
    },
    {
     "name": "stderr",
     "output_type": "stream",
     "text": [
      "\n",
      "[*********************100%%**********************]  1 of 1 completed"
     ]
    },
    {
     "name": "stdout",
     "output_type": "stream",
     "text": [
      "13 - Getting historical data for SHIM\n"
     ]
    },
    {
     "name": "stderr",
     "output_type": "stream",
     "text": [
      "\n",
      "[*********************100%%**********************]  1 of 1 completed"
     ]
    },
    {
     "name": "stdout",
     "output_type": "stream",
     "text": [
      "14 - Getting historical data for GLAC\n"
     ]
    },
    {
     "name": "stderr",
     "output_type": "stream",
     "text": [
      "\n",
      "[*********************100%%**********************]  1 of 1 completed"
     ]
    },
    {
     "name": "stdout",
     "output_type": "stream",
     "text": [
      "15 - Getting historical data for SGN\n"
     ]
    },
    {
     "name": "stderr",
     "output_type": "stream",
     "text": [
      "\n",
      "[*********************100%%**********************]  1 of 1 completed"
     ]
    },
    {
     "name": "stdout",
     "output_type": "stream",
     "text": [
      "16 - Getting historical data for HG\n"
     ]
    },
    {
     "name": "stderr",
     "output_type": "stream",
     "text": [
      "\n",
      "[*********************100%%**********************]  1 of 1 completed"
     ]
    },
    {
     "name": "stdout",
     "output_type": "stream",
     "text": [
      "17 - Getting historical data for CRGX\n"
     ]
    },
    {
     "name": "stderr",
     "output_type": "stream",
     "text": [
      "\n"
     ]
    },
    {
     "name": "stdout",
     "output_type": "stream",
     "text": [
      "18 - Getting historical data for ANSC\n"
     ]
    },
    {
     "name": "stderr",
     "output_type": "stream",
     "text": [
      "[*********************100%%**********************]  1 of 1 completed\n",
      "\n",
      "1 Failed download:\n",
      "['ANSC']: Exception(\"%ticker%: Data doesn't exist for startDate = 1699506000, endDate = 1703826000\")\n"
     ]
    },
    {
     "name": "stdout",
     "output_type": "stream",
     "text": [
      "19 - Getting historical data for AITR\n"
     ]
    },
    {
     "name": "stderr",
     "output_type": "stream",
     "text": [
      "[*********************100%%**********************]  1 of 1 completed\n",
      "\n",
      "1 Failed download:\n",
      "['AITR']: Exception(\"%ticker%: Data doesn't exist for startDate = 1699506000, endDate = 1703826000\")\n",
      "[*********************100%%**********************]  1 of 1 completed"
     ]
    },
    {
     "name": "stdout",
     "output_type": "stream",
     "text": [
      "20 - Getting historical data for GVH\n"
     ]
    },
    {
     "name": "stderr",
     "output_type": "stream",
     "text": [
      "\n",
      "[*********************100%%**********************]  1 of 1 completed"
     ]
    },
    {
     "name": "stdout",
     "output_type": "stream",
     "text": [
      "21 - Getting historical data for LXEO\n"
     ]
    },
    {
     "name": "stderr",
     "output_type": "stream",
     "text": [
      "\n",
      "[*********************100%%**********************]  1 of 1 completed"
     ]
    },
    {
     "name": "stdout",
     "output_type": "stream",
     "text": [
      "22 - Getting historical data for PAPL\n"
     ]
    },
    {
     "name": "stderr",
     "output_type": "stream",
     "text": [
      "\n",
      "[*********************100%%**********************]  1 of 1 completed"
     ]
    },
    {
     "name": "stdout",
     "output_type": "stream",
     "text": [
      "23 - Getting historical data for ATGL\n"
     ]
    },
    {
     "name": "stderr",
     "output_type": "stream",
     "text": [
      "\n",
      "[*********************100%%**********************]  1 of 1 completed"
     ]
    },
    {
     "name": "stdout",
     "output_type": "stream",
     "text": [
      "24 - Getting historical data for MNR\n"
     ]
    },
    {
     "name": "stderr",
     "output_type": "stream",
     "text": [
      "\n",
      "[*********************100%%**********************]  1 of 1 completed"
     ]
    },
    {
     "name": "stdout",
     "output_type": "stream",
     "text": [
      "25 - Getting historical data for WBUY\n"
     ]
    },
    {
     "name": "stderr",
     "output_type": "stream",
     "text": [
      "\n",
      "[*********************100%%**********************]  1 of 1 completed"
     ]
    },
    {
     "name": "stdout",
     "output_type": "stream",
     "text": [
      "26 - Getting historical data for NCL\n"
     ]
    },
    {
     "name": "stderr",
     "output_type": "stream",
     "text": [
      "\n",
      "[*********************100%%**********************]  1 of 1 completed"
     ]
    },
    {
     "name": "stdout",
     "output_type": "stream",
     "text": [
      "27 - Getting historical data for BIRK\n"
     ]
    },
    {
     "name": "stderr",
     "output_type": "stream",
     "text": [
      "\n",
      "[*********************100%%**********************]  1 of 1 completed"
     ]
    },
    {
     "name": "stdout",
     "output_type": "stream",
     "text": [
      "28 - Getting historical data for GMM\n"
     ]
    },
    {
     "name": "stderr",
     "output_type": "stream",
     "text": [
      "\n",
      "[*********************100%%**********************]  1 of 1 completed"
     ]
    },
    {
     "name": "stdout",
     "output_type": "stream",
     "text": [
      "29 - Getting historical data for PMEC\n"
     ]
    },
    {
     "name": "stderr",
     "output_type": "stream",
     "text": [
      "\n",
      "[*********************100%%**********************]  1 of 1 completed"
     ]
    },
    {
     "name": "stdout",
     "output_type": "stream",
     "text": [
      "30 - Getting historical data for LRHC\n"
     ]
    },
    {
     "name": "stderr",
     "output_type": "stream",
     "text": [
      "\n",
      "[*********************100%%**********************]  1 of 1 completed"
     ]
    },
    {
     "name": "stdout",
     "output_type": "stream",
     "text": [
      "31 - Getting historical data for GPAK\n"
     ]
    },
    {
     "name": "stderr",
     "output_type": "stream",
     "text": [
      "\n"
     ]
    },
    {
     "name": "stdout",
     "output_type": "stream",
     "text": [
      "32 - Getting historical data for SPKL\n"
     ]
    },
    {
     "name": "stderr",
     "output_type": "stream",
     "text": [
      "[*********************100%%**********************]  1 of 1 completed\n",
      "\n",
      "1 Failed download:\n",
      "['SPKL']: Exception(\"%ticker%: Data doesn't exist for startDate = 1696564800, endDate = 1700888400\")\n"
     ]
    },
    {
     "name": "stdout",
     "output_type": "stream",
     "text": [
      "33 - Getting historical data for QETA\n"
     ]
    },
    {
     "name": "stderr",
     "output_type": "stream",
     "text": [
      "[*********************100%%**********************]  1 of 1 completed\n",
      "\n",
      "1 Failed download:\n",
      "['QETA']: Exception(\"%ticker%: Data doesn't exist for startDate = 1696564800, endDate = 1700888400\")\n",
      "[*********************100%%**********************]  1 of 1 completed"
     ]
    },
    {
     "name": "stdout",
     "output_type": "stream",
     "text": [
      "34 - Getting historical data for MSS\n"
     ]
    },
    {
     "name": "stderr",
     "output_type": "stream",
     "text": [
      "\n",
      "[*********************100%%**********************]  1 of 1 completed"
     ]
    },
    {
     "name": "stdout",
     "output_type": "stream",
     "text": [
      "35 - Getting historical data for ANL\n"
     ]
    },
    {
     "name": "stderr",
     "output_type": "stream",
     "text": [
      "\n",
      "[*********************100%%**********************]  1 of 1 completed"
     ]
    },
    {
     "name": "stdout",
     "output_type": "stream",
     "text": [
      "36 - Getting historical data for SYRA\n"
     ]
    },
    {
     "name": "stderr",
     "output_type": "stream",
     "text": [
      "\n",
      "[*********************100%%**********************]  1 of 1 completed"
     ]
    },
    {
     "name": "stdout",
     "output_type": "stream",
     "text": [
      "37 - Getting historical data for VSME\n"
     ]
    },
    {
     "name": "stderr",
     "output_type": "stream",
     "text": [
      "\n",
      "[*********************100%%**********************]  1 of 1 completed"
     ]
    },
    {
     "name": "stdout",
     "output_type": "stream",
     "text": [
      "38 - Getting historical data for LRE\n"
     ]
    },
    {
     "name": "stderr",
     "output_type": "stream",
     "text": [
      "\n",
      "[*********************100%%**********************]  1 of 1 completed"
     ]
    },
    {
     "name": "stdout",
     "output_type": "stream",
     "text": [
      "39 - Getting historical data for TURB\n"
     ]
    },
    {
     "name": "stderr",
     "output_type": "stream",
     "text": [
      "\n",
      "[*********************100%%**********************]  1 of 1 completed"
     ]
    },
    {
     "name": "stdout",
     "output_type": "stream",
     "text": [
      "40 - Getting historical data for MDBH\n"
     ]
    },
    {
     "name": "stderr",
     "output_type": "stream",
     "text": [
      "\n",
      "[*********************100%%**********************]  1 of 1 completed"
     ]
    },
    {
     "name": "stdout",
     "output_type": "stream",
     "text": [
      "41 - Getting historical data for KVYO\n"
     ]
    },
    {
     "name": "stderr",
     "output_type": "stream",
     "text": [
      "\n",
      "[*********************100%%**********************]  1 of 1 completed"
     ]
    },
    {
     "name": "stdout",
     "output_type": "stream",
     "text": [
      "42 - Getting historical data for CART\n"
     ]
    },
    {
     "name": "stderr",
     "output_type": "stream",
     "text": [
      "\n",
      "[*********************100%%**********************]  1 of 1 completed"
     ]
    },
    {
     "name": "stdout",
     "output_type": "stream",
     "text": [
      "43 - Getting historical data for DTCK\n"
     ]
    },
    {
     "name": "stderr",
     "output_type": "stream",
     "text": [
      "\n"
     ]
    },
    {
     "name": "stdout",
     "output_type": "stream",
     "text": [
      "44 - Getting historical data for RYZB\n"
     ]
    },
    {
     "name": "stderr",
     "output_type": "stream",
     "text": [
      "[*********************100%%**********************]  1 of 1 completed\n",
      "\n",
      "1 Failed download:\n",
      "['RYZB']: Exception('%ticker%: No timezone found, symbol may be delisted')\n",
      "[*********************100%%**********************]  1 of 1 completed"
     ]
    },
    {
     "name": "stdout",
     "output_type": "stream",
     "text": [
      "45 - Getting historical data for NMRA\n"
     ]
    },
    {
     "name": "stderr",
     "output_type": "stream",
     "text": [
      "\n",
      "[*********************100%%**********************]  1 of 1 completed"
     ]
    },
    {
     "name": "stdout",
     "output_type": "stream",
     "text": [
      "46 - Getting historical data for ARM\n"
     ]
    },
    {
     "name": "stderr",
     "output_type": "stream",
     "text": [
      "\n",
      "[*********************100%%**********************]  1 of 1 completed"
     ]
    },
    {
     "name": "stdout",
     "output_type": "stream",
     "text": [
      "47 - Getting historical data for SPPL\n"
     ]
    },
    {
     "name": "stderr",
     "output_type": "stream",
     "text": [
      "\n",
      "[*********************100%%**********************]  1 of 1 completed"
     ]
    },
    {
     "name": "stdout",
     "output_type": "stream",
     "text": [
      "48 - Getting historical data for NWGL\n"
     ]
    },
    {
     "name": "stderr",
     "output_type": "stream",
     "text": [
      "\n",
      "[*********************100%%**********************]  1 of 1 completed"
     ]
    },
    {
     "name": "stdout",
     "output_type": "stream",
     "text": [
      "49 - Getting historical data for SWIN\n"
     ]
    },
    {
     "name": "stderr",
     "output_type": "stream",
     "text": [
      "\n",
      "[*********************100%%**********************]  1 of 1 completed"
     ]
    },
    {
     "name": "stdout",
     "output_type": "stream",
     "text": [
      "50 - Getting historical data for IVP\n"
     ]
    },
    {
     "name": "stderr",
     "output_type": "stream",
     "text": [
      "\n"
     ]
    },
    {
     "name": "stdout",
     "output_type": "stream",
     "text": [
      "51 - Getting historical data for NNAG\n"
     ]
    },
    {
     "name": "stderr",
     "output_type": "stream",
     "text": [
      "[*********************100%%**********************]  1 of 1 completed\n",
      "\n",
      "1 Failed download:\n",
      "['NNAG']: Exception(\"%ticker%: Data doesn't exist for startDate = 1692331200, endDate = 1696651200\")\n",
      "[*********************100%%**********************]  1 of 1 completed"
     ]
    },
    {
     "name": "stdout",
     "output_type": "stream",
     "text": [
      "52 - Getting historical data for SRM\n"
     ]
    },
    {
     "name": "stderr",
     "output_type": "stream",
     "text": [
      "\n",
      "[*********************100%%**********************]  1 of 1 completed"
     ]
    },
    {
     "name": "stdout",
     "output_type": "stream",
     "text": [
      "53 - Getting historical data for SPGC\n"
     ]
    },
    {
     "name": "stderr",
     "output_type": "stream",
     "text": [
      "\n",
      "[*********************100%%**********************]  1 of 1 completed"
     ]
    },
    {
     "name": "stdout",
     "output_type": "stream",
     "text": [
      "54 - Getting historical data for LQR\n"
     ]
    },
    {
     "name": "stderr",
     "output_type": "stream",
     "text": [
      "\n",
      "[*********************100%%**********************]  1 of 1 completed"
     ]
    },
    {
     "name": "stdout",
     "output_type": "stream",
     "text": [
      "55 - Getting historical data for NRXS\n"
     ]
    },
    {
     "name": "stderr",
     "output_type": "stream",
     "text": [
      "\n",
      "[*********************100%%**********************]  1 of 1 completed"
     ]
    },
    {
     "name": "stdout",
     "output_type": "stream",
     "text": [
      "56 - Getting historical data for FTEL\n"
     ]
    },
    {
     "name": "stderr",
     "output_type": "stream",
     "text": [
      "\n",
      "[*********************100%%**********************]  1 of 1 completed"
     ]
    },
    {
     "name": "stdout",
     "output_type": "stream",
     "text": [
      "57 - Getting historical data for MIRA\n"
     ]
    },
    {
     "name": "stderr",
     "output_type": "stream",
     "text": [
      "\n",
      "[*********************100%%**********************]  1 of 1 completed"
     ]
    },
    {
     "name": "stdout",
     "output_type": "stream",
     "text": [
      "58 - Getting historical data for PXDT\n"
     ]
    },
    {
     "name": "stderr",
     "output_type": "stream",
     "text": [
      "\n",
      "[*********************100%%**********************]  1 of 1 completed"
     ]
    },
    {
     "name": "stdout",
     "output_type": "stream",
     "text": [
      "59 - Getting historical data for CTNT\n"
     ]
    },
    {
     "name": "stderr",
     "output_type": "stream",
     "text": [
      "\n",
      "[*********************100%%**********************]  1 of 1 completed"
     ]
    },
    {
     "name": "stdout",
     "output_type": "stream",
     "text": [
      "60 - Getting historical data for HRYU\n"
     ]
    },
    {
     "name": "stderr",
     "output_type": "stream",
     "text": [
      "\n",
      "[*********************100%%**********************]  1 of 1 completed"
     ]
    },
    {
     "name": "stdout",
     "output_type": "stream",
     "text": [
      "61 - Getting historical data for SRFM\n"
     ]
    },
    {
     "name": "stderr",
     "output_type": "stream",
     "text": [
      "\n",
      "[*********************100%%**********************]  1 of 1 completed"
     ]
    },
    {
     "name": "stdout",
     "output_type": "stream",
     "text": [
      "62 - Getting historical data for PRZO\n"
     ]
    },
    {
     "name": "stderr",
     "output_type": "stream",
     "text": [
      "\n"
     ]
    },
    {
     "name": "stdout",
     "output_type": "stream",
     "text": [
      "63 - Getting historical data for HYAC\n"
     ]
    },
    {
     "name": "stderr",
     "output_type": "stream",
     "text": [
      "[*********************100%%**********************]  1 of 1 completed\n",
      "\n",
      "1 Failed download:\n",
      "['HYAC']: Exception(\"%ticker%: Data doesn't exist for startDate = 1690344000, endDate = 1694664000\")\n"
     ]
    },
    {
     "name": "stdout",
     "output_type": "stream",
     "text": [
      "64 - Getting historical data for KVAC\n"
     ]
    },
    {
     "name": "stderr",
     "output_type": "stream",
     "text": [
      "[*********************100%%**********************]  1 of 1 completed\n",
      "\n",
      "1 Failed download:\n",
      "['KVAC']: Exception(\"%ticker%: Data doesn't exist for startDate = 1690257600, endDate = 1694577600\")\n",
      "[*********************100%%**********************]  1 of 1 completed"
     ]
    },
    {
     "name": "stdout",
     "output_type": "stream",
     "text": [
      "65 - Getting historical data for JNVR\n"
     ]
    },
    {
     "name": "stderr",
     "output_type": "stream",
     "text": [
      "\n",
      "[*********************100%%**********************]  1 of 1 completed"
     ]
    },
    {
     "name": "stdout",
     "output_type": "stream",
     "text": [
      "66 - Getting historical data for ELWS\n"
     ]
    },
    {
     "name": "stderr",
     "output_type": "stream",
     "text": [
      "\n",
      "[*********************100%%**********************]  1 of 1 completed"
     ]
    },
    {
     "name": "stdout",
     "output_type": "stream",
     "text": [
      "67 - Getting historical data for WRNT\n"
     ]
    },
    {
     "name": "stderr",
     "output_type": "stream",
     "text": [
      "\n",
      "[*********************100%%**********************]  1 of 1 completed"
     ]
    },
    {
     "name": "stdout",
     "output_type": "stream",
     "text": [
      "68 - Getting historical data for TSBX\n"
     ]
    },
    {
     "name": "stderr",
     "output_type": "stream",
     "text": [
      "\n",
      "[*********************100%%**********************]  1 of 1 completed"
     ]
    },
    {
     "name": "stdout",
     "output_type": "stream",
     "text": [
      "69 - Getting historical data for ODD\n"
     ]
    },
    {
     "name": "stderr",
     "output_type": "stream",
     "text": [
      "\n",
      "[*********************100%%**********************]  1 of 1 completed"
     ]
    },
    {
     "name": "stdout",
     "output_type": "stream",
     "text": [
      "70 - Getting historical data for APGE\n"
     ]
    },
    {
     "name": "stderr",
     "output_type": "stream",
     "text": [
      "\n"
     ]
    },
    {
     "name": "stdout",
     "output_type": "stream",
     "text": [
      "71 - Getting historical data for NETD\n"
     ]
    },
    {
     "name": "stderr",
     "output_type": "stream",
     "text": [
      "[*********************100%%**********************]  1 of 1 completed\n",
      "\n",
      "1 Failed download:\n",
      "['NETD']: Exception(\"%ticker%: Data doesn't exist for startDate = 1689307200, endDate = 1693627200\")\n",
      "[*********************100%%**********************]  1 of 1 completed"
     ]
    },
    {
     "name": "stdout",
     "output_type": "stream",
     "text": [
      "72 - Getting historical data for SGMT\n"
     ]
    },
    {
     "name": "stderr",
     "output_type": "stream",
     "text": [
      "\n"
     ]
    },
    {
     "name": "stdout",
     "output_type": "stream",
     "text": [
      "73 - Getting historical data for BOWN\n"
     ]
    },
    {
     "name": "stderr",
     "output_type": "stream",
     "text": [
      "[*********************100%%**********************]  1 of 1 completed\n",
      "\n",
      "1 Failed download:\n",
      "['BOWN']: Exception(\"%ticker%: Data doesn't exist for startDate = 1689134400, endDate = 1693454400\")\n",
      "[*********************100%%**********************]  1 of 1 completed"
     ]
    },
    {
     "name": "stdout",
     "output_type": "stream",
     "text": [
      "74 - Getting historical data for SXTP\n"
     ]
    },
    {
     "name": "stderr",
     "output_type": "stream",
     "text": [
      "\n",
      "[*********************100%%**********************]  1 of 1 completed"
     ]
    },
    {
     "name": "stdout",
     "output_type": "stream",
     "text": [
      "75 - Getting historical data for PWM\n"
     ]
    },
    {
     "name": "stderr",
     "output_type": "stream",
     "text": [
      "\n",
      "[*********************100%%**********************]  1 of 1 completed"
     ]
    },
    {
     "name": "stdout",
     "output_type": "stream",
     "text": [
      "76 - Getting historical data for VTMX\n"
     ]
    },
    {
     "name": "stderr",
     "output_type": "stream",
     "text": [
      "\n",
      "[*********************100%%**********************]  1 of 1 completed"
     ]
    },
    {
     "name": "stdout",
     "output_type": "stream",
     "text": [
      "77 - Getting historical data for INTS\n"
     ]
    },
    {
     "name": "stderr",
     "output_type": "stream",
     "text": [
      "\n",
      "[*********************100%%**********************]  1 of 1 completed"
     ]
    },
    {
     "name": "stdout",
     "output_type": "stream",
     "text": [
      "78 - Getting historical data for SVV\n"
     ]
    },
    {
     "name": "stderr",
     "output_type": "stream",
     "text": [
      "\n",
      "[*********************100%%**********************]  1 of 1 completed"
     ]
    },
    {
     "name": "stdout",
     "output_type": "stream",
     "text": [
      "79 - Getting historical data for KGS\n"
     ]
    },
    {
     "name": "stderr",
     "output_type": "stream",
     "text": [
      "\n",
      "[*********************100%%**********************]  1 of 1 completed"
     ]
    },
    {
     "name": "stdout",
     "output_type": "stream",
     "text": [
      "80 - Getting historical data for FIHL\n"
     ]
    },
    {
     "name": "stderr",
     "output_type": "stream",
     "text": [
      "\n",
      "[*********************100%%**********************]  1 of 1 completed"
     ]
    },
    {
     "name": "stdout",
     "output_type": "stream",
     "text": [
      "81 - Getting historical data for GENK\n"
     ]
    },
    {
     "name": "stderr",
     "output_type": "stream",
     "text": [
      "\n"
     ]
    },
    {
     "name": "stdout",
     "output_type": "stream",
     "text": [
      "82 - Getting historical data for BUJA\n"
     ]
    },
    {
     "name": "stderr",
     "output_type": "stream",
     "text": [
      "[*********************100%%**********************]  1 of 1 completed\n",
      "\n",
      "1 Failed download:\n",
      "['BUJA']: Exception(\"%ticker%: Data doesn't exist for startDate = 1687924800, endDate = 1692244800\")\n",
      "[*********************100%%**********************]  1 of 1 completed"
     ]
    },
    {
     "name": "stdout",
     "output_type": "stream",
     "text": [
      "83 - Getting historical data for BOF\n"
     ]
    },
    {
     "name": "stderr",
     "output_type": "stream",
     "text": [
      "\n",
      "[*********************100%%**********************]  1 of 1 completed"
     ]
    },
    {
     "name": "stdout",
     "output_type": "stream",
     "text": [
      "84 - Getting historical data for AZTR\n"
     ]
    },
    {
     "name": "stderr",
     "output_type": "stream",
     "text": [
      "\n",
      "[*********************100%%**********************]  1 of 1 completed"
     ]
    },
    {
     "name": "stdout",
     "output_type": "stream",
     "text": [
      "85 - Getting historical data for CAVA\n"
     ]
    },
    {
     "name": "stderr",
     "output_type": "stream",
     "text": [
      "\n",
      "[*********************100%%**********************]  1 of 1 completed"
     ]
    },
    {
     "name": "stdout",
     "output_type": "stream",
     "text": [
      "86 - Getting historical data for ESHA\n"
     ]
    },
    {
     "name": "stderr",
     "output_type": "stream",
     "text": [
      "\n",
      "[*********************100%%**********************]  1 of 1 completed"
     ]
    },
    {
     "name": "stdout",
     "output_type": "stream",
     "text": [
      "87 - Getting historical data for ATMU\n"
     ]
    },
    {
     "name": "stderr",
     "output_type": "stream",
     "text": [
      "\n",
      "[*********************100%%**********************]  1 of 1 completed"
     ]
    },
    {
     "name": "stdout",
     "output_type": "stream",
     "text": [
      "88 - Getting historical data for ATS\n"
     ]
    },
    {
     "name": "stderr",
     "output_type": "stream",
     "text": [
      "\n"
     ]
    },
    {
     "name": "stdout",
     "output_type": "stream",
     "text": [
      "89 - Getting historical data for IPXX\n"
     ]
    },
    {
     "name": "stderr",
     "output_type": "stream",
     "text": [
      "[*********************100%%**********************]  1 of 1 completed\n",
      "\n",
      "1 Failed download:\n",
      "['IPXX']: Exception(\"%ticker%: Data doesn't exist for startDate = 1684987200, endDate = 1689307200\")\n",
      "[*********************100%%**********************]  1 of 1 completed"
     ]
    },
    {
     "name": "stdout",
     "output_type": "stream",
     "text": [
      "90 - Getting historical data for CWD\n"
     ]
    },
    {
     "name": "stderr",
     "output_type": "stream",
     "text": [
      "\n",
      "[*********************100%%**********************]  1 of 1 completed"
     ]
    },
    {
     "name": "stdout",
     "output_type": "stream",
     "text": [
      "91 - Getting historical data for SGE\n"
     ]
    },
    {
     "name": "stderr",
     "output_type": "stream",
     "text": [
      "\n",
      "[*********************100%%**********************]  1 of 1 completed"
     ]
    },
    {
     "name": "stdout",
     "output_type": "stream",
     "text": [
      "92 - Getting historical data for SLRN\n"
     ]
    },
    {
     "name": "stderr",
     "output_type": "stream",
     "text": [
      "\n"
     ]
    },
    {
     "name": "stdout",
     "output_type": "stream",
     "text": [
      "93 - Getting historical data for ALCY\n"
     ]
    },
    {
     "name": "stderr",
     "output_type": "stream",
     "text": [
      "[*********************100%%**********************]  1 of 1 completed\n",
      "\n",
      "1 Failed download:\n",
      "['ALCY']: Exception(\"%ticker%: Data doesn't exist for startDate = 1683259200, endDate = 1687579200\")\n",
      "[*********************100%%**********************]  1 of 1 completed"
     ]
    },
    {
     "name": "stdout",
     "output_type": "stream",
     "text": [
      "94 - Getting historical data for KVUE\n"
     ]
    },
    {
     "name": "stderr",
     "output_type": "stream",
     "text": [
      "\n"
     ]
    },
    {
     "name": "stdout",
     "output_type": "stream",
     "text": [
      "95 - Getting historical data for GODN\n"
     ]
    },
    {
     "name": "stderr",
     "output_type": "stream",
     "text": [
      "[*********************100%%**********************]  1 of 1 completed\n",
      "\n",
      "1 Failed download:\n",
      "['GODN']: Exception(\"%ticker%: Data doesn't exist for startDate = 1683000000, endDate = 1687320000\")\n",
      "[*********************100%%**********************]  1 of 1 completed"
     ]
    },
    {
     "name": "stdout",
     "output_type": "stream",
     "text": [
      "96 - Getting historical data for TRNR\n"
     ]
    },
    {
     "name": "stderr",
     "output_type": "stream",
     "text": [
      "\n"
     ]
    },
    {
     "name": "stdout",
     "output_type": "stream",
     "text": [
      "97 - Getting historical data for AACT\n"
     ]
    },
    {
     "name": "stderr",
     "output_type": "stream",
     "text": [
      "[*********************100%%**********************]  1 of 1 completed\n",
      "\n",
      "1 Failed download:\n",
      "['AACT']: Exception(\"%ticker%: Data doesn't exist for startDate = 1682049600, endDate = 1686369600\")\n",
      "[*********************100%%**********************]  1 of 1 completed"
     ]
    },
    {
     "name": "stdout",
     "output_type": "stream",
     "text": [
      "98 - Getting historical data for JYD\n"
     ]
    },
    {
     "name": "stderr",
     "output_type": "stream",
     "text": [
      "\n",
      "[*********************100%%**********************]  1 of 1 completed"
     ]
    },
    {
     "name": "stdout",
     "output_type": "stream",
     "text": [
      "99 - Getting historical data for USGO\n"
     ]
    },
    {
     "name": "stderr",
     "output_type": "stream",
     "text": [
      "\n",
      "[*********************100%%**********************]  1 of 1 completed"
     ]
    },
    {
     "name": "stdout",
     "output_type": "stream",
     "text": [
      "100 - Getting historical data for UCAR\n"
     ]
    },
    {
     "name": "stderr",
     "output_type": "stream",
     "text": [
      "\n",
      "[*********************100%%**********************]  1 of 1 completed"
     ]
    },
    {
     "name": "stdout",
     "output_type": "stream",
     "text": [
      "101 - Getting historical data for WLGS\n"
     ]
    },
    {
     "name": "stderr",
     "output_type": "stream",
     "text": [
      "\n",
      "[*********************100%%**********************]  1 of 1 completed"
     ]
    },
    {
     "name": "stdout",
     "output_type": "stream",
     "text": [
      "102 - Getting historical data for TPET\n"
     ]
    },
    {
     "name": "stderr",
     "output_type": "stream",
     "text": [
      "\n",
      "[*********************100%%**********************]  1 of 1 completed"
     ]
    },
    {
     "name": "stdout",
     "output_type": "stream",
     "text": [
      "103 - Getting historical data for TCJH\n"
     ]
    },
    {
     "name": "stderr",
     "output_type": "stream",
     "text": [
      "\n",
      "[*********************100%%**********************]  1 of 1 completed"
     ]
    },
    {
     "name": "stdout",
     "output_type": "stream",
     "text": [
      "104 - Getting historical data for GDTC\n"
     ]
    },
    {
     "name": "stderr",
     "output_type": "stream",
     "text": [
      "\n",
      "[*********************100%%**********************]  1 of 1 completed"
     ]
    },
    {
     "name": "stdout",
     "output_type": "stream",
     "text": [
      "105 - Getting historical data for VCIG\n"
     ]
    },
    {
     "name": "stderr",
     "output_type": "stream",
     "text": [
      "\n",
      "[*********************100%%**********************]  1 of 1 completed"
     ]
    },
    {
     "name": "stdout",
     "output_type": "stream",
     "text": [
      "106 - Getting historical data for GDHG\n"
     ]
    },
    {
     "name": "stderr",
     "output_type": "stream",
     "text": [
      "\n",
      "[*********************100%%**********************]  1 of 1 completed"
     ]
    },
    {
     "name": "stdout",
     "output_type": "stream",
     "text": [
      "107 - Getting historical data for ARBB\n"
     ]
    },
    {
     "name": "stderr",
     "output_type": "stream",
     "text": [
      "\n",
      "[*********************100%%**********************]  1 of 1 completed"
     ]
    },
    {
     "name": "stdout",
     "output_type": "stream",
     "text": [
      "108 - Getting historical data for ISPR\n"
     ]
    },
    {
     "name": "stderr",
     "output_type": "stream",
     "text": [
      "\n",
      "[*********************100%%**********************]  1 of 1 completed"
     ]
    },
    {
     "name": "stdout",
     "output_type": "stream",
     "text": [
      "109 - Getting historical data for MGIH\n"
     ]
    },
    {
     "name": "stderr",
     "output_type": "stream",
     "text": [
      "\n",
      "[*********************100%%**********************]  1 of 1 completed"
     ]
    },
    {
     "name": "stdout",
     "output_type": "stream",
     "text": [
      "110 - Getting historical data for MWG\n"
     ]
    },
    {
     "name": "stderr",
     "output_type": "stream",
     "text": [
      "\n",
      "[*********************100%%**********************]  1 of 1 completed"
     ]
    },
    {
     "name": "stdout",
     "output_type": "stream",
     "text": [
      "111 - Getting historical data for HSHP\n"
     ]
    },
    {
     "name": "stderr",
     "output_type": "stream",
     "text": [
      "\n",
      "[*********************100%%**********************]  1 of 1 completed"
     ]
    },
    {
     "name": "stdout",
     "output_type": "stream",
     "text": [
      "112 - Getting historical data for SFWL\n"
     ]
    },
    {
     "name": "stderr",
     "output_type": "stream",
     "text": [
      "\n",
      "[*********************100%%**********************]  1 of 1 completed"
     ]
    },
    {
     "name": "stdout",
     "output_type": "stream",
     "text": [
      "113 - Getting historical data for SYT\n"
     ]
    },
    {
     "name": "stderr",
     "output_type": "stream",
     "text": [
      "\n",
      "[*********************100%%**********************]  1 of 1 completed"
     ]
    },
    {
     "name": "stdout",
     "output_type": "stream",
     "text": [
      "114 - Getting historical data for HKIT\n"
     ]
    },
    {
     "name": "stderr",
     "output_type": "stream",
     "text": [
      "\n",
      "[*********************100%%**********************]  1 of 1 completed"
     ]
    },
    {
     "name": "stdout",
     "output_type": "stream",
     "text": [
      "115 - Getting historical data for CHSN\n"
     ]
    },
    {
     "name": "stderr",
     "output_type": "stream",
     "text": [
      "\n",
      "[*********************100%%**********************]  1 of 1 completed"
     ]
    },
    {
     "name": "stdout",
     "output_type": "stream",
     "text": [
      "116 - Getting historical data for TBMC\n"
     ]
    },
    {
     "name": "stderr",
     "output_type": "stream",
     "text": [
      "\n",
      "[*********************100%%**********************]  1 of 1 completed"
     ]
    },
    {
     "name": "stdout",
     "output_type": "stream",
     "text": [
      "117 - Getting historical data for HLP\n"
     ]
    },
    {
     "name": "stderr",
     "output_type": "stream",
     "text": [
      "\n",
      "[*********************100%%**********************]  1 of 1 completed"
     ]
    },
    {
     "name": "stdout",
     "output_type": "stream",
     "text": [
      "118 - Getting historical data for ZJYL\n"
     ]
    },
    {
     "name": "stderr",
     "output_type": "stream",
     "text": [
      "\n",
      "[*********************100%%**********************]  1 of 1 completed"
     ]
    },
    {
     "name": "stdout",
     "output_type": "stream",
     "text": [
      "119 - Getting historical data for TMTC\n"
     ]
    },
    {
     "name": "stderr",
     "output_type": "stream",
     "text": [
      "\n",
      "[*********************100%%**********************]  1 of 1 completed"
     ]
    },
    {
     "name": "stdout",
     "output_type": "stream",
     "text": [
      "120 - Getting historical data for YGFGF\n"
     ]
    },
    {
     "name": "stderr",
     "output_type": "stream",
     "text": [
      "\n"
     ]
    },
    {
     "name": "stdout",
     "output_type": "stream",
     "text": [
      "121 - Getting historical data for OAKU\n"
     ]
    },
    {
     "name": "stderr",
     "output_type": "stream",
     "text": [
      "[*********************100%%**********************]  1 of 1 completed\n",
      "\n",
      "1 Failed download:\n",
      "['OAKU']: Exception(\"%ticker%: Data doesn't exist for startDate = 1679630400, endDate = 1683950400\")\n",
      "[*********************100%%**********************]  1 of 1 completed"
     ]
    },
    {
     "name": "stdout",
     "output_type": "stream",
     "text": [
      "122 - Getting historical data for BANL\n"
     ]
    },
    {
     "name": "stderr",
     "output_type": "stream",
     "text": [
      "\n",
      "[*********************100%%**********************]  1 of 1 completed"
     ]
    },
    {
     "name": "stdout",
     "output_type": "stream",
     "text": [
      "123 - Getting historical data for OMH\n"
     ]
    },
    {
     "name": "stderr",
     "output_type": "stream",
     "text": [
      "\n",
      "[*********************100%%**********************]  1 of 1 completed"
     ]
    },
    {
     "name": "stdout",
     "output_type": "stream",
     "text": [
      "124 - Getting historical data for MGRX\n"
     ]
    },
    {
     "name": "stderr",
     "output_type": "stream",
     "text": [
      "\n"
     ]
    },
    {
     "name": "stdout",
     "output_type": "stream",
     "text": [
      "125 - Getting historical data for FORL\n"
     ]
    },
    {
     "name": "stderr",
     "output_type": "stream",
     "text": [
      "[*********************100%%**********************]  1 of 1 completed\n",
      "\n",
      "1 Failed download:\n",
      "['FORL']: Exception(\"%ticker%: Data doesn't exist for startDate = 1679025600, endDate = 1683345600\")\n",
      "[*********************100%%**********************]  1 of 1 completed"
     ]
    },
    {
     "name": "stdout",
     "output_type": "stream",
     "text": [
      "126 - Getting historical data for ICG\n"
     ]
    },
    {
     "name": "stderr",
     "output_type": "stream",
     "text": [
      "\n",
      "[*********************100%%**********************]  1 of 1 completed"
     ]
    },
    {
     "name": "stdout",
     "output_type": "stream",
     "text": [
      "127 - Getting historical data for IZM\n"
     ]
    },
    {
     "name": "stderr",
     "output_type": "stream",
     "text": [
      "\n",
      "[*********************100%%**********************]  1 of 1 completed"
     ]
    },
    {
     "name": "stdout",
     "output_type": "stream",
     "text": [
      "128 - Getting historical data for AESI\n"
     ]
    },
    {
     "name": "stderr",
     "output_type": "stream",
     "text": [
      "\n",
      "[*********************100%%**********************]  1 of 1 completed"
     ]
    },
    {
     "name": "stdout",
     "output_type": "stream",
     "text": [
      "129 - Getting historical data for AIXI\n"
     ]
    },
    {
     "name": "stderr",
     "output_type": "stream",
     "text": [
      "\n"
     ]
    },
    {
     "name": "stdout",
     "output_type": "stream",
     "text": [
      "130 - Getting historical data for SBXC\n"
     ]
    },
    {
     "name": "stderr",
     "output_type": "stream",
     "text": [
      "[*********************100%%**********************]  1 of 1 completed\n",
      "\n",
      "1 Failed download:\n",
      "['SBXC']: Exception(\"%ticker%: Data doesn't exist for startDate = 1677560400, endDate = 1681876800\")\n",
      "[*********************100%%**********************]  1 of 1 completed"
     ]
    },
    {
     "name": "stdout",
     "output_type": "stream",
     "text": [
      "131 - Getting historical data for BMR\n"
     ]
    },
    {
     "name": "stderr",
     "output_type": "stream",
     "text": [
      "\n",
      "[*********************100%%**********************]  1 of 1 completed"
     ]
    },
    {
     "name": "stdout",
     "output_type": "stream",
     "text": [
      "132 - Getting historical data for DIST\n"
     ]
    },
    {
     "name": "stderr",
     "output_type": "stream",
     "text": [
      "\n",
      "[*********************100%%**********************]  1 of 1 completed"
     ]
    },
    {
     "name": "stdout",
     "output_type": "stream",
     "text": [
      "133 - Getting historical data for GXAI\n"
     ]
    },
    {
     "name": "stderr",
     "output_type": "stream",
     "text": [
      "\n",
      "[*********************100%%**********************]  1 of 1 completed"
     ]
    },
    {
     "name": "stdout",
     "output_type": "stream",
     "text": [
      "134 - Getting historical data for MARX\n"
     ]
    },
    {
     "name": "stderr",
     "output_type": "stream",
     "text": [
      "\n",
      "[*********************100%%**********************]  1 of 1 completed"
     ]
    },
    {
     "name": "stdout",
     "output_type": "stream",
     "text": [
      "135 - Getting historical data for BFRG\n"
     ]
    },
    {
     "name": "stderr",
     "output_type": "stream",
     "text": [
      "\n",
      "[*********************100%%**********************]  1 of 1 completed"
     ]
    },
    {
     "name": "stdout",
     "output_type": "stream",
     "text": [
      "136 - Getting historical data for ENLT\n"
     ]
    },
    {
     "name": "stderr",
     "output_type": "stream",
     "text": [
      "\n",
      "[*********************100%%**********************]  1 of 1 completed"
     ]
    },
    {
     "name": "stdout",
     "output_type": "stream",
     "text": [
      "137 - Getting historical data for MLYS\n"
     ]
    },
    {
     "name": "stderr",
     "output_type": "stream",
     "text": [
      "\n"
     ]
    },
    {
     "name": "stdout",
     "output_type": "stream",
     "text": [
      "138 - Getting historical data for PTHR\n"
     ]
    },
    {
     "name": "stderr",
     "output_type": "stream",
     "text": [
      "[*********************100%%**********************]  1 of 1 completed\n",
      "\n",
      "1 Failed download:\n",
      "['PTHR']: Exception('%ticker%: No timezone found, symbol may be delisted')\n",
      "[*********************100%%**********************]  1 of 1 completed"
     ]
    },
    {
     "name": "stdout",
     "output_type": "stream",
     "text": [
      "139 - Getting historical data for BLAC\n"
     ]
    },
    {
     "name": "stderr",
     "output_type": "stream",
     "text": [
      "\n",
      "[*********************100%%**********************]  1 of 1 completed"
     ]
    },
    {
     "name": "stdout",
     "output_type": "stream",
     "text": [
      "140 - Getting historical data for NXT\n"
     ]
    },
    {
     "name": "stderr",
     "output_type": "stream",
     "text": [
      "\n",
      "[*********************100%%**********************]  1 of 1 completed"
     ]
    },
    {
     "name": "stdout",
     "output_type": "stream",
     "text": [
      "141 - Getting historical data for HSAI\n"
     ]
    },
    {
     "name": "stderr",
     "output_type": "stream",
     "text": [
      "\n",
      "[*********************100%%**********************]  1 of 1 completed"
     ]
    },
    {
     "name": "stdout",
     "output_type": "stream",
     "text": [
      "142 - Getting historical data for LSDI\n"
     ]
    },
    {
     "name": "stderr",
     "output_type": "stream",
     "text": [
      "\n",
      "[*********************100%%**********************]  1 of 1 completed"
     ]
    },
    {
     "name": "stdout",
     "output_type": "stream",
     "text": [
      "143 - Getting historical data for LICN\n"
     ]
    },
    {
     "name": "stderr",
     "output_type": "stream",
     "text": [
      "\n",
      "[*********************100%%**********************]  1 of 1 completed"
     ]
    },
    {
     "name": "stdout",
     "output_type": "stream",
     "text": [
      "144 - Getting historical data for GPCR\n"
     ]
    },
    {
     "name": "stderr",
     "output_type": "stream",
     "text": [
      "\n",
      "[*********************100%%**********************]  1 of 1 completed"
     ]
    },
    {
     "name": "stdout",
     "output_type": "stream",
     "text": [
      "145 - Getting historical data for ASST\n"
     ]
    },
    {
     "name": "stderr",
     "output_type": "stream",
     "text": [
      "\n"
     ]
    },
    {
     "name": "stdout",
     "output_type": "stream",
     "text": [
      "146 - Getting historical data for CETU\n"
     ]
    },
    {
     "name": "stderr",
     "output_type": "stream",
     "text": [
      "[*********************100%%**********************]  1 of 1 completed\n",
      "\n",
      "1 Failed download:\n",
      "['CETU']: Exception(\"%ticker%: Data doesn't exist for startDate = 1675227600, endDate = 1679544000\")\n",
      "[*********************100%%**********************]  1 of 1 completed"
     ]
    },
    {
     "name": "stdout",
     "output_type": "stream",
     "text": [
      "147 - Getting historical data for TXO\n"
     ]
    },
    {
     "name": "stderr",
     "output_type": "stream",
     "text": [
      "\n",
      "[*********************100%%**********************]  1 of 1 completed"
     ]
    },
    {
     "name": "stdout",
     "output_type": "stream",
     "text": [
      "148 - Getting historical data for BREA\n"
     ]
    },
    {
     "name": "stderr",
     "output_type": "stream",
     "text": [
      "\n",
      "[*********************100%%**********************]  1 of 1 completed"
     ]
    },
    {
     "name": "stdout",
     "output_type": "stream",
     "text": [
      "149 - Getting historical data for GNLX\n"
     ]
    },
    {
     "name": "stderr",
     "output_type": "stream",
     "text": [
      "\n",
      "[*********************100%%**********************]  1 of 1 completed"
     ]
    },
    {
     "name": "stdout",
     "output_type": "stream",
     "text": [
      "150 - Getting historical data for QSG\n"
     ]
    },
    {
     "name": "stderr",
     "output_type": "stream",
     "text": [
      "\n",
      "[*********************100%%**********************]  1 of 1 completed"
     ]
    },
    {
     "name": "stdout",
     "output_type": "stream",
     "text": [
      "151 - Getting historical data for CVKD\n"
     ]
    },
    {
     "name": "stderr",
     "output_type": "stream",
     "text": [
      "\n",
      "[*********************100%%**********************]  1 of 1 completed"
     ]
    },
    {
     "name": "stdout",
     "output_type": "stream",
     "text": [
      "152 - Getting historical data for SKWD\n"
     ]
    },
    {
     "name": "stderr",
     "output_type": "stream",
     "text": [
      "\n",
      "[*********************100%%**********************]  1 of 1 completed"
     ]
    },
    {
     "name": "stdout",
     "output_type": "stream",
     "text": [
      "153 - Getting historical data for ISRL\n"
     ]
    },
    {
     "name": "stderr",
     "output_type": "stream",
     "text": [
      "\n",
      "[*********************100%%**********************]  1 of 1 completed"
     ]
    },
    {
     "name": "stdout",
     "output_type": "stream",
     "text": [
      "154 - Getting historical data for MGOL\n"
     ]
    },
    {
     "name": "stderr",
     "output_type": "stream",
     "text": [
      "\n"
     ]
    }
   ],
   "source": [
    "historical_price_dfs =[]\n",
    "failed_tickers = []\n",
    "i = 0\n",
    "for ticker, ipo_date in (zip(ipo_tickers, ipo_dates)):\n",
    "    i = i+ 1\n",
    "    start = ipo_date\n",
    "    end = ipo_date + dt.timedelta(days=50)\n",
    "    print(f\"{i} - Getting historical data for {ticker}\")\n",
    "    try:\n",
    "        historyPrices = yf.download(tickers=ticker,\n",
    "                        start=start,\n",
    "                        end=end,\n",
    "                        interval=\"1d\")\n",
    "        historyPrices[\"Ticker\"] = ticker\n",
    "        if len(historyPrices) >0:\n",
    "            historical_price_dfs.append(historyPrices)\n",
    "        else:\n",
    "            failed_tickers.append(ticker)\n",
    "    except:\n",
    "        failed_tickers.append(ticker)\n",
    "    # sleep 1 sec between downloads - not to overload the API server\n",
    "    time.sleep(1)"
   ]
  },
  {
   "cell_type": "code",
   "execution_count": 28,
   "metadata": {},
   "outputs": [
    {
     "data": {
      "text/plain": [
       "131"
      ]
     },
     "execution_count": 28,
     "metadata": {},
     "output_type": "execute_result"
    }
   ],
   "source": [
    "len(historical_price_dfs)"
   ]
  },
  {
   "cell_type": "code",
   "execution_count": 29,
   "metadata": {},
   "outputs": [
    {
     "data": {
      "text/plain": [
       "33"
      ]
     },
     "execution_count": 29,
     "metadata": {},
     "output_type": "execute_result"
    }
   ],
   "source": [
    "len(historical_price_dfs[3])"
   ]
  },
  {
   "cell_type": "code",
   "execution_count": 30,
   "metadata": {},
   "outputs": [
    {
     "data": {
      "text/plain": [
       "23"
      ]
     },
     "execution_count": 30,
     "metadata": {},
     "output_type": "execute_result"
    }
   ],
   "source": [
    "len(failed_tickers)"
   ]
  },
  {
   "cell_type": "code",
   "execution_count": 31,
   "metadata": {},
   "outputs": [
    {
     "data": {
      "text/html": [
       "<div>\n",
       "<style scoped>\n",
       "    .dataframe tbody tr th:only-of-type {\n",
       "        vertical-align: middle;\n",
       "    }\n",
       "\n",
       "    .dataframe tbody tr th {\n",
       "        vertical-align: top;\n",
       "    }\n",
       "\n",
       "    .dataframe thead th {\n",
       "        text-align: right;\n",
       "    }\n",
       "</style>\n",
       "<table border=\"1\" class=\"dataframe\">\n",
       "  <thead>\n",
       "    <tr style=\"text-align: right;\">\n",
       "      <th></th>\n",
       "      <th>IPO Date</th>\n",
       "      <th>Symbol</th>\n",
       "      <th>Company Name</th>\n",
       "      <th>IPO Price</th>\n",
       "      <th>Current</th>\n",
       "      <th>Return</th>\n",
       "    </tr>\n",
       "  </thead>\n",
       "  <tbody>\n",
       "    <tr>\n",
       "      <th>0</th>\n",
       "      <td>2023-12-27</td>\n",
       "      <td>IROH</td>\n",
       "      <td>Iron Horse Acquisitions Corp.</td>\n",
       "      <td>10.0</td>\n",
       "      <td>10.05</td>\n",
       "      <td>0.0050</td>\n",
       "    </tr>\n",
       "    <tr>\n",
       "      <th>5</th>\n",
       "      <td>2023-12-04</td>\n",
       "      <td>AFJK</td>\n",
       "      <td>Aimei Health Technology Co., Ltd Ordinary Share</td>\n",
       "      <td>10.0</td>\n",
       "      <td>10.32</td>\n",
       "      <td>0.0320</td>\n",
       "    </tr>\n",
       "    <tr>\n",
       "      <th>8</th>\n",
       "      <td>2023-11-21</td>\n",
       "      <td>CLBR</td>\n",
       "      <td>Colombier Acquisition Corp.</td>\n",
       "      <td>10.0</td>\n",
       "      <td>10.35</td>\n",
       "      <td>0.0350</td>\n",
       "    </tr>\n",
       "    <tr>\n",
       "      <th>17</th>\n",
       "      <td>2023-11-09</td>\n",
       "      <td>ANSC</td>\n",
       "      <td>Agriculture &amp; Natural Solutions Acquisition Co...</td>\n",
       "      <td>10.0</td>\n",
       "      <td>10.24</td>\n",
       "      <td>0.0235</td>\n",
       "    </tr>\n",
       "    <tr>\n",
       "      <th>18</th>\n",
       "      <td>2023-11-09</td>\n",
       "      <td>AITR</td>\n",
       "      <td>AI TRANSPORTATION ACQUISITION CORP</td>\n",
       "      <td>10.0</td>\n",
       "      <td>10.32</td>\n",
       "      <td>0.0320</td>\n",
       "    </tr>\n",
       "    <tr>\n",
       "      <th>31</th>\n",
       "      <td>2023-10-06</td>\n",
       "      <td>SPKL</td>\n",
       "      <td>Spark I Acquisition Corp. Class A Ordinary Share</td>\n",
       "      <td>10.0</td>\n",
       "      <td>10.30</td>\n",
       "      <td>0.0300</td>\n",
       "    </tr>\n",
       "    <tr>\n",
       "      <th>32</th>\n",
       "      <td>2023-10-06</td>\n",
       "      <td>QETA</td>\n",
       "      <td>Quetta Acquisition Corporation</td>\n",
       "      <td>10.0</td>\n",
       "      <td>10.25</td>\n",
       "      <td>0.0250</td>\n",
       "    </tr>\n",
       "    <tr>\n",
       "      <th>43</th>\n",
       "      <td>2023-09-15</td>\n",
       "      <td>RYZB</td>\n",
       "      <td>RayzeBio, Inc.</td>\n",
       "      <td>18.0</td>\n",
       "      <td>62.49</td>\n",
       "      <td>2.4717</td>\n",
       "    </tr>\n",
       "    <tr>\n",
       "      <th>50</th>\n",
       "      <td>2023-08-18</td>\n",
       "      <td>NNAG</td>\n",
       "      <td>99 Acquisition Group Inc.</td>\n",
       "      <td>10.0</td>\n",
       "      <td>10.42</td>\n",
       "      <td>0.0420</td>\n",
       "    </tr>\n",
       "    <tr>\n",
       "      <th>62</th>\n",
       "      <td>2023-07-26</td>\n",
       "      <td>HYAC</td>\n",
       "      <td>Haymaker Acquisition Corp. III</td>\n",
       "      <td>10.0</td>\n",
       "      <td>10.50</td>\n",
       "      <td>0.0500</td>\n",
       "    </tr>\n",
       "    <tr>\n",
       "      <th>63</th>\n",
       "      <td>2023-07-25</td>\n",
       "      <td>KVAC</td>\n",
       "      <td>Keen Vision Acquisition Corporation</td>\n",
       "      <td>10.0</td>\n",
       "      <td>10.52</td>\n",
       "      <td>0.0520</td>\n",
       "    </tr>\n",
       "    <tr>\n",
       "      <th>70</th>\n",
       "      <td>2023-07-14</td>\n",
       "      <td>NETD</td>\n",
       "      <td>Nabors Energy Transition Corp. II</td>\n",
       "      <td>10.0</td>\n",
       "      <td>10.65</td>\n",
       "      <td>0.0650</td>\n",
       "    </tr>\n",
       "    <tr>\n",
       "      <th>72</th>\n",
       "      <td>2023-07-12</td>\n",
       "      <td>BOWN</td>\n",
       "      <td>Bowen Acquisition Corp</td>\n",
       "      <td>10.0</td>\n",
       "      <td>10.49</td>\n",
       "      <td>0.0490</td>\n",
       "    </tr>\n",
       "    <tr>\n",
       "      <th>81</th>\n",
       "      <td>2023-06-28</td>\n",
       "      <td>BUJA</td>\n",
       "      <td>Bukit Jalil Global Acquisition 1 Ltd</td>\n",
       "      <td>10.0</td>\n",
       "      <td>10.57</td>\n",
       "      <td>0.0570</td>\n",
       "    </tr>\n",
       "    <tr>\n",
       "      <th>88</th>\n",
       "      <td>2023-05-25</td>\n",
       "      <td>IPXX</td>\n",
       "      <td>Inflection Point Acquisition Corp. II</td>\n",
       "      <td>10.0</td>\n",
       "      <td>10.53</td>\n",
       "      <td>0.0530</td>\n",
       "    </tr>\n",
       "    <tr>\n",
       "      <th>92</th>\n",
       "      <td>2023-05-05</td>\n",
       "      <td>ALCY</td>\n",
       "      <td>Alchemy Investments Acquisition Corp 1</td>\n",
       "      <td>10.0</td>\n",
       "      <td>10.67</td>\n",
       "      <td>0.0670</td>\n",
       "    </tr>\n",
       "    <tr>\n",
       "      <th>94</th>\n",
       "      <td>2023-05-02</td>\n",
       "      <td>GODN</td>\n",
       "      <td>Golden Star Acquisition Corporation</td>\n",
       "      <td>10.0</td>\n",
       "      <td>10.71</td>\n",
       "      <td>0.0710</td>\n",
       "    </tr>\n",
       "    <tr>\n",
       "      <th>96</th>\n",
       "      <td>2023-04-21</td>\n",
       "      <td>AACT</td>\n",
       "      <td>Ares Acquisition Corporation II</td>\n",
       "      <td>10.0</td>\n",
       "      <td>10.63</td>\n",
       "      <td>0.0620</td>\n",
       "    </tr>\n",
       "    <tr>\n",
       "      <th>120</th>\n",
       "      <td>2023-03-24</td>\n",
       "      <td>OAKU</td>\n",
       "      <td>Oak Woods Acquisition Corporation</td>\n",
       "      <td>10.0</td>\n",
       "      <td>10.77</td>\n",
       "      <td>0.0770</td>\n",
       "    </tr>\n",
       "    <tr>\n",
       "      <th>124</th>\n",
       "      <td>2023-03-17</td>\n",
       "      <td>FORL</td>\n",
       "      <td>Four Leaf Acquisition Corporation</td>\n",
       "      <td>10.0</td>\n",
       "      <td>10.84</td>\n",
       "      <td>0.0840</td>\n",
       "    </tr>\n",
       "    <tr>\n",
       "      <th>129</th>\n",
       "      <td>2023-02-28</td>\n",
       "      <td>SBXC</td>\n",
       "      <td>SilverBox Corp III</td>\n",
       "      <td>10.0</td>\n",
       "      <td>10.55</td>\n",
       "      <td>0.0550</td>\n",
       "    </tr>\n",
       "    <tr>\n",
       "      <th>137</th>\n",
       "      <td>2023-02-10</td>\n",
       "      <td>PTHR</td>\n",
       "      <td>Pono Capital Three, Inc.</td>\n",
       "      <td>10.0</td>\n",
       "      <td>5.72</td>\n",
       "      <td>-0.4280</td>\n",
       "    </tr>\n",
       "    <tr>\n",
       "      <th>145</th>\n",
       "      <td>2023-02-01</td>\n",
       "      <td>CETU</td>\n",
       "      <td>Cetus Capital Acquisition Corp.</td>\n",
       "      <td>10.0</td>\n",
       "      <td>10.51</td>\n",
       "      <td>0.0510</td>\n",
       "    </tr>\n",
       "  </tbody>\n",
       "</table>\n",
       "</div>"
      ],
      "text/plain": [
       "      IPO Date Symbol                                       Company Name  \\\n",
       "0   2023-12-27   IROH                      Iron Horse Acquisitions Corp.   \n",
       "5   2023-12-04   AFJK    Aimei Health Technology Co., Ltd Ordinary Share   \n",
       "8   2023-11-21   CLBR                        Colombier Acquisition Corp.   \n",
       "17  2023-11-09   ANSC  Agriculture & Natural Solutions Acquisition Co...   \n",
       "18  2023-11-09   AITR                 AI TRANSPORTATION ACQUISITION CORP   \n",
       "31  2023-10-06   SPKL   Spark I Acquisition Corp. Class A Ordinary Share   \n",
       "32  2023-10-06   QETA                     Quetta Acquisition Corporation   \n",
       "43  2023-09-15   RYZB                                     RayzeBio, Inc.   \n",
       "50  2023-08-18   NNAG                          99 Acquisition Group Inc.   \n",
       "62  2023-07-26   HYAC                     Haymaker Acquisition Corp. III   \n",
       "63  2023-07-25   KVAC                Keen Vision Acquisition Corporation   \n",
       "70  2023-07-14   NETD                  Nabors Energy Transition Corp. II   \n",
       "72  2023-07-12   BOWN                             Bowen Acquisition Corp   \n",
       "81  2023-06-28   BUJA               Bukit Jalil Global Acquisition 1 Ltd   \n",
       "88  2023-05-25   IPXX              Inflection Point Acquisition Corp. II   \n",
       "92  2023-05-05   ALCY             Alchemy Investments Acquisition Corp 1   \n",
       "94  2023-05-02   GODN                Golden Star Acquisition Corporation   \n",
       "96  2023-04-21   AACT                    Ares Acquisition Corporation II   \n",
       "120 2023-03-24   OAKU                  Oak Woods Acquisition Corporation   \n",
       "124 2023-03-17   FORL                  Four Leaf Acquisition Corporation   \n",
       "129 2023-02-28   SBXC                                 SilverBox Corp III   \n",
       "137 2023-02-10   PTHR                           Pono Capital Three, Inc.   \n",
       "145 2023-02-01   CETU                    Cetus Capital Acquisition Corp.   \n",
       "\n",
       "     IPO Price  Current  Return  \n",
       "0         10.0    10.05  0.0050  \n",
       "5         10.0    10.32  0.0320  \n",
       "8         10.0    10.35  0.0350  \n",
       "17        10.0    10.24  0.0235  \n",
       "18        10.0    10.32  0.0320  \n",
       "31        10.0    10.30  0.0300  \n",
       "32        10.0    10.25  0.0250  \n",
       "43        18.0    62.49  2.4717  \n",
       "50        10.0    10.42  0.0420  \n",
       "62        10.0    10.50  0.0500  \n",
       "63        10.0    10.52  0.0520  \n",
       "70        10.0    10.65  0.0650  \n",
       "72        10.0    10.49  0.0490  \n",
       "81        10.0    10.57  0.0570  \n",
       "88        10.0    10.53  0.0530  \n",
       "92        10.0    10.67  0.0670  \n",
       "94        10.0    10.71  0.0710  \n",
       "96        10.0    10.63  0.0620  \n",
       "120       10.0    10.77  0.0770  \n",
       "124       10.0    10.84  0.0840  \n",
       "129       10.0    10.55  0.0550  \n",
       "137       10.0     5.72 -0.4280  \n",
       "145       10.0    10.51  0.0510  "
      ]
     },
     "execution_count": 31,
     "metadata": {},
     "output_type": "execute_result"
    }
   ],
   "source": [
    "failed_ipos = ipo_df[ipo_df[\"Symbol\"].isin(failed_tickers)]\n",
    "failed_ipos"
   ]
  },
  {
   "cell_type": "code",
   "execution_count": 32,
   "metadata": {},
   "outputs": [
    {
     "name": "stderr",
     "output_type": "stream",
     "text": [
      "[*********************100%%**********************]  1 of 1 completed"
     ]
    },
    {
     "name": "stdout",
     "output_type": "stream",
     "text": [
      "1 - Getting historical data for IROH\n"
     ]
    },
    {
     "name": "stderr",
     "output_type": "stream",
     "text": [
      "\n",
      "[*********************100%%**********************]  1 of 1 completed"
     ]
    },
    {
     "name": "stdout",
     "output_type": "stream",
     "text": [
      "2 - Getting historical data for AFJK\n"
     ]
    },
    {
     "name": "stderr",
     "output_type": "stream",
     "text": [
      "\n",
      "[*********************100%%**********************]  1 of 1 completed"
     ]
    },
    {
     "name": "stdout",
     "output_type": "stream",
     "text": [
      "3 - Getting historical data for CLBR\n"
     ]
    },
    {
     "name": "stderr",
     "output_type": "stream",
     "text": [
      "\n",
      "[*********************100%%**********************]  1 of 1 completed"
     ]
    },
    {
     "name": "stdout",
     "output_type": "stream",
     "text": [
      "4 - Getting historical data for ANSC\n"
     ]
    },
    {
     "name": "stderr",
     "output_type": "stream",
     "text": [
      "\n",
      "[*********************100%%**********************]  1 of 1 completed"
     ]
    },
    {
     "name": "stdout",
     "output_type": "stream",
     "text": [
      "5 - Getting historical data for AITR\n"
     ]
    },
    {
     "name": "stderr",
     "output_type": "stream",
     "text": [
      "\n",
      "[*********************100%%**********************]  1 of 1 completed"
     ]
    },
    {
     "name": "stdout",
     "output_type": "stream",
     "text": [
      "6 - Getting historical data for SPKL\n"
     ]
    },
    {
     "name": "stderr",
     "output_type": "stream",
     "text": [
      "\n",
      "[*********************100%%**********************]  1 of 1 completed"
     ]
    },
    {
     "name": "stdout",
     "output_type": "stream",
     "text": [
      "7 - Getting historical data for QETA\n"
     ]
    },
    {
     "name": "stderr",
     "output_type": "stream",
     "text": [
      "\n"
     ]
    },
    {
     "name": "stdout",
     "output_type": "stream",
     "text": [
      "8 - Getting historical data for RYZB\n"
     ]
    },
    {
     "name": "stderr",
     "output_type": "stream",
     "text": [
      "[*********************100%%**********************]  1 of 1 completed\n",
      "\n",
      "1 Failed download:\n",
      "['RYZB']: Exception('%ticker%: No timezone found, symbol may be delisted')\n",
      "[*********************100%%**********************]  1 of 1 completed"
     ]
    },
    {
     "name": "stdout",
     "output_type": "stream",
     "text": [
      "9 - Getting historical data for NNAG\n"
     ]
    },
    {
     "name": "stderr",
     "output_type": "stream",
     "text": [
      "\n",
      "[*********************100%%**********************]  1 of 1 completed"
     ]
    },
    {
     "name": "stdout",
     "output_type": "stream",
     "text": [
      "10 - Getting historical data for HYAC\n"
     ]
    },
    {
     "name": "stderr",
     "output_type": "stream",
     "text": [
      "\n",
      "[*********************100%%**********************]  1 of 1 completed"
     ]
    },
    {
     "name": "stdout",
     "output_type": "stream",
     "text": [
      "11 - Getting historical data for KVAC\n"
     ]
    },
    {
     "name": "stderr",
     "output_type": "stream",
     "text": [
      "\n",
      "[*********************100%%**********************]  1 of 1 completed"
     ]
    },
    {
     "name": "stdout",
     "output_type": "stream",
     "text": [
      "12 - Getting historical data for NETD\n"
     ]
    },
    {
     "name": "stderr",
     "output_type": "stream",
     "text": [
      "\n",
      "[*********************100%%**********************]  1 of 1 completed"
     ]
    },
    {
     "name": "stdout",
     "output_type": "stream",
     "text": [
      "13 - Getting historical data for BOWN\n"
     ]
    },
    {
     "name": "stderr",
     "output_type": "stream",
     "text": [
      "\n",
      "[*********************100%%**********************]  1 of 1 completed"
     ]
    },
    {
     "name": "stdout",
     "output_type": "stream",
     "text": [
      "14 - Getting historical data for BUJA\n"
     ]
    },
    {
     "name": "stderr",
     "output_type": "stream",
     "text": [
      "\n",
      "[*********************100%%**********************]  1 of 1 completed"
     ]
    },
    {
     "name": "stdout",
     "output_type": "stream",
     "text": [
      "15 - Getting historical data for IPXX\n"
     ]
    },
    {
     "name": "stderr",
     "output_type": "stream",
     "text": [
      "\n",
      "[*********************100%%**********************]  1 of 1 completed"
     ]
    },
    {
     "name": "stdout",
     "output_type": "stream",
     "text": [
      "16 - Getting historical data for ALCY\n"
     ]
    },
    {
     "name": "stderr",
     "output_type": "stream",
     "text": [
      "\n",
      "[*********************100%%**********************]  1 of 1 completed"
     ]
    },
    {
     "name": "stdout",
     "output_type": "stream",
     "text": [
      "17 - Getting historical data for GODN\n"
     ]
    },
    {
     "name": "stderr",
     "output_type": "stream",
     "text": [
      "\n",
      "[*********************100%%**********************]  1 of 1 completed"
     ]
    },
    {
     "name": "stdout",
     "output_type": "stream",
     "text": [
      "18 - Getting historical data for AACT\n"
     ]
    },
    {
     "name": "stderr",
     "output_type": "stream",
     "text": [
      "\n",
      "[*********************100%%**********************]  1 of 1 completed"
     ]
    },
    {
     "name": "stdout",
     "output_type": "stream",
     "text": [
      "19 - Getting historical data for OAKU\n"
     ]
    },
    {
     "name": "stderr",
     "output_type": "stream",
     "text": [
      "\n",
      "[*********************100%%**********************]  1 of 1 completed"
     ]
    },
    {
     "name": "stdout",
     "output_type": "stream",
     "text": [
      "20 - Getting historical data for FORL\n"
     ]
    },
    {
     "name": "stderr",
     "output_type": "stream",
     "text": [
      "\n",
      "[*********************100%%**********************]  1 of 1 completed"
     ]
    },
    {
     "name": "stdout",
     "output_type": "stream",
     "text": [
      "21 - Getting historical data for SBXC\n"
     ]
    },
    {
     "name": "stderr",
     "output_type": "stream",
     "text": [
      "\n",
      "[*********************100%%**********************]  1 of 1 completed\n",
      "\n",
      "1 Failed download:\n",
      "['PTHR']: Exception('%ticker%: No timezone found, symbol may be delisted')\n"
     ]
    },
    {
     "name": "stdout",
     "output_type": "stream",
     "text": [
      "22 - Getting historical data for PTHR\n"
     ]
    },
    {
     "name": "stderr",
     "output_type": "stream",
     "text": [
      "[*********************100%%**********************]  1 of 1 completed"
     ]
    },
    {
     "name": "stdout",
     "output_type": "stream",
     "text": [
      "23 - Getting historical data for CETU\n"
     ]
    },
    {
     "name": "stderr",
     "output_type": "stream",
     "text": [
      "\n"
     ]
    }
   ],
   "source": [
    "historical_failed_price_dfs = []\n",
    "totally_failed_tickers = []\n",
    "i = 0\n",
    "for ticker, ipo_date in zip(failed_ipos[\"Symbol\"], failed_ipos[\"IPO Date\"]):\n",
    "    i = i + 1\n",
    "    start = ipo_date\n",
    "    print(f\"{i} - Getting historical data for {ticker}\")\n",
    "    try:\n",
    "        historyPrices = yf.download(tickers=ticker, start=start, interval=\"1d\")\n",
    "        historyPrices[\"Ticker\"] = ticker\n",
    "        if len(historyPrices) > 0:\n",
    "            historical_failed_price_dfs.append(historyPrices)\n",
    "        else:\n",
    "            totally_failed_tickers.append(ticker)\n",
    "    except:\n",
    "        totally_failed_tickers.append(ticker)\n",
    "    # sleep 1 sec between downloads - not to overload the API server\n",
    "    time.sleep(1)"
   ]
  },
  {
   "cell_type": "code",
   "execution_count": 33,
   "metadata": {},
   "outputs": [
    {
     "data": {
      "text/plain": [
       "['RYZB', 'PTHR']"
      ]
     },
     "execution_count": 33,
     "metadata": {},
     "output_type": "execute_result"
    }
   ],
   "source": [
    "totally_failed_tickers"
   ]
  },
  {
   "cell_type": "markdown",
   "metadata": {},
   "source": [
    "RYZB has been acquired and is no longer listed.  \n",
    "PTHR Pono Capital Three, Inc. uses PTHRU as symbol on Yahoo"
   ]
  },
  {
   "cell_type": "code",
   "execution_count": 34,
   "metadata": {},
   "outputs": [
    {
     "data": {
      "text/plain": [
       "277"
      ]
     },
     "execution_count": 34,
     "metadata": {},
     "output_type": "execute_result"
    }
   ],
   "source": [
    "len(historyPrices)"
   ]
  },
  {
   "cell_type": "code",
   "execution_count": 35,
   "metadata": {},
   "outputs": [
    {
     "name": "stderr",
     "output_type": "stream",
     "text": [
      "[*********************100%%**********************]  1 of 1 completed\n"
     ]
    }
   ],
   "source": [
    "\n",
    "historyPrices = yf.download(tickers=\"PTHRU\", period=\"max\", interval=\"1d\")"
   ]
  },
  {
   "cell_type": "markdown",
   "metadata": {},
   "source": [
    "# TODO: Rename PHTR to PHTRU and download the data from IPO to max available data."
   ]
  },
  {
   "cell_type": "code",
   "execution_count": null,
   "metadata": {},
   "outputs": [],
   "source": []
  },
  {
   "cell_type": "code",
   "execution_count": null,
   "metadata": {},
   "outputs": [],
   "source": []
  },
  {
   "cell_type": "code",
   "execution_count": 36,
   "metadata": {},
   "outputs": [
    {
     "data": {
      "text/html": [
       "<div>\n",
       "<style scoped>\n",
       "    .dataframe tbody tr th:only-of-type {\n",
       "        vertical-align: middle;\n",
       "    }\n",
       "\n",
       "    .dataframe tbody tr th {\n",
       "        vertical-align: top;\n",
       "    }\n",
       "\n",
       "    .dataframe thead th {\n",
       "        text-align: right;\n",
       "    }\n",
       "</style>\n",
       "<table border=\"1\" class=\"dataframe\">\n",
       "  <thead>\n",
       "    <tr style=\"text-align: right;\">\n",
       "      <th></th>\n",
       "      <th>Open</th>\n",
       "      <th>High</th>\n",
       "      <th>Low</th>\n",
       "      <th>Close</th>\n",
       "      <th>Adj Close</th>\n",
       "      <th>Volume</th>\n",
       "    </tr>\n",
       "    <tr>\n",
       "      <th>Date</th>\n",
       "      <th></th>\n",
       "      <th></th>\n",
       "      <th></th>\n",
       "      <th></th>\n",
       "      <th></th>\n",
       "      <th></th>\n",
       "    </tr>\n",
       "  </thead>\n",
       "  <tbody>\n",
       "    <tr>\n",
       "      <th>2023-02-10</th>\n",
       "      <td>10.150</td>\n",
       "      <td>10.180</td>\n",
       "      <td>10.1400</td>\n",
       "      <td>10.15</td>\n",
       "      <td>10.15</td>\n",
       "      <td>6306321</td>\n",
       "    </tr>\n",
       "    <tr>\n",
       "      <th>2023-02-13</th>\n",
       "      <td>10.150</td>\n",
       "      <td>10.165</td>\n",
       "      <td>10.1400</td>\n",
       "      <td>10.16</td>\n",
       "      <td>10.16</td>\n",
       "      <td>345450</td>\n",
       "    </tr>\n",
       "    <tr>\n",
       "      <th>2023-02-14</th>\n",
       "      <td>10.155</td>\n",
       "      <td>10.165</td>\n",
       "      <td>10.1546</td>\n",
       "      <td>10.16</td>\n",
       "      <td>10.16</td>\n",
       "      <td>453796</td>\n",
       "    </tr>\n",
       "    <tr>\n",
       "      <th>2023-02-15</th>\n",
       "      <td>10.160</td>\n",
       "      <td>10.180</td>\n",
       "      <td>10.1600</td>\n",
       "      <td>10.16</td>\n",
       "      <td>10.16</td>\n",
       "      <td>106114</td>\n",
       "    </tr>\n",
       "    <tr>\n",
       "      <th>2023-02-16</th>\n",
       "      <td>10.160</td>\n",
       "      <td>10.170</td>\n",
       "      <td>10.1600</td>\n",
       "      <td>10.17</td>\n",
       "      <td>10.17</td>\n",
       "      <td>2295</td>\n",
       "    </tr>\n",
       "    <tr>\n",
       "      <th>...</th>\n",
       "      <td>...</td>\n",
       "      <td>...</td>\n",
       "      <td>...</td>\n",
       "      <td>...</td>\n",
       "      <td>...</td>\n",
       "      <td>...</td>\n",
       "    </tr>\n",
       "    <tr>\n",
       "      <th>2024-01-08</th>\n",
       "      <td>9.700</td>\n",
       "      <td>9.700</td>\n",
       "      <td>9.7000</td>\n",
       "      <td>9.70</td>\n",
       "      <td>9.70</td>\n",
       "      <td>0</td>\n",
       "    </tr>\n",
       "    <tr>\n",
       "      <th>2024-01-09</th>\n",
       "      <td>8.820</td>\n",
       "      <td>8.820</td>\n",
       "      <td>7.2800</td>\n",
       "      <td>7.28</td>\n",
       "      <td>7.28</td>\n",
       "      <td>406</td>\n",
       "    </tr>\n",
       "    <tr>\n",
       "      <th>2024-01-10</th>\n",
       "      <td>7.280</td>\n",
       "      <td>7.280</td>\n",
       "      <td>7.2800</td>\n",
       "      <td>7.28</td>\n",
       "      <td>7.28</td>\n",
       "      <td>0</td>\n",
       "    </tr>\n",
       "    <tr>\n",
       "      <th>2024-01-11</th>\n",
       "      <td>5.500</td>\n",
       "      <td>5.600</td>\n",
       "      <td>5.5000</td>\n",
       "      <td>5.60</td>\n",
       "      <td>5.60</td>\n",
       "      <td>200</td>\n",
       "    </tr>\n",
       "    <tr>\n",
       "      <th>2024-01-12</th>\n",
       "      <td>5.000</td>\n",
       "      <td>5.490</td>\n",
       "      <td>5.0000</td>\n",
       "      <td>5.49</td>\n",
       "      <td>5.49</td>\n",
       "      <td>302</td>\n",
       "    </tr>\n",
       "  </tbody>\n",
       "</table>\n",
       "<p>232 rows × 6 columns</p>\n",
       "</div>"
      ],
      "text/plain": [
       "              Open    High      Low  Close  Adj Close   Volume\n",
       "Date                                                          \n",
       "2023-02-10  10.150  10.180  10.1400  10.15      10.15  6306321\n",
       "2023-02-13  10.150  10.165  10.1400  10.16      10.16   345450\n",
       "2023-02-14  10.155  10.165  10.1546  10.16      10.16   453796\n",
       "2023-02-15  10.160  10.180  10.1600  10.16      10.16   106114\n",
       "2023-02-16  10.160  10.170  10.1600  10.17      10.17     2295\n",
       "...            ...     ...      ...    ...        ...      ...\n",
       "2024-01-08   9.700   9.700   9.7000   9.70       9.70        0\n",
       "2024-01-09   8.820   8.820   7.2800   7.28       7.28      406\n",
       "2024-01-10   7.280   7.280   7.2800   7.28       7.28        0\n",
       "2024-01-11   5.500   5.600   5.5000   5.60       5.60      200\n",
       "2024-01-12   5.000   5.490   5.0000   5.49       5.49      302\n",
       "\n",
       "[232 rows x 6 columns]"
      ]
     },
     "execution_count": 36,
     "metadata": {},
     "output_type": "execute_result"
    }
   ],
   "source": [
    "historyPrices"
   ]
  },
  {
   "cell_type": "code",
   "execution_count": 37,
   "metadata": {},
   "outputs": [],
   "source": [
    "# for i in range (1, 31):\n",
    "#     # DEBUG: ipo_df['Adj Close_sh_m_'+str(i)+'d'] = ipo_df['Adj Close'].shift(i)\n",
    "#     ipo_df[\"growth_dax_\" + str(i) + \"d\"] = ipo_df[\"Adj Close\"] / ipo_df[\n",
    "#         \"Adj Close\"\n",
    "#     ].shift(i)"
   ]
  },
  {
   "cell_type": "markdown",
   "metadata": {},
   "source": [
    "## Question 3: Is Growth Concentrated in the Largest Stocks?\n",
    "\n",
    "**Get the share of days (percentage as int) when Large Stocks outperform (growth_7d - growth over 7 periods back) the Largest stocks?**\n",
    "\n",
    "\n",
    "Reuse [Code Snippet 5] to obtain OHLCV stats for 33 stocks \n",
    "for 10 full years of data (2014-01-01 to 2023-12-31):\n",
    "\n",
    "`US_STOCKS = ['MSFT', 'AAPL', 'GOOG', 'NVDA', 'AMZN', 'META', 'BRK-B', 'LLY', 'AVGO','V', 'JPM']`\n",
    "\n",
    "`EU_STOCKS = ['NVO','MC.PA', 'ASML', 'RMS.PA', 'OR.PA', 'SAP', 'ACN', 'TTE', 'SIE.DE','IDEXY','CDI.PA']`\n",
    "\n",
    "`INDIA_STOCKS = ['RELIANCE.NS','TCS.NS','HDB','BHARTIARTL.NS','IBN','SBIN.NS','LICI.NS','INFY','ITC.NS','HINDUNILVR.NS','LT.NS']`\n",
    "\n",
    "`LARGEST_STOCKS = US_STOCKS + EU_STOCKS + INDIA_STOCKS`\n",
    "<br/>\n",
    "\n",
    "Now let's add the top 12-22 stocks (as of end-April 2024):\n",
    "<br/>\n",
    "\n",
    "`NEW_US = ['TSLA','WMT','XOM','UNH','MA','PG','JNJ','MRK','HD','COST','ORCL']`\n",
    "\n",
    "`NEW_EU = ['PRX.AS','CDI.PA','AIR.PA','SU.PA','ETN','SNY','BUD','DTE.DE','ALV.DE','MDT','AI.PA','EL.PA']`\n",
    "\n",
    "`NEW_INDIA = ['BAJFINANCE.NS','MARUTI.NS','HCLTECH.NS','TATAMOTORS.NS','SUNPHARMA.NS','ONGC.NS','ADANIENT.NS','ADANIENT.NS','NTPC.NS','KOTAKBANK.NS','TITAN.NS']`\n",
    "\n",
    "`LARGE_STOCKS = NEW_EU + NEW_US + NEW_INDIA`\n",
    "\n",
    "You should be able to obtain stats for 33 LARGEST STOCKS and 32 LARGE STOCKS.\n",
    "\n",
    "Calculate  `growth_7d` for every stock and every day.\n",
    "Get the average daily `growth_7d` for the LARGEST_STOCKS group vs. the LARGE_STOCKS group.\n",
    "\n",
    "For example, for the first of data you should have:\n",
    "| Date   |      ticker_category      |  growth_7d |\n",
    "|----------|:-------------:|------:|\n",
    "| 2014-01-01 |  LARGE | 1.011684 |\n",
    "| 2014-01-01 |   LARGEST   |   1.011797 |\n",
    "\n",
    "On that day, the LARGEST group was growing faster than LARGE one (new stocks).\n",
    "\n",
    "Calculate the number of days when the LARGE GROUP (new smaller stocks) outperforms the LARGEST GROUP, divide it by the total number of trading days (which should be 2595 days), and convert it to a percentage (closest INTEGER value). For example, if you find that 1700 out of 2595 days meet this condition, it means that 1700/2595 = 0.655, or approximately 66% of days, the LARGE stocks were growing faster than the LARGEST ones. This suggests that you should consider extending your dataset with more stocks to seek higher growth.\n"
   ]
  },
  {
   "cell_type": "code",
   "execution_count": 38,
   "metadata": {},
   "outputs": [],
   "source": [
    "ALL_TICKERS = [\"MSFT\", \"AAPL\"]"
   ]
  },
  {
   "cell_type": "code",
   "execution_count": 39,
   "metadata": {},
   "outputs": [],
   "source": [
    "start = \"2014-01-01\"\n",
    "end = \"2023-12-31\"\n",
    "window = 7\n",
    "\n",
    "def get_avg_x_day_growth(tickers, start=start, end=end, window=window):\n",
    "    stocks_df = pd.DataFrame({\"A\": []})\n",
    "\n",
    "    for i, ticker in enumerate(tickers):\n",
    "        print(i, ticker)\n",
    "\n",
    "        # Work with stock prices\n",
    "        historyPrices = yf.download(tickers=ticker, start=start, end=end, interval=\"1d\")\n",
    "\n",
    "        # generate features for historical prices, and what we want to predict\n",
    "        historyPrices[\"Ticker\"] = ticker\n",
    "        # historyPrices[\"Year\"] = historyPrices.index.year\n",
    "        # historyPrices[\"Month\"] = historyPrices.index.month\n",
    "        # historyPrices[\"Weekday\"] = historyPrices.index.weekday\n",
    "        historyPrices[\"Date\"] = historyPrices.index.date\n",
    "\n",
    "        # historical returns\n",
    "        for i in [window]:\n",
    "            historyPrices[\"growth_\" + str(i) + \"d\"] = historyPrices[\n",
    "                \"Adj Close\"\n",
    "            ] / historyPrices[\"Adj Close\"].shift(i)\n",
    "\n",
    "\n",
    "        # sleep 1 sec between downloads - not to overload the API server\n",
    "        time.sleep(1)\n",
    "\n",
    "        if stocks_df.empty:\n",
    "            stocks_df = historyPrices\n",
    "        else:\n",
    "            stocks_df = pd.concat([stocks_df, historyPrices], ignore_index=True)\n",
    "\n",
    "    return stocks_df"
   ]
  },
  {
   "cell_type": "code",
   "execution_count": 40,
   "metadata": {},
   "outputs": [],
   "source": [
    "US_STOCKS = ['MSFT', 'AAPL', 'GOOG', 'NVDA', 'AMZN', 'META', 'BRK-B', 'LLY', 'AVGO','V', 'JPM']\n",
    "EU_STOCKS = ['NVO','MC.PA', 'ASML', 'RMS.PA', 'OR.PA', 'SAP', 'ACN', 'TTE', 'SIE.DE','IDEXY','CDI.PA']\n",
    "INDIA_STOCKS = ['RELIANCE.NS','TCS.NS','HDB','BHARTIARTL.NS','IBN','SBIN.NS','LICI.NS','INFY','ITC.NS','HINDUNILVR.NS','LT.NS']\n",
    "\n",
    "LARGEST_STOCKS = US_STOCKS + EU_STOCKS + INDIA_STOCKS"
   ]
  },
  {
   "cell_type": "code",
   "execution_count": 41,
   "metadata": {},
   "outputs": [
    {
     "name": "stdout",
     "output_type": "stream",
     "text": [
      "0 MSFT\n"
     ]
    },
    {
     "name": "stderr",
     "output_type": "stream",
     "text": [
      "[*********************100%%**********************]  1 of 1 completed"
     ]
    },
    {
     "name": "stderr",
     "output_type": "stream",
     "text": [
      "\n"
     ]
    },
    {
     "name": "stdout",
     "output_type": "stream",
     "text": [
      "1 AAPL\n"
     ]
    },
    {
     "name": "stderr",
     "output_type": "stream",
     "text": [
      "[*********************100%%**********************]  1 of 1 completed\n"
     ]
    },
    {
     "name": "stdout",
     "output_type": "stream",
     "text": [
      "2 GOOG\n"
     ]
    },
    {
     "name": "stderr",
     "output_type": "stream",
     "text": [
      "[*********************100%%**********************]  1 of 1 completed\n"
     ]
    },
    {
     "name": "stdout",
     "output_type": "stream",
     "text": [
      "3 NVDA\n"
     ]
    },
    {
     "name": "stderr",
     "output_type": "stream",
     "text": [
      "[*********************100%%**********************]  1 of 1 completed\n"
     ]
    },
    {
     "name": "stdout",
     "output_type": "stream",
     "text": [
      "4 AMZN\n"
     ]
    },
    {
     "name": "stderr",
     "output_type": "stream",
     "text": [
      "[*********************100%%**********************]  1 of 1 completed\n",
      "[*********************100%%**********************]  1 of 1 completed"
     ]
    },
    {
     "name": "stdout",
     "output_type": "stream",
     "text": [
      "5 META\n"
     ]
    },
    {
     "name": "stderr",
     "output_type": "stream",
     "text": [
      "\n"
     ]
    },
    {
     "name": "stdout",
     "output_type": "stream",
     "text": [
      "6 BRK-B\n"
     ]
    },
    {
     "name": "stderr",
     "output_type": "stream",
     "text": [
      "[*********************100%%**********************]  1 of 1 completed\n"
     ]
    },
    {
     "name": "stdout",
     "output_type": "stream",
     "text": [
      "7 LLY\n"
     ]
    },
    {
     "name": "stderr",
     "output_type": "stream",
     "text": [
      "[*********************100%%**********************]  1 of 1 completed\n"
     ]
    },
    {
     "name": "stdout",
     "output_type": "stream",
     "text": [
      "8 AVGO\n"
     ]
    },
    {
     "name": "stderr",
     "output_type": "stream",
     "text": [
      "[*********************100%%**********************]  1 of 1 completed\n"
     ]
    },
    {
     "name": "stdout",
     "output_type": "stream",
     "text": [
      "9 V\n"
     ]
    },
    {
     "name": "stderr",
     "output_type": "stream",
     "text": [
      "[*********************100%%**********************]  1 of 1 completed\n"
     ]
    },
    {
     "name": "stdout",
     "output_type": "stream",
     "text": [
      "10 JPM\n"
     ]
    },
    {
     "name": "stderr",
     "output_type": "stream",
     "text": [
      "[*********************100%%**********************]  1 of 1 completed\n"
     ]
    }
   ],
   "source": [
    "us_stocks_dfs = get_avg_x_day_growth(US_STOCKS, start=start, end=end, window=7)"
   ]
  },
  {
   "cell_type": "code",
   "execution_count": 42,
   "metadata": {},
   "outputs": [
    {
     "data": {
      "text/plain": [
       "1.007611663488794"
      ]
     },
     "execution_count": 42,
     "metadata": {},
     "output_type": "execute_result"
    }
   ],
   "source": [
    "us_stocks_dfs.growth_7d.mean()"
   ]
  },
  {
   "cell_type": "code",
   "execution_count": 43,
   "metadata": {},
   "outputs": [
    {
     "name": "stdout",
     "output_type": "stream",
     "text": [
      "0 NVO\n"
     ]
    },
    {
     "name": "stderr",
     "output_type": "stream",
     "text": [
      "[*********************100%%**********************]  1 of 1 completed\n"
     ]
    },
    {
     "name": "stdout",
     "output_type": "stream",
     "text": [
      "1 MC.PA\n"
     ]
    },
    {
     "name": "stderr",
     "output_type": "stream",
     "text": [
      "[*********************100%%**********************]  1 of 1 completed\n"
     ]
    },
    {
     "name": "stdout",
     "output_type": "stream",
     "text": [
      "2 ASML\n"
     ]
    },
    {
     "name": "stderr",
     "output_type": "stream",
     "text": [
      "[*********************100%%**********************]  1 of 1 completed\n"
     ]
    },
    {
     "name": "stdout",
     "output_type": "stream",
     "text": [
      "3 RMS.PA\n"
     ]
    },
    {
     "name": "stderr",
     "output_type": "stream",
     "text": [
      "[*********************100%%**********************]  1 of 1 completed\n"
     ]
    },
    {
     "name": "stdout",
     "output_type": "stream",
     "text": [
      "4 OR.PA\n"
     ]
    },
    {
     "name": "stderr",
     "output_type": "stream",
     "text": [
      "[*********************100%%**********************]  1 of 1 completed\n"
     ]
    },
    {
     "name": "stdout",
     "output_type": "stream",
     "text": [
      "5 SAP\n"
     ]
    },
    {
     "name": "stderr",
     "output_type": "stream",
     "text": [
      "[*********************100%%**********************]  1 of 1 completed\n"
     ]
    },
    {
     "name": "stdout",
     "output_type": "stream",
     "text": [
      "6 ACN\n"
     ]
    },
    {
     "name": "stderr",
     "output_type": "stream",
     "text": [
      "[*********************100%%**********************]  1 of 1 completed\n"
     ]
    },
    {
     "name": "stdout",
     "output_type": "stream",
     "text": [
      "7 TTE\n"
     ]
    },
    {
     "name": "stderr",
     "output_type": "stream",
     "text": [
      "[*********************100%%**********************]  1 of 1 completed\n"
     ]
    },
    {
     "name": "stdout",
     "output_type": "stream",
     "text": [
      "8 SIE.DE\n"
     ]
    },
    {
     "name": "stderr",
     "output_type": "stream",
     "text": [
      "[*********************100%%**********************]  1 of 1 completed\n"
     ]
    },
    {
     "name": "stdout",
     "output_type": "stream",
     "text": [
      "9 IDEXY\n"
     ]
    },
    {
     "name": "stderr",
     "output_type": "stream",
     "text": [
      "[*********************100%%**********************]  1 of 1 completed\n"
     ]
    },
    {
     "name": "stdout",
     "output_type": "stream",
     "text": [
      "10 CDI.PA\n"
     ]
    },
    {
     "name": "stderr",
     "output_type": "stream",
     "text": [
      "[*********************100%%**********************]  1 of 1 completed\n"
     ]
    }
   ],
   "source": [
    "eu_stocks_dfs = get_avg_x_day_growth(EU_STOCKS, start=start, end=end, window=7)"
   ]
  },
  {
   "cell_type": "code",
   "execution_count": 44,
   "metadata": {},
   "outputs": [
    {
     "data": {
      "text/plain": [
       "1.0050238763359471"
      ]
     },
     "execution_count": 44,
     "metadata": {},
     "output_type": "execute_result"
    }
   ],
   "source": [
    "eu_stocks_dfs.growth_7d.mean()"
   ]
  },
  {
   "cell_type": "code",
   "execution_count": 45,
   "metadata": {},
   "outputs": [
    {
     "name": "stdout",
     "output_type": "stream",
     "text": [
      "0 RELIANCE.NS\n"
     ]
    },
    {
     "name": "stderr",
     "output_type": "stream",
     "text": [
      "[*********************100%%**********************]  1 of 1 completed\n"
     ]
    },
    {
     "name": "stdout",
     "output_type": "stream",
     "text": [
      "1 TCS.NS\n"
     ]
    },
    {
     "name": "stderr",
     "output_type": "stream",
     "text": [
      "[*********************100%%**********************]  1 of 1 completed\n"
     ]
    },
    {
     "name": "stdout",
     "output_type": "stream",
     "text": [
      "2 HDB\n"
     ]
    },
    {
     "name": "stderr",
     "output_type": "stream",
     "text": [
      "[*********************100%%**********************]  1 of 1 completed\n"
     ]
    },
    {
     "name": "stdout",
     "output_type": "stream",
     "text": [
      "3 BHARTIARTL.NS\n"
     ]
    },
    {
     "name": "stderr",
     "output_type": "stream",
     "text": [
      "[*********************100%%**********************]  1 of 1 completed\n"
     ]
    },
    {
     "name": "stdout",
     "output_type": "stream",
     "text": [
      "4 IBN\n"
     ]
    },
    {
     "name": "stderr",
     "output_type": "stream",
     "text": [
      "[*********************100%%**********************]  1 of 1 completed\n"
     ]
    },
    {
     "name": "stdout",
     "output_type": "stream",
     "text": [
      "5 SBIN.NS\n"
     ]
    },
    {
     "name": "stderr",
     "output_type": "stream",
     "text": [
      "[*********************100%%**********************]  1 of 1 completed\n",
      "[*********************100%%**********************]  1 of 1 completed"
     ]
    },
    {
     "name": "stdout",
     "output_type": "stream",
     "text": [
      "6 LICI.NS\n"
     ]
    },
    {
     "name": "stderr",
     "output_type": "stream",
     "text": [
      "\n"
     ]
    },
    {
     "name": "stdout",
     "output_type": "stream",
     "text": [
      "7 INFY\n"
     ]
    },
    {
     "name": "stderr",
     "output_type": "stream",
     "text": [
      "[*********************100%%**********************]  1 of 1 completed\n"
     ]
    },
    {
     "name": "stdout",
     "output_type": "stream",
     "text": [
      "8 ITC.NS\n"
     ]
    },
    {
     "name": "stderr",
     "output_type": "stream",
     "text": [
      "[*********************100%%**********************]  1 of 1 completed\n"
     ]
    },
    {
     "name": "stdout",
     "output_type": "stream",
     "text": [
      "9 HINDUNILVR.NS\n"
     ]
    },
    {
     "name": "stderr",
     "output_type": "stream",
     "text": [
      "[*********************100%%**********************]  1 of 1 completed\n"
     ]
    },
    {
     "name": "stdout",
     "output_type": "stream",
     "text": [
      "10 LT.NS\n"
     ]
    },
    {
     "name": "stderr",
     "output_type": "stream",
     "text": [
      "[*********************100%%**********************]  1 of 1 completed\n"
     ]
    }
   ],
   "source": [
    "india_stocks_dfs = get_avg_x_day_growth(INDIA_STOCKS, start=start, end=end, window=7)"
   ]
  },
  {
   "cell_type": "code",
   "execution_count": 46,
   "metadata": {},
   "outputs": [
    {
     "data": {
      "text/plain": [
       "1.005157121333949"
      ]
     },
     "execution_count": 46,
     "metadata": {},
     "output_type": "execute_result"
    }
   ],
   "source": [
    "india_stocks_dfs.growth_7d.mean()"
   ]
  },
  {
   "cell_type": "code",
   "execution_count": 47,
   "metadata": {},
   "outputs": [],
   "source": [
    "largest_stocks_df = pd.concat([us_stocks_dfs, eu_stocks_dfs, india_stocks_dfs])"
   ]
  },
  {
   "cell_type": "markdown",
   "metadata": {},
   "source": [
    "### Large Stocker 7 day growth"
   ]
  },
  {
   "cell_type": "code",
   "execution_count": 48,
   "metadata": {},
   "outputs": [],
   "source": [
    "NEW_US = ['TSLA','WMT','XOM','UNH','MA','PG','JNJ','MRK','HD','COST','ORCL']\n",
    "\n",
    "NEW_EU = ['PRX.AS','CDI.PA','AIR.PA','SU.PA','ETN','SNY','BUD','DTE.DE','ALV.DE','MDT','AI.PA','EL.PA']\n",
    "\n",
    "NEW_INDIA = ['BAJFINANCE.NS','MARUTI.NS','HCLTECH.NS','TATAMOTORS.NS','SUNPHARMA.NS','ONGC.NS','ADANIENT.NS','ADANIENT.NS','NTPC.NS','KOTAKBANK.NS','TITAN.NS']\n",
    "\n",
    "LARGE_STOCKS = NEW_EU + NEW_US + NEW_INDIA"
   ]
  },
  {
   "cell_type": "code",
   "execution_count": 49,
   "metadata": {},
   "outputs": [
    {
     "name": "stdout",
     "output_type": "stream",
     "text": [
      "0 TSLA\n"
     ]
    },
    {
     "name": "stderr",
     "output_type": "stream",
     "text": [
      "[*********************100%%**********************]  1 of 1 completed\n"
     ]
    },
    {
     "name": "stdout",
     "output_type": "stream",
     "text": [
      "1 WMT\n"
     ]
    },
    {
     "name": "stderr",
     "output_type": "stream",
     "text": [
      "[*********************100%%**********************]  1 of 1 completed\n"
     ]
    },
    {
     "name": "stdout",
     "output_type": "stream",
     "text": [
      "2 XOM\n"
     ]
    },
    {
     "name": "stderr",
     "output_type": "stream",
     "text": [
      "[*********************100%%**********************]  1 of 1 completed\n"
     ]
    },
    {
     "name": "stdout",
     "output_type": "stream",
     "text": [
      "3 UNH\n"
     ]
    },
    {
     "name": "stderr",
     "output_type": "stream",
     "text": [
      "[*********************100%%**********************]  1 of 1 completed\n"
     ]
    },
    {
     "name": "stdout",
     "output_type": "stream",
     "text": [
      "4 MA\n"
     ]
    },
    {
     "name": "stderr",
     "output_type": "stream",
     "text": [
      "[*********************100%%**********************]  1 of 1 completed\n"
     ]
    },
    {
     "name": "stdout",
     "output_type": "stream",
     "text": [
      "5 PG\n"
     ]
    },
    {
     "name": "stderr",
     "output_type": "stream",
     "text": [
      "[*********************100%%**********************]  1 of 1 completed\n"
     ]
    },
    {
     "name": "stdout",
     "output_type": "stream",
     "text": [
      "6 JNJ\n"
     ]
    },
    {
     "name": "stderr",
     "output_type": "stream",
     "text": [
      "[*********************100%%**********************]  1 of 1 completed\n"
     ]
    },
    {
     "name": "stdout",
     "output_type": "stream",
     "text": [
      "7 MRK\n"
     ]
    },
    {
     "name": "stderr",
     "output_type": "stream",
     "text": [
      "[*********************100%%**********************]  1 of 1 completed\n"
     ]
    },
    {
     "name": "stdout",
     "output_type": "stream",
     "text": [
      "8 HD\n"
     ]
    },
    {
     "name": "stderr",
     "output_type": "stream",
     "text": [
      "[*********************100%%**********************]  1 of 1 completed\n"
     ]
    },
    {
     "name": "stdout",
     "output_type": "stream",
     "text": [
      "9 COST\n"
     ]
    },
    {
     "name": "stderr",
     "output_type": "stream",
     "text": [
      "[*********************100%%**********************]  1 of 1 completed\n"
     ]
    },
    {
     "name": "stdout",
     "output_type": "stream",
     "text": [
      "10 ORCL\n"
     ]
    },
    {
     "name": "stderr",
     "output_type": "stream",
     "text": [
      "[*********************100%%**********************]  1 of 1 completed\n"
     ]
    },
    {
     "name": "stdout",
     "output_type": "stream",
     "text": [
      "0 PRX.AS\n"
     ]
    },
    {
     "name": "stderr",
     "output_type": "stream",
     "text": [
      "[*********************100%%**********************]  1 of 1 completed\n",
      "[*********************100%%**********************]  1 of 1 completed"
     ]
    },
    {
     "name": "stdout",
     "output_type": "stream",
     "text": [
      "1 CDI.PA\n"
     ]
    },
    {
     "name": "stderr",
     "output_type": "stream",
     "text": [
      "\n"
     ]
    },
    {
     "name": "stdout",
     "output_type": "stream",
     "text": [
      "2 AIR.PA\n"
     ]
    },
    {
     "name": "stderr",
     "output_type": "stream",
     "text": [
      "[*********************100%%**********************]  1 of 1 completed\n"
     ]
    },
    {
     "name": "stdout",
     "output_type": "stream",
     "text": [
      "3 SU.PA\n"
     ]
    },
    {
     "name": "stderr",
     "output_type": "stream",
     "text": [
      "[*********************100%%**********************]  1 of 1 completed\n"
     ]
    },
    {
     "name": "stdout",
     "output_type": "stream",
     "text": [
      "4 ETN\n"
     ]
    },
    {
     "name": "stderr",
     "output_type": "stream",
     "text": [
      "[*********************100%%**********************]  1 of 1 completed\n"
     ]
    },
    {
     "name": "stdout",
     "output_type": "stream",
     "text": [
      "5 SNY\n"
     ]
    },
    {
     "name": "stderr",
     "output_type": "stream",
     "text": [
      "[*********************100%%**********************]  1 of 1 completed\n"
     ]
    },
    {
     "name": "stdout",
     "output_type": "stream",
     "text": [
      "6 BUD\n"
     ]
    },
    {
     "name": "stderr",
     "output_type": "stream",
     "text": [
      "[*********************100%%**********************]  1 of 1 completed\n"
     ]
    },
    {
     "name": "stdout",
     "output_type": "stream",
     "text": [
      "7 DTE.DE\n"
     ]
    },
    {
     "name": "stderr",
     "output_type": "stream",
     "text": [
      "[*********************100%%**********************]  1 of 1 completed\n"
     ]
    },
    {
     "name": "stdout",
     "output_type": "stream",
     "text": [
      "8 ALV.DE\n"
     ]
    },
    {
     "name": "stderr",
     "output_type": "stream",
     "text": [
      "[*********************100%%**********************]  1 of 1 completed\n"
     ]
    },
    {
     "name": "stdout",
     "output_type": "stream",
     "text": [
      "9 MDT\n"
     ]
    },
    {
     "name": "stderr",
     "output_type": "stream",
     "text": [
      "[*********************100%%**********************]  1 of 1 completed\n"
     ]
    },
    {
     "name": "stdout",
     "output_type": "stream",
     "text": [
      "10 AI.PA\n"
     ]
    },
    {
     "name": "stderr",
     "output_type": "stream",
     "text": [
      "[*********************100%%**********************]  1 of 1 completed\n"
     ]
    },
    {
     "name": "stdout",
     "output_type": "stream",
     "text": [
      "11 EL.PA\n"
     ]
    },
    {
     "name": "stderr",
     "output_type": "stream",
     "text": [
      "[*********************100%%**********************]  1 of 1 completed\n"
     ]
    },
    {
     "name": "stdout",
     "output_type": "stream",
     "text": [
      "0 BAJFINANCE.NS\n"
     ]
    },
    {
     "name": "stderr",
     "output_type": "stream",
     "text": [
      "[*********************100%%**********************]  1 of 1 completed\n"
     ]
    },
    {
     "name": "stdout",
     "output_type": "stream",
     "text": [
      "1 MARUTI.NS\n"
     ]
    },
    {
     "name": "stderr",
     "output_type": "stream",
     "text": [
      "[*********************100%%**********************]  1 of 1 completed\n"
     ]
    },
    {
     "name": "stdout",
     "output_type": "stream",
     "text": [
      "2 HCLTECH.NS\n"
     ]
    },
    {
     "name": "stderr",
     "output_type": "stream",
     "text": [
      "[*********************100%%**********************]  1 of 1 completed\n"
     ]
    },
    {
     "name": "stdout",
     "output_type": "stream",
     "text": [
      "3 TATAMOTORS.NS\n"
     ]
    },
    {
     "name": "stderr",
     "output_type": "stream",
     "text": [
      "[*********************100%%**********************]  1 of 1 completed\n"
     ]
    },
    {
     "name": "stdout",
     "output_type": "stream",
     "text": [
      "4 SUNPHARMA.NS\n"
     ]
    },
    {
     "name": "stderr",
     "output_type": "stream",
     "text": [
      "[*********************100%%**********************]  1 of 1 completed\n"
     ]
    },
    {
     "name": "stdout",
     "output_type": "stream",
     "text": [
      "5 ONGC.NS\n"
     ]
    },
    {
     "name": "stderr",
     "output_type": "stream",
     "text": [
      "[*********************100%%**********************]  1 of 1 completed\n"
     ]
    },
    {
     "name": "stdout",
     "output_type": "stream",
     "text": [
      "6 ADANIENT.NS\n"
     ]
    },
    {
     "name": "stderr",
     "output_type": "stream",
     "text": [
      "[*********************100%%**********************]  1 of 1 completed\n",
      "[*********************100%%**********************]  1 of 1 completed"
     ]
    },
    {
     "name": "stdout",
     "output_type": "stream",
     "text": [
      "7 ADANIENT.NS\n"
     ]
    },
    {
     "name": "stderr",
     "output_type": "stream",
     "text": [
      "\n"
     ]
    },
    {
     "name": "stdout",
     "output_type": "stream",
     "text": [
      "8 NTPC.NS\n"
     ]
    },
    {
     "name": "stderr",
     "output_type": "stream",
     "text": [
      "[*********************100%%**********************]  1 of 1 completed\n"
     ]
    },
    {
     "name": "stdout",
     "output_type": "stream",
     "text": [
      "9 KOTAKBANK.NS\n"
     ]
    },
    {
     "name": "stderr",
     "output_type": "stream",
     "text": [
      "[*********************100%%**********************]  1 of 1 completed\n"
     ]
    },
    {
     "name": "stdout",
     "output_type": "stream",
     "text": [
      "10 TITAN.NS\n"
     ]
    },
    {
     "name": "stderr",
     "output_type": "stream",
     "text": [
      "[*********************100%%**********************]  1 of 1 completed\n"
     ]
    }
   ],
   "source": [
    "new_us_stocks_dfs = get_avg_x_day_growth(NEW_US, start=start, end=end, window=7)\n",
    "new_eu_stocks_dfs = get_avg_x_day_growth(NEW_EU, start=start, end=end, window=7)\n",
    "new_india_stocks_dfs = get_avg_x_day_growth(NEW_INDIA, start=start, end=end, window=7)"
   ]
  },
  {
   "cell_type": "code",
   "execution_count": 50,
   "metadata": {},
   "outputs": [],
   "source": [
    "new_stocks_df = pd.concat([new_us_stocks_dfs, new_eu_stocks_dfs, new_india_stocks_dfs])\n"
   ]
  },
  {
   "cell_type": "code",
   "execution_count": 51,
   "metadata": {},
   "outputs": [
    {
     "data": {
      "text/html": [
       "<div>\n",
       "<style scoped>\n",
       "    .dataframe tbody tr th:only-of-type {\n",
       "        vertical-align: middle;\n",
       "    }\n",
       "\n",
       "    .dataframe tbody tr th {\n",
       "        vertical-align: top;\n",
       "    }\n",
       "\n",
       "    .dataframe thead th {\n",
       "        text-align: right;\n",
       "    }\n",
       "</style>\n",
       "<table border=\"1\" class=\"dataframe\">\n",
       "  <thead>\n",
       "    <tr style=\"text-align: right;\">\n",
       "      <th></th>\n",
       "      <th>Open</th>\n",
       "      <th>High</th>\n",
       "      <th>Low</th>\n",
       "      <th>Close</th>\n",
       "      <th>Adj Close</th>\n",
       "      <th>Volume</th>\n",
       "      <th>Ticker</th>\n",
       "      <th>Date</th>\n",
       "      <th>growth_7d</th>\n",
       "    </tr>\n",
       "  </thead>\n",
       "  <tbody>\n",
       "    <tr>\n",
       "      <th>0</th>\n",
       "      <td>9.986667</td>\n",
       "      <td>10.165333</td>\n",
       "      <td>9.770000</td>\n",
       "      <td>10.006667</td>\n",
       "      <td>10.006667</td>\n",
       "      <td>92826000</td>\n",
       "      <td>TSLA</td>\n",
       "      <td>2014-01-02</td>\n",
       "      <td>NaN</td>\n",
       "    </tr>\n",
       "    <tr>\n",
       "      <th>1</th>\n",
       "      <td>10.000000</td>\n",
       "      <td>10.146000</td>\n",
       "      <td>9.906667</td>\n",
       "      <td>9.970667</td>\n",
       "      <td>9.970667</td>\n",
       "      <td>70425000</td>\n",
       "      <td>TSLA</td>\n",
       "      <td>2014-01-03</td>\n",
       "      <td>NaN</td>\n",
       "    </tr>\n",
       "    <tr>\n",
       "      <th>2</th>\n",
       "      <td>10.000000</td>\n",
       "      <td>10.026667</td>\n",
       "      <td>9.682667</td>\n",
       "      <td>9.800000</td>\n",
       "      <td>9.800000</td>\n",
       "      <td>80416500</td>\n",
       "      <td>TSLA</td>\n",
       "      <td>2014-01-06</td>\n",
       "      <td>NaN</td>\n",
       "    </tr>\n",
       "    <tr>\n",
       "      <th>3</th>\n",
       "      <td>9.841333</td>\n",
       "      <td>10.026667</td>\n",
       "      <td>9.683333</td>\n",
       "      <td>9.957333</td>\n",
       "      <td>9.957333</td>\n",
       "      <td>75511500</td>\n",
       "      <td>TSLA</td>\n",
       "      <td>2014-01-07</td>\n",
       "      <td>NaN</td>\n",
       "    </tr>\n",
       "    <tr>\n",
       "      <th>4</th>\n",
       "      <td>9.923333</td>\n",
       "      <td>10.246667</td>\n",
       "      <td>9.917333</td>\n",
       "      <td>10.085333</td>\n",
       "      <td>10.085333</td>\n",
       "      <td>92448000</td>\n",
       "      <td>TSLA</td>\n",
       "      <td>2014-01-08</td>\n",
       "      <td>NaN</td>\n",
       "    </tr>\n",
       "    <tr>\n",
       "      <th>...</th>\n",
       "      <td>...</td>\n",
       "      <td>...</td>\n",
       "      <td>...</td>\n",
       "      <td>...</td>\n",
       "      <td>...</td>\n",
       "      <td>...</td>\n",
       "      <td>...</td>\n",
       "      <td>...</td>\n",
       "      <td>...</td>\n",
       "    </tr>\n",
       "    <tr>\n",
       "      <th>27110</th>\n",
       "      <td>3580.000000</td>\n",
       "      <td>3638.449951</td>\n",
       "      <td>3560.550049</td>\n",
       "      <td>3627.350098</td>\n",
       "      <td>3627.350098</td>\n",
       "      <td>777099</td>\n",
       "      <td>TITAN.NS</td>\n",
       "      <td>2023-12-22</td>\n",
       "      <td>1.006940</td>\n",
       "    </tr>\n",
       "    <tr>\n",
       "      <th>27111</th>\n",
       "      <td>3635.000000</td>\n",
       "      <td>3665.000000</td>\n",
       "      <td>3623.449951</td>\n",
       "      <td>3656.699951</td>\n",
       "      <td>3656.699951</td>\n",
       "      <td>526101</td>\n",
       "      <td>TITAN.NS</td>\n",
       "      <td>2023-12-26</td>\n",
       "      <td>1.018182</td>\n",
       "    </tr>\n",
       "    <tr>\n",
       "      <th>27112</th>\n",
       "      <td>3668.000000</td>\n",
       "      <td>3695.000000</td>\n",
       "      <td>3645.000000</td>\n",
       "      <td>3689.250000</td>\n",
       "      <td>3689.250000</td>\n",
       "      <td>666625</td>\n",
       "      <td>TITAN.NS</td>\n",
       "      <td>2023-12-27</td>\n",
       "      <td>1.024635</td>\n",
       "    </tr>\n",
       "    <tr>\n",
       "      <th>27113</th>\n",
       "      <td>3699.899902</td>\n",
       "      <td>3737.000000</td>\n",
       "      <td>3680.699951</td>\n",
       "      <td>3715.100098</td>\n",
       "      <td>3715.100098</td>\n",
       "      <td>1033648</td>\n",
       "      <td>TITAN.NS</td>\n",
       "      <td>2023-12-28</td>\n",
       "      <td>1.026384</td>\n",
       "    </tr>\n",
       "    <tr>\n",
       "      <th>27114</th>\n",
       "      <td>3715.100098</td>\n",
       "      <td>3715.100098</td>\n",
       "      <td>3660.250000</td>\n",
       "      <td>3675.449951</td>\n",
       "      <td>3675.449951</td>\n",
       "      <td>709614</td>\n",
       "      <td>TITAN.NS</td>\n",
       "      <td>2023-12-29</td>\n",
       "      <td>1.018003</td>\n",
       "    </tr>\n",
       "  </tbody>\n",
       "</table>\n",
       "<p>83845 rows × 9 columns</p>\n",
       "</div>"
      ],
      "text/plain": [
       "              Open         High          Low        Close    Adj Close  \\\n",
       "0         9.986667    10.165333     9.770000    10.006667    10.006667   \n",
       "1        10.000000    10.146000     9.906667     9.970667     9.970667   \n",
       "2        10.000000    10.026667     9.682667     9.800000     9.800000   \n",
       "3         9.841333    10.026667     9.683333     9.957333     9.957333   \n",
       "4         9.923333    10.246667     9.917333    10.085333    10.085333   \n",
       "...            ...          ...          ...          ...          ...   \n",
       "27110  3580.000000  3638.449951  3560.550049  3627.350098  3627.350098   \n",
       "27111  3635.000000  3665.000000  3623.449951  3656.699951  3656.699951   \n",
       "27112  3668.000000  3695.000000  3645.000000  3689.250000  3689.250000   \n",
       "27113  3699.899902  3737.000000  3680.699951  3715.100098  3715.100098   \n",
       "27114  3715.100098  3715.100098  3660.250000  3675.449951  3675.449951   \n",
       "\n",
       "         Volume    Ticker        Date  growth_7d  \n",
       "0      92826000      TSLA  2014-01-02        NaN  \n",
       "1      70425000      TSLA  2014-01-03        NaN  \n",
       "2      80416500      TSLA  2014-01-06        NaN  \n",
       "3      75511500      TSLA  2014-01-07        NaN  \n",
       "4      92448000      TSLA  2014-01-08        NaN  \n",
       "...         ...       ...         ...        ...  \n",
       "27110    777099  TITAN.NS  2023-12-22   1.006940  \n",
       "27111    526101  TITAN.NS  2023-12-26   1.018182  \n",
       "27112    666625  TITAN.NS  2023-12-27   1.024635  \n",
       "27113   1033648  TITAN.NS  2023-12-28   1.026384  \n",
       "27114    709614  TITAN.NS  2023-12-29   1.018003  \n",
       "\n",
       "[83845 rows x 9 columns]"
      ]
     },
     "execution_count": 51,
     "metadata": {},
     "output_type": "execute_result"
    }
   ],
   "source": [
    "new_stocks_df"
   ]
  },
  {
   "cell_type": "code",
   "execution_count": 52,
   "metadata": {},
   "outputs": [
    {
     "data": {
      "text/plain": [
       "array([datetime.date(2014, 1, 2), datetime.date(2014, 1, 3),\n",
       "       datetime.date(2014, 1, 6), ..., datetime.date(2020, 11, 14),\n",
       "       datetime.date(2021, 1, 1), datetime.date(2022, 12, 26)],\n",
       "      dtype=object)"
      ]
     },
     "execution_count": 52,
     "metadata": {},
     "output_type": "execute_result"
    }
   ],
   "source": [
    "new_stocks_df.Date.unique()"
   ]
  },
  {
   "cell_type": "code",
   "execution_count": 53,
   "metadata": {},
   "outputs": [
    {
     "data": {
      "text/plain": [
       "array(['TSLA', 'WMT', 'XOM', 'UNH', 'MA', 'PG', 'JNJ', 'MRK', 'HD',\n",
       "       'COST', 'ORCL', 'PRX.AS', 'CDI.PA', 'AIR.PA', 'SU.PA', 'ETN',\n",
       "       'SNY', 'BUD', 'DTE.DE', 'ALV.DE', 'MDT', 'AI.PA', 'EL.PA',\n",
       "       'BAJFINANCE.NS', 'MARUTI.NS', 'HCLTECH.NS', 'TATAMOTORS.NS',\n",
       "       'SUNPHARMA.NS', 'ONGC.NS', 'ADANIENT.NS', 'NTPC.NS',\n",
       "       'KOTAKBANK.NS', 'TITAN.NS'], dtype=object)"
      ]
     },
     "execution_count": 53,
     "metadata": {},
     "output_type": "execute_result"
    }
   ],
   "source": [
    "new_stocks_df[\"Ticker\"].unique()"
   ]
  },
  {
   "cell_type": "code",
   "execution_count": 54,
   "metadata": {},
   "outputs": [
    {
     "data": {
      "text/plain": [
       "Date\n",
       "2014-01-01         NaN\n",
       "2014-01-02         NaN\n",
       "2014-01-03         NaN\n",
       "2014-01-06         NaN\n",
       "2014-01-07         NaN\n",
       "                ...   \n",
       "2023-12-22    1.003014\n",
       "2023-12-26    1.013505\n",
       "2023-12-27    1.002167\n",
       "2023-12-28    0.998583\n",
       "2023-12-29    0.999313\n",
       "Name: growth_7d, Length: 2595, dtype: float64"
      ]
     },
     "execution_count": 54,
     "metadata": {},
     "output_type": "execute_result"
    }
   ],
   "source": [
    "new_grouped_df = new_stocks_df.groupby(by=[\"Date\"])[\"growth_7d\"].mean()\n",
    "new_grouped_df"
   ]
  },
  {
   "cell_type": "code",
   "execution_count": 55,
   "metadata": {},
   "outputs": [
    {
     "data": {
      "text/plain": [
       "Date\n",
       "2014-01-01         NaN\n",
       "2014-01-02         NaN\n",
       "2014-01-03         NaN\n",
       "2014-01-06         NaN\n",
       "2014-01-07         NaN\n",
       "                ...   \n",
       "2023-12-22    1.013788\n",
       "2023-12-26    1.014900\n",
       "2023-12-27    1.014155\n",
       "2023-12-28    1.008533\n",
       "2023-12-29    1.005337\n",
       "Name: growth_7d, Length: 2595, dtype: float64"
      ]
     },
     "execution_count": 55,
     "metadata": {},
     "output_type": "execute_result"
    }
   ],
   "source": [
    "largest_grouped_df = largest_stocks_df.groupby(by=[\"Date\"])[\"growth_7d\"].mean()\n",
    "largest_grouped_df"
   ]
  },
  {
   "cell_type": "code",
   "execution_count": 56,
   "metadata": {},
   "outputs": [
    {
     "data": {
      "text/html": [
       "<div>\n",
       "<style scoped>\n",
       "    .dataframe tbody tr th:only-of-type {\n",
       "        vertical-align: middle;\n",
       "    }\n",
       "\n",
       "    .dataframe tbody tr th {\n",
       "        vertical-align: top;\n",
       "    }\n",
       "\n",
       "    .dataframe thead th {\n",
       "        text-align: right;\n",
       "    }\n",
       "</style>\n",
       "<table border=\"1\" class=\"dataframe\">\n",
       "  <thead>\n",
       "    <tr style=\"text-align: right;\">\n",
       "      <th></th>\n",
       "      <th>largest_growth_7d</th>\n",
       "      <th>newest_growth_7d</th>\n",
       "    </tr>\n",
       "    <tr>\n",
       "      <th>Date</th>\n",
       "      <th></th>\n",
       "      <th></th>\n",
       "    </tr>\n",
       "  </thead>\n",
       "  <tbody>\n",
       "    <tr>\n",
       "      <th>2014-01-01</th>\n",
       "      <td>NaN</td>\n",
       "      <td>NaN</td>\n",
       "    </tr>\n",
       "    <tr>\n",
       "      <th>2014-01-02</th>\n",
       "      <td>NaN</td>\n",
       "      <td>NaN</td>\n",
       "    </tr>\n",
       "    <tr>\n",
       "      <th>2014-01-03</th>\n",
       "      <td>NaN</td>\n",
       "      <td>NaN</td>\n",
       "    </tr>\n",
       "    <tr>\n",
       "      <th>2014-01-06</th>\n",
       "      <td>NaN</td>\n",
       "      <td>NaN</td>\n",
       "    </tr>\n",
       "    <tr>\n",
       "      <th>2014-01-07</th>\n",
       "      <td>NaN</td>\n",
       "      <td>NaN</td>\n",
       "    </tr>\n",
       "    <tr>\n",
       "      <th>...</th>\n",
       "      <td>...</td>\n",
       "      <td>...</td>\n",
       "    </tr>\n",
       "    <tr>\n",
       "      <th>2023-12-22</th>\n",
       "      <td>1.013788</td>\n",
       "      <td>1.003014</td>\n",
       "    </tr>\n",
       "    <tr>\n",
       "      <th>2023-12-26</th>\n",
       "      <td>1.014900</td>\n",
       "      <td>1.013505</td>\n",
       "    </tr>\n",
       "    <tr>\n",
       "      <th>2023-12-27</th>\n",
       "      <td>1.014155</td>\n",
       "      <td>1.002167</td>\n",
       "    </tr>\n",
       "    <tr>\n",
       "      <th>2023-12-28</th>\n",
       "      <td>1.008533</td>\n",
       "      <td>0.998583</td>\n",
       "    </tr>\n",
       "    <tr>\n",
       "      <th>2023-12-29</th>\n",
       "      <td>1.005337</td>\n",
       "      <td>0.999313</td>\n",
       "    </tr>\n",
       "  </tbody>\n",
       "</table>\n",
       "<p>2595 rows × 2 columns</p>\n",
       "</div>"
      ],
      "text/plain": [
       "            largest_growth_7d  newest_growth_7d\n",
       "Date                                           \n",
       "2014-01-01                NaN               NaN\n",
       "2014-01-02                NaN               NaN\n",
       "2014-01-03                NaN               NaN\n",
       "2014-01-06                NaN               NaN\n",
       "2014-01-07                NaN               NaN\n",
       "...                       ...               ...\n",
       "2023-12-22           1.013788          1.003014\n",
       "2023-12-26           1.014900          1.013505\n",
       "2023-12-27           1.014155          1.002167\n",
       "2023-12-28           1.008533          0.998583\n",
       "2023-12-29           1.005337          0.999313\n",
       "\n",
       "[2595 rows x 2 columns]"
      ]
     },
     "execution_count": 56,
     "metadata": {},
     "output_type": "execute_result"
    }
   ],
   "source": [
    "merged_df = pd.merge(largest_grouped_df, new_grouped_df, on=\"Date\", how=\"inner\").rename(\n",
    "    columns={\n",
    "        \"growth_7d_x\": \"largest_growth_7d\",\n",
    "        \"growth_7d_y\": \"newest_growth_7d\",\n",
    "    }\n",
    ")\n",
    "merged_df"
   ]
  },
  {
   "cell_type": "code",
   "execution_count": 57,
   "metadata": {},
   "outputs": [
    {
     "data": {
      "text/html": [
       "<div>\n",
       "<style scoped>\n",
       "    .dataframe tbody tr th:only-of-type {\n",
       "        vertical-align: middle;\n",
       "    }\n",
       "\n",
       "    .dataframe tbody tr th {\n",
       "        vertical-align: top;\n",
       "    }\n",
       "\n",
       "    .dataframe thead th {\n",
       "        text-align: right;\n",
       "    }\n",
       "</style>\n",
       "<table border=\"1\" class=\"dataframe\">\n",
       "  <thead>\n",
       "    <tr style=\"text-align: right;\">\n",
       "      <th></th>\n",
       "      <th>largest_growth_7d</th>\n",
       "      <th>newest_growth_7d</th>\n",
       "      <th>largest &gt; newest</th>\n",
       "    </tr>\n",
       "    <tr>\n",
       "      <th>Date</th>\n",
       "      <th></th>\n",
       "      <th></th>\n",
       "      <th></th>\n",
       "    </tr>\n",
       "  </thead>\n",
       "  <tbody>\n",
       "    <tr>\n",
       "      <th>2014-01-01</th>\n",
       "      <td>NaN</td>\n",
       "      <td>NaN</td>\n",
       "      <td>False</td>\n",
       "    </tr>\n",
       "    <tr>\n",
       "      <th>2014-01-02</th>\n",
       "      <td>NaN</td>\n",
       "      <td>NaN</td>\n",
       "      <td>False</td>\n",
       "    </tr>\n",
       "    <tr>\n",
       "      <th>2014-01-03</th>\n",
       "      <td>NaN</td>\n",
       "      <td>NaN</td>\n",
       "      <td>False</td>\n",
       "    </tr>\n",
       "    <tr>\n",
       "      <th>2014-01-06</th>\n",
       "      <td>NaN</td>\n",
       "      <td>NaN</td>\n",
       "      <td>False</td>\n",
       "    </tr>\n",
       "    <tr>\n",
       "      <th>2014-01-07</th>\n",
       "      <td>NaN</td>\n",
       "      <td>NaN</td>\n",
       "      <td>False</td>\n",
       "    </tr>\n",
       "    <tr>\n",
       "      <th>...</th>\n",
       "      <td>...</td>\n",
       "      <td>...</td>\n",
       "      <td>...</td>\n",
       "    </tr>\n",
       "    <tr>\n",
       "      <th>2023-12-22</th>\n",
       "      <td>1.013788</td>\n",
       "      <td>1.003014</td>\n",
       "      <td>True</td>\n",
       "    </tr>\n",
       "    <tr>\n",
       "      <th>2023-12-26</th>\n",
       "      <td>1.014900</td>\n",
       "      <td>1.013505</td>\n",
       "      <td>True</td>\n",
       "    </tr>\n",
       "    <tr>\n",
       "      <th>2023-12-27</th>\n",
       "      <td>1.014155</td>\n",
       "      <td>1.002167</td>\n",
       "      <td>True</td>\n",
       "    </tr>\n",
       "    <tr>\n",
       "      <th>2023-12-28</th>\n",
       "      <td>1.008533</td>\n",
       "      <td>0.998583</td>\n",
       "      <td>True</td>\n",
       "    </tr>\n",
       "    <tr>\n",
       "      <th>2023-12-29</th>\n",
       "      <td>1.005337</td>\n",
       "      <td>0.999313</td>\n",
       "      <td>True</td>\n",
       "    </tr>\n",
       "  </tbody>\n",
       "</table>\n",
       "<p>2595 rows × 3 columns</p>\n",
       "</div>"
      ],
      "text/plain": [
       "            largest_growth_7d  newest_growth_7d  largest > newest\n",
       "Date                                                             \n",
       "2014-01-01                NaN               NaN             False\n",
       "2014-01-02                NaN               NaN             False\n",
       "2014-01-03                NaN               NaN             False\n",
       "2014-01-06                NaN               NaN             False\n",
       "2014-01-07                NaN               NaN             False\n",
       "...                       ...               ...               ...\n",
       "2023-12-22           1.013788          1.003014              True\n",
       "2023-12-26           1.014900          1.013505              True\n",
       "2023-12-27           1.014155          1.002167              True\n",
       "2023-12-28           1.008533          0.998583              True\n",
       "2023-12-29           1.005337          0.999313              True\n",
       "\n",
       "[2595 rows x 3 columns]"
      ]
     },
     "execution_count": 57,
     "metadata": {},
     "output_type": "execute_result"
    }
   ],
   "source": [
    "merged_df[\"largest > newest\"] = merged_df[\"largest_growth_7d\"] > merged_df[\"newest_growth_7d\"]\n",
    "merged_df"
   ]
  },
  {
   "cell_type": "code",
   "execution_count": 58,
   "metadata": {},
   "outputs": [
    {
     "data": {
      "text/plain": [
       "largest > newest\n",
       "True     1361\n",
       "False    1234\n",
       "Name: count, dtype: int64"
      ]
     },
     "execution_count": 58,
     "metadata": {},
     "output_type": "execute_result"
    }
   ],
   "source": [
    "counts = merged_df[\"largest > newest\"].value_counts()\n",
    "counts"
   ]
  },
  {
   "cell_type": "code",
   "execution_count": 59,
   "metadata": {},
   "outputs": [
    {
     "data": {
      "text/plain": [
       "1361"
      ]
     },
     "execution_count": 59,
     "metadata": {},
     "output_type": "execute_result"
    }
   ],
   "source": [
    "counts[True]"
   ]
  },
  {
   "cell_type": "code",
   "execution_count": 60,
   "metadata": {},
   "outputs": [
    {
     "data": {
      "text/plain": [
       "47.552986512524086"
      ]
     },
     "execution_count": 60,
     "metadata": {},
     "output_type": "execute_result"
    }
   ],
   "source": [
    "result = counts[False]/(counts[False] + counts[True])*100\n",
    "result"
   ]
  },
  {
   "cell_type": "markdown",
   "metadata": {},
   "source": [
    "## Question 4: Trying Another Technical Indicators strategy\n",
    "\n",
    "**What's the total gross profit (in THOUSANDS of $) you'll get from trading on CCI (no fees assumption)?**\n",
    "\n",
    "\n",
    "First, run the entire Colab to obtain the full DataFrame of data (after [Code Snippet 9]), and truncate it to the last full 10 years of data (2014-01-01 to 2023-12-31).\n",
    "If you encounter any difficulties running the Colab - you can download it using this [link](https://drive.google.com/file/d/1m3Qisfs2XfWk6Sw_Uk5kHLWqwQ0q8SKb/view?usp=sharing).\n",
    "\n",
    "Let's assume you've learned about the awesome **CCI indicator** ([Commodity Channel Index](https://www.investopedia.com/terms/c/commoditychannelindex.asp)), and decided to use only it for your operations.\n",
    "\n",
    "You defined the \"defensive\" value of a high threshould of 200, and you trade only on Fridays (`Date.dt.dayofweek()==4`).\n",
    "\n",
    "That is, every time you see that CCI is >200 for any stock (out of those 33), you'll invest $1000 (each record when CCI>200) at Adj.Close price and hold it for 1 week (5 trading days) in order to sell at the Adj. Close price.\n",
    "\n",
    "What's the expected gross profit (no fees) that you get in THOUSANDS $ (closest integer value) over many operations in 10 years?\n",
    "One operation calculations: if you invested $1000 and received $1010 in 5 days - you add $10 to gross profit, if you received $980 - add -$20 to gross profit.\n",
    "You need to sum these results over all trades (460 times in 10 years)."
   ]
  },
  {
   "cell_type": "code",
   "execution_count": 65,
   "metadata": {},
   "outputs": [],
   "source": [
    "# load the prepared dataframe\n",
    "df = pd.read_parquet(\"stocks_df_combined_2024_05_03.parquet.brotli\")\n"
   ]
  },
  {
   "cell_type": "code",
   "execution_count": 66,
   "metadata": {},
   "outputs": [
    {
     "data": {
      "text/html": [
       "<div>\n",
       "<style scoped>\n",
       "    .dataframe tbody tr th:only-of-type {\n",
       "        vertical-align: middle;\n",
       "    }\n",
       "\n",
       "    .dataframe tbody tr th {\n",
       "        vertical-align: top;\n",
       "    }\n",
       "\n",
       "    .dataframe thead th {\n",
       "        text-align: right;\n",
       "    }\n",
       "</style>\n",
       "<table border=\"1\" class=\"dataframe\">\n",
       "  <thead>\n",
       "    <tr style=\"text-align: right;\">\n",
       "      <th></th>\n",
       "      <th>Open</th>\n",
       "      <th>High</th>\n",
       "      <th>Low</th>\n",
       "      <th>Close</th>\n",
       "      <th>Adj Close_x</th>\n",
       "      <th>Volume</th>\n",
       "      <th>Ticker</th>\n",
       "      <th>Year</th>\n",
       "      <th>Month</th>\n",
       "      <th>Weekday</th>\n",
       "      <th>...</th>\n",
       "      <th>growth_brent_oil_7d</th>\n",
       "      <th>growth_brent_oil_30d</th>\n",
       "      <th>growth_brent_oil_90d</th>\n",
       "      <th>growth_brent_oil_365d</th>\n",
       "      <th>growth_btc_usd_1d</th>\n",
       "      <th>growth_btc_usd_3d</th>\n",
       "      <th>growth_btc_usd_7d</th>\n",
       "      <th>growth_btc_usd_30d</th>\n",
       "      <th>growth_btc_usd_90d</th>\n",
       "      <th>growth_btc_usd_365d</th>\n",
       "    </tr>\n",
       "  </thead>\n",
       "  <tbody>\n",
       "    <tr>\n",
       "      <th>0</th>\n",
       "      <td>0.088542</td>\n",
       "      <td>0.101563</td>\n",
       "      <td>0.088542</td>\n",
       "      <td>0.097222</td>\n",
       "      <td>0.060163</td>\n",
       "      <td>1.031789e+09</td>\n",
       "      <td>MSFT</td>\n",
       "      <td>1986</td>\n",
       "      <td>1986-03-01</td>\n",
       "      <td>3</td>\n",
       "      <td>...</td>\n",
       "      <td>NaN</td>\n",
       "      <td>NaN</td>\n",
       "      <td>NaN</td>\n",
       "      <td>NaN</td>\n",
       "      <td>NaN</td>\n",
       "      <td>NaN</td>\n",
       "      <td>NaN</td>\n",
       "      <td>NaN</td>\n",
       "      <td>NaN</td>\n",
       "      <td>NaN</td>\n",
       "    </tr>\n",
       "    <tr>\n",
       "      <th>1</th>\n",
       "      <td>0.097222</td>\n",
       "      <td>0.102431</td>\n",
       "      <td>0.097222</td>\n",
       "      <td>0.100694</td>\n",
       "      <td>0.062311</td>\n",
       "      <td>3.081600e+08</td>\n",
       "      <td>MSFT</td>\n",
       "      <td>1986</td>\n",
       "      <td>1986-03-01</td>\n",
       "      <td>4</td>\n",
       "      <td>...</td>\n",
       "      <td>NaN</td>\n",
       "      <td>NaN</td>\n",
       "      <td>NaN</td>\n",
       "      <td>NaN</td>\n",
       "      <td>NaN</td>\n",
       "      <td>NaN</td>\n",
       "      <td>NaN</td>\n",
       "      <td>NaN</td>\n",
       "      <td>NaN</td>\n",
       "      <td>NaN</td>\n",
       "    </tr>\n",
       "    <tr>\n",
       "      <th>2</th>\n",
       "      <td>0.100694</td>\n",
       "      <td>0.103299</td>\n",
       "      <td>0.100694</td>\n",
       "      <td>0.102431</td>\n",
       "      <td>0.063386</td>\n",
       "      <td>1.331712e+08</td>\n",
       "      <td>MSFT</td>\n",
       "      <td>1986</td>\n",
       "      <td>1986-03-01</td>\n",
       "      <td>0</td>\n",
       "      <td>...</td>\n",
       "      <td>NaN</td>\n",
       "      <td>NaN</td>\n",
       "      <td>NaN</td>\n",
       "      <td>NaN</td>\n",
       "      <td>NaN</td>\n",
       "      <td>NaN</td>\n",
       "      <td>NaN</td>\n",
       "      <td>NaN</td>\n",
       "      <td>NaN</td>\n",
       "      <td>NaN</td>\n",
       "    </tr>\n",
       "    <tr>\n",
       "      <th>3</th>\n",
       "      <td>0.102431</td>\n",
       "      <td>0.103299</td>\n",
       "      <td>0.098958</td>\n",
       "      <td>0.099826</td>\n",
       "      <td>0.061774</td>\n",
       "      <td>6.776640e+07</td>\n",
       "      <td>MSFT</td>\n",
       "      <td>1986</td>\n",
       "      <td>1986-03-01</td>\n",
       "      <td>1</td>\n",
       "      <td>...</td>\n",
       "      <td>NaN</td>\n",
       "      <td>NaN</td>\n",
       "      <td>NaN</td>\n",
       "      <td>NaN</td>\n",
       "      <td>NaN</td>\n",
       "      <td>NaN</td>\n",
       "      <td>NaN</td>\n",
       "      <td>NaN</td>\n",
       "      <td>NaN</td>\n",
       "      <td>NaN</td>\n",
       "    </tr>\n",
       "    <tr>\n",
       "      <th>4</th>\n",
       "      <td>0.099826</td>\n",
       "      <td>0.100694</td>\n",
       "      <td>0.097222</td>\n",
       "      <td>0.098090</td>\n",
       "      <td>0.060700</td>\n",
       "      <td>4.789440e+07</td>\n",
       "      <td>MSFT</td>\n",
       "      <td>1986</td>\n",
       "      <td>1986-03-01</td>\n",
       "      <td>2</td>\n",
       "      <td>...</td>\n",
       "      <td>NaN</td>\n",
       "      <td>NaN</td>\n",
       "      <td>NaN</td>\n",
       "      <td>NaN</td>\n",
       "      <td>NaN</td>\n",
       "      <td>NaN</td>\n",
       "      <td>NaN</td>\n",
       "      <td>NaN</td>\n",
       "      <td>NaN</td>\n",
       "      <td>NaN</td>\n",
       "    </tr>\n",
       "  </tbody>\n",
       "</table>\n",
       "<p>5 rows × 202 columns</p>\n",
       "</div>"
      ],
      "text/plain": [
       "       Open      High       Low     Close  Adj Close_x        Volume Ticker  \\\n",
       "0  0.088542  0.101563  0.088542  0.097222     0.060163  1.031789e+09   MSFT   \n",
       "1  0.097222  0.102431  0.097222  0.100694     0.062311  3.081600e+08   MSFT   \n",
       "2  0.100694  0.103299  0.100694  0.102431     0.063386  1.331712e+08   MSFT   \n",
       "3  0.102431  0.103299  0.098958  0.099826     0.061774  6.776640e+07   MSFT   \n",
       "4  0.099826  0.100694  0.097222  0.098090     0.060700  4.789440e+07   MSFT   \n",
       "\n",
       "   Year      Month  Weekday  ... growth_brent_oil_7d  growth_brent_oil_30d  \\\n",
       "0  1986 1986-03-01        3  ...                 NaN                   NaN   \n",
       "1  1986 1986-03-01        4  ...                 NaN                   NaN   \n",
       "2  1986 1986-03-01        0  ...                 NaN                   NaN   \n",
       "3  1986 1986-03-01        1  ...                 NaN                   NaN   \n",
       "4  1986 1986-03-01        2  ...                 NaN                   NaN   \n",
       "\n",
       "   growth_brent_oil_90d  growth_brent_oil_365d  growth_btc_usd_1d  \\\n",
       "0                   NaN                    NaN                NaN   \n",
       "1                   NaN                    NaN                NaN   \n",
       "2                   NaN                    NaN                NaN   \n",
       "3                   NaN                    NaN                NaN   \n",
       "4                   NaN                    NaN                NaN   \n",
       "\n",
       "   growth_btc_usd_3d  growth_btc_usd_7d  growth_btc_usd_30d  \\\n",
       "0                NaN                NaN                 NaN   \n",
       "1                NaN                NaN                 NaN   \n",
       "2                NaN                NaN                 NaN   \n",
       "3                NaN                NaN                 NaN   \n",
       "4                NaN                NaN                 NaN   \n",
       "\n",
       "   growth_btc_usd_90d  growth_btc_usd_365d  \n",
       "0                 NaN                  NaN  \n",
       "1                 NaN                  NaN  \n",
       "2                 NaN                  NaN  \n",
       "3                 NaN                  NaN  \n",
       "4                 NaN                  NaN  \n",
       "\n",
       "[5 rows x 202 columns]"
      ]
     },
     "execution_count": 66,
     "metadata": {},
     "output_type": "execute_result"
    }
   ],
   "source": [
    "df.head()"
   ]
  },
  {
   "cell_type": "code",
   "execution_count": 67,
   "metadata": {},
   "outputs": [],
   "source": [
    "df[\"cci\"] = talib.CCI(df.High.values, df.Low.values, df.Close.values, timeperiod=14)\n"
   ]
  },
  {
   "cell_type": "code",
   "execution_count": 68,
   "metadata": {},
   "outputs": [
    {
     "data": {
      "text/plain": [
       "Index(['Open', 'High', 'Low', 'Close', 'Adj Close_x', 'Volume', 'Ticker',\n",
       "       'Year', 'Month', 'Weekday',\n",
       "       ...\n",
       "       'growth_brent_oil_7d', 'growth_brent_oil_30d', 'growth_brent_oil_90d',\n",
       "       'growth_brent_oil_365d', 'growth_btc_usd_1d', 'growth_btc_usd_3d',\n",
       "       'growth_btc_usd_7d', 'growth_btc_usd_30d', 'growth_btc_usd_90d',\n",
       "       'growth_btc_usd_365d'],\n",
       "      dtype='object', length=202)"
      ]
     },
     "execution_count": 68,
     "metadata": {},
     "output_type": "execute_result"
    }
   ],
   "source": [
    "df.columns"
   ]
  },
  {
   "cell_type": "code",
   "execution_count": 70,
   "metadata": {},
   "outputs": [
    {
     "data": {
      "text/plain": [
       "0       3\n",
       "1       4\n",
       "2       0\n",
       "3       1\n",
       "4       2\n",
       "       ..\n",
       "5420    4\n",
       "5421    0\n",
       "5422    1\n",
       "5423    3\n",
       "5424    4\n",
       "Name: Weekday, Length: 221076, dtype: int32"
      ]
     },
     "execution_count": 70,
     "metadata": {},
     "output_type": "execute_result"
    }
   ],
   "source": [
    "df.Weekday"
   ]
  },
  {
   "cell_type": "code",
   "execution_count": 73,
   "metadata": {},
   "outputs": [
    {
     "data": {
      "text/html": [
       "<div>\n",
       "<style scoped>\n",
       "    .dataframe tbody tr th:only-of-type {\n",
       "        vertical-align: middle;\n",
       "    }\n",
       "\n",
       "    .dataframe tbody tr th {\n",
       "        vertical-align: top;\n",
       "    }\n",
       "\n",
       "    .dataframe thead th {\n",
       "        text-align: right;\n",
       "    }\n",
       "</style>\n",
       "<table border=\"1\" class=\"dataframe\">\n",
       "  <thead>\n",
       "    <tr style=\"text-align: right;\">\n",
       "      <th></th>\n",
       "      <th>Open</th>\n",
       "      <th>High</th>\n",
       "      <th>Low</th>\n",
       "      <th>Close</th>\n",
       "      <th>Adj Close_x</th>\n",
       "      <th>Volume</th>\n",
       "      <th>Ticker</th>\n",
       "      <th>Year</th>\n",
       "      <th>Month</th>\n",
       "      <th>Weekday</th>\n",
       "      <th>...</th>\n",
       "      <th>growth_brent_oil_7d</th>\n",
       "      <th>growth_brent_oil_30d</th>\n",
       "      <th>growth_brent_oil_90d</th>\n",
       "      <th>growth_brent_oil_365d</th>\n",
       "      <th>growth_btc_usd_1d</th>\n",
       "      <th>growth_btc_usd_3d</th>\n",
       "      <th>growth_btc_usd_7d</th>\n",
       "      <th>growth_btc_usd_30d</th>\n",
       "      <th>growth_btc_usd_90d</th>\n",
       "      <th>growth_btc_usd_365d</th>\n",
       "    </tr>\n",
       "  </thead>\n",
       "  <tbody>\n",
       "    <tr>\n",
       "      <th>7011</th>\n",
       "      <td>37.349998</td>\n",
       "      <td>37.400002</td>\n",
       "      <td>37.099998</td>\n",
       "      <td>37.160000</td>\n",
       "      <td>31.233055</td>\n",
       "      <td>30632200.0</td>\n",
       "      <td>MSFT</td>\n",
       "      <td>2014</td>\n",
       "      <td>2014-01-01</td>\n",
       "      <td>3</td>\n",
       "      <td>...</td>\n",
       "      <td>0.964302</td>\n",
       "      <td>0.992998</td>\n",
       "      <td>0.970030</td>\n",
       "      <td>1.158676</td>\n",
       "      <td>NaN</td>\n",
       "      <td>NaN</td>\n",
       "      <td>NaN</td>\n",
       "      <td>NaN</td>\n",
       "      <td>NaN</td>\n",
       "      <td>NaN</td>\n",
       "    </tr>\n",
       "    <tr>\n",
       "      <th>7012</th>\n",
       "      <td>37.200001</td>\n",
       "      <td>37.220001</td>\n",
       "      <td>36.599998</td>\n",
       "      <td>36.910000</td>\n",
       "      <td>31.022942</td>\n",
       "      <td>31134800.0</td>\n",
       "      <td>MSFT</td>\n",
       "      <td>2014</td>\n",
       "      <td>2014-01-01</td>\n",
       "      <td>4</td>\n",
       "      <td>...</td>\n",
       "      <td>0.958139</td>\n",
       "      <td>0.984707</td>\n",
       "      <td>0.961500</td>\n",
       "      <td>1.143209</td>\n",
       "      <td>NaN</td>\n",
       "      <td>NaN</td>\n",
       "      <td>NaN</td>\n",
       "      <td>NaN</td>\n",
       "      <td>NaN</td>\n",
       "      <td>NaN</td>\n",
       "    </tr>\n",
       "    <tr>\n",
       "      <th>7013</th>\n",
       "      <td>36.849998</td>\n",
       "      <td>36.889999</td>\n",
       "      <td>36.110001</td>\n",
       "      <td>36.130001</td>\n",
       "      <td>30.367346</td>\n",
       "      <td>43603700.0</td>\n",
       "      <td>MSFT</td>\n",
       "      <td>2014</td>\n",
       "      <td>2014-01-01</td>\n",
       "      <td>0</td>\n",
       "      <td>...</td>\n",
       "      <td>0.953798</td>\n",
       "      <td>0.998223</td>\n",
       "      <td>0.968951</td>\n",
       "      <td>1.168236</td>\n",
       "      <td>NaN</td>\n",
       "      <td>NaN</td>\n",
       "      <td>NaN</td>\n",
       "      <td>NaN</td>\n",
       "      <td>NaN</td>\n",
       "      <td>NaN</td>\n",
       "    </tr>\n",
       "    <tr>\n",
       "      <th>7014</th>\n",
       "      <td>36.330002</td>\n",
       "      <td>36.490002</td>\n",
       "      <td>36.209999</td>\n",
       "      <td>36.410000</td>\n",
       "      <td>30.602680</td>\n",
       "      <td>35802800.0</td>\n",
       "      <td>MSFT</td>\n",
       "      <td>2014</td>\n",
       "      <td>2014-01-01</td>\n",
       "      <td>1</td>\n",
       "      <td>...</td>\n",
       "      <td>0.958653</td>\n",
       "      <td>0.993430</td>\n",
       "      <td>0.977598</td>\n",
       "      <td>1.097648</td>\n",
       "      <td>NaN</td>\n",
       "      <td>NaN</td>\n",
       "      <td>NaN</td>\n",
       "      <td>NaN</td>\n",
       "      <td>NaN</td>\n",
       "      <td>NaN</td>\n",
       "    </tr>\n",
       "    <tr>\n",
       "      <th>7015</th>\n",
       "      <td>36.000000</td>\n",
       "      <td>36.139999</td>\n",
       "      <td>35.580002</td>\n",
       "      <td>35.759998</td>\n",
       "      <td>30.056351</td>\n",
       "      <td>59971700.0</td>\n",
       "      <td>MSFT</td>\n",
       "      <td>2014</td>\n",
       "      <td>2014-01-01</td>\n",
       "      <td>2</td>\n",
       "      <td>...</td>\n",
       "      <td>0.955161</td>\n",
       "      <td>0.973383</td>\n",
       "      <td>0.974977</td>\n",
       "      <td>1.100781</td>\n",
       "      <td>NaN</td>\n",
       "      <td>NaN</td>\n",
       "      <td>NaN</td>\n",
       "      <td>NaN</td>\n",
       "      <td>NaN</td>\n",
       "      <td>NaN</td>\n",
       "    </tr>\n",
       "    <tr>\n",
       "      <th>...</th>\n",
       "      <td>...</td>\n",
       "      <td>...</td>\n",
       "      <td>...</td>\n",
       "      <td>...</td>\n",
       "      <td>...</td>\n",
       "      <td>...</td>\n",
       "      <td>...</td>\n",
       "      <td>...</td>\n",
       "      <td>...</td>\n",
       "      <td>...</td>\n",
       "      <td>...</td>\n",
       "      <td>...</td>\n",
       "      <td>...</td>\n",
       "      <td>...</td>\n",
       "      <td>...</td>\n",
       "      <td>...</td>\n",
       "      <td>...</td>\n",
       "      <td>...</td>\n",
       "      <td>...</td>\n",
       "      <td>...</td>\n",
       "      <td>...</td>\n",
       "    </tr>\n",
       "    <tr>\n",
       "      <th>5338</th>\n",
       "      <td>3424.000000</td>\n",
       "      <td>3496.000000</td>\n",
       "      <td>3408.600098</td>\n",
       "      <td>3477.949951</td>\n",
       "      <td>3477.949951</td>\n",
       "      <td>1681707.0</td>\n",
       "      <td>LT.NS</td>\n",
       "      <td>2023</td>\n",
       "      <td>2023-12-01</td>\n",
       "      <td>4</td>\n",
       "      <td>...</td>\n",
       "      <td>1.064772</td>\n",
       "      <td>0.971018</td>\n",
       "      <td>0.939967</td>\n",
       "      <td>0.797881</td>\n",
       "      <td>1.002935</td>\n",
       "      <td>1.040865</td>\n",
       "      <td>1.049324</td>\n",
       "      <td>1.175398</td>\n",
       "      <td>1.655339</td>\n",
       "      <td>2.614201</td>\n",
       "    </tr>\n",
       "    <tr>\n",
       "      <th>5339</th>\n",
       "      <td>3477.949951</td>\n",
       "      <td>3508.350098</td>\n",
       "      <td>3477.949951</td>\n",
       "      <td>3490.050049</td>\n",
       "      <td>3490.050049</td>\n",
       "      <td>1072263.0</td>\n",
       "      <td>LT.NS</td>\n",
       "      <td>2023</td>\n",
       "      <td>2023-12-01</td>\n",
       "      <td>1</td>\n",
       "      <td>...</td>\n",
       "      <td>1.058217</td>\n",
       "      <td>0.982429</td>\n",
       "      <td>0.956014</td>\n",
       "      <td>0.801404</td>\n",
       "      <td>0.974945</td>\n",
       "      <td>0.972127</td>\n",
       "      <td>1.005911</td>\n",
       "      <td>1.134509</td>\n",
       "      <td>1.613511</td>\n",
       "      <td>2.513055</td>\n",
       "    </tr>\n",
       "    <tr>\n",
       "      <th>5340</th>\n",
       "      <td>3510.000000</td>\n",
       "      <td>3549.000000</td>\n",
       "      <td>3504.149902</td>\n",
       "      <td>3544.000000</td>\n",
       "      <td>3544.000000</td>\n",
       "      <td>1389266.0</td>\n",
       "      <td>LT.NS</td>\n",
       "      <td>2023</td>\n",
       "      <td>2023-12-01</td>\n",
       "      <td>2</td>\n",
       "      <td>...</td>\n",
       "      <td>1.040496</td>\n",
       "      <td>0.965806</td>\n",
       "      <td>0.943050</td>\n",
       "      <td>0.749506</td>\n",
       "      <td>1.021694</td>\n",
       "      <td>1.009920</td>\n",
       "      <td>0.995203</td>\n",
       "      <td>1.166121</td>\n",
       "      <td>1.607712</td>\n",
       "      <td>2.598696</td>\n",
       "    </tr>\n",
       "    <tr>\n",
       "      <th>5341</th>\n",
       "      <td>3545.000000</td>\n",
       "      <td>3559.949951</td>\n",
       "      <td>3500.500000</td>\n",
       "      <td>3518.050049</td>\n",
       "      <td>3518.050049</td>\n",
       "      <td>3371121.0</td>\n",
       "      <td>LT.NS</td>\n",
       "      <td>2023</td>\n",
       "      <td>2023-12-01</td>\n",
       "      <td>3</td>\n",
       "      <td>...</td>\n",
       "      <td>1.005645</td>\n",
       "      <td>0.965632</td>\n",
       "      <td>0.932881</td>\n",
       "      <td>0.730228</td>\n",
       "      <td>0.981240</td>\n",
       "      <td>0.977409</td>\n",
       "      <td>0.971705</td>\n",
       "      <td>1.126794</td>\n",
       "      <td>1.583988</td>\n",
       "      <td>2.575301</td>\n",
       "    </tr>\n",
       "    <tr>\n",
       "      <th>5342</th>\n",
       "      <td>3531.000000</td>\n",
       "      <td>3540.000000</td>\n",
       "      <td>3495.000000</td>\n",
       "      <td>3526.000000</td>\n",
       "      <td>3526.000000</td>\n",
       "      <td>968577.0</td>\n",
       "      <td>LT.NS</td>\n",
       "      <td>2023</td>\n",
       "      <td>2023-12-01</td>\n",
       "      <td>4</td>\n",
       "      <td>...</td>\n",
       "      <td>0.972359</td>\n",
       "      <td>0.995092</td>\n",
       "      <td>0.925850</td>\n",
       "      <td>0.720539</td>\n",
       "      <td>0.987603</td>\n",
       "      <td>0.990099</td>\n",
       "      <td>0.956850</td>\n",
       "      <td>1.112020</td>\n",
       "      <td>1.561092</td>\n",
       "      <td>2.529656</td>\n",
       "    </tr>\n",
       "  </tbody>\n",
       "</table>\n",
       "<p>80755 rows × 202 columns</p>\n",
       "</div>"
      ],
      "text/plain": [
       "             Open         High          Low        Close  Adj Close_x  \\\n",
       "7011    37.349998    37.400002    37.099998    37.160000    31.233055   \n",
       "7012    37.200001    37.220001    36.599998    36.910000    31.022942   \n",
       "7013    36.849998    36.889999    36.110001    36.130001    30.367346   \n",
       "7014    36.330002    36.490002    36.209999    36.410000    30.602680   \n",
       "7015    36.000000    36.139999    35.580002    35.759998    30.056351   \n",
       "...           ...          ...          ...          ...          ...   \n",
       "5338  3424.000000  3496.000000  3408.600098  3477.949951  3477.949951   \n",
       "5339  3477.949951  3508.350098  3477.949951  3490.050049  3490.050049   \n",
       "5340  3510.000000  3549.000000  3504.149902  3544.000000  3544.000000   \n",
       "5341  3545.000000  3559.949951  3500.500000  3518.050049  3518.050049   \n",
       "5342  3531.000000  3540.000000  3495.000000  3526.000000  3526.000000   \n",
       "\n",
       "          Volume Ticker  Year      Month  Weekday  ... growth_brent_oil_7d  \\\n",
       "7011  30632200.0   MSFT  2014 2014-01-01        3  ...            0.964302   \n",
       "7012  31134800.0   MSFT  2014 2014-01-01        4  ...            0.958139   \n",
       "7013  43603700.0   MSFT  2014 2014-01-01        0  ...            0.953798   \n",
       "7014  35802800.0   MSFT  2014 2014-01-01        1  ...            0.958653   \n",
       "7015  59971700.0   MSFT  2014 2014-01-01        2  ...            0.955161   \n",
       "...          ...    ...   ...        ...      ...  ...                 ...   \n",
       "5338   1681707.0  LT.NS  2023 2023-12-01        4  ...            1.064772   \n",
       "5339   1072263.0  LT.NS  2023 2023-12-01        1  ...            1.058217   \n",
       "5340   1389266.0  LT.NS  2023 2023-12-01        2  ...            1.040496   \n",
       "5341   3371121.0  LT.NS  2023 2023-12-01        3  ...            1.005645   \n",
       "5342    968577.0  LT.NS  2023 2023-12-01        4  ...            0.972359   \n",
       "\n",
       "      growth_brent_oil_30d  growth_brent_oil_90d  growth_brent_oil_365d  \\\n",
       "7011              0.992998              0.970030               1.158676   \n",
       "7012              0.984707              0.961500               1.143209   \n",
       "7013              0.998223              0.968951               1.168236   \n",
       "7014              0.993430              0.977598               1.097648   \n",
       "7015              0.973383              0.974977               1.100781   \n",
       "...                    ...                   ...                    ...   \n",
       "5338              0.971018              0.939967               0.797881   \n",
       "5339              0.982429              0.956014               0.801404   \n",
       "5340              0.965806              0.943050               0.749506   \n",
       "5341              0.965632              0.932881               0.730228   \n",
       "5342              0.995092              0.925850               0.720539   \n",
       "\n",
       "      growth_btc_usd_1d  growth_btc_usd_3d  growth_btc_usd_7d  \\\n",
       "7011                NaN                NaN                NaN   \n",
       "7012                NaN                NaN                NaN   \n",
       "7013                NaN                NaN                NaN   \n",
       "7014                NaN                NaN                NaN   \n",
       "7015                NaN                NaN                NaN   \n",
       "...                 ...                ...                ...   \n",
       "5338           1.002935           1.040865           1.049324   \n",
       "5339           0.974945           0.972127           1.005911   \n",
       "5340           1.021694           1.009920           0.995203   \n",
       "5341           0.981240           0.977409           0.971705   \n",
       "5342           0.987603           0.990099           0.956850   \n",
       "\n",
       "      growth_btc_usd_30d  growth_btc_usd_90d  growth_btc_usd_365d  \n",
       "7011                 NaN                 NaN                  NaN  \n",
       "7012                 NaN                 NaN                  NaN  \n",
       "7013                 NaN                 NaN                  NaN  \n",
       "7014                 NaN                 NaN                  NaN  \n",
       "7015                 NaN                 NaN                  NaN  \n",
       "...                  ...                 ...                  ...  \n",
       "5338            1.175398            1.655339             2.614201  \n",
       "5339            1.134509            1.613511             2.513055  \n",
       "5340            1.166121            1.607712             2.598696  \n",
       "5341            1.126794            1.583988             2.575301  \n",
       "5342            1.112020            1.561092             2.529656  \n",
       "\n",
       "[80755 rows x 202 columns]"
      ]
     },
     "execution_count": 73,
     "metadata": {},
     "output_type": "execute_result"
    }
   ],
   "source": [
    "# runcate the dataframe to the last full 10 years of data (2014-01-01 to 2023-12-31)\n",
    "df[(df[\"Date\"] > \"2014-01-01\") & (df[\"Date\"] < \"2023-12-31\")]"
   ]
  },
  {
   "cell_type": "code",
   "execution_count": 79,
   "metadata": {},
   "outputs": [],
   "source": [
    "df_reduced = df[(df[\"Date\"] > \"2014-01-01\") & (df[\"Date\"] < \"2023-12-31\")].copy()"
   ]
  },
  {
   "cell_type": "code",
   "execution_count": 80,
   "metadata": {},
   "outputs": [
    {
     "name": "stdout",
     "output_type": "stream",
     "text": [
      "<class 'pandas.core.frame.DataFrame'>\n",
      "Index: 80755 entries, 7011 to 5342\n",
      "Columns: 202 entries, Open to growth_btc_usd_365d\n",
      "dtypes: datetime64[ns](3), float64(128), int32(66), int64(3), object(2)\n",
      "memory usage: 104.7+ MB\n"
     ]
    }
   ],
   "source": [
    "df_reduced.info()"
   ]
  },
  {
   "cell_type": "code",
   "execution_count": 81,
   "metadata": {},
   "outputs": [
    {
     "name": "stdout",
     "output_type": "stream",
     "text": [
      "<class 'pandas.core.frame.DataFrame'>\n",
      "Index: 221076 entries, 0 to 5424\n",
      "Columns: 202 entries, Open to growth_btc_usd_365d\n",
      "dtypes: datetime64[ns](3), float64(128), int32(66), int64(3), object(2)\n",
      "memory usage: 286.7+ MB\n"
     ]
    }
   ],
   "source": [
    "df.info()"
   ]
  },
  {
   "cell_type": "code",
   "execution_count": 104,
   "metadata": {},
   "outputs": [],
   "source": [
    "# create a signal when cci > 100 and weekday ==4 (Friday)\n",
    "threshold = 200\n",
    "# Create a signal column\n",
    "df_reduced['Signal'] = (df_reduced['cci'] > threshold) & (df_reduced['Weekday'] == 4)\n",
    "\n",
    "# Convert boolean values to integers (0 or 1)\n",
    "df_reduced['Signal'] = df_reduced['Signal'].astype(int)"
   ]
  },
  {
   "cell_type": "code",
   "execution_count": 109,
   "metadata": {},
   "outputs": [],
   "source": [
    "#df_reduced[\"Adj Close_5\"]= df_reduced[\"Adj Close_x\"].shift(5) # WARNING: This produces incorrect results \n",
    "df_reduced[\"Adj Close_5\"] =\"\""
   ]
  },
  {
   "cell_type": "code",
   "execution_count": 116,
   "metadata": {},
   "outputs": [],
   "source": [
    "#df_pivot = df_reduced.pivot(index=)"
   ]
  },
  {
   "cell_type": "code",
   "execution_count": 143,
   "metadata": {},
   "outputs": [
    {
     "data": {
      "text/html": [
       "<div>\n",
       "<style scoped>\n",
       "    .dataframe tbody tr th:only-of-type {\n",
       "        vertical-align: middle;\n",
       "    }\n",
       "\n",
       "    .dataframe tbody tr th {\n",
       "        vertical-align: top;\n",
       "    }\n",
       "\n",
       "    .dataframe thead th {\n",
       "        text-align: right;\n",
       "    }\n",
       "</style>\n",
       "<table border=\"1\" class=\"dataframe\">\n",
       "  <thead>\n",
       "    <tr style=\"text-align: right;\">\n",
       "      <th></th>\n",
       "      <th></th>\n",
       "      <th>Open</th>\n",
       "      <th>High</th>\n",
       "      <th>Low</th>\n",
       "      <th>Close</th>\n",
       "      <th>Adj Close_x</th>\n",
       "      <th>Volume</th>\n",
       "      <th>Year</th>\n",
       "      <th>Month</th>\n",
       "      <th>Weekday</th>\n",
       "      <th>growth_1d</th>\n",
       "      <th>...</th>\n",
       "      <th>growth_brent_oil_90d</th>\n",
       "      <th>growth_brent_oil_365d</th>\n",
       "      <th>growth_btc_usd_1d</th>\n",
       "      <th>growth_btc_usd_3d</th>\n",
       "      <th>growth_btc_usd_7d</th>\n",
       "      <th>growth_btc_usd_30d</th>\n",
       "      <th>growth_btc_usd_90d</th>\n",
       "      <th>growth_btc_usd_365d</th>\n",
       "      <th>Signal</th>\n",
       "      <th>Adj Close_5</th>\n",
       "    </tr>\n",
       "    <tr>\n",
       "      <th>Ticker</th>\n",
       "      <th>Date</th>\n",
       "      <th></th>\n",
       "      <th></th>\n",
       "      <th></th>\n",
       "      <th></th>\n",
       "      <th></th>\n",
       "      <th></th>\n",
       "      <th></th>\n",
       "      <th></th>\n",
       "      <th></th>\n",
       "      <th></th>\n",
       "      <th></th>\n",
       "      <th></th>\n",
       "      <th></th>\n",
       "      <th></th>\n",
       "      <th></th>\n",
       "      <th></th>\n",
       "      <th></th>\n",
       "      <th></th>\n",
       "      <th></th>\n",
       "      <th></th>\n",
       "      <th></th>\n",
       "    </tr>\n",
       "  </thead>\n",
       "  <tbody>\n",
       "    <tr>\n",
       "      <th rowspan=\"5\" valign=\"top\">AAPL</th>\n",
       "      <th>2014-01-02</th>\n",
       "      <td>19.845715</td>\n",
       "      <td>19.893929</td>\n",
       "      <td>19.715000</td>\n",
       "      <td>19.754642</td>\n",
       "      <td>17.296658</td>\n",
       "      <td>234684800.0</td>\n",
       "      <td>2014</td>\n",
       "      <td>2014-01-01</td>\n",
       "      <td>3</td>\n",
       "      <td>0.985937</td>\n",
       "      <td>...</td>\n",
       "      <td>0.970030</td>\n",
       "      <td>1.158676</td>\n",
       "      <td>NaN</td>\n",
       "      <td>NaN</td>\n",
       "      <td>NaN</td>\n",
       "      <td>NaN</td>\n",
       "      <td>NaN</td>\n",
       "      <td>NaN</td>\n",
       "      <td>0</td>\n",
       "      <td>NaN</td>\n",
       "    </tr>\n",
       "    <tr>\n",
       "      <th>2014-01-03</th>\n",
       "      <td>19.745001</td>\n",
       "      <td>19.775000</td>\n",
       "      <td>19.301071</td>\n",
       "      <td>19.320715</td>\n",
       "      <td>16.916714</td>\n",
       "      <td>392467600.0</td>\n",
       "      <td>2014</td>\n",
       "      <td>2014-01-01</td>\n",
       "      <td>4</td>\n",
       "      <td>0.978034</td>\n",
       "      <td>...</td>\n",
       "      <td>0.961500</td>\n",
       "      <td>1.143209</td>\n",
       "      <td>NaN</td>\n",
       "      <td>NaN</td>\n",
       "      <td>NaN</td>\n",
       "      <td>NaN</td>\n",
       "      <td>NaN</td>\n",
       "      <td>NaN</td>\n",
       "      <td>0</td>\n",
       "      <td>NaN</td>\n",
       "    </tr>\n",
       "    <tr>\n",
       "      <th>2014-01-06</th>\n",
       "      <td>19.194643</td>\n",
       "      <td>19.528570</td>\n",
       "      <td>19.057142</td>\n",
       "      <td>19.426071</td>\n",
       "      <td>17.008961</td>\n",
       "      <td>412610800.0</td>\n",
       "      <td>2014</td>\n",
       "      <td>2014-01-01</td>\n",
       "      <td>0</td>\n",
       "      <td>1.005453</td>\n",
       "      <td>...</td>\n",
       "      <td>0.968951</td>\n",
       "      <td>1.168236</td>\n",
       "      <td>NaN</td>\n",
       "      <td>NaN</td>\n",
       "      <td>NaN</td>\n",
       "      <td>NaN</td>\n",
       "      <td>NaN</td>\n",
       "      <td>NaN</td>\n",
       "      <td>0</td>\n",
       "      <td>NaN</td>\n",
       "    </tr>\n",
       "    <tr>\n",
       "      <th>2014-01-07</th>\n",
       "      <td>19.440001</td>\n",
       "      <td>19.498571</td>\n",
       "      <td>19.211430</td>\n",
       "      <td>19.287144</td>\n",
       "      <td>16.887331</td>\n",
       "      <td>317209200.0</td>\n",
       "      <td>2014</td>\n",
       "      <td>2014-01-01</td>\n",
       "      <td>1</td>\n",
       "      <td>0.992849</td>\n",
       "      <td>...</td>\n",
       "      <td>0.977598</td>\n",
       "      <td>1.097648</td>\n",
       "      <td>NaN</td>\n",
       "      <td>NaN</td>\n",
       "      <td>NaN</td>\n",
       "      <td>NaN</td>\n",
       "      <td>NaN</td>\n",
       "      <td>NaN</td>\n",
       "      <td>0</td>\n",
       "      <td>NaN</td>\n",
       "    </tr>\n",
       "    <tr>\n",
       "      <th>2014-01-08</th>\n",
       "      <td>19.243214</td>\n",
       "      <td>19.484285</td>\n",
       "      <td>19.238930</td>\n",
       "      <td>19.409286</td>\n",
       "      <td>16.994268</td>\n",
       "      <td>258529600.0</td>\n",
       "      <td>2014</td>\n",
       "      <td>2014-01-01</td>\n",
       "      <td>2</td>\n",
       "      <td>1.006332</td>\n",
       "      <td>...</td>\n",
       "      <td>0.974977</td>\n",
       "      <td>1.100781</td>\n",
       "      <td>NaN</td>\n",
       "      <td>NaN</td>\n",
       "      <td>NaN</td>\n",
       "      <td>NaN</td>\n",
       "      <td>NaN</td>\n",
       "      <td>NaN</td>\n",
       "      <td>0</td>\n",
       "      <td>NaN</td>\n",
       "    </tr>\n",
       "    <tr>\n",
       "      <th>...</th>\n",
       "      <th>...</th>\n",
       "      <td>...</td>\n",
       "      <td>...</td>\n",
       "      <td>...</td>\n",
       "      <td>...</td>\n",
       "      <td>...</td>\n",
       "      <td>...</td>\n",
       "      <td>...</td>\n",
       "      <td>...</td>\n",
       "      <td>...</td>\n",
       "      <td>...</td>\n",
       "      <td>...</td>\n",
       "      <td>...</td>\n",
       "      <td>...</td>\n",
       "      <td>...</td>\n",
       "      <td>...</td>\n",
       "      <td>...</td>\n",
       "      <td>...</td>\n",
       "      <td>...</td>\n",
       "      <td>...</td>\n",
       "      <td>...</td>\n",
       "      <td>...</td>\n",
       "    </tr>\n",
       "    <tr>\n",
       "      <th rowspan=\"5\" valign=\"top\">V</th>\n",
       "      <th>2023-12-22</th>\n",
       "      <td>260.000000</td>\n",
       "      <td>261.209991</td>\n",
       "      <td>258.220001</td>\n",
       "      <td>258.429993</td>\n",
       "      <td>257.949005</td>\n",
       "      <td>5111500.0</td>\n",
       "      <td>2023</td>\n",
       "      <td>2023-12-01</td>\n",
       "      <td>4</td>\n",
       "      <td>0.995723</td>\n",
       "      <td>...</td>\n",
       "      <td>0.939967</td>\n",
       "      <td>0.797881</td>\n",
       "      <td>1.002935</td>\n",
       "      <td>1.040865</td>\n",
       "      <td>1.049324</td>\n",
       "      <td>1.175398</td>\n",
       "      <td>1.655339</td>\n",
       "      <td>2.614201</td>\n",
       "      <td>0</td>\n",
       "      <td>257.549744</td>\n",
       "    </tr>\n",
       "    <tr>\n",
       "      <th>2023-12-26</th>\n",
       "      <td>258.529999</td>\n",
       "      <td>259.739990</td>\n",
       "      <td>258.529999</td>\n",
       "      <td>259.160004</td>\n",
       "      <td>258.677643</td>\n",
       "      <td>2085100.0</td>\n",
       "      <td>2023</td>\n",
       "      <td>2023-12-01</td>\n",
       "      <td>1</td>\n",
       "      <td>1.002825</td>\n",
       "      <td>...</td>\n",
       "      <td>0.956014</td>\n",
       "      <td>0.801404</td>\n",
       "      <td>0.974945</td>\n",
       "      <td>0.972127</td>\n",
       "      <td>1.005911</td>\n",
       "      <td>1.134509</td>\n",
       "      <td>1.613511</td>\n",
       "      <td>2.513055</td>\n",
       "      <td>0</td>\n",
       "      <td>257.889099</td>\n",
       "    </tr>\n",
       "    <tr>\n",
       "      <th>2023-12-27</th>\n",
       "      <td>259.250000</td>\n",
       "      <td>259.769989</td>\n",
       "      <td>258.309998</td>\n",
       "      <td>258.929993</td>\n",
       "      <td>258.448059</td>\n",
       "      <td>4034700.0</td>\n",
       "      <td>2023</td>\n",
       "      <td>2023-12-01</td>\n",
       "      <td>2</td>\n",
       "      <td>0.999112</td>\n",
       "      <td>...</td>\n",
       "      <td>0.943050</td>\n",
       "      <td>0.749506</td>\n",
       "      <td>1.021694</td>\n",
       "      <td>1.009920</td>\n",
       "      <td>0.995203</td>\n",
       "      <td>1.166121</td>\n",
       "      <td>1.607712</td>\n",
       "      <td>2.598696</td>\n",
       "      <td>0</td>\n",
       "      <td>259.506104</td>\n",
       "    </tr>\n",
       "    <tr>\n",
       "      <th>2023-12-28</th>\n",
       "      <td>258.540009</td>\n",
       "      <td>260.970001</td>\n",
       "      <td>258.540009</td>\n",
       "      <td>260.399994</td>\n",
       "      <td>259.915344</td>\n",
       "      <td>3020500.0</td>\n",
       "      <td>2023</td>\n",
       "      <td>2023-12-01</td>\n",
       "      <td>3</td>\n",
       "      <td>1.005677</td>\n",
       "      <td>...</td>\n",
       "      <td>0.932881</td>\n",
       "      <td>0.730228</td>\n",
       "      <td>0.981240</td>\n",
       "      <td>0.977409</td>\n",
       "      <td>0.971705</td>\n",
       "      <td>1.126794</td>\n",
       "      <td>1.583988</td>\n",
       "      <td>2.575301</td>\n",
       "      <td>0</td>\n",
       "      <td>256.631439</td>\n",
       "    </tr>\n",
       "    <tr>\n",
       "      <th>2023-12-29</th>\n",
       "      <td>260.570007</td>\n",
       "      <td>261.459991</td>\n",
       "      <td>259.670013</td>\n",
       "      <td>260.350006</td>\n",
       "      <td>259.865448</td>\n",
       "      <td>4074600.0</td>\n",
       "      <td>2023</td>\n",
       "      <td>2023-12-01</td>\n",
       "      <td>4</td>\n",
       "      <td>0.999808</td>\n",
       "      <td>...</td>\n",
       "      <td>0.925850</td>\n",
       "      <td>0.720539</td>\n",
       "      <td>0.987603</td>\n",
       "      <td>0.990099</td>\n",
       "      <td>0.956850</td>\n",
       "      <td>1.112020</td>\n",
       "      <td>1.561092</td>\n",
       "      <td>2.529656</td>\n",
       "      <td>0</td>\n",
       "      <td>259.056946</td>\n",
       "    </tr>\n",
       "  </tbody>\n",
       "</table>\n",
       "<p>80755 rows × 202 columns</p>\n",
       "</div>"
      ],
      "text/plain": [
       "                         Open        High         Low       Close  \\\n",
       "Ticker Date                                                         \n",
       "AAPL   2014-01-02   19.845715   19.893929   19.715000   19.754642   \n",
       "       2014-01-03   19.745001   19.775000   19.301071   19.320715   \n",
       "       2014-01-06   19.194643   19.528570   19.057142   19.426071   \n",
       "       2014-01-07   19.440001   19.498571   19.211430   19.287144   \n",
       "       2014-01-08   19.243214   19.484285   19.238930   19.409286   \n",
       "...                       ...         ...         ...         ...   \n",
       "V      2023-12-22  260.000000  261.209991  258.220001  258.429993   \n",
       "       2023-12-26  258.529999  259.739990  258.529999  259.160004   \n",
       "       2023-12-27  259.250000  259.769989  258.309998  258.929993   \n",
       "       2023-12-28  258.540009  260.970001  258.540009  260.399994   \n",
       "       2023-12-29  260.570007  261.459991  259.670013  260.350006   \n",
       "\n",
       "                   Adj Close_x       Volume  Year      Month  Weekday  \\\n",
       "Ticker Date                                                             \n",
       "AAPL   2014-01-02    17.296658  234684800.0  2014 2014-01-01        3   \n",
       "       2014-01-03    16.916714  392467600.0  2014 2014-01-01        4   \n",
       "       2014-01-06    17.008961  412610800.0  2014 2014-01-01        0   \n",
       "       2014-01-07    16.887331  317209200.0  2014 2014-01-01        1   \n",
       "       2014-01-08    16.994268  258529600.0  2014 2014-01-01        2   \n",
       "...                        ...          ...   ...        ...      ...   \n",
       "V      2023-12-22   257.949005    5111500.0  2023 2023-12-01        4   \n",
       "       2023-12-26   258.677643    2085100.0  2023 2023-12-01        1   \n",
       "       2023-12-27   258.448059    4034700.0  2023 2023-12-01        2   \n",
       "       2023-12-28   259.915344    3020500.0  2023 2023-12-01        3   \n",
       "       2023-12-29   259.865448    4074600.0  2023 2023-12-01        4   \n",
       "\n",
       "                   growth_1d  ...  growth_brent_oil_90d  \\\n",
       "Ticker Date                   ...                         \n",
       "AAPL   2014-01-02   0.985937  ...              0.970030   \n",
       "       2014-01-03   0.978034  ...              0.961500   \n",
       "       2014-01-06   1.005453  ...              0.968951   \n",
       "       2014-01-07   0.992849  ...              0.977598   \n",
       "       2014-01-08   1.006332  ...              0.974977   \n",
       "...                      ...  ...                   ...   \n",
       "V      2023-12-22   0.995723  ...              0.939967   \n",
       "       2023-12-26   1.002825  ...              0.956014   \n",
       "       2023-12-27   0.999112  ...              0.943050   \n",
       "       2023-12-28   1.005677  ...              0.932881   \n",
       "       2023-12-29   0.999808  ...              0.925850   \n",
       "\n",
       "                   growth_brent_oil_365d  growth_btc_usd_1d  \\\n",
       "Ticker Date                                                   \n",
       "AAPL   2014-01-02               1.158676                NaN   \n",
       "       2014-01-03               1.143209                NaN   \n",
       "       2014-01-06               1.168236                NaN   \n",
       "       2014-01-07               1.097648                NaN   \n",
       "       2014-01-08               1.100781                NaN   \n",
       "...                                  ...                ...   \n",
       "V      2023-12-22               0.797881           1.002935   \n",
       "       2023-12-26               0.801404           0.974945   \n",
       "       2023-12-27               0.749506           1.021694   \n",
       "       2023-12-28               0.730228           0.981240   \n",
       "       2023-12-29               0.720539           0.987603   \n",
       "\n",
       "                   growth_btc_usd_3d  growth_btc_usd_7d  growth_btc_usd_30d  \\\n",
       "Ticker Date                                                                   \n",
       "AAPL   2014-01-02                NaN                NaN                 NaN   \n",
       "       2014-01-03                NaN                NaN                 NaN   \n",
       "       2014-01-06                NaN                NaN                 NaN   \n",
       "       2014-01-07                NaN                NaN                 NaN   \n",
       "       2014-01-08                NaN                NaN                 NaN   \n",
       "...                              ...                ...                 ...   \n",
       "V      2023-12-22           1.040865           1.049324            1.175398   \n",
       "       2023-12-26           0.972127           1.005911            1.134509   \n",
       "       2023-12-27           1.009920           0.995203            1.166121   \n",
       "       2023-12-28           0.977409           0.971705            1.126794   \n",
       "       2023-12-29           0.990099           0.956850            1.112020   \n",
       "\n",
       "                   growth_btc_usd_90d  growth_btc_usd_365d  Signal  \\\n",
       "Ticker Date                                                          \n",
       "AAPL   2014-01-02                 NaN                  NaN       0   \n",
       "       2014-01-03                 NaN                  NaN       0   \n",
       "       2014-01-06                 NaN                  NaN       0   \n",
       "       2014-01-07                 NaN                  NaN       0   \n",
       "       2014-01-08                 NaN                  NaN       0   \n",
       "...                               ...                  ...     ...   \n",
       "V      2023-12-22            1.655339             2.614201       0   \n",
       "       2023-12-26            1.613511             2.513055       0   \n",
       "       2023-12-27            1.607712             2.598696       0   \n",
       "       2023-12-28            1.583988             2.575301       0   \n",
       "       2023-12-29            1.561092             2.529656       0   \n",
       "\n",
       "                   Adj Close_5  \n",
       "Ticker Date                     \n",
       "AAPL   2014-01-02          NaN  \n",
       "       2014-01-03          NaN  \n",
       "       2014-01-06          NaN  \n",
       "       2014-01-07          NaN  \n",
       "       2014-01-08          NaN  \n",
       "...                        ...  \n",
       "V      2023-12-22   257.549744  \n",
       "       2023-12-26   257.889099  \n",
       "       2023-12-27   259.506104  \n",
       "       2023-12-28   256.631439  \n",
       "       2023-12-29   259.056946  \n",
       "\n",
       "[80755 rows x 202 columns]"
      ]
     },
     "execution_count": 143,
     "metadata": {},
     "output_type": "execute_result"
    }
   ],
   "source": [
    "multi_df = df_reduced.set_index([\"Ticker\", \"Date\"])\n",
    "# Sort index\n",
    "multi_df.sort_index(inplace=True)\n",
    "multi_df[\"Adj Close_5\"] = multi_df[\"Adj Close_x\"].shift(5)\n",
    "multi_df"
   ]
  },
  {
   "cell_type": "code",
   "execution_count": 149,
   "metadata": {},
   "outputs": [
    {
     "name": "stderr",
     "output_type": "stream",
     "text": [
      "C:\\Users\\Susanne\\AppData\\Local\\Temp\\ipykernel_20036\\786779422.py:1: FutureWarning: ChainedAssignmentError: behaviour will change in pandas 3.0!\n",
      "You are setting values through chained assignment. Currently this works in certain cases, but when using Copy-on-Write (which will become the default behaviour in pandas 3.0) this will never work to update the original DataFrame or Series, because the intermediate object on which we are setting values will behave as a copy.\n",
      "A typical example is when you are setting values in a column of a DataFrame, like:\n",
      "\n",
      "df[\"col\"][row_indexer] = value\n",
      "\n",
      "Use `df.loc[row_indexer, \"col\"] = values` instead, to perform the assignment in a single step and ensure this keeps updating the original `df`.\n",
      "\n",
      "See the caveats in the documentation: https://pandas.pydata.org/pandas-docs/stable/user_guide/indexing.html#returning-a-view-versus-a-copy\n",
      "\n",
      "  multi_df.loc[(\"ACN\",)][\"Adj Close_5\"] = multi_df.loc[(\"ACN\",)][\"Adj Close_x\"].shift(5)\n",
      "C:\\Users\\Susanne\\AppData\\Local\\Temp\\ipykernel_20036\\786779422.py:1: SettingWithCopyWarning: \n",
      "A value is trying to be set on a copy of a slice from a DataFrame.\n",
      "Try using .loc[row_indexer,col_indexer] = value instead\n",
      "\n",
      "See the caveats in the documentation: https://pandas.pydata.org/pandas-docs/stable/user_guide/indexing.html#returning-a-view-versus-a-copy\n",
      "  multi_df.loc[(\"ACN\",)][\"Adj Close_5\"] = multi_df.loc[(\"ACN\",)][\"Adj Close_x\"].shift(5)\n"
     ]
    }
   ],
   "source": [
    "multi_df.loc[(\"ACN\",)][\"Adj Close_5\"] = multi_df.loc[(\"ACN\",)][\"Adj Close_x\"].shift(5)"
   ]
  },
  {
   "cell_type": "code",
   "execution_count": null,
   "metadata": {},
   "outputs": [],
   "source": []
  },
  {
   "cell_type": "code",
   "execution_count": 117,
   "metadata": {},
   "outputs": [
    {
     "data": {
      "text/html": [
       "<div>\n",
       "<style scoped>\n",
       "    .dataframe tbody tr th:only-of-type {\n",
       "        vertical-align: middle;\n",
       "    }\n",
       "\n",
       "    .dataframe tbody tr th {\n",
       "        vertical-align: top;\n",
       "    }\n",
       "\n",
       "    .dataframe thead tr th {\n",
       "        text-align: left;\n",
       "    }\n",
       "\n",
       "    .dataframe thead tr:last-of-type th {\n",
       "        text-align: right;\n",
       "    }\n",
       "</style>\n",
       "<table border=\"1\" class=\"dataframe\">\n",
       "  <thead>\n",
       "    <tr>\n",
       "      <th></th>\n",
       "      <th colspan=\"10\" halign=\"left\">Adj Close_x</th>\n",
       "      <th>...</th>\n",
       "      <th colspan=\"10\" halign=\"left\">Signal</th>\n",
       "    </tr>\n",
       "    <tr>\n",
       "      <th>Ticker</th>\n",
       "      <th>AAPL</th>\n",
       "      <th>ACN</th>\n",
       "      <th>AMZN</th>\n",
       "      <th>ASML</th>\n",
       "      <th>AVGO</th>\n",
       "      <th>BHARTIARTL.NS</th>\n",
       "      <th>BRK-B</th>\n",
       "      <th>CDI.PA</th>\n",
       "      <th>GOOG</th>\n",
       "      <th>HDB</th>\n",
       "      <th>...</th>\n",
       "      <th>NVO</th>\n",
       "      <th>OR.PA</th>\n",
       "      <th>RELIANCE.NS</th>\n",
       "      <th>RMS.PA</th>\n",
       "      <th>SAP</th>\n",
       "      <th>SBIN.NS</th>\n",
       "      <th>SIE.DE</th>\n",
       "      <th>TCS.NS</th>\n",
       "      <th>TTE</th>\n",
       "      <th>V</th>\n",
       "    </tr>\n",
       "    <tr>\n",
       "      <th>Date</th>\n",
       "      <th></th>\n",
       "      <th></th>\n",
       "      <th></th>\n",
       "      <th></th>\n",
       "      <th></th>\n",
       "      <th></th>\n",
       "      <th></th>\n",
       "      <th></th>\n",
       "      <th></th>\n",
       "      <th></th>\n",
       "      <th></th>\n",
       "      <th></th>\n",
       "      <th></th>\n",
       "      <th></th>\n",
       "      <th></th>\n",
       "      <th></th>\n",
       "      <th></th>\n",
       "      <th></th>\n",
       "      <th></th>\n",
       "      <th></th>\n",
       "      <th></th>\n",
       "    </tr>\n",
       "  </thead>\n",
       "  <tbody>\n",
       "    <tr>\n",
       "      <th>2014-01-02</th>\n",
       "      <td>17.296658</td>\n",
       "      <td>67.617828</td>\n",
       "      <td>19.8985</td>\n",
       "      <td>83.166664</td>\n",
       "      <td>39.869324</td>\n",
       "      <td>280.350159</td>\n",
       "      <td>117.5</td>\n",
       "      <td>108.00708</td>\n",
       "      <td>27.724083</td>\n",
       "      <td>15.844661</td>\n",
       "      <td>...</td>\n",
       "      <td>0</td>\n",
       "      <td>0</td>\n",
       "      <td>0</td>\n",
       "      <td>0</td>\n",
       "      <td>0</td>\n",
       "      <td>0</td>\n",
       "      <td>0</td>\n",
       "      <td>0</td>\n",
       "      <td>0</td>\n",
       "      <td>0</td>\n",
       "    </tr>\n",
       "    <tr>\n",
       "      <th>2014-01-03</th>\n",
       "      <td>16.916714</td>\n",
       "      <td>67.84285</td>\n",
       "      <td>19.822001</td>\n",
       "      <td>82.87851</td>\n",
       "      <td>40.020786</td>\n",
       "      <td>280.904541</td>\n",
       "      <td>117.57</td>\n",
       "      <td>108.086708</td>\n",
       "      <td>27.521841</td>\n",
       "      <td>15.844661</td>\n",
       "      <td>...</td>\n",
       "      <td>0</td>\n",
       "      <td>0</td>\n",
       "      <td>0</td>\n",
       "      <td>0</td>\n",
       "      <td>0</td>\n",
       "      <td>0</td>\n",
       "      <td>0</td>\n",
       "      <td>0</td>\n",
       "      <td>0</td>\n",
       "      <td>0</td>\n",
       "    </tr>\n",
       "    <tr>\n",
       "      <th>2014-01-06</th>\n",
       "      <td>17.008961</td>\n",
       "      <td>67.126099</td>\n",
       "      <td>19.681499</td>\n",
       "      <td>81.176628</td>\n",
       "      <td>39.748173</td>\n",
       "      <td>280.904541</td>\n",
       "      <td>116.279999</td>\n",
       "      <td>105.937706</td>\n",
       "      <td>27.828691</td>\n",
       "      <td>16.172998</td>\n",
       "      <td>...</td>\n",
       "      <td>0</td>\n",
       "      <td>0</td>\n",
       "      <td>0</td>\n",
       "      <td>0</td>\n",
       "      <td>0</td>\n",
       "      <td>0</td>\n",
       "      <td>0</td>\n",
       "      <td>0</td>\n",
       "      <td>0</td>\n",
       "      <td>0</td>\n",
       "    </tr>\n",
       "    <tr>\n",
       "      <th>2014-01-07</th>\n",
       "      <td>16.887331</td>\n",
       "      <td>67.942871</td>\n",
       "      <td>19.901501</td>\n",
       "      <td>80.492279</td>\n",
       "      <td>40.126816</td>\n",
       "      <td>282.908875</td>\n",
       "      <td>116.190002</td>\n",
       "      <td>105.062187</td>\n",
       "      <td>28.365179</td>\n",
       "      <td>16.158926</td>\n",
       "      <td>...</td>\n",
       "      <td>0</td>\n",
       "      <td>0</td>\n",
       "      <td>0</td>\n",
       "      <td>0</td>\n",
       "      <td>0</td>\n",
       "      <td>0</td>\n",
       "      <td>0</td>\n",
       "      <td>0</td>\n",
       "      <td>0</td>\n",
       "      <td>0</td>\n",
       "    </tr>\n",
       "    <tr>\n",
       "      <th>2014-01-08</th>\n",
       "      <td>16.994268</td>\n",
       "      <td>68.467964</td>\n",
       "      <td>20.096001</td>\n",
       "      <td>80.708397</td>\n",
       "      <td>40.725029</td>\n",
       "      <td>283.50592</td>\n",
       "      <td>115.339996</td>\n",
       "      <td>104.505028</td>\n",
       "      <td>28.42421</td>\n",
       "      <td>16.0229</td>\n",
       "      <td>...</td>\n",
       "      <td>0</td>\n",
       "      <td>0</td>\n",
       "      <td>0</td>\n",
       "      <td>0</td>\n",
       "      <td>0</td>\n",
       "      <td>0</td>\n",
       "      <td>0</td>\n",
       "      <td>0</td>\n",
       "      <td>0</td>\n",
       "      <td>0</td>\n",
       "    </tr>\n",
       "    <tr>\n",
       "      <th>...</th>\n",
       "      <td>...</td>\n",
       "      <td>...</td>\n",
       "      <td>...</td>\n",
       "      <td>...</td>\n",
       "      <td>...</td>\n",
       "      <td>...</td>\n",
       "      <td>...</td>\n",
       "      <td>...</td>\n",
       "      <td>...</td>\n",
       "      <td>...</td>\n",
       "      <td>...</td>\n",
       "      <td>...</td>\n",
       "      <td>...</td>\n",
       "      <td>...</td>\n",
       "      <td>...</td>\n",
       "      <td>...</td>\n",
       "      <td>...</td>\n",
       "      <td>...</td>\n",
       "      <td>...</td>\n",
       "      <td>...</td>\n",
       "      <td>...</td>\n",
       "    </tr>\n",
       "    <tr>\n",
       "      <th>2023-12-22</th>\n",
       "      <td>193.353287</td>\n",
       "      <td>351.798248</td>\n",
       "      <td>153.419998</td>\n",
       "      <td>749.656372</td>\n",
       "      <td>1117.222046</td>\n",
       "      <td>989.549988</td>\n",
       "      <td>356.470001</td>\n",
       "      <td>700.377502</td>\n",
       "      <td>142.720001</td>\n",
       "      <td>67.0</td>\n",
       "      <td>...</td>\n",
       "      <td>0</td>\n",
       "      <td>0</td>\n",
       "      <td>0</td>\n",
       "      <td>0</td>\n",
       "      <td>0</td>\n",
       "      <td>0</td>\n",
       "      <td>0</td>\n",
       "      <td>0</td>\n",
       "      <td>0</td>\n",
       "      <td>0</td>\n",
       "    </tr>\n",
       "    <tr>\n",
       "      <th>2023-12-26</th>\n",
       "      <td>192.803986</td>\n",
       "      <td>350.785828</td>\n",
       "      <td>153.410004</td>\n",
       "      <td>759.767517</td>\n",
       "      <td>1127.089966</td>\n",
       "      <td>999.849976</td>\n",
       "      <td>356.829987</td>\n",
       "      <td>NaN</td>\n",
       "      <td>142.820007</td>\n",
       "      <td>66.720001</td>\n",
       "      <td>...</td>\n",
       "      <td>0</td>\n",
       "      <td>NaN</td>\n",
       "      <td>0</td>\n",
       "      <td>NaN</td>\n",
       "      <td>0</td>\n",
       "      <td>0</td>\n",
       "      <td>NaN</td>\n",
       "      <td>0</td>\n",
       "      <td>0</td>\n",
       "      <td>0</td>\n",
       "    </tr>\n",
       "    <tr>\n",
       "      <th>2023-12-27</th>\n",
       "      <td>192.903839</td>\n",
       "      <td>351.172943</td>\n",
       "      <td>153.339996</td>\n",
       "      <td>761.112427</td>\n",
       "      <td>1121.394287</td>\n",
       "      <td>1021.200012</td>\n",
       "      <td>356.950012</td>\n",
       "      <td>695.922852</td>\n",
       "      <td>141.440002</td>\n",
       "      <td>67.040001</td>\n",
       "      <td>...</td>\n",
       "      <td>0</td>\n",
       "      <td>0</td>\n",
       "      <td>0</td>\n",
       "      <td>0</td>\n",
       "      <td>0</td>\n",
       "      <td>0</td>\n",
       "      <td>0</td>\n",
       "      <td>0</td>\n",
       "      <td>0</td>\n",
       "      <td>0</td>\n",
       "    </tr>\n",
       "    <tr>\n",
       "      <th>2023-12-28</th>\n",
       "      <td>193.333298</td>\n",
       "      <td>348.959625</td>\n",
       "      <td>153.380005</td>\n",
       "      <td>754.955994</td>\n",
       "      <td>1117.650269</td>\n",
       "      <td>1036.699951</td>\n",
       "      <td>357.570007</td>\n",
       "      <td>697.90271</td>\n",
       "      <td>141.279999</td>\n",
       "      <td>67.220001</td>\n",
       "      <td>...</td>\n",
       "      <td>0</td>\n",
       "      <td>0</td>\n",
       "      <td>0</td>\n",
       "      <td>0</td>\n",
       "      <td>0</td>\n",
       "      <td>0</td>\n",
       "      <td>0</td>\n",
       "      <td>0</td>\n",
       "      <td>0</td>\n",
       "      <td>0</td>\n",
       "    </tr>\n",
       "    <tr>\n",
       "      <th>2023-12-29</th>\n",
       "      <td>192.284637</td>\n",
       "      <td>348.284729</td>\n",
       "      <td>151.940002</td>\n",
       "      <td>754.029541</td>\n",
       "      <td>1111.516357</td>\n",
       "      <td>1032.199951</td>\n",
       "      <td>356.660004</td>\n",
       "      <td>700.377502</td>\n",
       "      <td>140.929993</td>\n",
       "      <td>67.110001</td>\n",
       "      <td>...</td>\n",
       "      <td>0</td>\n",
       "      <td>0</td>\n",
       "      <td>0</td>\n",
       "      <td>0</td>\n",
       "      <td>0</td>\n",
       "      <td>0</td>\n",
       "      <td>0</td>\n",
       "      <td>0</td>\n",
       "      <td>0</td>\n",
       "      <td>0</td>\n",
       "    </tr>\n",
       "  </tbody>\n",
       "</table>\n",
       "<p>2594 rows × 99 columns</p>\n",
       "</div>"
      ],
      "text/plain": [
       "           Adj Close_x                                                   \\\n",
       "Ticker            AAPL         ACN        AMZN        ASML         AVGO   \n",
       "Date                                                                      \n",
       "2014-01-02   17.296658   67.617828     19.8985   83.166664    39.869324   \n",
       "2014-01-03   16.916714    67.84285   19.822001    82.87851    40.020786   \n",
       "2014-01-06   17.008961   67.126099   19.681499   81.176628    39.748173   \n",
       "2014-01-07   16.887331   67.942871   19.901501   80.492279    40.126816   \n",
       "2014-01-08   16.994268   68.467964   20.096001   80.708397    40.725029   \n",
       "...                ...         ...         ...         ...          ...   \n",
       "2023-12-22  193.353287  351.798248  153.419998  749.656372  1117.222046   \n",
       "2023-12-26  192.803986  350.785828  153.410004  759.767517  1127.089966   \n",
       "2023-12-27  192.903839  351.172943  153.339996  761.112427  1121.394287   \n",
       "2023-12-28  193.333298  348.959625  153.380005  754.955994  1117.650269   \n",
       "2023-12-29  192.284637  348.284729  151.940002  754.029541  1111.516357   \n",
       "\n",
       "                                                                         ...  \\\n",
       "Ticker     BHARTIARTL.NS       BRK-B      CDI.PA        GOOG        HDB  ...   \n",
       "Date                                                                     ...   \n",
       "2014-01-02    280.350159       117.5   108.00708   27.724083  15.844661  ...   \n",
       "2014-01-03    280.904541      117.57  108.086708   27.521841  15.844661  ...   \n",
       "2014-01-06    280.904541  116.279999  105.937706   27.828691  16.172998  ...   \n",
       "2014-01-07    282.908875  116.190002  105.062187   28.365179  16.158926  ...   \n",
       "2014-01-08     283.50592  115.339996  104.505028    28.42421    16.0229  ...   \n",
       "...                  ...         ...         ...         ...        ...  ...   \n",
       "2023-12-22    989.549988  356.470001  700.377502  142.720001       67.0  ...   \n",
       "2023-12-26    999.849976  356.829987         NaN  142.820007  66.720001  ...   \n",
       "2023-12-27   1021.200012  356.950012  695.922852  141.440002  67.040001  ...   \n",
       "2023-12-28   1036.699951  357.570007   697.90271  141.279999  67.220001  ...   \n",
       "2023-12-29   1032.199951  356.660004  700.377502  140.929993  67.110001  ...   \n",
       "\n",
       "           Signal                                                            \n",
       "Ticker        NVO OR.PA RELIANCE.NS RMS.PA SAP SBIN.NS SIE.DE TCS.NS TTE  V  \n",
       "Date                                                                         \n",
       "2014-01-02      0     0           0      0   0       0      0      0   0  0  \n",
       "2014-01-03      0     0           0      0   0       0      0      0   0  0  \n",
       "2014-01-06      0     0           0      0   0       0      0      0   0  0  \n",
       "2014-01-07      0     0           0      0   0       0      0      0   0  0  \n",
       "2014-01-08      0     0           0      0   0       0      0      0   0  0  \n",
       "...           ...   ...         ...    ...  ..     ...    ...    ...  .. ..  \n",
       "2023-12-22      0     0           0      0   0       0      0      0   0  0  \n",
       "2023-12-26      0   NaN           0    NaN   0       0    NaN      0   0  0  \n",
       "2023-12-27      0     0           0      0   0       0      0      0   0  0  \n",
       "2023-12-28      0     0           0      0   0       0      0      0   0  0  \n",
       "2023-12-29      0     0           0      0   0       0      0      0   0  0  \n",
       "\n",
       "[2594 rows x 99 columns]"
      ]
     },
     "execution_count": 117,
     "metadata": {},
     "output_type": "execute_result"
    }
   ],
   "source": [
    "df_pivot = df_reduced.pivot(index=\"Date\", columns=[\"Ticker\"], values=[\"Adj Close_x\",\"Adj Close_5\", \"Signal\"]).copy()\n",
    "df_pivot"
   ]
  },
  {
   "cell_type": "code",
   "execution_count": 126,
   "metadata": {},
   "outputs": [],
   "source": [
    "Adj_Close = df_pivot[\"Adj Close_x\"][\"AAPL\"]"
   ]
  },
  {
   "cell_type": "code",
   "execution_count": 125,
   "metadata": {},
   "outputs": [
    {
     "data": {
      "text/plain": [
       "Date\n",
       "2014-01-02          None\n",
       "2014-01-03          None\n",
       "2014-01-06          None\n",
       "2014-01-07          None\n",
       "2014-01-08          None\n",
       "                 ...    \n",
       "2023-12-22    197.318222\n",
       "2023-12-26     195.64035\n",
       "2023-12-27    196.689026\n",
       "2023-12-28    194.581711\n",
       "2023-12-29    194.431885\n",
       "Name: AAPL, Length: 2594, dtype: object"
      ]
     },
     "execution_count": 125,
     "metadata": {},
     "output_type": "execute_result"
    }
   ],
   "source": [
    "Adj_Close_5 = df_pivot[\"Adj Close_x\"][\"AAPL\"].shift(5)\n",
    "Adj_Close_5"
   ]
  },
  {
   "cell_type": "code",
   "execution_count": 124,
   "metadata": {},
   "outputs": [
    {
     "data": {
      "text/plain": [
       "Date\n",
       "2014-01-02    0\n",
       "2014-01-03    0\n",
       "2014-01-06    0\n",
       "2014-01-07    0\n",
       "2014-01-08    0\n",
       "             ..\n",
       "2023-12-22    0\n",
       "2023-12-26    0\n",
       "2023-12-27    0\n",
       "2023-12-28    0\n",
       "2023-12-29    0\n",
       "Name: AAPL, Length: 2594, dtype: object"
      ]
     },
     "execution_count": 124,
     "metadata": {},
     "output_type": "execute_result"
    }
   ],
   "source": [
    "signal = df_pivot[\"Signal\"][\"AAPL\"]\n",
    "signal"
   ]
  },
  {
   "cell_type": "code",
   "execution_count": 133,
   "metadata": {},
   "outputs": [
    {
     "data": {
      "text/plain": [
       "pandas.core.series.Series"
      ]
     },
     "execution_count": 133,
     "metadata": {},
     "output_type": "execute_result"
    }
   ],
   "source": [
    "type(signal)"
   ]
  },
  {
   "cell_type": "code",
   "execution_count": 162,
   "metadata": {},
   "outputs": [
    {
     "data": {
      "text/plain": [
       "['MSFT',\n",
       " 'AAPL',\n",
       " 'GOOG',\n",
       " 'NVDA',\n",
       " 'AMZN',\n",
       " 'META',\n",
       " 'BRK-B',\n",
       " 'LLY',\n",
       " 'AVGO',\n",
       " 'V',\n",
       " 'JPM',\n",
       " 'NVO',\n",
       " 'MC.PA',\n",
       " 'ASML',\n",
       " 'RMS.PA',\n",
       " 'OR.PA',\n",
       " 'SAP',\n",
       " 'ACN',\n",
       " 'TTE',\n",
       " 'SIE.DE',\n",
       " 'IDEXY',\n",
       " 'CDI.PA',\n",
       " 'RELIANCE.NS',\n",
       " 'TCS.NS',\n",
       " 'HDB',\n",
       " 'BHARTIARTL.NS',\n",
       " 'IBN',\n",
       " 'SBIN.NS',\n",
       " 'LICI.NS',\n",
       " 'INFY',\n",
       " 'ITC.NS',\n",
       " 'HINDUNILVR.NS',\n",
       " 'LT.NS']"
      ]
     },
     "execution_count": 162,
     "metadata": {},
     "output_type": "execute_result"
    }
   ],
   "source": [
    "tickers = list(df_reduced.Ticker.unique())\n",
    "tickers"
   ]
  },
  {
   "cell_type": "code",
   "execution_count": 167,
   "metadata": {},
   "outputs": [
    {
     "name": "stdout",
     "output_type": "stream",
     "text": [
      "Ticker: MSFT - # of trades = 19.0 - gross profit = 64.2493616583778\n",
      "Ticker: AAPL - # of trades = 14.0 - gross profit = 41.67024522713312\n",
      "Ticker: GOOG - # of trades = 19.0 - gross profit = -32.838931524184616\n",
      "Ticker: NVDA - # of trades = 15.0 - gross profit = 240.87234881045958\n",
      "Ticker: AMZN - # of trades = 24.0 - gross profit = 240.71163686476348\n",
      "Ticker: META - # of trades = 12.0 - gross profit = -192.81351131070198\n",
      "Ticker: BRK-B - # of trades = 8.0 - gross profit = 23.683325117288653\n",
      "Ticker: LLY - # of trades = 14.0 - gross profit = -191.39254541822459\n",
      "Ticker: AVGO - # of trades = 25.0 - gross profit = -69.27355238209086\n",
      "Ticker: V - # of trades = 13.0 - gross profit = 33.05624507588156\n",
      "Ticker: JPM - # of trades = 11.0 - gross profit = -35.899064213728124\n",
      "Ticker: NVO - # of trades = 19.0 - gross profit = 188.75557272213572\n",
      "Ticker: MC.PA - # of trades = 22.0 - gross profit = -115.67854791122235\n",
      "Ticker: ASML - # of trades = 11.0 - gross profit = 76.15402326919516\n",
      "Ticker: RMS.PA - # of trades = 16.0 - gross profit = -109.88109932132517\n",
      "Ticker: OR.PA - # of trades = 15.0 - gross profit = -106.0421149528803\n",
      "Ticker: SAP - # of trades = 8.0 - gross profit = -13.88067633676293\n",
      "Ticker: ACN - # of trades = 17.0 - gross profit = 172.19515739320923\n",
      "Ticker: TTE - # of trades = 2.0 - gross profit = -45.52069952071391\n",
      "Ticker: SIE.DE - # of trades = 10.0 - gross profit = -36.58109443124502\n",
      "Ticker: IDEXY - # of trades = 9.0 - gross profit = 142.7500790338868\n",
      "Ticker: CDI.PA - # of trades = 13.0 - gross profit = -143.75137063444964\n",
      "Ticker: RELIANCE.NS - # of trades = 15.0 - gross profit = 55.87475112044015\n",
      "Ticker: TCS.NS - # of trades = 8.0 - gross profit = 26.11991978503614\n",
      "Ticker: HDB - # of trades = 13.0 - gross profit = 208.74127672332452\n",
      "Ticker: BHARTIARTL.NS - # of trades = 16.0 - gross profit = -32.108661568748474\n",
      "Ticker: IBN - # of trades = 9.0 - gross profit = 4.442163833304107\n",
      "Ticker: SBIN.NS - # of trades = 15.0 - gross profit = 94.69486433551388\n",
      "Ticker: LICI.NS - # of trades = 2.0 - gross profit = -6.30051640827145\n",
      "Ticker: INFY - # of trades = 15.0 - gross profit = -15.991820920682407\n",
      "Ticker: ITC.NS - # of trades = 21.0 - gross profit = 30.39283452889108\n",
      "Ticker: HINDUNILVR.NS - # of trades = 15.0 - gross profit = 162.36026335715437\n",
      "Ticker: LT.NS - # of trades = 15.0 - gross profit = 146.40723784789913\n"
     ]
    }
   ],
   "source": [
    "stock_dfs = []\n",
    "gross_profit_total = 0\n",
    "num_trades_total = 0\n",
    "\n",
    "for ticker in tickers:\n",
    "    stock_df = pd.DataFrame([df_pivot[\"Adj Close_x\"][ticker], df_pivot[\"Adj Close_x\"][ticker].shift(-5), df_pivot[\"Signal\"][ticker]]).T\n",
    "    stock_df.columns = [\"Adj_Close\", \"Adj_Close_5\", \"signal\"]\n",
    "    stock_df[\"growth_5d\"] = stock_df[\"Adj_Close_5\"]/ stock_df[\"Adj_Close\"] -1\n",
    "    stock_df[\"gross_profit\"] = stock_df[\"growth_5d\"]* stock_df[\"signal\"] * 1000\n",
    "    stock_dfs.append(stock_df)\n",
    "    gross_profit = stock_df[\"gross_profit\"].sum()\n",
    "    gross_profit_total = gross_profit_total + gross_profit\n",
    "    num_trades = stock_df[\"signal\"].sum()\n",
    "    num_trades_total = num_trades_total + num_trades\n",
    "    print(f\"Ticker: {ticker} - # of trades = {num_trades} - gross profit = {gross_profit}\")"
   ]
  },
  {
   "cell_type": "code",
   "execution_count": 171,
   "metadata": {},
   "outputs": [
    {
     "name": "stdout",
     "output_type": "stream",
     "text": [
      "Gross profit: 805.1770998486627\n",
      "Number of trades: 460.0\n"
     ]
    }
   ],
   "source": [
    "print(f\"Gross profit: {gross_profit_total}\")\n",
    "print(f\"Number of trades: {num_trades_total}\")"
   ]
  },
  {
   "cell_type": "markdown",
   "metadata": {},
   "source": [
    "Costs for 2 x 460 (Buy + Sell) transactions with Degiro would be 2,210.50 €. This strategy is not profitable when commissions are included."
   ]
  },
  {
   "cell_type": "code",
   "execution_count": 173,
   "metadata": {},
   "outputs": [],
   "source": [
    "# Print summary of all the trades\n",
    "# for ticker, df in zip (tickers, stock_dfs):\n",
    "#     print(ticker)\n",
    "#     print(df[df[\"signal\"] == 1])"
   ]
  },
  {
   "cell_type": "code",
   "execution_count": null,
   "metadata": {},
   "outputs": [],
   "source": []
  }
 ],
 "metadata": {
  "kernelspec": {
   "display_name": "finance",
   "language": "python",
   "name": "python3"
  },
  "language_info": {
   "codemirror_mode": {
    "name": "ipython",
    "version": 3
   },
   "file_extension": ".py",
   "mimetype": "text/x-python",
   "name": "python",
   "nbconvert_exporter": "python",
   "pygments_lexer": "ipython3",
   "version": "3.10.0"
  }
 },
 "nbformat": 4,
 "nbformat_minor": 2
}
